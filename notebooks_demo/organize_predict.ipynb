{
 "cells": [
  {
   "cell_type": "code",
   "execution_count": 22,
   "metadata": {},
   "outputs": [],
   "source": [
    "from torchvision import transforms\n",
    "import torch.nn.functional as F\n",
    "import torch\n",
    "\n",
    "from tqdm import tqdm_notebook as tqdm\n",
    "\n",
    "from hw_grapheme.model_archs.se_resnext import se_resnext50\n",
    "from hw_grapheme.io.load_model_weight import load_model_weight\n",
    "from hw_grapheme.io.load_data import load_processed_data\n",
    "from hw_grapheme.train_utils.train_test_split import stratified_split_kfold\n",
    "from hw_grapheme.train_utils.create_dataloader import create_dataloaders_train\n"
   ]
  },
  {
   "cell_type": "code",
   "execution_count": 32,
   "metadata": {},
   "outputs": [],
   "source": [
    "import numpy as np\n",
    "import sklearn\n",
    "from sklearn.metrics import classification_report, precision_recall_fscore_support\n",
    "import pandas as pd\n",
    "\n",
    "def flatten(ls):\n",
    "    array = np.array(ls)\n",
    "    return np.hstack(array.tolist())\n",
    "\n",
    "def show_most_wrong(df,n=10):\n",
    "    return df.sort_values('recall').head(10)"
   ]
  },
  {
   "cell_type": "code",
   "execution_count": 25,
   "metadata": {},
   "outputs": [],
   "source": [
    "valid_fold = 0\n",
    "batch_size = 256\n",
    "num_workers = 6\n",
    "pin_memory = True\n"
   ]
  },
  {
   "cell_type": "code",
   "execution_count": 13,
   "metadata": {},
   "outputs": [
    {
     "name": "stdout",
     "output_type": "stream",
     "text": [
      "Load data done, shape: (200840, 128, 128), (200840,), (200840, 3)\n",
      "StratifiedKFold(n_splits=5, random_state=2020, shuffle=True)\n",
      "Creating train dataloader...\n",
      "Creating valid dataloader...\n"
     ]
    }
   ],
   "source": [
    "# load processed data \n",
    "pickle_paths = [\n",
    "    \"../data/processed/size_128/train_data_0.pickle\",\n",
    "    \"../data/processed/size_128/train_data_1.pickle\",\n",
    "    \"../data/processed/size_128/train_data_2.pickle\",\n",
    "    \"../data/processed/size_128/train_data_3.pickle\",\n",
    "]\n",
    "\n",
    "image_data, name_data, label_data = load_processed_data(pickle_paths, image_size=128)\n",
    "\n",
    "# split train valid set\n",
    "n_splits = 5\n",
    "random_seed = 2020\n",
    "\n",
    "train_idx_list, test_idx_list = stratified_split_kfold(\n",
    "    image_data, label_data, n_splits, random_seed\n",
    ")\n",
    "\n",
    "train_idx = train_idx_list[valid_fold]\n",
    "valid_idx = test_idx_list[valid_fold]\n",
    "\n",
    "# create data_transforms\n",
    "data_transforms = {\n",
    "    'train': transforms.Compose([\n",
    "        transforms.ToPILImage(),\n",
    "        transforms.Grayscale(num_output_channels=3),\n",
    "        transforms.ToTensor(),\n",
    "    ]),\n",
    "    'val': transforms.Compose([\n",
    "        transforms.ToPILImage(),\n",
    "        transforms.Grayscale(num_output_channels=3),\n",
    "        transforms.ToTensor(),\n",
    "    ]),\n",
    "}\n",
    "\n",
    "data_loaders = create_dataloaders_train(\n",
    "    image_data, name_data, label_data, train_idx, valid_idx, \n",
    "    data_transforms, batch_size, num_workers, pin_memory\n",
    ")"
   ]
  },
  {
   "cell_type": "code",
   "execution_count": 15,
   "metadata": {},
   "outputs": [],
   "source": [
    "model = se_resnext50()\n",
    "load_model_weight(model, \"../models/se_resnext_sgd_decay/fold_0/high_recall_model.pth\")\n",
    "model.cuda();"
   ]
  },
  {
   "cell_type": "code",
   "execution_count": 17,
   "metadata": {},
   "outputs": [],
   "source": [
    "ls = []\n",
    "y1_ls = []\n",
    "y2_ls = []\n",
    "y3_ls = []\n",
    "y1_pred_ls = []\n",
    "y2_pred_ls = []\n",
    "y3_pred_ls = []"
   ]
  },
  {
   "cell_type": "code",
   "execution_count": 23,
   "metadata": {},
   "outputs": [
    {
     "name": "stderr",
     "output_type": "stream",
     "text": [
      "/home/lam/anaconda3/envs/hugo/lib/python3.7/site-packages/ipykernel_launcher.py:1: TqdmDeprecationWarning: This function will be removed in tqdm==5.0.0\n",
      "Please use `tqdm.notebook.tqdm` instead of `tqdm.tqdm_notebook`\n",
      "  \"\"\"Entry point for launching an IPython kernel.\n"
     ]
    },
    {
     "data": {
      "application/vnd.jupyter.widget-view+json": {
       "model_id": "e9652f89f72845a684f7696344787a8a",
       "version_major": 2,
       "version_minor": 0
      },
      "text/plain": [
       "HBox(children=(FloatProgress(value=0.0, max=79.0), HTML(value='')))"
      ]
     },
     "metadata": {},
     "output_type": "display_data"
    },
    {
     "name": "stderr",
     "output_type": "stream",
     "text": [
      "/home/lam/anaconda3/envs/hugo/lib/python3.7/site-packages/ipykernel_launcher.py:8: UserWarning: To copy construct from a tensor, it is recommended to use sourceTensor.clone().detach() or sourceTensor.clone().detach().requires_grad_(True), rather than torch.tensor(sourceTensor).\n",
      "  \n",
      "/home/lam/anaconda3/envs/hugo/lib/python3.7/site-packages/ipykernel_launcher.py:8: UserWarning: Implicit dimension choice for softmax has been deprecated. Change the call to include dim=X as an argument.\n",
      "  \n"
     ]
    },
    {
     "name": "stdout",
     "output_type": "stream",
     "text": [
      "\n",
      "\n",
      "\n",
      "\n",
      "\n",
      "\n",
      "\n"
     ]
    }
   ],
   "source": [
    "for i in tqdm(data_loaders['val']):\n",
    "    x,y1,y2,y3 = i \n",
    "    with torch.no_grad():\n",
    "        y_pred = model(x.cuda())\n",
    "        y1_pred, y2_pred ,y3_pred = y_pred\n",
    "\n",
    "        y1_pred, y2_pred, y3_pred = map(lambda x:F.softmax(torch.tensor(x)).argmax(1), (y1_pred, y2_pred, y3_pred))\n",
    "        y1_pred = y1_pred.detach().cpu().numpy()\n",
    "        y2_pred = y2_pred.detach().cpu().numpy()\n",
    "        y3_pred = y3_pred.detach().cpu().numpy()\n",
    "        y1= y1.detach().cpu().numpy()\n",
    "        y2=y2.detach().cpu().numpy()\n",
    "        y3=y3.detach().cpu().numpy()\n",
    "        \n",
    "        ls.append(y_pred)\n",
    "        y1_ls.append(y1)\n",
    "        y2_ls.append(y2)\n",
    "        y3_ls.append(y3)\n",
    "        y1_pred_ls.append(y1_pred)\n",
    "        y2_pred_ls.append(y2_pred)\n",
    "        y3_pred_ls.append(y3_pred)"
   ]
  },
  {
   "cell_type": "code",
   "execution_count": 27,
   "metadata": {},
   "outputs": [],
   "source": [
    "y1_ls = flatten(y1_ls)\n",
    "y2_ls = flatten(y2_ls)\n",
    "y3_ls = flatten(y3_ls)\n",
    "y1_pred_ls = flatten(y1_pred_ls)\n",
    "y2_pred_ls = flatten(y2_pred_ls)\n",
    "y3_pred_ls = flatten(y3_pred_ls)"
   ]
  },
  {
   "cell_type": "code",
   "execution_count": 30,
   "metadata": {},
   "outputs": [],
   "source": [
    "y_trues , y_preds = [y1_ls, y2_ls, y3_ls], [y1_pred_ls, y2_pred_ls, y3_pred_ls]"
   ]
  },
  {
   "cell_type": "code",
   "execution_count": 31,
   "metadata": {},
   "outputs": [
    {
     "name": "stdout",
     "output_type": "stream",
     "text": [
      "0.9542337685380651\n",
      "0.9864964429113378\n",
      "0.9805598165609315\n"
     ]
    }
   ],
   "source": [
    "for y_true, y_pred in zip(y_trues, y_preds):\n",
    "    print(sklearn.metrics.recall_score(y_true, y_pred, average='macro', zero_division='warn'))\n",
    "    "
   ]
  },
  {
   "cell_type": "code",
   "execution_count": 33,
   "metadata": {},
   "outputs": [
    {
     "name": "stdout",
     "output_type": "stream",
     "text": [
      "       recall  support  precision    fscore\n",
      "60   0.607143     84.0   0.809524  0.693878\n",
      "61   0.704348    115.0   0.778846  0.739726\n",
      "62   0.782857    175.0   0.801170  0.791908\n",
      "84   0.791209     91.0   0.699029  0.742268\n",
      "162  0.795699     93.0   0.880952  0.836158\n",
      "145  0.828125     64.0   0.981481  0.898305\n",
      "68   0.856000    125.0   0.914530  0.884298\n",
      "54   0.864407    118.0   0.918919  0.890830\n",
      "63   0.866667     30.0   0.896552  0.881356\n",
      "116  0.873563     87.0   0.904762  0.888889\n",
      "================= I am separation line ============\n",
      "      recall  support  precision    fscore\n",
      "6   0.970012    867.0   0.980186  0.975072\n",
      "5   0.973585   1060.0   0.973585  0.973585\n",
      "8   0.978784    707.0   0.991404  0.985053\n",
      "10  0.985975    713.0   0.990141  0.988053\n",
      "4   0.987003   3770.0   0.988839  0.987920\n",
      "0   0.989265   8291.0   0.986766  0.988014\n",
      "9   0.989704   3205.0   0.987547  0.988624\n",
      "1   0.990785   7379.0   0.991188  0.990986\n",
      "3   0.993193   3232.0   0.996276  0.994732\n",
      "7   0.993734   5745.0   0.992524  0.993129\n",
      "================= I am separation line ============\n",
      "     recall  support  precision    fscore\n",
      "6  0.953237    278.0   0.974265  0.963636\n",
      "5  0.975895   4273.0   0.981638  0.978758\n",
      "2  0.978918   4696.0   0.986904  0.982895\n",
      "1  0.982515   1487.0   0.989167  0.985830\n",
      "4  0.987762   4249.0   0.989625  0.988693\n",
      "3  0.991935    124.0   0.991935  0.991935\n",
      "0  0.993655  25061.0   0.990218  0.991934\n",
      "================= I am separation line ============\n"
     ]
    }
   ],
   "source": [
    "for y_true, y_pred in zip(y_trues, y_preds):\n",
    "    metrics = precision_recall_fscore_support(y_true, y_pred,average=None)\n",
    "    precision, recall, fscore, support = metrics\n",
    "    data = np.vstack([recall, support, precision, fscore]); data.shape    \n",
    "    metrics_summary_df = pd.DataFrame(data=data.T, columns=['recall', 'support','precision','fscore'])\n",
    "    metrics_summary_df = metrics_summary_df.sort_values('recall')\n",
    "    print(show_most_wrong(metrics_summary_df))\n",
    "    print(\"================= I am separation line ============\")"
   ]
  },
  {
   "cell_type": "code",
   "execution_count": null,
   "metadata": {},
   "outputs": [],
   "source": []
  }
 ],
 "metadata": {
  "kernelspec": {
   "display_name": "Python 3",
   "language": "python",
   "name": "python3"
  },
  "language_info": {
   "codemirror_mode": {
    "name": "ipython",
    "version": 3
   },
   "file_extension": ".py",
   "mimetype": "text/x-python",
   "name": "python",
   "nbconvert_exporter": "python",
   "pygments_lexer": "ipython3",
   "version": "3.7.6"
  }
 },
 "nbformat": 4,
 "nbformat_minor": 4
}
