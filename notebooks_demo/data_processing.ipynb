{
 "cells": [
  {
   "cell_type": "code",
   "execution_count": null,
   "metadata": {},
   "outputs": [],
   "source": [
    "# https://www.kaggle.com/iafoss/image-preprocessing-128x128\n",
    "\n",
    "import cv2\n",
    "import pickle\n",
    "\n",
    "import pandas as pd\n",
    "import numpy as np\n",
    "\n",
    "from pathlib import Path\n",
    "from tqdm import tqdm_notebook as tqdm"
   ]
  },
  {
   "cell_type": "code",
   "execution_count": null,
   "metadata": {},
   "outputs": [],
   "source": [
    "SIZE = 224\n",
    "\n",
    "PROCESS_DATA = Path(\"../data/processed/size_224\")\n",
    "RAW_DATA = Path(\"../data/raw\")\n",
    "\n",
    "PROCESS_DATA.mkdir(exist_ok=True, parents=True)\n",
    "RAW_DATA.mkdir(exist_ok=True,parents=True)"
   ]
  },
  {
   "cell_type": "code",
   "execution_count": null,
   "metadata": {
    "ExecuteTime": {
     "end_time": "2020-03-03T12:51:37.281874Z",
     "start_time": "2020-03-03T12:51:37.263897Z"
    }
   },
   "outputs": [],
   "source": [
    "HEIGHT = 137\n",
    "WIDTH = 236\n",
    "\n",
    "def bbox(img):\n",
    "    rows = np.any(img, axis=1)\n",
    "    cols = np.any(img, axis=0)\n",
    "    rmin, rmax = np.where(rows)[0][[0, -1]]\n",
    "    cmin, cmax = np.where(cols)[0][[0, -1]]\n",
    "    return rmin, rmax, cmin, cmax\n",
    "\n",
    "def crop_resize(img0, size=SIZE, pad=16):\n",
    "    #crop a box around pixels large than the threshold \n",
    "    #some images contain line at the sides\n",
    "    ymin,ymax,xmin,xmax = bbox(img0[5:-5,5:-5] > 80)\n",
    "    #cropping may cut too much, so we need to add it back\n",
    "    xmin = xmin - 13 if (xmin > 13) else 0\n",
    "    ymin = ymin - 10 if (ymin > 10) else 0\n",
    "    xmax = xmax + 13 if (xmax < WIDTH - 13) else WIDTH\n",
    "    ymax = ymax + 10 if (ymax < HEIGHT - 10) else HEIGHT\n",
    "    img0 = img0[ymin:ymax,xmin:xmax]\n",
    "    #remove lo intensity pixels as noise\n",
    "    img0[img0 < 28] = 0\n",
    "    lx, ly = xmax-xmin,ymax-ymin\n",
    "    l = max(lx,ly) + pad\n",
    "    #make sure that the aspect ratio is kept in rescaling\n",
    "    img0 = np.pad(img0, [((l-ly)//2,), ((l-lx)//2,)], mode='constant')\n",
    "    return cv2.resize(img0,(size,size))\n",
    "\n",
    "def proces_image(images):\n",
    "    \"\"\"\n",
    "    images: (batch_size, 32332), np array\n",
    "    \n",
    "    \"\"\"\n",
    "    processed_image_list = []\n",
    "\n",
    "    for idx in tqdm(range(len(images))):\n",
    "        img0 = 255 - images[idx].reshape(HEIGHT, WIDTH).astype(np.uint8)\n",
    "        #normalize each image by its max val\n",
    "        img = (img0*(255.0/img0.max())).astype(np.uint8)\n",
    "        processed_image_list.append(crop_resize(img))\n",
    "    \n",
    "    return np.array(processed_image_list)"
   ]
  },
  {
   "cell_type": "code",
   "execution_count": null,
   "metadata": {
    "ExecuteTime": {
     "start_time": "2020-03-03T12:51:39.153Z"
    }
   },
   "outputs": [],
   "source": [
    "train_df = pd.read_csv(\"../data/raw/train.csv\")\n",
    "\n",
    "for i in range(4):\n",
    "    print(f\"==================== {i} ==================\")\n",
    "    fn = f\"train_image_data_{i}.parquet\"\n",
    "    process_fn = f\"train_data_{i}.pickle\"\n",
    "    df = pd.read_parquet(RAW_DATA/fn)\n",
    "    \n",
    "    if (PROCESS_DATA/process_fn).is_file():\n",
    "        print(f'parquet {i} processed already, skipped')\n",
    "        continue\n",
    "    \n",
    "    merged_df = df.merge(train_df, on=\"image_id\")\n",
    "\n",
    "    image_name = merged_df[\"image_id\"]\n",
    "    label = merged_df[[\"grapheme_root\",\"vowel_diacritic\",\"consonant_diacritic\"]].astype(np.uint8)\n",
    "    image = merged_df.drop([\"image_id\", \"grapheme_root\",\"vowel_diacritic\",\"consonant_diacritic\", \"grapheme\"], axis=1).values\n",
    "\n",
    "    image = proces_image(image)\n",
    "\n",
    "    with open(PROCESS_DATA/process_fn, \"wb\") as f:\n",
    "        pickle.dump((image, image_name, label.values), f)\n"
   ]
  },
  {
   "cell_type": "code",
   "execution_count": null,
   "metadata": {},
   "outputs": [],
   "source": []
  }
 ],
 "metadata": {
  "jupytext": {
   "formats": "ipynb,py"
  },
  "kernelspec": {
   "display_name": "Python 3",
   "language": "python",
   "name": "python3"
  },
  "language_info": {
   "codemirror_mode": {
    "name": "ipython",
    "version": 3
   },
   "file_extension": ".py",
   "mimetype": "text/x-python",
   "name": "python",
   "nbconvert_exporter": "python",
   "pygments_lexer": "ipython3",
   "version": "3.7.6"
  },
  "toc": {
   "base_numbering": 1,
   "nav_menu": {},
   "number_sections": true,
   "sideBar": true,
   "skip_h1_title": false,
   "title_cell": "Table of Contents",
   "title_sidebar": "Contents",
   "toc_cell": false,
   "toc_position": {},
   "toc_section_display": true,
   "toc_window_display": false
  }
 },
 "nbformat": 4,
 "nbformat_minor": 2
}
