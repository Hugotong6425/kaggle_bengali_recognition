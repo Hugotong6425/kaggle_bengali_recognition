{
 "cells": [
  {
   "cell_type": "code",
   "execution_count": 1,
   "metadata": {
    "ExecuteTime": {
     "end_time": "2020-03-08T09:37:13.332212Z",
     "start_time": "2020-03-08T09:37:13.274405Z"
    }
   },
   "outputs": [],
   "source": [
    "%load_ext autoreload\n",
    "%autoreload 2"
   ]
  },
  {
   "cell_type": "code",
   "execution_count": 2,
   "metadata": {
    "ExecuteTime": {
     "end_time": "2020-03-08T09:37:15.118022Z",
     "start_time": "2020-03-08T09:37:13.332212Z"
    }
   },
   "outputs": [],
   "source": [
    "import hydra\n",
    "import os\n",
    "import numpy as np\n",
    "import wandb"
   ]
  },
  {
   "cell_type": "code",
   "execution_count": 3,
   "metadata": {
    "ExecuteTime": {
     "end_time": "2020-03-08T09:37:15.213492Z",
     "start_time": "2020-03-08T09:37:15.121317Z"
    }
   },
   "outputs": [],
   "source": [
    "import pickle\n",
    "from pathlib import Path"
   ]
  },
  {
   "cell_type": "code",
   "execution_count": 4,
   "metadata": {
    "ExecuteTime": {
     "end_time": "2020-03-08T09:37:16.440939Z",
     "start_time": "2020-03-08T09:37:15.215487Z"
    }
   },
   "outputs": [],
   "source": [
    "import torch\n",
    "import torch.optim as optim\n",
    "import torch.nn.functional as F\n",
    "from torch import nn\n",
    "from torchvision import transforms\n",
    "import torchcontrib\n",
    "from sklearn.utils.class_weight import compute_class_weight\n",
    "import hydra\n",
    "from hydra.experimental import compose, initialize"
   ]
  },
  {
   "cell_type": "code",
   "execution_count": 5,
   "metadata": {
    "ExecuteTime": {
     "end_time": "2020-03-08T09:37:17.160654Z",
     "start_time": "2020-03-08T09:37:16.442954Z"
    }
   },
   "outputs": [],
   "source": [
    "from hw_grapheme.io.load_data import load_processed_data\n",
    "from hw_grapheme.model_archs.se_resnext import se_resnext50\n",
    "from hw_grapheme.models.train import train_model\n",
    "from hw_grapheme.train_utils.create_dataloader import create_dataloaders_train\n",
    "from hw_grapheme.train_utils.train_test_split import stratified_split_kfold\n",
    "from omegaconf import DictConfig\n",
    "from tqdm.notebook import tqdm"
   ]
  },
  {
   "cell_type": "code",
   "execution_count": 6,
   "metadata": {
    "ExecuteTime": {
     "end_time": "2020-03-08T09:37:17.492902Z",
     "start_time": "2020-03-08T09:37:17.162676Z"
    }
   },
   "outputs": [],
   "source": [
    "initialize(\n",
    "    config_dir=\"configs\", strict=True,\n",
    ")"
   ]
  },
  {
   "cell_type": "markdown",
   "metadata": {},
   "source": [
    "# Init"
   ]
  },
  {
   "cell_type": "code",
   "execution_count": 7,
   "metadata": {
    "ExecuteTime": {
     "end_time": "2020-03-08T09:37:17.659891Z",
     "start_time": "2020-03-08T09:37:17.494919Z"
    }
   },
   "outputs": [],
   "source": [
    "EXP_NAME = \"regression\"\n",
    "MACHINE = \"1080ti\"\n",
    "IS_WEIGHT_CLASS = False"
   ]
  },
  {
   "cell_type": "code",
   "execution_count": 8,
   "metadata": {
    "ExecuteTime": {
     "end_time": "2020-03-08T09:37:17.792248Z",
     "start_time": "2020-03-08T09:37:17.661888Z"
    }
   },
   "outputs": [],
   "source": [
    "overrides = [f\"exp_name={EXP_NAME}\", f\"machine={MACHINE}\"]"
   ]
  },
  {
   "cell_type": "code",
   "execution_count": 9,
   "metadata": {
    "ExecuteTime": {
     "end_time": "2020-03-08T09:37:19.794002Z",
     "start_time": "2020-03-08T09:37:17.793246Z"
    }
   },
   "outputs": [
    {
     "name": "stdout",
     "output_type": "stream",
     "text": [
      "DATA_PATH: D:\\kaggle\\kaggle_bengali_recognition\\data\\processed\\size_128\n",
      "batch_size: 256\n",
      "cutmix_alpha: 1\n",
      "data_transforms:\n",
      "  p_affine: 0.75\n",
      "  rotate: 10\n",
      "  scale:\n",
      "  - 1.0\n",
      "  - 1.1\n",
      "epoch_scheduler_func: None\n",
      "epoch_scheduler_func_para: {}\n",
      "error_plateau_scheduler_func: None\n",
      "error_plateau_scheduler_func_para: {}\n",
      "exp_name: regression\n",
      "gpu_device: 1080ti\n",
      "head_weights:\n",
      "- 0.5\n",
      "- 0.25\n",
      "- 0.25\n",
      "is_weighted_class_loss: false\n",
      "mix_precision: false\n",
      "mixup_alpha: 0.4\n",
      "model_arch: se_resnext50\n",
      "model_parameter: {}\n",
      "n_epoch: 120\n",
      "n_splits: 5\n",
      "num_workers: 6\n",
      "optimizer: optim.Adam\n",
      "optimizer_parameter: {}\n",
      "pin_memory: true\n",
      "project: my-project\n",
      "random_seed: 2020\n",
      "save_dir: D:\\kaggle\\kaggle_bengali_recognition\\models\\baseline-1080ti\n",
      "swa: false\n",
      "train_loss_prob:\n",
      "- 1\n",
      "- 0\n",
      "- 0\n",
      "wandb_log: true\n",
      "\n",
      "EXP NAME regression\n",
      "====================================================================================================\n",
      "DATA_PATH: D:\\kaggle\\kaggle_bengali_recognition\\data\\processed\\size_128\n",
      "batch_size: 256\n",
      "cutmix_alpha: 1\n",
      "data_transforms:\n",
      "  p_affine: 0.75\n",
      "  rotate: 10\n",
      "  scale:\n",
      "  - 1.0\n",
      "  - 1.1\n",
      "epoch_scheduler_func: None\n",
      "epoch_scheduler_func_para: {}\n",
      "error_plateau_scheduler_func: None\n",
      "error_plateau_scheduler_func_para: {}\n",
      "exp_name: regression\n",
      "gpu_device: 1080ti\n",
      "head_weights:\n",
      "- 0.5\n",
      "- 0.25\n",
      "- 0.25\n",
      "is_weighted_class_loss: false\n",
      "mix_precision: false\n",
      "mixup_alpha: 0.4\n",
      "model_arch: se_resnext50\n",
      "model_parameter: {}\n",
      "n_epoch: 120\n",
      "n_splits: 5\n",
      "num_workers: 6\n",
      "optimizer: optim.Adam\n",
      "optimizer_parameter: {}\n",
      "pin_memory: true\n",
      "project: my-project\n",
      "random_seed: 2020\n",
      "save_dir: D:\\kaggle\\kaggle_bengali_recognition\\models\\baseline-1080ti\n",
      "swa: false\n",
      "train_loss_prob:\n",
      "- 1\n",
      "- 0\n",
      "- 0\n",
      "wandb_log: true\n",
      "\n",
      "Load data done, shape: (50210, 128, 128), (50210,), (50210, 3)\n",
      "StratifiedKFold(n_splits=5, random_state=2020, shuffle=True)\n",
      "OPTIM <class 'torch.optim.adam.Adam'> <class 'type'>\n"
     ]
    }
   ],
   "source": [
    "cfg = compose(\"config.yaml\", overrides=overrides)\n",
    "print(cfg.pretty())\n",
    "\n",
    "# Assign Config\n",
    "\n",
    "if cfg.exp_name =='base': \n",
    "    raise ValueError('Give me a proper exp name')\n",
    "print('EXP NAME', cfg.exp_name)\n",
    "print('====='*20)\n",
    "print(cfg.pretty())\n",
    "\n",
    "if cfg.mix_precision:\n",
    "    # 1080ti can't use mix precision & Window issue\n",
    "    from apex import amp\n",
    "\n",
    "DATA_PATH = Path(cfg.DATA_PATH)\n",
    "random_seed = cfg.random_seed\n",
    "\n",
    "# load processed data\n",
    "pickle_paths = [\n",
    "#         DATA_PATH/\"sample.pickle\",\n",
    "    DATA_PATH/\"train_data_0.pickle\",\n",
    "    #     DATA_PATH/\"train_data_1.pickle\",\n",
    "    #     DATA_PATH/\"train_data_2.pickle\",\n",
    "    #     DATA_PATH/\"train_data_3.pickle\",\n",
    "]\n",
    "\n",
    "image_data, name_data, label_data = load_processed_data(\n",
    "    pickle_paths, image_size=128)\n",
    "\n",
    "# +\n",
    "# split train valid set\n",
    "n_splits = cfg.n_splits\n",
    "random_speed = cfg.random_seed\n",
    "\n",
    "train_idx_list, test_idx_list = stratified_split_kfold(\n",
    "    image_data, label_data, n_splits, random_seed\n",
    ")\n",
    "\n",
    "# +\n",
    "# default training setting\n",
    "num_workers = cfg.num_workers\n",
    "pin_memory = cfg.pin_memory\n",
    "fold = list(range(n_splits))\n",
    "\n",
    "# customize training setting\n",
    "n_epoch = cfg.n_epoch\n",
    "batch_size = cfg.batch_size\n",
    "mixed_precision = cfg.mix_precision\n",
    "\n",
    "model_arch = eval(cfg.model_arch)\n",
    "model_parameter = cfg.model_parameter\n",
    "# model_parameter = eval(cfg.model_parameter)\n",
    "\n",
    "# import image transforms config\n",
    "rotate = cfg.data_transforms.rotate\n",
    "scale = cfg.data_transforms.scale\n",
    "p_affine = cfg.data_transforms.p_affine\n",
    "data_transforms = {\n",
    "    'train': transforms.Compose([\n",
    "        transforms.ToPILImage(),\n",
    "        transforms.RandomApply(\n",
    "            [transforms.RandomAffine(degrees=rotate, scale=tuple(scale))],\n",
    "            p=p_affine,\n",
    "        ),\n",
    "        transforms.Grayscale(num_output_channels=3),\n",
    "        transforms.ToTensor(),\n",
    "        # transforms.Normalize([0.0692], [0.2051]),\n",
    "    ]),\n",
    "    'val': transforms.Compose([\n",
    "        transforms.ToPILImage(),\n",
    "        transforms.Grayscale(num_output_channels=3),\n",
    "        transforms.ToTensor(),\n",
    "        # transforms.Normalize([0.0692], [0.2051])\n",
    "    ]),\n",
    "}\n",
    "\n",
    "swa = cfg.swa\n",
    "\n",
    "optimizer = eval(cfg.optimizer)\n",
    "print('OPTIM', optimizer, type(optimizer))\n",
    "optimizer_parameter = cfg.optimizer_parameter\n",
    "is_weighted_class_loss = cfg.is_weighted_class_loss\n",
    "\n",
    "# create lr scheduler\n",
    "epoch_scheduler_func = eval(cfg.epoch_scheduler_func)\n",
    "epoch_scheduler_func_para = cfg.epoch_scheduler_func_para\n",
    "error_plateau_scheduler_func = eval(cfg.error_plateau_scheduler_func)\n",
    "error_plateau_scheduler_func_para = cfg.error_plateau_scheduler_func_para\n",
    "\n",
    "# prob. of using [\"mixup\", \"cutmix\", \"cross_entropy\"] loss\n",
    "train_loss_prob = cfg.train_loss_prob\n",
    "mixup_alpha = cfg.mixup_alpha  \n",
    "cutmix_alpha = cfg.cutmix_alpha\n",
    "\n",
    "# weighting of [root, vowel, consonant]\n",
    "head_weights = cfg.head_weights\n",
    "\n",
    "wandb_log = cfg.wandb_log\n",
    "\n",
    "# save dir, set None to not save, need to manual create folders first\n",
    "save_dir = cfg.save_dir\n",
    "Path(save_dir).mkdir(parents=True, exist_ok=True)\n",
    "\n",
    "if is_weighted_class_loss:\n",
    "    root_label = label_data[:, 0]\n",
    "    vowel_label = label_data[:, 1]\n",
    "    consonant_label = label_data[:, 2]\n",
    "\n",
    "    class_weight = \"balanced\"\n",
    "\n",
    "    root_cls_weight = compute_class_weight(\n",
    "        class_weight, np.unique(root_label), root_label)\n",
    "    vowel_cls_weight = compute_class_weight(\n",
    "        class_weight, np.unique(vowel_label), vowel_label)\n",
    "    consonant_cls_weight = compute_class_weight(\n",
    "        class_weight, np.unique(consonant_label), consonant_label)\n",
    "\n",
    "    class_weights = [\n",
    "        torch.Tensor(root_cls_weight).cuda(),\n",
    "        torch.Tensor(vowel_cls_weight).cuda(),\n",
    "        torch.Tensor(consonant_cls_weight).cuda(),\n",
    "    ]\n",
    "else:\n",
    "    class_weights = None"
   ]
  },
  {
   "cell_type": "markdown",
   "metadata": {},
   "source": [
    "# Training"
   ]
  },
  {
   "cell_type": "code",
   "execution_count": 10,
   "metadata": {
    "ExecuteTime": {
     "end_time": "2020-03-08T15:10:42.272818Z",
     "start_time": "2020-03-08T09:37:19.796963Z"
    }
   },
   "outputs": [
    {
     "name": "stdout",
     "output_type": "stream",
     "text": [
      "Training fold 0\n",
      "Creating train dataloader...\n",
      "Creating valid dataloader...\n"
     ]
    },
    {
     "data": {
      "text/html": [
       "\n",
       "                Logging results to <a href=\"https://wandb.com\" target=\"_blank\">Weights & Biases</a> <a href=\"https://docs.wandb.com/integrations/jupyter.html\" target=\"_blank\">(Documentation)</a>.<br/>\n",
       "                Project page: <a href=\"https://app.wandb.ai/noklam/my-project\" target=\"_blank\">https://app.wandb.ai/noklam/my-project</a><br/>\n",
       "                Run page: <a href=\"https://app.wandb.ai/noklam/my-project/runs/l8v1v9q1\" target=\"_blank\">https://app.wandb.ai/noklam/my-project/runs/l8v1v9q1</a><br/>\n",
       "            "
      ],
      "text/plain": [
       "<IPython.core.display.HTML object>"
      ]
     },
     "metadata": {},
     "output_type": "display_data"
    },
    {
     "name": "stderr",
     "output_type": "stream",
     "text": [
      "Error saving pip packages\n"
     ]
    },
    {
     "name": "stdout",
     "output_type": "stream",
     "text": [
      "Epoch 0/119\n",
      "----------\n"
     ]
    },
    {
     "data": {
      "application/vnd.jupyter.widget-view+json": {
       "model_id": "1315eca023bf4845b5fd8c247cd7ca38",
       "version_major": 2,
       "version_minor": 0
      },
      "text/plain": [
       "HBox(children=(IntProgress(value=0, max=157), HTML(value='')))"
      ]
     },
     "metadata": {},
     "output_type": "display_data"
    },
    {
     "name": "stderr",
     "output_type": "stream",
     "text": [
      "C:\\Users\\CHANNO.OOCLDM\\AppData\\Local\\Continuum\\anaconda3\\lib\\site-packages\\torch\\distributions\\distribution.py:134: UserWarning: sample_n will be deprecated. Use .sample((n,)) instead\n",
      "  warnings.warn('sample_n will be deprecated. Use .sample((n,)) instead', UserWarning)\n",
      "C:\\Users\\CHANNO.OOCLDM\\AppData\\Local\\Continuum\\anaconda3\\lib\\site-packages\\torch\\cuda\\nccl.py:24: UserWarning: PyTorch is not compiled with NCCL support\n",
      "  warnings.warn('PyTorch is not compiled with NCCL support')\n"
     ]
    },
    {
     "name": "stdout",
     "output_type": "stream",
     "text": [
      "\n",
      "Finish training\n",
      "Loss: 2.5822, root_acc: 0.1370, vowel_acc: 0.6296, consonant_acc: 0.7078, combined_acc: 0.4028, root_recall: 0.0721, vowel_recall: 0.4693, consonant_recall: 0.3021, combined_recall: 0.2289\n",
      "\n"
     ]
    },
    {
     "data": {
      "application/vnd.jupyter.widget-view+json": {
       "model_id": "f101125f4c0042a9bc1678c5a1035138",
       "version_major": 2,
       "version_minor": 0
      },
      "text/plain": [
       "HBox(children=(IntProgress(value=0, max=20), HTML(value='')))"
      ]
     },
     "metadata": {},
     "output_type": "display_data"
    },
    {
     "name": "stdout",
     "output_type": "stream",
     "text": [
      "\n",
      "Finish validating\n",
      "Loss: 1.5215, root_acc: 0.2305, vowel_acc: 0.7863, consonant_acc: 0.7437, combined_acc: 0.4978, root_recall: 0.1393, vowel_recall: 0.6802, consonant_recall: 0.5294, combined_recall: 0.3721\n",
      "\n"
     ]
    },
    {
     "data": {
      "application/vnd.jupyter.widget-view+json": {
       "model_id": "3d8bfeb2a69540ea948531ac7cc007d1",
       "version_major": 2,
       "version_minor": 0
      },
      "text/plain": [
       "HBox(children=(IntProgress(value=0, max=20), HTML(value='')))"
      ]
     },
     "metadata": {},
     "output_type": "display_data"
    },
    {
     "name": "stdout",
     "output_type": "stream",
     "text": [
      "\n",
      "Finish no aug validation\n",
      "Loss: 1.5215, root_acc: 0.2305, vowel_acc: 0.7863, consonant_acc: 0.7437, combined_acc: 0.4978, root_recall: 0.1393, vowel_recall: 0.6802, consonant_recall: 0.5294, combined_recall: 0.3721\n",
      "\n",
      "Lowest val_loss decreases from 999 to 1.5214965036964303.\n",
      "Highest val_combined_recall increases from 0.0 to 0.3720555144886909.\n",
      "\n",
      "Epoch 1/119\n",
      "----------\n"
     ]
    },
    {
     "data": {
      "application/vnd.jupyter.widget-view+json": {
       "model_id": "fa556e2f289d4f389f31a5990f3a1dc3",
       "version_major": 2,
       "version_minor": 0
      },
      "text/plain": [
       "HBox(children=(IntProgress(value=0, max=157), HTML(value='')))"
      ]
     },
     "metadata": {},
     "output_type": "display_data"
    },
    {
     "name": "stdout",
     "output_type": "stream",
     "text": [
      "\n",
      "Finish training\n",
      "Loss: 1.5578, root_acc: 0.5314, vowel_acc: 0.8301, consonant_acc: 0.8649, combined_acc: 0.6894, root_recall: 0.4248, vowel_recall: 0.7436, consonant_recall: 0.6442, combined_recall: 0.5594\n",
      "\n"
     ]
    },
    {
     "data": {
      "application/vnd.jupyter.widget-view+json": {
       "model_id": "837e2327932749059eaa6e6eb26125a0",
       "version_major": 2,
       "version_minor": 0
      },
      "text/plain": [
       "HBox(children=(IntProgress(value=0, max=20), HTML(value='')))"
      ]
     },
     "metadata": {},
     "output_type": "display_data"
    },
    {
     "name": "stdout",
     "output_type": "stream",
     "text": [
      "\n",
      "Finish validating\n",
      "Loss: 0.6069, root_acc: 0.6605, vowel_acc: 0.8870, consonant_acc: 0.9206, combined_acc: 0.7822, root_recall: 0.5792, vowel_recall: 0.7915, consonant_recall: 0.8580, combined_recall: 0.7020\n",
      "\n"
     ]
    },
    {
     "data": {
      "application/vnd.jupyter.widget-view+json": {
       "model_id": "235d6da93d76442ca0a6c2e552200cb6",
       "version_major": 2,
       "version_minor": 0
      },
      "text/plain": [
       "HBox(children=(IntProgress(value=0, max=20), HTML(value='')))"
      ]
     },
     "metadata": {},
     "output_type": "display_data"
    },
    {
     "name": "stdout",
     "output_type": "stream",
     "text": [
      "\n",
      "Finish no aug validation\n",
      "Loss: 0.6069, root_acc: 0.6605, vowel_acc: 0.8870, consonant_acc: 0.9206, combined_acc: 0.7822, root_recall: 0.5792, vowel_recall: 0.7915, consonant_recall: 0.8580, combined_recall: 0.7020\n",
      "\n",
      "Lowest val_loss decreases from 1.5214965036964303 to 0.6069308853415326.\n",
      "Highest val_combined_recall increases from 0.3720555144886909 to 0.7019950426719367.\n",
      "\n",
      "Epoch 2/119\n",
      "----------\n"
     ]
    },
    {
     "data": {
      "application/vnd.jupyter.widget-view+json": {
       "model_id": "298d94433245410187fbd48d5ae8a34d",
       "version_major": 2,
       "version_minor": 0
      },
      "text/plain": [
       "HBox(children=(IntProgress(value=0, max=157), HTML(value='')))"
      ]
     },
     "metadata": {},
     "output_type": "display_data"
    },
    {
     "name": "stdout",
     "output_type": "stream",
     "text": [
      "\n",
      "Finish training\n",
      "Loss: 1.2312, root_acc: 0.7204, vowel_acc: 0.8841, consonant_acc: 0.9047, combined_acc: 0.8074, root_recall: 0.6480, vowel_recall: 0.8332, consonant_recall: 0.7687, combined_recall: 0.7245\n",
      "\n"
     ]
    },
    {
     "data": {
      "application/vnd.jupyter.widget-view+json": {
       "model_id": "1cac11f1b3054e1c9e0a3304242b475d",
       "version_major": 2,
       "version_minor": 0
      },
      "text/plain": [
       "HBox(children=(IntProgress(value=0, max=20), HTML(value='')))"
      ]
     },
     "metadata": {},
     "output_type": "display_data"
    },
    {
     "name": "stdout",
     "output_type": "stream",
     "text": [
      "\n",
      "Finish validating\n",
      "Loss: 0.4602, root_acc: 0.7458, vowel_acc: 0.9214, consonant_acc: 0.9365, combined_acc: 0.8374, root_recall: 0.6887, vowel_recall: 0.8697, consonant_recall: 0.8373, combined_recall: 0.7711\n",
      "\n"
     ]
    },
    {
     "data": {
      "application/vnd.jupyter.widget-view+json": {
       "model_id": "32a4ff87ce794e4cb78d4af1dd1bea05",
       "version_major": 2,
       "version_minor": 0
      },
      "text/plain": [
       "HBox(children=(IntProgress(value=0, max=20), HTML(value='')))"
      ]
     },
     "metadata": {},
     "output_type": "display_data"
    },
    {
     "name": "stdout",
     "output_type": "stream",
     "text": [
      "\n",
      "Finish no aug validation\n",
      "Loss: 0.4602, root_acc: 0.7458, vowel_acc: 0.9214, consonant_acc: 0.9365, combined_acc: 0.8374, root_recall: 0.6887, vowel_recall: 0.8697, consonant_recall: 0.8373, combined_recall: 0.7711\n",
      "\n",
      "Lowest val_loss decreases from 0.6069308853415326 to 0.46016085265974815.\n",
      "Highest val_combined_recall increases from 0.7019950426719367 to 0.7710937721608708.\n",
      "\n",
      "Epoch 3/119\n",
      "----------\n"
     ]
    },
    {
     "data": {
      "application/vnd.jupyter.widget-view+json": {
       "model_id": "65b82bd8086a44dd9e01337a4412f8be",
       "version_major": 2,
       "version_minor": 0
      },
      "text/plain": [
       "HBox(children=(IntProgress(value=0, max=157), HTML(value='')))"
      ]
     },
     "metadata": {},
     "output_type": "display_data"
    },
    {
     "name": "stdout",
     "output_type": "stream",
     "text": [
      "\n",
      "Finish training\n",
      "Loss: 1.1134, root_acc: 0.7910, vowel_acc: 0.9039, consonant_acc: 0.9191, combined_acc: 0.8512, root_recall: 0.7344, vowel_recall: 0.8672, consonant_recall: 0.8156, combined_recall: 0.7879\n",
      "\n"
     ]
    },
    {
     "data": {
      "application/vnd.jupyter.widget-view+json": {
       "model_id": "e250a1980c364ca1a44c40165ce8e0cb",
       "version_major": 2,
       "version_minor": 0
      },
      "text/plain": [
       "HBox(children=(IntProgress(value=0, max=20), HTML(value='')))"
      ]
     },
     "metadata": {},
     "output_type": "display_data"
    },
    {
     "name": "stdout",
     "output_type": "stream",
     "text": [
      "\n",
      "Finish validating\n",
      "Loss: 0.3600, root_acc: 0.8214, vowel_acc: 0.9525, consonant_acc: 0.9475, combined_acc: 0.8857, root_recall: 0.7891, vowel_recall: 0.9205, consonant_recall: 0.9003, combined_recall: 0.8497\n",
      "\n"
     ]
    },
    {
     "data": {
      "application/vnd.jupyter.widget-view+json": {
       "model_id": "51a797f3942a4b6bbba4bab32b2e8180",
       "version_major": 2,
       "version_minor": 0
      },
      "text/plain": [
       "HBox(children=(IntProgress(value=0, max=20), HTML(value='')))"
      ]
     },
     "metadata": {},
     "output_type": "display_data"
    },
    {
     "name": "stdout",
     "output_type": "stream",
     "text": [
      "\n",
      "Finish no aug validation\n",
      "Loss: 0.3600, root_acc: 0.8214, vowel_acc: 0.9525, consonant_acc: 0.9475, combined_acc: 0.8857, root_recall: 0.7891, vowel_recall: 0.9205, consonant_recall: 0.9003, combined_recall: 0.8497\n",
      "\n",
      "Lowest val_loss decreases from 0.46016085265974815 to 0.3600217906145716.\n",
      "Highest val_combined_recall increases from 0.7710937721608708 to 0.8497321474800537.\n",
      "\n",
      "Epoch 4/119\n",
      "----------\n"
     ]
    },
    {
     "data": {
      "application/vnd.jupyter.widget-view+json": {
       "model_id": "10956d427e2b4ae08a4b898f28935a57",
       "version_major": 2,
       "version_minor": 0
      },
      "text/plain": [
       "HBox(children=(IntProgress(value=0, max=157), HTML(value='')))"
      ]
     },
     "metadata": {},
     "output_type": "display_data"
    },
    {
     "name": "stdout",
     "output_type": "stream",
     "text": [
      "\n",
      "Finish training\n",
      "Loss: 1.0394, root_acc: 0.8283, vowel_acc: 0.9141, consonant_acc: 0.9278, combined_acc: 0.8746, root_recall: 0.7847, vowel_recall: 0.8891, consonant_recall: 0.8423, combined_recall: 0.8252\n",
      "\n"
     ]
    },
    {
     "data": {
      "application/vnd.jupyter.widget-view+json": {
       "model_id": "f9ddba6766be4781859a6c7c9e9aa6ea",
       "version_major": 2,
       "version_minor": 0
      },
      "text/plain": [
       "HBox(children=(IntProgress(value=0, max=20), HTML(value='')))"
      ]
     },
     "metadata": {},
     "output_type": "display_data"
    },
    {
     "name": "stdout",
     "output_type": "stream",
     "text": [
      "\n",
      "Finish validating\n",
      "Loss: 0.3232, root_acc: 0.8220, vowel_acc: 0.9529, consonant_acc: 0.9563, combined_acc: 0.8883, root_recall: 0.7861, vowel_recall: 0.9088, consonant_recall: 0.8804, combined_recall: 0.8404\n",
      "\n"
     ]
    },
    {
     "data": {
      "application/vnd.jupyter.widget-view+json": {
       "model_id": "2981c14004b649268dd5bc86a8dd4c2b",
       "version_major": 2,
       "version_minor": 0
      },
      "text/plain": [
       "HBox(children=(IntProgress(value=0, max=20), HTML(value='')))"
      ]
     },
     "metadata": {},
     "output_type": "display_data"
    },
    {
     "name": "stdout",
     "output_type": "stream",
     "text": [
      "\n",
      "Finish no aug validation\n",
      "Loss: 0.3232, root_acc: 0.8220, vowel_acc: 0.9529, consonant_acc: 0.9563, combined_acc: 0.8883, root_recall: 0.7861, vowel_recall: 0.9088, consonant_recall: 0.8804, combined_recall: 0.8404\n",
      "\n",
      "Lowest val_loss decreases from 0.3600217906145716 to 0.3232226259049323.\n",
      "\n",
      "Epoch 5/119\n",
      "----------\n"
     ]
    },
    {
     "data": {
      "application/vnd.jupyter.widget-view+json": {
       "model_id": "2073996244e24c048b76494af3ced76f",
       "version_major": 2,
       "version_minor": 0
      },
      "text/plain": [
       "HBox(children=(IntProgress(value=0, max=157), HTML(value='')))"
      ]
     },
     "metadata": {},
     "output_type": "display_data"
    },
    {
     "name": "stdout",
     "output_type": "stream",
     "text": [
      "\n",
      "Finish training\n",
      "Loss: 0.9969, root_acc: 0.8496, vowel_acc: 0.9202, consonant_acc: 0.9338, combined_acc: 0.8883, root_recall: 0.8213, vowel_recall: 0.8929, consonant_recall: 0.8622, combined_recall: 0.8494\n",
      "\n"
     ]
    },
    {
     "data": {
      "application/vnd.jupyter.widget-view+json": {
       "model_id": "6e556b66504842a5bb39f842a6303396",
       "version_major": 2,
       "version_minor": 0
      },
      "text/plain": [
       "HBox(children=(IntProgress(value=0, max=20), HTML(value='')))"
      ]
     },
     "metadata": {},
     "output_type": "display_data"
    },
    {
     "name": "stdout",
     "output_type": "stream",
     "text": [
      "\n",
      "Finish validating\n",
      "Loss: 0.2636, root_acc: 0.8607, vowel_acc: 0.9559, consonant_acc: 0.9563, combined_acc: 0.9084, root_recall: 0.8371, vowel_recall: 0.9441, consonant_recall: 0.9034, combined_recall: 0.8804\n",
      "\n"
     ]
    },
    {
     "data": {
      "application/vnd.jupyter.widget-view+json": {
       "model_id": "04b7e2c8e3f5451c92a34e69fd673dd6",
       "version_major": 2,
       "version_minor": 0
      },
      "text/plain": [
       "HBox(children=(IntProgress(value=0, max=20), HTML(value='')))"
      ]
     },
     "metadata": {},
     "output_type": "display_data"
    },
    {
     "name": "stdout",
     "output_type": "stream",
     "text": [
      "\n",
      "Finish no aug validation\n",
      "Loss: 0.2636, root_acc: 0.8607, vowel_acc: 0.9559, consonant_acc: 0.9563, combined_acc: 0.9084, root_recall: 0.8371, vowel_recall: 0.9441, consonant_recall: 0.9034, combined_recall: 0.8804\n",
      "\n",
      "Lowest val_loss decreases from 0.3232226259049323 to 0.2636447264316713.\n",
      "Highest val_combined_recall increases from 0.8497321474800537 to 0.8804193514792977.\n",
      "\n",
      "Epoch 6/119\n",
      "----------\n"
     ]
    },
    {
     "data": {
      "application/vnd.jupyter.widget-view+json": {
       "model_id": "02cd2a992c4e4646839f173f1e2e9ec6",
       "version_major": 2,
       "version_minor": 0
      },
      "text/plain": [
       "HBox(children=(IntProgress(value=0, max=157), HTML(value='')))"
      ]
     },
     "metadata": {},
     "output_type": "display_data"
    },
    {
     "name": "stdout",
     "output_type": "stream",
     "text": [
      "\n",
      "Finish training\n",
      "Loss: 0.9617, root_acc: 0.8657, vowel_acc: 0.9260, consonant_acc: 0.9389, combined_acc: 0.8991, root_recall: 0.8354, vowel_recall: 0.9037, consonant_recall: 0.8656, combined_recall: 0.8601\n",
      "\n"
     ]
    },
    {
     "data": {
      "application/vnd.jupyter.widget-view+json": {
       "model_id": "73d7d53fe3314bd994a708076184faed",
       "version_major": 2,
       "version_minor": 0
      },
      "text/plain": [
       "HBox(children=(IntProgress(value=0, max=20), HTML(value='')))"
      ]
     },
     "metadata": {},
     "output_type": "display_data"
    },
    {
     "name": "stdout",
     "output_type": "stream",
     "text": [
      "\n",
      "Finish validating\n",
      "Loss: 0.3067, root_acc: 0.8436, vowel_acc: 0.9414, consonant_acc: 0.9560, combined_acc: 0.8961, root_recall: 0.8150, vowel_recall: 0.9383, consonant_recall: 0.9022, combined_recall: 0.8676\n",
      "\n"
     ]
    },
    {
     "data": {
      "application/vnd.jupyter.widget-view+json": {
       "model_id": "4218c80ace3143ada3150946c81b9cd0",
       "version_major": 2,
       "version_minor": 0
      },
      "text/plain": [
       "HBox(children=(IntProgress(value=0, max=20), HTML(value='')))"
      ]
     },
     "metadata": {},
     "output_type": "display_data"
    },
    {
     "name": "stdout",
     "output_type": "stream",
     "text": [
      "\n",
      "Finish no aug validation\n",
      "Loss: 0.3067, root_acc: 0.8436, vowel_acc: 0.9414, consonant_acc: 0.9560, combined_acc: 0.8961, root_recall: 0.8150, vowel_recall: 0.9383, consonant_recall: 0.9022, combined_recall: 0.8676\n",
      "\n",
      "\n",
      "Epoch 7/119\n",
      "----------\n"
     ]
    },
    {
     "data": {
      "application/vnd.jupyter.widget-view+json": {
       "model_id": "89a3a2df33604ad1b8c18a9faf036f94",
       "version_major": 2,
       "version_minor": 0
      },
      "text/plain": [
       "HBox(children=(IntProgress(value=0, max=157), HTML(value='')))"
      ]
     },
     "metadata": {},
     "output_type": "display_data"
    },
    {
     "name": "stdout",
     "output_type": "stream",
     "text": [
      "\n",
      "Finish training\n",
      "Loss: 0.9308, root_acc: 0.8754, vowel_acc: 0.9282, consonant_acc: 0.9416, combined_acc: 0.9052, root_recall: 0.8499, vowel_recall: 0.9075, consonant_recall: 0.8726, combined_recall: 0.8700\n",
      "\n"
     ]
    },
    {
     "data": {
      "application/vnd.jupyter.widget-view+json": {
       "model_id": "2861bfb15f6347aca1eaa4d0de5c541f",
       "version_major": 2,
       "version_minor": 0
      },
      "text/plain": [
       "HBox(children=(IntProgress(value=0, max=20), HTML(value='')))"
      ]
     },
     "metadata": {},
     "output_type": "display_data"
    },
    {
     "name": "stdout",
     "output_type": "stream",
     "text": [
      "\n",
      "Finish validating\n",
      "Loss: 0.2645, root_acc: 0.8690, vowel_acc: 0.9432, consonant_acc: 0.9663, combined_acc: 0.9119, root_recall: 0.8545, vowel_recall: 0.9171, consonant_recall: 0.9065, combined_recall: 0.8831\n",
      "\n"
     ]
    },
    {
     "data": {
      "application/vnd.jupyter.widget-view+json": {
       "model_id": "b2ae20a9536b4d72ace16e90ac6bd9f5",
       "version_major": 2,
       "version_minor": 0
      },
      "text/plain": [
       "HBox(children=(IntProgress(value=0, max=20), HTML(value='')))"
      ]
     },
     "metadata": {},
     "output_type": "display_data"
    },
    {
     "name": "stdout",
     "output_type": "stream",
     "text": [
      "\n",
      "Finish no aug validation\n",
      "Loss: 0.2645, root_acc: 0.8690, vowel_acc: 0.9432, consonant_acc: 0.9663, combined_acc: 0.9119, root_recall: 0.8545, vowel_recall: 0.9171, consonant_recall: 0.9065, combined_recall: 0.8831\n",
      "\n",
      "Highest val_combined_recall increases from 0.8804193514792977 to 0.8831376420576902.\n",
      "\n",
      "Epoch 8/119\n",
      "----------\n"
     ]
    },
    {
     "data": {
      "application/vnd.jupyter.widget-view+json": {
       "model_id": "320d5424754644179a8f1b5d027ed5a8",
       "version_major": 2,
       "version_minor": 0
      },
      "text/plain": [
       "HBox(children=(IntProgress(value=0, max=157), HTML(value='')))"
      ]
     },
     "metadata": {},
     "output_type": "display_data"
    },
    {
     "name": "stdout",
     "output_type": "stream",
     "text": [
      "\n",
      "Finish training\n",
      "Loss: 0.9082, root_acc: 0.8867, vowel_acc: 0.9286, consonant_acc: 0.9449, combined_acc: 0.9117, root_recall: 0.8598, vowel_recall: 0.9083, consonant_recall: 0.8923, combined_recall: 0.8801\n",
      "\n"
     ]
    },
    {
     "data": {
      "application/vnd.jupyter.widget-view+json": {
       "model_id": "c4f70bcbe33146f58432ecd62f41c612",
       "version_major": 2,
       "version_minor": 0
      },
      "text/plain": [
       "HBox(children=(IntProgress(value=0, max=20), HTML(value='')))"
      ]
     },
     "metadata": {},
     "output_type": "display_data"
    },
    {
     "name": "stdout",
     "output_type": "stream",
     "text": [
      "\n",
      "Finish validating\n",
      "Loss: 0.2307, root_acc: 0.8839, vowel_acc: 0.9666, consonant_acc: 0.9622, combined_acc: 0.9241, root_recall: 0.8473, vowel_recall: 0.9533, consonant_recall: 0.9047, combined_recall: 0.8881\n",
      "\n"
     ]
    },
    {
     "data": {
      "application/vnd.jupyter.widget-view+json": {
       "model_id": "4c46ef7117204e21ae8768d0cdc57351",
       "version_major": 2,
       "version_minor": 0
      },
      "text/plain": [
       "HBox(children=(IntProgress(value=0, max=20), HTML(value='')))"
      ]
     },
     "metadata": {},
     "output_type": "display_data"
    },
    {
     "name": "stdout",
     "output_type": "stream",
     "text": [
      "\n",
      "Finish no aug validation\n",
      "Loss: 0.2307, root_acc: 0.8839, vowel_acc: 0.9666, consonant_acc: 0.9622, combined_acc: 0.9241, root_recall: 0.8473, vowel_recall: 0.9533, consonant_recall: 0.9047, combined_recall: 0.8881\n",
      "\n",
      "Lowest val_loss decreases from 0.2636447264316713 to 0.23072286784720122.\n",
      "Highest val_combined_recall increases from 0.8831376420576902 to 0.8881322877741706.\n",
      "\n",
      "Epoch 9/119\n",
      "----------\n"
     ]
    },
    {
     "data": {
      "application/vnd.jupyter.widget-view+json": {
       "model_id": "7397e59a130043c39e5a7c81eabad0db",
       "version_major": 2,
       "version_minor": 0
      },
      "text/plain": [
       "HBox(children=(IntProgress(value=0, max=157), HTML(value='')))"
      ]
     },
     "metadata": {},
     "output_type": "display_data"
    },
    {
     "name": "stdout",
     "output_type": "stream",
     "text": [
      "\n",
      "Finish training\n",
      "Loss: 0.8801, root_acc: 0.8939, vowel_acc: 0.9319, consonant_acc: 0.9462, combined_acc: 0.9165, root_recall: 0.8728, vowel_recall: 0.9161, consonant_recall: 0.9014, combined_recall: 0.8908\n",
      "\n"
     ]
    },
    {
     "data": {
      "application/vnd.jupyter.widget-view+json": {
       "model_id": "ad9911fa1c604b66901cbc0f69d5461a",
       "version_major": 2,
       "version_minor": 0
      },
      "text/plain": [
       "HBox(children=(IntProgress(value=0, max=20), HTML(value='')))"
      ]
     },
     "metadata": {},
     "output_type": "display_data"
    },
    {
     "name": "stdout",
     "output_type": "stream",
     "text": [
      "\n",
      "Finish validating\n",
      "Loss: 0.2247, root_acc: 0.8859, vowel_acc: 0.9678, consonant_acc: 0.9670, combined_acc: 0.9267, root_recall: 0.8625, vowel_recall: 0.9549, consonant_recall: 0.9411, combined_recall: 0.9053\n",
      "\n"
     ]
    },
    {
     "data": {
      "application/vnd.jupyter.widget-view+json": {
       "model_id": "c89989dd3b674a90844b5121576f682d",
       "version_major": 2,
       "version_minor": 0
      },
      "text/plain": [
       "HBox(children=(IntProgress(value=0, max=20), HTML(value='')))"
      ]
     },
     "metadata": {},
     "output_type": "display_data"
    },
    {
     "name": "stdout",
     "output_type": "stream",
     "text": [
      "\n",
      "Finish no aug validation\n",
      "Loss: 0.2247, root_acc: 0.8859, vowel_acc: 0.9678, consonant_acc: 0.9670, combined_acc: 0.9267, root_recall: 0.8625, vowel_recall: 0.9549, consonant_recall: 0.9411, combined_recall: 0.9053\n",
      "\n",
      "Lowest val_loss decreases from 0.23072286784720122 to 0.2246810867269541.\n",
      "Highest val_combined_recall increases from 0.8881322877741706 to 0.9052562762159156.\n",
      "\n",
      "Epoch 10/119\n",
      "----------\n"
     ]
    },
    {
     "data": {
      "application/vnd.jupyter.widget-view+json": {
       "model_id": "1bf5bbc78a294012bd70fcb3104b2d9f",
       "version_major": 2,
       "version_minor": 0
      },
      "text/plain": [
       "HBox(children=(IntProgress(value=0, max=157), HTML(value='')))"
      ]
     },
     "metadata": {},
     "output_type": "display_data"
    },
    {
     "name": "stdout",
     "output_type": "stream",
     "text": [
      "\n",
      "Finish training\n",
      "Loss: 0.8654, root_acc: 0.8999, vowel_acc: 0.9317, consonant_acc: 0.9498, combined_acc: 0.9203, root_recall: 0.8798, vowel_recall: 0.9164, consonant_recall: 0.8924, combined_recall: 0.8921\n",
      "\n"
     ]
    },
    {
     "data": {
      "application/vnd.jupyter.widget-view+json": {
       "model_id": "c02a7a638be94403a1803819d179e109",
       "version_major": 2,
       "version_minor": 0
      },
      "text/plain": [
       "HBox(children=(IntProgress(value=0, max=20), HTML(value='')))"
      ]
     },
     "metadata": {},
     "output_type": "display_data"
    },
    {
     "name": "stdout",
     "output_type": "stream",
     "text": [
      "\n",
      "Finish validating\n",
      "Loss: 0.2203, root_acc: 0.8879, vowel_acc: 0.9722, consonant_acc: 0.9599, combined_acc: 0.9270, root_recall: 0.8817, vowel_recall: 0.9679, consonant_recall: 0.9264, combined_recall: 0.9144\n",
      "\n"
     ]
    },
    {
     "data": {
      "application/vnd.jupyter.widget-view+json": {
       "model_id": "a79b1de1fe9a42a7ad48ec5bb164de46",
       "version_major": 2,
       "version_minor": 0
      },
      "text/plain": [
       "HBox(children=(IntProgress(value=0, max=20), HTML(value='')))"
      ]
     },
     "metadata": {},
     "output_type": "display_data"
    },
    {
     "name": "stdout",
     "output_type": "stream",
     "text": [
      "\n",
      "Finish no aug validation\n",
      "Loss: 0.2203, root_acc: 0.8879, vowel_acc: 0.9722, consonant_acc: 0.9599, combined_acc: 0.9270, root_recall: 0.8817, vowel_recall: 0.9679, consonant_recall: 0.9264, combined_recall: 0.9144\n",
      "\n",
      "Lowest val_loss decreases from 0.2246810867269541 to 0.2202846267040069.\n",
      "Highest val_combined_recall increases from 0.9052562762159156 to 0.9144457548856548.\n",
      "\n",
      "Epoch 11/119\n",
      "----------\n"
     ]
    },
    {
     "data": {
      "application/vnd.jupyter.widget-view+json": {
       "model_id": "cf450d643f06432094e12a33c99b3c18",
       "version_major": 2,
       "version_minor": 0
      },
      "text/plain": [
       "HBox(children=(IntProgress(value=0, max=157), HTML(value='')))"
      ]
     },
     "metadata": {},
     "output_type": "display_data"
    },
    {
     "name": "stdout",
     "output_type": "stream",
     "text": [
      "\n",
      "Finish training\n",
      "Loss: 0.8489, root_acc: 0.9034, vowel_acc: 0.9338, consonant_acc: 0.9506, combined_acc: 0.9228, root_recall: 0.8854, vowel_recall: 0.9203, consonant_recall: 0.8997, combined_recall: 0.8977\n",
      "\n"
     ]
    },
    {
     "data": {
      "application/vnd.jupyter.widget-view+json": {
       "model_id": "aa14de68fccf48e890d1afd7e92e150d",
       "version_major": 2,
       "version_minor": 0
      },
      "text/plain": [
       "HBox(children=(IntProgress(value=0, max=20), HTML(value='')))"
      ]
     },
     "metadata": {},
     "output_type": "display_data"
    },
    {
     "name": "stdout",
     "output_type": "stream",
     "text": [
      "\n",
      "Finish validating\n",
      "Loss: 0.2179, root_acc: 0.8946, vowel_acc: 0.9735, consonant_acc: 0.9673, combined_acc: 0.9325, root_recall: 0.8761, vowel_recall: 0.9623, consonant_recall: 0.9298, combined_recall: 0.9111\n",
      "\n"
     ]
    },
    {
     "data": {
      "application/vnd.jupyter.widget-view+json": {
       "model_id": "5aea0b2bd34d46968cc7031c49cfc631",
       "version_major": 2,
       "version_minor": 0
      },
      "text/plain": [
       "HBox(children=(IntProgress(value=0, max=20), HTML(value='')))"
      ]
     },
     "metadata": {},
     "output_type": "display_data"
    },
    {
     "name": "stdout",
     "output_type": "stream",
     "text": [
      "\n",
      "Finish no aug validation\n",
      "Loss: 0.2179, root_acc: 0.8946, vowel_acc: 0.9735, consonant_acc: 0.9673, combined_acc: 0.9325, root_recall: 0.8761, vowel_recall: 0.9623, consonant_recall: 0.9298, combined_recall: 0.9111\n",
      "\n",
      "Lowest val_loss decreases from 0.2202846267040069 to 0.2178572420964937.\n",
      "\n",
      "Epoch 12/119\n",
      "----------\n"
     ]
    },
    {
     "data": {
      "application/vnd.jupyter.widget-view+json": {
       "model_id": "b6b529fadc04443cbc77063f47fee6c4",
       "version_major": 2,
       "version_minor": 0
      },
      "text/plain": [
       "HBox(children=(IntProgress(value=0, max=157), HTML(value='')))"
      ]
     },
     "metadata": {},
     "output_type": "display_data"
    },
    {
     "name": "stdout",
     "output_type": "stream",
     "text": [
      "\n",
      "Finish training\n",
      "Loss: 0.8396, root_acc: 0.9056, vowel_acc: 0.9337, consonant_acc: 0.9498, combined_acc: 0.9237, root_recall: 0.8901, vowel_recall: 0.9196, consonant_recall: 0.9024, combined_recall: 0.9006\n",
      "\n"
     ]
    },
    {
     "data": {
      "application/vnd.jupyter.widget-view+json": {
       "model_id": "5da9b71888e94f67bd2fc5afe9d9bd60",
       "version_major": 2,
       "version_minor": 0
      },
      "text/plain": [
       "HBox(children=(IntProgress(value=0, max=20), HTML(value='')))"
      ]
     },
     "metadata": {},
     "output_type": "display_data"
    },
    {
     "name": "stdout",
     "output_type": "stream",
     "text": [
      "\n",
      "Finish validating\n",
      "Loss: 0.2199, root_acc: 0.8872, vowel_acc: 0.9712, consonant_acc: 0.9689, combined_acc: 0.9286, root_recall: 0.8671, vowel_recall: 0.9646, consonant_recall: 0.9340, combined_recall: 0.9082\n",
      "\n"
     ]
    },
    {
     "data": {
      "application/vnd.jupyter.widget-view+json": {
       "model_id": "9acfbd9ede824d1e95d2a0f7efd4799d",
       "version_major": 2,
       "version_minor": 0
      },
      "text/plain": [
       "HBox(children=(IntProgress(value=0, max=20), HTML(value='')))"
      ]
     },
     "metadata": {},
     "output_type": "display_data"
    },
    {
     "name": "stdout",
     "output_type": "stream",
     "text": [
      "\n",
      "Finish no aug validation\n",
      "Loss: 0.2199, root_acc: 0.8872, vowel_acc: 0.9712, consonant_acc: 0.9689, combined_acc: 0.9286, root_recall: 0.8671, vowel_recall: 0.9646, consonant_recall: 0.9340, combined_recall: 0.9082\n",
      "\n",
      "\n",
      "Epoch 13/119\n",
      "----------\n"
     ]
    },
    {
     "data": {
      "application/vnd.jupyter.widget-view+json": {
       "model_id": "c49431762c434d28b7930c0142a523a0",
       "version_major": 2,
       "version_minor": 0
      },
      "text/plain": [
       "HBox(children=(IntProgress(value=0, max=157), HTML(value='')))"
      ]
     },
     "metadata": {},
     "output_type": "display_data"
    },
    {
     "name": "stdout",
     "output_type": "stream",
     "text": [
      "\n",
      "Finish training\n",
      "Loss: 0.8296, root_acc: 0.9075, vowel_acc: 0.9324, consonant_acc: 0.9506, combined_acc: 0.9245, root_recall: 0.8888, vowel_recall: 0.9174, consonant_recall: 0.9069, combined_recall: 0.9004\n",
      "\n"
     ]
    },
    {
     "data": {
      "application/vnd.jupyter.widget-view+json": {
       "model_id": "ca7ab335e08e46e4b3dd866ecb3c7a4e",
       "version_major": 2,
       "version_minor": 0
      },
      "text/plain": [
       "HBox(children=(IntProgress(value=0, max=20), HTML(value='')))"
      ]
     },
     "metadata": {},
     "output_type": "display_data"
    },
    {
     "name": "stdout",
     "output_type": "stream",
     "text": [
      "\n",
      "Finish validating\n",
      "Loss: 0.2242, root_acc: 0.8898, vowel_acc: 0.9680, consonant_acc: 0.9691, combined_acc: 0.9292, root_recall: 0.8716, vowel_recall: 0.9486, consonant_recall: 0.9158, combined_recall: 0.9019\n",
      "\n"
     ]
    },
    {
     "data": {
      "application/vnd.jupyter.widget-view+json": {
       "model_id": "517b7226017d4c1086105dbe9fd62abe",
       "version_major": 2,
       "version_minor": 0
      },
      "text/plain": [
       "HBox(children=(IntProgress(value=0, max=20), HTML(value='')))"
      ]
     },
     "metadata": {},
     "output_type": "display_data"
    },
    {
     "name": "stdout",
     "output_type": "stream",
     "text": [
      "\n",
      "Finish no aug validation\n",
      "Loss: 0.2242, root_acc: 0.8898, vowel_acc: 0.9680, consonant_acc: 0.9691, combined_acc: 0.9292, root_recall: 0.8716, vowel_recall: 0.9486, consonant_recall: 0.9158, combined_recall: 0.9019\n",
      "\n",
      "\n",
      "Epoch 14/119\n",
      "----------\n"
     ]
    },
    {
     "data": {
      "application/vnd.jupyter.widget-view+json": {
       "model_id": "a6e2ed5c79ba41b4ba8e7eeb7b58b7af",
       "version_major": 2,
       "version_minor": 0
      },
      "text/plain": [
       "HBox(children=(IntProgress(value=0, max=157), HTML(value='')))"
      ]
     },
     "metadata": {},
     "output_type": "display_data"
    },
    {
     "name": "stdout",
     "output_type": "stream",
     "text": [
      "\n",
      "Finish training\n",
      "Loss: 0.8113, root_acc: 0.9096, vowel_acc: 0.9349, consonant_acc: 0.9514, combined_acc: 0.9264, root_recall: 0.8965, vowel_recall: 0.9211, consonant_recall: 0.9101, combined_recall: 0.9060\n",
      "\n"
     ]
    },
    {
     "data": {
      "application/vnd.jupyter.widget-view+json": {
       "model_id": "7c46d2a6bc884dfdab6d1640d12fa9c1",
       "version_major": 2,
       "version_minor": 0
      },
      "text/plain": [
       "HBox(children=(IntProgress(value=0, max=20), HTML(value='')))"
      ]
     },
     "metadata": {},
     "output_type": "display_data"
    },
    {
     "name": "stdout",
     "output_type": "stream",
     "text": [
      "\n",
      "Finish validating\n",
      "Loss: 0.2160, root_acc: 0.8964, vowel_acc: 0.9735, consonant_acc: 0.9651, combined_acc: 0.9329, root_recall: 0.8860, vowel_recall: 0.9523, consonant_recall: 0.9445, combined_recall: 0.9172\n",
      "\n"
     ]
    },
    {
     "data": {
      "application/vnd.jupyter.widget-view+json": {
       "model_id": "634c4ad020b04a30aa02fc8276409360",
       "version_major": 2,
       "version_minor": 0
      },
      "text/plain": [
       "HBox(children=(IntProgress(value=0, max=20), HTML(value='')))"
      ]
     },
     "metadata": {},
     "output_type": "display_data"
    },
    {
     "name": "stdout",
     "output_type": "stream",
     "text": [
      "\n",
      "Finish no aug validation\n",
      "Loss: 0.2160, root_acc: 0.8964, vowel_acc: 0.9735, consonant_acc: 0.9651, combined_acc: 0.9329, root_recall: 0.8860, vowel_recall: 0.9523, consonant_recall: 0.9445, combined_recall: 0.9172\n",
      "\n",
      "Lowest val_loss decreases from 0.2178572420964937 to 0.21595893999395843.\n",
      "Highest val_combined_recall increases from 0.9144457548856548 to 0.9172184143444421.\n",
      "\n",
      "Epoch 15/119\n",
      "----------\n"
     ]
    },
    {
     "data": {
      "application/vnd.jupyter.widget-view+json": {
       "model_id": "f8b73b9762fc480aa7c2ecefaf3266a6",
       "version_major": 2,
       "version_minor": 0
      },
      "text/plain": [
       "HBox(children=(IntProgress(value=0, max=157), HTML(value='')))"
      ]
     },
     "metadata": {},
     "output_type": "display_data"
    },
    {
     "name": "stdout",
     "output_type": "stream",
     "text": [
      "\n",
      "Finish training\n",
      "Loss: 0.8021, root_acc: 0.9162, vowel_acc: 0.9357, consonant_acc: 0.9495, combined_acc: 0.9294, root_recall: 0.9027, vowel_recall: 0.9240, consonant_recall: 0.8997, combined_recall: 0.9073\n",
      "\n"
     ]
    },
    {
     "data": {
      "application/vnd.jupyter.widget-view+json": {
       "model_id": "d0b25791b711447ca53ef050a69ee609",
       "version_major": 2,
       "version_minor": 0
      },
      "text/plain": [
       "HBox(children=(IntProgress(value=0, max=20), HTML(value='')))"
      ]
     },
     "metadata": {},
     "output_type": "display_data"
    },
    {
     "name": "stdout",
     "output_type": "stream",
     "text": [
      "\n",
      "Finish validating\n",
      "Loss: 0.1950, root_acc: 0.9051, vowel_acc: 0.9740, consonant_acc: 0.9670, combined_acc: 0.9378, root_recall: 0.8769, vowel_recall: 0.9633, consonant_recall: 0.9467, combined_recall: 0.9159\n",
      "\n"
     ]
    },
    {
     "data": {
      "application/vnd.jupyter.widget-view+json": {
       "model_id": "0bc1dc5087fa46ddb49815fd55ae8208",
       "version_major": 2,
       "version_minor": 0
      },
      "text/plain": [
       "HBox(children=(IntProgress(value=0, max=20), HTML(value='')))"
      ]
     },
     "metadata": {},
     "output_type": "display_data"
    },
    {
     "name": "stdout",
     "output_type": "stream",
     "text": [
      "\n",
      "Finish no aug validation\n",
      "Loss: 0.1950, root_acc: 0.9051, vowel_acc: 0.9740, consonant_acc: 0.9670, combined_acc: 0.9378, root_recall: 0.8769, vowel_recall: 0.9633, consonant_recall: 0.9467, combined_recall: 0.9159\n",
      "\n",
      "Lowest val_loss decreases from 0.21595893999395843 to 0.19497129956794151.\n",
      "\n",
      "Epoch 16/119\n",
      "----------\n"
     ]
    },
    {
     "data": {
      "application/vnd.jupyter.widget-view+json": {
       "model_id": "c5308fe0acac4937ae2fd7d1dff7218a",
       "version_major": 2,
       "version_minor": 0
      },
      "text/plain": [
       "HBox(children=(IntProgress(value=0, max=157), HTML(value='')))"
      ]
     },
     "metadata": {},
     "output_type": "display_data"
    },
    {
     "name": "stdout",
     "output_type": "stream",
     "text": [
      "\n",
      "Finish training\n",
      "Loss: 0.7953, root_acc: 0.9150, vowel_acc: 0.9374, consonant_acc: 0.9534, combined_acc: 0.9302, root_recall: 0.9009, vowel_recall: 0.9231, consonant_recall: 0.9051, combined_recall: 0.9075\n",
      "\n"
     ]
    },
    {
     "data": {
      "application/vnd.jupyter.widget-view+json": {
       "model_id": "6c8f97d0475249eb985b645e4093047f",
       "version_major": 2,
       "version_minor": 0
      },
      "text/plain": [
       "HBox(children=(IntProgress(value=0, max=20), HTML(value='')))"
      ]
     },
     "metadata": {},
     "output_type": "display_data"
    },
    {
     "name": "stdout",
     "output_type": "stream",
     "text": [
      "\n",
      "Finish validating\n",
      "Loss: 0.2191, root_acc: 0.8912, vowel_acc: 0.9690, consonant_acc: 0.9730, combined_acc: 0.9311, root_recall: 0.8689, vowel_recall: 0.9663, consonant_recall: 0.9320, combined_recall: 0.9090\n",
      "\n"
     ]
    },
    {
     "data": {
      "application/vnd.jupyter.widget-view+json": {
       "model_id": "92183ee780a4434a871320924cb32ace",
       "version_major": 2,
       "version_minor": 0
      },
      "text/plain": [
       "HBox(children=(IntProgress(value=0, max=20), HTML(value='')))"
      ]
     },
     "metadata": {},
     "output_type": "display_data"
    },
    {
     "name": "stdout",
     "output_type": "stream",
     "text": [
      "\n",
      "Finish no aug validation\n",
      "Loss: 0.2191, root_acc: 0.8912, vowel_acc: 0.9690, consonant_acc: 0.9730, combined_acc: 0.9311, root_recall: 0.8689, vowel_recall: 0.9663, consonant_recall: 0.9320, combined_recall: 0.9090\n",
      "\n",
      "\n",
      "Epoch 17/119\n",
      "----------\n"
     ]
    },
    {
     "data": {
      "application/vnd.jupyter.widget-view+json": {
       "model_id": "1e834faa775d48178e9ea341b70bd8fa",
       "version_major": 2,
       "version_minor": 0
      },
      "text/plain": [
       "HBox(children=(IntProgress(value=0, max=157), HTML(value='')))"
      ]
     },
     "metadata": {},
     "output_type": "display_data"
    },
    {
     "name": "stdout",
     "output_type": "stream",
     "text": [
      "\n",
      "Finish training\n",
      "Loss: 0.7775, root_acc: 0.9194, vowel_acc: 0.9355, consonant_acc: 0.9518, combined_acc: 0.9315, root_recall: 0.9081, vowel_recall: 0.9220, consonant_recall: 0.9078, combined_recall: 0.9115\n",
      "\n"
     ]
    },
    {
     "data": {
      "application/vnd.jupyter.widget-view+json": {
       "model_id": "988040e067e84ad586efe4f7748f70b3",
       "version_major": 2,
       "version_minor": 0
      },
      "text/plain": [
       "HBox(children=(IntProgress(value=0, max=20), HTML(value='')))"
      ]
     },
     "metadata": {},
     "output_type": "display_data"
    },
    {
     "name": "stdout",
     "output_type": "stream",
     "text": [
      "\n",
      "Finish validating\n",
      "Loss: 0.2038, root_acc: 0.9005, vowel_acc: 0.9691, consonant_acc: 0.9695, combined_acc: 0.9349, root_recall: 0.8791, vowel_recall: 0.9504, consonant_recall: 0.9406, combined_recall: 0.9123\n",
      "\n"
     ]
    },
    {
     "data": {
      "application/vnd.jupyter.widget-view+json": {
       "model_id": "1cbbaccdf384411389c8ccff282e2520",
       "version_major": 2,
       "version_minor": 0
      },
      "text/plain": [
       "HBox(children=(IntProgress(value=0, max=20), HTML(value='')))"
      ]
     },
     "metadata": {},
     "output_type": "display_data"
    },
    {
     "name": "stdout",
     "output_type": "stream",
     "text": [
      "\n",
      "Finish no aug validation\n",
      "Loss: 0.2038, root_acc: 0.9005, vowel_acc: 0.9691, consonant_acc: 0.9695, combined_acc: 0.9349, root_recall: 0.8791, vowel_recall: 0.9504, consonant_recall: 0.9406, combined_recall: 0.9123\n",
      "\n",
      "\n",
      "Epoch 18/119\n",
      "----------\n"
     ]
    },
    {
     "data": {
      "application/vnd.jupyter.widget-view+json": {
       "model_id": "e4f1b8f08321454f8c2c4866688b55bc",
       "version_major": 2,
       "version_minor": 0
      },
      "text/plain": [
       "HBox(children=(IntProgress(value=0, max=157), HTML(value='')))"
      ]
     },
     "metadata": {},
     "output_type": "display_data"
    },
    {
     "name": "stdout",
     "output_type": "stream",
     "text": [
      "\n",
      "Finish training\n",
      "Loss: 0.7705, root_acc: 0.9206, vowel_acc: 0.9362, consonant_acc: 0.9525, combined_acc: 0.9325, root_recall: 0.9071, vowel_recall: 0.9220, consonant_recall: 0.9065, combined_recall: 0.9107\n",
      "\n"
     ]
    },
    {
     "data": {
      "application/vnd.jupyter.widget-view+json": {
       "model_id": "1b29eb1e380e4ecdb39e83f92ac226dd",
       "version_major": 2,
       "version_minor": 0
      },
      "text/plain": [
       "HBox(children=(IntProgress(value=0, max=20), HTML(value='')))"
      ]
     },
     "metadata": {},
     "output_type": "display_data"
    },
    {
     "name": "stdout",
     "output_type": "stream",
     "text": [
      "\n",
      "Finish validating\n",
      "Loss: 0.1887, root_acc: 0.9069, vowel_acc: 0.9740, consonant_acc: 0.9715, combined_acc: 0.9398, root_recall: 0.8901, vowel_recall: 0.9683, consonant_recall: 0.9652, combined_recall: 0.9284\n",
      "\n"
     ]
    },
    {
     "data": {
      "application/vnd.jupyter.widget-view+json": {
       "model_id": "134227d05a484b74b94cf6a853dce33c",
       "version_major": 2,
       "version_minor": 0
      },
      "text/plain": [
       "HBox(children=(IntProgress(value=0, max=20), HTML(value='')))"
      ]
     },
     "metadata": {},
     "output_type": "display_data"
    },
    {
     "name": "stdout",
     "output_type": "stream",
     "text": [
      "\n",
      "Finish no aug validation\n",
      "Loss: 0.1887, root_acc: 0.9069, vowel_acc: 0.9740, consonant_acc: 0.9715, combined_acc: 0.9398, root_recall: 0.8901, vowel_recall: 0.9683, consonant_recall: 0.9652, combined_recall: 0.9284\n",
      "\n",
      "Lowest val_loss decreases from 0.19497129956794151 to 0.18872130916095353.\n",
      "Highest val_combined_recall increases from 0.9172184143444421 to 0.9284282420645298.\n",
      "\n",
      "Epoch 19/119\n",
      "----------\n"
     ]
    },
    {
     "data": {
      "application/vnd.jupyter.widget-view+json": {
       "model_id": "68232e42b5e848aeb67061d2a4d64d3a",
       "version_major": 2,
       "version_minor": 0
      },
      "text/plain": [
       "HBox(children=(IntProgress(value=0, max=157), HTML(value='')))"
      ]
     },
     "metadata": {},
     "output_type": "display_data"
    },
    {
     "name": "stdout",
     "output_type": "stream",
     "text": [
      "\n",
      "Finish training\n",
      "Loss: 0.7621, root_acc: 0.9199, vowel_acc: 0.9347, consonant_acc: 0.9547, combined_acc: 0.9323, root_recall: 0.9064, vowel_recall: 0.9220, consonant_recall: 0.9158, combined_recall: 0.9126\n",
      "\n"
     ]
    },
    {
     "data": {
      "application/vnd.jupyter.widget-view+json": {
       "model_id": "530effabdf774ddaaf5b6ec2cbc97449",
       "version_major": 2,
       "version_minor": 0
      },
      "text/plain": [
       "HBox(children=(IntProgress(value=0, max=20), HTML(value='')))"
      ]
     },
     "metadata": {},
     "output_type": "display_data"
    },
    {
     "name": "stdout",
     "output_type": "stream",
     "text": [
      "\n",
      "Finish validating\n",
      "Loss: 0.1690, root_acc: 0.9174, vowel_acc: 0.9788, consonant_acc: 0.9750, combined_acc: 0.9472, root_recall: 0.8989, vowel_recall: 0.9682, consonant_recall: 0.9561, combined_recall: 0.9305\n",
      "\n"
     ]
    },
    {
     "data": {
      "application/vnd.jupyter.widget-view+json": {
       "model_id": "0423d66d36164400909d4d93f39e9397",
       "version_major": 2,
       "version_minor": 0
      },
      "text/plain": [
       "HBox(children=(IntProgress(value=0, max=20), HTML(value='')))"
      ]
     },
     "metadata": {},
     "output_type": "display_data"
    },
    {
     "name": "stdout",
     "output_type": "stream",
     "text": [
      "\n",
      "Finish no aug validation\n",
      "Loss: 0.1690, root_acc: 0.9174, vowel_acc: 0.9788, consonant_acc: 0.9750, combined_acc: 0.9472, root_recall: 0.8989, vowel_recall: 0.9682, consonant_recall: 0.9561, combined_recall: 0.9305\n",
      "\n",
      "Lowest val_loss decreases from 0.18872130916095353 to 0.16900060515352938.\n",
      "Highest val_combined_recall increases from 0.9284282420645298 to 0.93050505709516.\n",
      "\n",
      "Epoch 20/119\n",
      "----------\n"
     ]
    },
    {
     "data": {
      "application/vnd.jupyter.widget-view+json": {
       "model_id": "f94bcb0235344806bbb6dc2aa8ced61c",
       "version_major": 2,
       "version_minor": 0
      },
      "text/plain": [
       "HBox(children=(IntProgress(value=0, max=157), HTML(value='')))"
      ]
     },
     "metadata": {},
     "output_type": "display_data"
    },
    {
     "name": "stdout",
     "output_type": "stream",
     "text": [
      "\n",
      "Finish training\n",
      "Loss: 0.7509, root_acc: 0.9221, vowel_acc: 0.9366, consonant_acc: 0.9547, combined_acc: 0.9339, root_recall: 0.9119, vowel_recall: 0.9224, consonant_recall: 0.9175, combined_recall: 0.9159\n",
      "\n"
     ]
    },
    {
     "data": {
      "application/vnd.jupyter.widget-view+json": {
       "model_id": "3cf27b4586fa4a23b5726fc1fbb6bbbe",
       "version_major": 2,
       "version_minor": 0
      },
      "text/plain": [
       "HBox(children=(IntProgress(value=0, max=20), HTML(value='')))"
      ]
     },
     "metadata": {},
     "output_type": "display_data"
    },
    {
     "name": "stdout",
     "output_type": "stream",
     "text": [
      "\n",
      "Finish validating\n",
      "Loss: 0.1918, root_acc: 0.9122, vowel_acc: 0.9743, consonant_acc: 0.9710, combined_acc: 0.9424, root_recall: 0.9008, vowel_recall: 0.9685, consonant_recall: 0.9640, combined_recall: 0.9336\n",
      "\n"
     ]
    },
    {
     "data": {
      "application/vnd.jupyter.widget-view+json": {
       "model_id": "d5088ffd55ac496ab2f207ececd5f5c7",
       "version_major": 2,
       "version_minor": 0
      },
      "text/plain": [
       "HBox(children=(IntProgress(value=0, max=20), HTML(value='')))"
      ]
     },
     "metadata": {},
     "output_type": "display_data"
    },
    {
     "name": "stdout",
     "output_type": "stream",
     "text": [
      "\n",
      "Finish no aug validation\n",
      "Loss: 0.1918, root_acc: 0.9122, vowel_acc: 0.9743, consonant_acc: 0.9710, combined_acc: 0.9424, root_recall: 0.9008, vowel_recall: 0.9685, consonant_recall: 0.9640, combined_recall: 0.9336\n",
      "\n",
      "Highest val_combined_recall increases from 0.93050505709516 to 0.9335588177399728.\n",
      "\n",
      "Epoch 21/119\n",
      "----------\n"
     ]
    },
    {
     "data": {
      "application/vnd.jupyter.widget-view+json": {
       "model_id": "62cb8b5bfaf44222ad3712b8fc201c2d",
       "version_major": 2,
       "version_minor": 0
      },
      "text/plain": [
       "HBox(children=(IntProgress(value=0, max=157), HTML(value='')))"
      ]
     },
     "metadata": {},
     "output_type": "display_data"
    },
    {
     "name": "stdout",
     "output_type": "stream",
     "text": [
      "\n",
      "Finish training\n",
      "Loss: 0.7423, root_acc: 0.9226, vowel_acc: 0.9365, consonant_acc: 0.9556, combined_acc: 0.9343, root_recall: 0.9146, vowel_recall: 0.9238, consonant_recall: 0.9112, combined_recall: 0.9160\n",
      "\n"
     ]
    },
    {
     "data": {
      "application/vnd.jupyter.widget-view+json": {
       "model_id": "37e112bb81114a86a1908019da940afc",
       "version_major": 2,
       "version_minor": 0
      },
      "text/plain": [
       "HBox(children=(IntProgress(value=0, max=20), HTML(value='')))"
      ]
     },
     "metadata": {},
     "output_type": "display_data"
    },
    {
     "name": "stdout",
     "output_type": "stream",
     "text": [
      "\n",
      "Finish validating\n",
      "Loss: 0.1708, root_acc: 0.9155, vowel_acc: 0.9772, consonant_acc: 0.9747, combined_acc: 0.9457, root_recall: 0.9043, vowel_recall: 0.9686, consonant_recall: 0.9571, combined_recall: 0.9336\n",
      "\n"
     ]
    },
    {
     "data": {
      "application/vnd.jupyter.widget-view+json": {
       "model_id": "af9a0b8d5a274fc9b3bbbf211bf0901d",
       "version_major": 2,
       "version_minor": 0
      },
      "text/plain": [
       "HBox(children=(IntProgress(value=0, max=20), HTML(value='')))"
      ]
     },
     "metadata": {},
     "output_type": "display_data"
    },
    {
     "name": "stdout",
     "output_type": "stream",
     "text": [
      "\n",
      "Finish no aug validation\n",
      "Loss: 0.1708, root_acc: 0.9155, vowel_acc: 0.9772, consonant_acc: 0.9747, combined_acc: 0.9457, root_recall: 0.9043, vowel_recall: 0.9686, consonant_recall: 0.9571, combined_recall: 0.9336\n",
      "\n",
      "Highest val_combined_recall increases from 0.9335588177399728 to 0.9335805038569965.\n",
      "\n",
      "Epoch 22/119\n",
      "----------\n"
     ]
    },
    {
     "data": {
      "application/vnd.jupyter.widget-view+json": {
       "model_id": "878d358e3ece47459b698520e4f5e274",
       "version_major": 2,
       "version_minor": 0
      },
      "text/plain": [
       "HBox(children=(IntProgress(value=0, max=157), HTML(value='')))"
      ]
     },
     "metadata": {},
     "output_type": "display_data"
    },
    {
     "name": "stdout",
     "output_type": "stream",
     "text": [
      "\n",
      "Finish training\n",
      "Loss: 0.7287, root_acc: 0.9253, vowel_acc: 0.9383, consonant_acc: 0.9571, combined_acc: 0.9365, root_recall: 0.9168, vowel_recall: 0.9287, consonant_recall: 0.9201, combined_recall: 0.9206\n",
      "\n"
     ]
    },
    {
     "data": {
      "application/vnd.jupyter.widget-view+json": {
       "model_id": "ecaf2464874647d183336a44868ff519",
       "version_major": 2,
       "version_minor": 0
      },
      "text/plain": [
       "HBox(children=(IntProgress(value=0, max=20), HTML(value='')))"
      ]
     },
     "metadata": {},
     "output_type": "display_data"
    },
    {
     "name": "stdout",
     "output_type": "stream",
     "text": [
      "\n",
      "Finish validating\n",
      "Loss: 0.1852, root_acc: 0.9106, vowel_acc: 0.9763, consonant_acc: 0.9747, combined_acc: 0.9430, root_recall: 0.9027, vowel_recall: 0.9689, consonant_recall: 0.9605, combined_recall: 0.9337\n",
      "\n"
     ]
    },
    {
     "data": {
      "application/vnd.jupyter.widget-view+json": {
       "model_id": "94fbd6974eb840acb0868b8813e93e3b",
       "version_major": 2,
       "version_minor": 0
      },
      "text/plain": [
       "HBox(children=(IntProgress(value=0, max=20), HTML(value='')))"
      ]
     },
     "metadata": {},
     "output_type": "display_data"
    },
    {
     "name": "stdout",
     "output_type": "stream",
     "text": [
      "\n",
      "Finish no aug validation\n",
      "Loss: 0.1852, root_acc: 0.9106, vowel_acc: 0.9763, consonant_acc: 0.9747, combined_acc: 0.9430, root_recall: 0.9027, vowel_recall: 0.9689, consonant_recall: 0.9605, combined_recall: 0.9337\n",
      "\n",
      "Highest val_combined_recall increases from 0.9335805038569965 to 0.9336963444348338.\n",
      "\n",
      "Epoch 23/119\n",
      "----------\n"
     ]
    },
    {
     "data": {
      "application/vnd.jupyter.widget-view+json": {
       "model_id": "6deb3524266949799659d2de7d2e2cc3",
       "version_major": 2,
       "version_minor": 0
      },
      "text/plain": [
       "HBox(children=(IntProgress(value=0, max=157), HTML(value='')))"
      ]
     },
     "metadata": {},
     "output_type": "display_data"
    },
    {
     "name": "stdout",
     "output_type": "stream",
     "text": [
      "\n",
      "Finish training\n",
      "Loss: 0.7235, root_acc: 0.9237, vowel_acc: 0.9394, consonant_acc: 0.9553, combined_acc: 0.9355, root_recall: 0.9112, vowel_recall: 0.9240, consonant_recall: 0.9100, combined_recall: 0.9141\n",
      "\n"
     ]
    },
    {
     "data": {
      "application/vnd.jupyter.widget-view+json": {
       "model_id": "e0f80d0538864346b1e67364e8a86565",
       "version_major": 2,
       "version_minor": 0
      },
      "text/plain": [
       "HBox(children=(IntProgress(value=0, max=20), HTML(value='')))"
      ]
     },
     "metadata": {},
     "output_type": "display_data"
    },
    {
     "name": "stdout",
     "output_type": "stream",
     "text": [
      "\n",
      "Finish validating\n",
      "Loss: 0.1851, root_acc: 0.9109, vowel_acc: 0.9755, consonant_acc: 0.9748, combined_acc: 0.9430, root_recall: 0.8929, vowel_recall: 0.9631, consonant_recall: 0.9544, combined_recall: 0.9258\n",
      "\n"
     ]
    },
    {
     "data": {
      "application/vnd.jupyter.widget-view+json": {
       "model_id": "e2f71f33a8f946b6ac4afa7834e0b875",
       "version_major": 2,
       "version_minor": 0
      },
      "text/plain": [
       "HBox(children=(IntProgress(value=0, max=20), HTML(value='')))"
      ]
     },
     "metadata": {},
     "output_type": "display_data"
    },
    {
     "name": "stdout",
     "output_type": "stream",
     "text": [
      "\n",
      "Finish no aug validation\n",
      "Loss: 0.1851, root_acc: 0.9109, vowel_acc: 0.9755, consonant_acc: 0.9748, combined_acc: 0.9430, root_recall: 0.8929, vowel_recall: 0.9631, consonant_recall: 0.9544, combined_recall: 0.9258\n",
      "\n",
      "\n",
      "Epoch 24/119\n",
      "----------\n"
     ]
    },
    {
     "data": {
      "application/vnd.jupyter.widget-view+json": {
       "model_id": "6d997eaeab6f4bb581e98921879a3c02",
       "version_major": 2,
       "version_minor": 0
      },
      "text/plain": [
       "HBox(children=(IntProgress(value=0, max=157), HTML(value='')))"
      ]
     },
     "metadata": {},
     "output_type": "display_data"
    },
    {
     "name": "stdout",
     "output_type": "stream",
     "text": [
      "\n",
      "Finish training\n",
      "Loss: 0.7141, root_acc: 0.9249, vowel_acc: 0.9401, consonant_acc: 0.9554, combined_acc: 0.9363, root_recall: 0.9146, vowel_recall: 0.9286, consonant_recall: 0.9188, combined_recall: 0.9191\n",
      "\n"
     ]
    },
    {
     "data": {
      "application/vnd.jupyter.widget-view+json": {
       "model_id": "17aede5a446440f08c251144f07b8005",
       "version_major": 2,
       "version_minor": 0
      },
      "text/plain": [
       "HBox(children=(IntProgress(value=0, max=20), HTML(value='')))"
      ]
     },
     "metadata": {},
     "output_type": "display_data"
    },
    {
     "name": "stdout",
     "output_type": "stream",
     "text": [
      "\n",
      "Finish validating\n",
      "Loss: 0.1862, root_acc: 0.9188, vowel_acc: 0.9705, consonant_acc: 0.9750, combined_acc: 0.9458, root_recall: 0.9073, vowel_recall: 0.9596, consonant_recall: 0.9565, combined_recall: 0.9327\n",
      "\n"
     ]
    },
    {
     "data": {
      "application/vnd.jupyter.widget-view+json": {
       "model_id": "d58e151b4c794652937bc27f0b59ddbf",
       "version_major": 2,
       "version_minor": 0
      },
      "text/plain": [
       "HBox(children=(IntProgress(value=0, max=20), HTML(value='')))"
      ]
     },
     "metadata": {},
     "output_type": "display_data"
    },
    {
     "name": "stdout",
     "output_type": "stream",
     "text": [
      "\n",
      "Finish no aug validation\n",
      "Loss: 0.1862, root_acc: 0.9188, vowel_acc: 0.9705, consonant_acc: 0.9750, combined_acc: 0.9458, root_recall: 0.9073, vowel_recall: 0.9596, consonant_recall: 0.9565, combined_recall: 0.9327\n",
      "\n",
      "\n",
      "Epoch 25/119\n",
      "----------\n"
     ]
    },
    {
     "data": {
      "application/vnd.jupyter.widget-view+json": {
       "model_id": "f122ba20712c4217ac849a13865e6418",
       "version_major": 2,
       "version_minor": 0
      },
      "text/plain": [
       "HBox(children=(IntProgress(value=0, max=157), HTML(value='')))"
      ]
     },
     "metadata": {},
     "output_type": "display_data"
    },
    {
     "name": "stdout",
     "output_type": "stream",
     "text": [
      "\n",
      "Finish training\n",
      "Loss: 0.6975, root_acc: 0.9261, vowel_acc: 0.9410, consonant_acc: 0.9584, combined_acc: 0.9379, root_recall: 0.9164, vowel_recall: 0.9299, consonant_recall: 0.9201, combined_recall: 0.9207\n",
      "\n"
     ]
    },
    {
     "data": {
      "application/vnd.jupyter.widget-view+json": {
       "model_id": "bf80ef592d01449b907d4dbadb676f92",
       "version_major": 2,
       "version_minor": 0
      },
      "text/plain": [
       "HBox(children=(IntProgress(value=0, max=20), HTML(value='')))"
      ]
     },
     "metadata": {},
     "output_type": "display_data"
    },
    {
     "name": "stdout",
     "output_type": "stream",
     "text": [
      "\n",
      "Finish validating\n",
      "Loss: 0.1906, root_acc: 0.9114, vowel_acc: 0.9779, consonant_acc: 0.9693, combined_acc: 0.9425, root_recall: 0.8938, vowel_recall: 0.9707, consonant_recall: 0.9574, combined_recall: 0.9289\n",
      "\n"
     ]
    },
    {
     "data": {
      "application/vnd.jupyter.widget-view+json": {
       "model_id": "6a09c969db7f4fdb8893e6f766a6dc72",
       "version_major": 2,
       "version_minor": 0
      },
      "text/plain": [
       "HBox(children=(IntProgress(value=0, max=20), HTML(value='')))"
      ]
     },
     "metadata": {},
     "output_type": "display_data"
    },
    {
     "name": "stdout",
     "output_type": "stream",
     "text": [
      "\n",
      "Finish no aug validation\n",
      "Loss: 0.1906, root_acc: 0.9114, vowel_acc: 0.9779, consonant_acc: 0.9693, combined_acc: 0.9425, root_recall: 0.8938, vowel_recall: 0.9707, consonant_recall: 0.9574, combined_recall: 0.9289\n",
      "\n",
      "\n",
      "Epoch 26/119\n",
      "----------\n"
     ]
    },
    {
     "data": {
      "application/vnd.jupyter.widget-view+json": {
       "model_id": "ff5201af4e3e4d458cfef78eb3f9be3d",
       "version_major": 2,
       "version_minor": 0
      },
      "text/plain": [
       "HBox(children=(IntProgress(value=0, max=157), HTML(value='')))"
      ]
     },
     "metadata": {},
     "output_type": "display_data"
    },
    {
     "name": "stdout",
     "output_type": "stream",
     "text": [
      "\n",
      "Finish training\n",
      "Loss: 0.7019, root_acc: 0.9252, vowel_acc: 0.9399, consonant_acc: 0.9556, combined_acc: 0.9365, root_recall: 0.9152, vowel_recall: 0.9251, consonant_recall: 0.9185, combined_recall: 0.9185\n",
      "\n"
     ]
    },
    {
     "data": {
      "application/vnd.jupyter.widget-view+json": {
       "model_id": "c8f6b9fa92444dcba64c5345e94ee24e",
       "version_major": 2,
       "version_minor": 0
      },
      "text/plain": [
       "HBox(children=(IntProgress(value=0, max=20), HTML(value='')))"
      ]
     },
     "metadata": {},
     "output_type": "display_data"
    },
    {
     "name": "stdout",
     "output_type": "stream",
     "text": [
      "\n",
      "Finish validating\n",
      "Loss: 0.2043, root_acc: 0.9085, vowel_acc: 0.9721, consonant_acc: 0.9711, combined_acc: 0.9401, root_recall: 0.8930, vowel_recall: 0.9680, consonant_recall: 0.9273, combined_recall: 0.9203\n",
      "\n"
     ]
    },
    {
     "data": {
      "application/vnd.jupyter.widget-view+json": {
       "model_id": "f9812a9413ef4e9492c385ac82a487aa",
       "version_major": 2,
       "version_minor": 0
      },
      "text/plain": [
       "HBox(children=(IntProgress(value=0, max=20), HTML(value='')))"
      ]
     },
     "metadata": {},
     "output_type": "display_data"
    },
    {
     "name": "stdout",
     "output_type": "stream",
     "text": [
      "\n",
      "Finish no aug validation\n",
      "Loss: 0.2043, root_acc: 0.9085, vowel_acc: 0.9721, consonant_acc: 0.9711, combined_acc: 0.9401, root_recall: 0.8930, vowel_recall: 0.9680, consonant_recall: 0.9273, combined_recall: 0.9203\n",
      "\n",
      "\n",
      "Epoch 27/119\n",
      "----------\n"
     ]
    },
    {
     "data": {
      "application/vnd.jupyter.widget-view+json": {
       "model_id": "aca504aa0b804e0381720c7aae5efde0",
       "version_major": 2,
       "version_minor": 0
      },
      "text/plain": [
       "HBox(children=(IntProgress(value=0, max=157), HTML(value='')))"
      ]
     },
     "metadata": {},
     "output_type": "display_data"
    },
    {
     "name": "stdout",
     "output_type": "stream",
     "text": [
      "\n",
      "Finish training\n",
      "Loss: 0.6804, root_acc: 0.9264, vowel_acc: 0.9411, consonant_acc: 0.9585, combined_acc: 0.9381, root_recall: 0.9201, vowel_recall: 0.9265, consonant_recall: 0.9202, combined_recall: 0.9217\n",
      "\n"
     ]
    },
    {
     "data": {
      "application/vnd.jupyter.widget-view+json": {
       "model_id": "8221a1676acb4e12ae4d6a9d4ea9addc",
       "version_major": 2,
       "version_minor": 0
      },
      "text/plain": [
       "HBox(children=(IntProgress(value=0, max=20), HTML(value='')))"
      ]
     },
     "metadata": {},
     "output_type": "display_data"
    },
    {
     "name": "stdout",
     "output_type": "stream",
     "text": [
      "\n",
      "Finish validating\n",
      "Loss: 0.1723, root_acc: 0.9200, vowel_acc: 0.9779, consonant_acc: 0.9752, combined_acc: 0.9483, root_recall: 0.9156, vowel_recall: 0.9655, consonant_recall: 0.9551, combined_recall: 0.9379\n",
      "\n"
     ]
    },
    {
     "data": {
      "application/vnd.jupyter.widget-view+json": {
       "model_id": "17d7d1e83a074ed99b927dd6b8f6ea9c",
       "version_major": 2,
       "version_minor": 0
      },
      "text/plain": [
       "HBox(children=(IntProgress(value=0, max=20), HTML(value='')))"
      ]
     },
     "metadata": {},
     "output_type": "display_data"
    },
    {
     "name": "stdout",
     "output_type": "stream",
     "text": [
      "\n",
      "Finish no aug validation\n",
      "Loss: 0.1723, root_acc: 0.9200, vowel_acc: 0.9779, consonant_acc: 0.9752, combined_acc: 0.9483, root_recall: 0.9156, vowel_recall: 0.9655, consonant_recall: 0.9551, combined_recall: 0.9379\n",
      "\n",
      "Highest val_combined_recall increases from 0.9336963444348338 to 0.9379390593293306.\n",
      "\n",
      "Epoch 28/119\n",
      "----------\n"
     ]
    },
    {
     "data": {
      "application/vnd.jupyter.widget-view+json": {
       "model_id": "3258a18221e34f2d846cc0f8c766ffb5",
       "version_major": 2,
       "version_minor": 0
      },
      "text/plain": [
       "HBox(children=(IntProgress(value=0, max=157), HTML(value='')))"
      ]
     },
     "metadata": {},
     "output_type": "display_data"
    },
    {
     "name": "stdout",
     "output_type": "stream",
     "text": [
      "\n",
      "Finish training\n",
      "Loss: 0.6788, root_acc: 0.9264, vowel_acc: 0.9406, consonant_acc: 0.9568, combined_acc: 0.9375, root_recall: 0.9174, vowel_recall: 0.9263, consonant_recall: 0.9210, combined_recall: 0.9205\n",
      "\n"
     ]
    },
    {
     "data": {
      "application/vnd.jupyter.widget-view+json": {
       "model_id": "5262014f7c7b4cf7ad66f44178f9bafe",
       "version_major": 2,
       "version_minor": 0
      },
      "text/plain": [
       "HBox(children=(IntProgress(value=0, max=20), HTML(value='')))"
      ]
     },
     "metadata": {},
     "output_type": "display_data"
    },
    {
     "name": "stdout",
     "output_type": "stream",
     "text": [
      "\n",
      "Finish validating\n",
      "Loss: 0.1826, root_acc: 0.9196, vowel_acc: 0.9769, consonant_acc: 0.9745, combined_acc: 0.9477, root_recall: 0.9069, vowel_recall: 0.9699, consonant_recall: 0.9576, combined_recall: 0.9353\n",
      "\n"
     ]
    },
    {
     "data": {
      "application/vnd.jupyter.widget-view+json": {
       "model_id": "502bfa50ef3a4143b5ba2cf059f19fbb",
       "version_major": 2,
       "version_minor": 0
      },
      "text/plain": [
       "HBox(children=(IntProgress(value=0, max=20), HTML(value='')))"
      ]
     },
     "metadata": {},
     "output_type": "display_data"
    },
    {
     "name": "stdout",
     "output_type": "stream",
     "text": [
      "\n",
      "Finish no aug validation\n",
      "Loss: 0.1826, root_acc: 0.9196, vowel_acc: 0.9769, consonant_acc: 0.9745, combined_acc: 0.9477, root_recall: 0.9069, vowel_recall: 0.9699, consonant_recall: 0.9576, combined_recall: 0.9353\n",
      "\n",
      "\n",
      "Epoch 29/119\n",
      "----------\n"
     ]
    },
    {
     "data": {
      "application/vnd.jupyter.widget-view+json": {
       "model_id": "c6598451577e4598919b90e2a4e23465",
       "version_major": 2,
       "version_minor": 0
      },
      "text/plain": [
       "HBox(children=(IntProgress(value=0, max=157), HTML(value='')))"
      ]
     },
     "metadata": {},
     "output_type": "display_data"
    },
    {
     "name": "stdout",
     "output_type": "stream",
     "text": [
      "\n",
      "Finish training\n",
      "Loss: 0.6681, root_acc: 0.9266, vowel_acc: 0.9415, consonant_acc: 0.9586, combined_acc: 0.9383, root_recall: 0.9177, vowel_recall: 0.9291, consonant_recall: 0.9195, combined_recall: 0.9210\n",
      "\n"
     ]
    },
    {
     "data": {
      "application/vnd.jupyter.widget-view+json": {
       "model_id": "e3ae6a255623449b96d4b19b28f8e2c6",
       "version_major": 2,
       "version_minor": 0
      },
      "text/plain": [
       "HBox(children=(IntProgress(value=0, max=20), HTML(value='')))"
      ]
     },
     "metadata": {},
     "output_type": "display_data"
    },
    {
     "name": "stdout",
     "output_type": "stream",
     "text": [
      "\n",
      "Finish validating\n",
      "Loss: 0.1990, root_acc: 0.9191, vowel_acc: 0.9791, consonant_acc: 0.9721, combined_acc: 0.9474, root_recall: 0.9068, vowel_recall: 0.9693, consonant_recall: 0.9202, combined_recall: 0.9258\n",
      "\n"
     ]
    },
    {
     "data": {
      "application/vnd.jupyter.widget-view+json": {
       "model_id": "5d417a44482c4674970f7dddd0ae1ba4",
       "version_major": 2,
       "version_minor": 0
      },
      "text/plain": [
       "HBox(children=(IntProgress(value=0, max=20), HTML(value='')))"
      ]
     },
     "metadata": {},
     "output_type": "display_data"
    },
    {
     "name": "stdout",
     "output_type": "stream",
     "text": [
      "\n",
      "Finish no aug validation\n",
      "Loss: 0.1990, root_acc: 0.9191, vowel_acc: 0.9791, consonant_acc: 0.9721, combined_acc: 0.9474, root_recall: 0.9068, vowel_recall: 0.9693, consonant_recall: 0.9202, combined_recall: 0.9258\n",
      "\n",
      "\n",
      "Epoch 30/119\n",
      "----------\n"
     ]
    },
    {
     "data": {
      "application/vnd.jupyter.widget-view+json": {
       "model_id": "8f5a60fdd5f5459db41f40c9e1fda6f9",
       "version_major": 2,
       "version_minor": 0
      },
      "text/plain": [
       "HBox(children=(IntProgress(value=0, max=157), HTML(value='')))"
      ]
     },
     "metadata": {},
     "output_type": "display_data"
    },
    {
     "name": "stdout",
     "output_type": "stream",
     "text": [
      "\n",
      "Finish training\n",
      "Loss: 0.6602, root_acc: 0.9267, vowel_acc: 0.9425, consonant_acc: 0.9576, combined_acc: 0.9384, root_recall: 0.9173, vowel_recall: 0.9290, consonant_recall: 0.9155, combined_recall: 0.9198\n",
      "\n"
     ]
    },
    {
     "data": {
      "application/vnd.jupyter.widget-view+json": {
       "model_id": "55b57577f0c841c2abc08560eff47f0e",
       "version_major": 2,
       "version_minor": 0
      },
      "text/plain": [
       "HBox(children=(IntProgress(value=0, max=20), HTML(value='')))"
      ]
     },
     "metadata": {},
     "output_type": "display_data"
    },
    {
     "name": "stdout",
     "output_type": "stream",
     "text": [
      "\n",
      "Finish validating\n",
      "Loss: 0.1907, root_acc: 0.9140, vowel_acc: 0.9764, consonant_acc: 0.9760, combined_acc: 0.9451, root_recall: 0.9036, vowel_recall: 0.9675, consonant_recall: 0.9560, combined_recall: 0.9327\n",
      "\n"
     ]
    },
    {
     "data": {
      "application/vnd.jupyter.widget-view+json": {
       "model_id": "e8170a86b45d45918427b73cdb8b656e",
       "version_major": 2,
       "version_minor": 0
      },
      "text/plain": [
       "HBox(children=(IntProgress(value=0, max=20), HTML(value='')))"
      ]
     },
     "metadata": {},
     "output_type": "display_data"
    },
    {
     "name": "stdout",
     "output_type": "stream",
     "text": [
      "\n",
      "Finish no aug validation\n",
      "Loss: 0.1907, root_acc: 0.9140, vowel_acc: 0.9764, consonant_acc: 0.9760, combined_acc: 0.9451, root_recall: 0.9036, vowel_recall: 0.9675, consonant_recall: 0.9560, combined_recall: 0.9327\n",
      "\n",
      "\n",
      "Epoch 31/119\n",
      "----------\n"
     ]
    },
    {
     "data": {
      "application/vnd.jupyter.widget-view+json": {
       "model_id": "34bc205f540c46449f1d6c19ef538a70",
       "version_major": 2,
       "version_minor": 0
      },
      "text/plain": [
       "HBox(children=(IntProgress(value=0, max=157), HTML(value='')))"
      ]
     },
     "metadata": {},
     "output_type": "display_data"
    },
    {
     "name": "stdout",
     "output_type": "stream",
     "text": [
      "\n",
      "Finish training\n",
      "Loss: 0.6557, root_acc: 0.9269, vowel_acc: 0.9426, consonant_acc: 0.9592, combined_acc: 0.9389, root_recall: 0.9205, vowel_recall: 0.9309, consonant_recall: 0.9138, combined_recall: 0.9214\n",
      "\n"
     ]
    },
    {
     "data": {
      "application/vnd.jupyter.widget-view+json": {
       "model_id": "fc4592178e724024935203b5bc140157",
       "version_major": 2,
       "version_minor": 0
      },
      "text/plain": [
       "HBox(children=(IntProgress(value=0, max=20), HTML(value='')))"
      ]
     },
     "metadata": {},
     "output_type": "display_data"
    },
    {
     "name": "stdout",
     "output_type": "stream",
     "text": [
      "\n",
      "Finish validating\n",
      "Loss: 0.2021, root_acc: 0.9023, vowel_acc: 0.9769, consonant_acc: 0.9750, combined_acc: 0.9391, root_recall: 0.8828, vowel_recall: 0.9666, consonant_recall: 0.9600, combined_recall: 0.9231\n",
      "\n"
     ]
    },
    {
     "data": {
      "application/vnd.jupyter.widget-view+json": {
       "model_id": "4b6b73e891dc4a47aae5f8c8036ab725",
       "version_major": 2,
       "version_minor": 0
      },
      "text/plain": [
       "HBox(children=(IntProgress(value=0, max=20), HTML(value='')))"
      ]
     },
     "metadata": {},
     "output_type": "display_data"
    },
    {
     "name": "stdout",
     "output_type": "stream",
     "text": [
      "\n",
      "Finish no aug validation\n",
      "Loss: 0.2021, root_acc: 0.9023, vowel_acc: 0.9769, consonant_acc: 0.9750, combined_acc: 0.9391, root_recall: 0.8828, vowel_recall: 0.9666, consonant_recall: 0.9600, combined_recall: 0.9231\n",
      "\n",
      "\n",
      "Epoch 32/119\n",
      "----------\n"
     ]
    },
    {
     "data": {
      "application/vnd.jupyter.widget-view+json": {
       "model_id": "64c3bd046dec4d68b84c7a06973eeb1c",
       "version_major": 2,
       "version_minor": 0
      },
      "text/plain": [
       "HBox(children=(IntProgress(value=0, max=157), HTML(value='')))"
      ]
     },
     "metadata": {},
     "output_type": "display_data"
    },
    {
     "name": "stdout",
     "output_type": "stream",
     "text": [
      "\n",
      "Finish training\n",
      "Loss: 0.6468, root_acc: 0.9256, vowel_acc: 0.9423, consonant_acc: 0.9579, combined_acc: 0.9378, root_recall: 0.9119, vowel_recall: 0.9294, consonant_recall: 0.9300, combined_recall: 0.9208\n",
      "\n"
     ]
    },
    {
     "data": {
      "application/vnd.jupyter.widget-view+json": {
       "model_id": "7dac0e8f9b754e1abc4f83013165aa67",
       "version_major": 2,
       "version_minor": 0
      },
      "text/plain": [
       "HBox(children=(IntProgress(value=0, max=20), HTML(value='')))"
      ]
     },
     "metadata": {},
     "output_type": "display_data"
    },
    {
     "name": "stdout",
     "output_type": "stream",
     "text": [
      "\n",
      "Finish validating\n",
      "Loss: 0.1841, root_acc: 0.9164, vowel_acc: 0.9766, consonant_acc: 0.9730, combined_acc: 0.9456, root_recall: 0.9033, vowel_recall: 0.9704, consonant_recall: 0.9283, combined_recall: 0.9263\n",
      "\n"
     ]
    },
    {
     "data": {
      "application/vnd.jupyter.widget-view+json": {
       "model_id": "cc3f5ef6417a49bf8b0f0cc09041f2f8",
       "version_major": 2,
       "version_minor": 0
      },
      "text/plain": [
       "HBox(children=(IntProgress(value=0, max=20), HTML(value='')))"
      ]
     },
     "metadata": {},
     "output_type": "display_data"
    },
    {
     "name": "stdout",
     "output_type": "stream",
     "text": [
      "\n",
      "Finish no aug validation\n",
      "Loss: 0.1841, root_acc: 0.9164, vowel_acc: 0.9766, consonant_acc: 0.9730, combined_acc: 0.9456, root_recall: 0.9033, vowel_recall: 0.9704, consonant_recall: 0.9283, combined_recall: 0.9263\n",
      "\n",
      "\n",
      "Epoch 33/119\n",
      "----------\n"
     ]
    },
    {
     "data": {
      "application/vnd.jupyter.widget-view+json": {
       "model_id": "0b4681f00ae94d8d9121cd94cf28a743",
       "version_major": 2,
       "version_minor": 0
      },
      "text/plain": [
       "HBox(children=(IntProgress(value=0, max=157), HTML(value='')))"
      ]
     },
     "metadata": {},
     "output_type": "display_data"
    },
    {
     "name": "stdout",
     "output_type": "stream",
     "text": [
      "\n",
      "Finish training\n",
      "Loss: 0.6381, root_acc: 0.9265, vowel_acc: 0.9436, consonant_acc: 0.9595, combined_acc: 0.9390, root_recall: 0.9177, vowel_recall: 0.9291, consonant_recall: 0.9192, combined_recall: 0.9209\n",
      "\n"
     ]
    },
    {
     "data": {
      "application/vnd.jupyter.widget-view+json": {
       "model_id": "5f3b5f9ff5ce4b1da1c64b002bdcc3b6",
       "version_major": 2,
       "version_minor": 0
      },
      "text/plain": [
       "HBox(children=(IntProgress(value=0, max=20), HTML(value='')))"
      ]
     },
     "metadata": {},
     "output_type": "display_data"
    },
    {
     "name": "stdout",
     "output_type": "stream",
     "text": [
      "\n",
      "Finish validating\n",
      "Loss: 0.1945, root_acc: 0.9195, vowel_acc: 0.9762, consonant_acc: 0.9760, combined_acc: 0.9478, root_recall: 0.9002, vowel_recall: 0.9648, consonant_recall: 0.9516, combined_recall: 0.9292\n",
      "\n"
     ]
    },
    {
     "data": {
      "application/vnd.jupyter.widget-view+json": {
       "model_id": "38e7602a24794ae1b84e48c4f7fe2a67",
       "version_major": 2,
       "version_minor": 0
      },
      "text/plain": [
       "HBox(children=(IntProgress(value=0, max=20), HTML(value='')))"
      ]
     },
     "metadata": {},
     "output_type": "display_data"
    },
    {
     "name": "stdout",
     "output_type": "stream",
     "text": [
      "\n",
      "Finish no aug validation\n",
      "Loss: 0.1945, root_acc: 0.9195, vowel_acc: 0.9762, consonant_acc: 0.9760, combined_acc: 0.9478, root_recall: 0.9002, vowel_recall: 0.9648, consonant_recall: 0.9516, combined_recall: 0.9292\n",
      "\n",
      "\n",
      "Epoch 34/119\n",
      "----------\n"
     ]
    },
    {
     "data": {
      "application/vnd.jupyter.widget-view+json": {
       "model_id": "f6347d17625c4bfa892dd19e911fc9a0",
       "version_major": 2,
       "version_minor": 0
      },
      "text/plain": [
       "HBox(children=(IntProgress(value=0, max=157), HTML(value='')))"
      ]
     },
     "metadata": {},
     "output_type": "display_data"
    },
    {
     "name": "stdout",
     "output_type": "stream",
     "text": [
      "\n",
      "Finish training\n",
      "Loss: 0.6285, root_acc: 0.9271, vowel_acc: 0.9421, consonant_acc: 0.9598, combined_acc: 0.9390, root_recall: 0.9210, vowel_recall: 0.9292, consonant_recall: 0.9216, combined_recall: 0.9232\n",
      "\n"
     ]
    },
    {
     "data": {
      "application/vnd.jupyter.widget-view+json": {
       "model_id": "ec303b5f56434a32b9340db659903950",
       "version_major": 2,
       "version_minor": 0
      },
      "text/plain": [
       "HBox(children=(IntProgress(value=0, max=20), HTML(value='')))"
      ]
     },
     "metadata": {},
     "output_type": "display_data"
    },
    {
     "name": "stdout",
     "output_type": "stream",
     "text": [
      "\n",
      "Finish validating\n",
      "Loss: 0.1693, root_acc: 0.9256, vowel_acc: 0.9797, consonant_acc: 0.9781, combined_acc: 0.9523, root_recall: 0.9219, vowel_recall: 0.9706, consonant_recall: 0.9563, combined_recall: 0.9427\n",
      "\n"
     ]
    },
    {
     "data": {
      "application/vnd.jupyter.widget-view+json": {
       "model_id": "123e7cc0104048a59f2ec4776b52257f",
       "version_major": 2,
       "version_minor": 0
      },
      "text/plain": [
       "HBox(children=(IntProgress(value=0, max=20), HTML(value='')))"
      ]
     },
     "metadata": {},
     "output_type": "display_data"
    },
    {
     "name": "stdout",
     "output_type": "stream",
     "text": [
      "\n",
      "Finish no aug validation\n",
      "Loss: 0.1693, root_acc: 0.9256, vowel_acc: 0.9797, consonant_acc: 0.9781, combined_acc: 0.9523, root_recall: 0.9219, vowel_recall: 0.9706, consonant_recall: 0.9563, combined_recall: 0.9427\n",
      "\n",
      "Highest val_combined_recall increases from 0.9379390593293306 to 0.942650166973052.\n",
      "\n",
      "Epoch 35/119\n",
      "----------\n"
     ]
    },
    {
     "data": {
      "application/vnd.jupyter.widget-view+json": {
       "model_id": "0d3d8f3f8abc40ea80927e8c10961186",
       "version_major": 2,
       "version_minor": 0
      },
      "text/plain": [
       "HBox(children=(IntProgress(value=0, max=157), HTML(value='')))"
      ]
     },
     "metadata": {},
     "output_type": "display_data"
    },
    {
     "name": "stdout",
     "output_type": "stream",
     "text": [
      "\n",
      "Finish training\n",
      "Loss: 0.6225, root_acc: 0.9260, vowel_acc: 0.9419, consonant_acc: 0.9613, combined_acc: 0.9388, root_recall: 0.9163, vowel_recall: 0.9305, consonant_recall: 0.9148, combined_recall: 0.9195\n",
      "\n"
     ]
    },
    {
     "data": {
      "application/vnd.jupyter.widget-view+json": {
       "model_id": "57ecd9943d6f44b88a1bea6dde622936",
       "version_major": 2,
       "version_minor": 0
      },
      "text/plain": [
       "HBox(children=(IntProgress(value=0, max=20), HTML(value='')))"
      ]
     },
     "metadata": {},
     "output_type": "display_data"
    },
    {
     "name": "stdout",
     "output_type": "stream",
     "text": [
      "\n",
      "Finish validating\n",
      "Loss: 0.1644, root_acc: 0.9273, vowel_acc: 0.9809, consonant_acc: 0.9798, combined_acc: 0.9538, root_recall: 0.9195, vowel_recall: 0.9714, consonant_recall: 0.9566, combined_recall: 0.9418\n",
      "\n"
     ]
    },
    {
     "data": {
      "application/vnd.jupyter.widget-view+json": {
       "model_id": "a1bfe7031480498fa9d05a2de56afc4a",
       "version_major": 2,
       "version_minor": 0
      },
      "text/plain": [
       "HBox(children=(IntProgress(value=0, max=20), HTML(value='')))"
      ]
     },
     "metadata": {},
     "output_type": "display_data"
    },
    {
     "name": "stdout",
     "output_type": "stream",
     "text": [
      "\n",
      "Finish no aug validation\n",
      "Loss: 0.1644, root_acc: 0.9273, vowel_acc: 0.9809, consonant_acc: 0.9798, combined_acc: 0.9538, root_recall: 0.9195, vowel_recall: 0.9714, consonant_recall: 0.9566, combined_recall: 0.9418\n",
      "\n",
      "Lowest val_loss decreases from 0.16900060515352938 to 0.1644040583774783.\n",
      "\n",
      "Epoch 36/119\n",
      "----------\n"
     ]
    },
    {
     "data": {
      "application/vnd.jupyter.widget-view+json": {
       "model_id": "174d65cba6274b48b46c96201f68e596",
       "version_major": 2,
       "version_minor": 0
      },
      "text/plain": [
       "HBox(children=(IntProgress(value=0, max=157), HTML(value='')))"
      ]
     },
     "metadata": {},
     "output_type": "display_data"
    },
    {
     "name": "stdout",
     "output_type": "stream",
     "text": [
      "\n",
      "Finish training\n",
      "Loss: 0.6170, root_acc: 0.9256, vowel_acc: 0.9454, consonant_acc: 0.9599, combined_acc: 0.9391, root_recall: 0.9146, vowel_recall: 0.9325, consonant_recall: 0.9186, combined_recall: 0.9201\n",
      "\n"
     ]
    },
    {
     "data": {
      "application/vnd.jupyter.widget-view+json": {
       "model_id": "a00247759a244db38ac920c495162758",
       "version_major": 2,
       "version_minor": 0
      },
      "text/plain": [
       "HBox(children=(IntProgress(value=0, max=20), HTML(value='')))"
      ]
     },
     "metadata": {},
     "output_type": "display_data"
    },
    {
     "name": "stdout",
     "output_type": "stream",
     "text": [
      "\n",
      "Finish validating\n",
      "Loss: 0.1753, root_acc: 0.9227, vowel_acc: 0.9783, consonant_acc: 0.9747, combined_acc: 0.9496, root_recall: 0.9069, vowel_recall: 0.9727, consonant_recall: 0.9586, combined_recall: 0.9363\n",
      "\n"
     ]
    },
    {
     "data": {
      "application/vnd.jupyter.widget-view+json": {
       "model_id": "490a3656c1b64746bf972217f5de2345",
       "version_major": 2,
       "version_minor": 0
      },
      "text/plain": [
       "HBox(children=(IntProgress(value=0, max=20), HTML(value='')))"
      ]
     },
     "metadata": {},
     "output_type": "display_data"
    },
    {
     "name": "stdout",
     "output_type": "stream",
     "text": [
      "\n",
      "Finish no aug validation\n",
      "Loss: 0.1753, root_acc: 0.9227, vowel_acc: 0.9783, consonant_acc: 0.9747, combined_acc: 0.9496, root_recall: 0.9069, vowel_recall: 0.9727, consonant_recall: 0.9586, combined_recall: 0.9363\n",
      "\n",
      "\n",
      "Epoch 37/119\n",
      "----------\n"
     ]
    },
    {
     "data": {
      "application/vnd.jupyter.widget-view+json": {
       "model_id": "a35e2979e50b41c2af8253183c7ab0d2",
       "version_major": 2,
       "version_minor": 0
      },
      "text/plain": [
       "HBox(children=(IntProgress(value=0, max=157), HTML(value='')))"
      ]
     },
     "metadata": {},
     "output_type": "display_data"
    },
    {
     "name": "stdout",
     "output_type": "stream",
     "text": [
      "\n",
      "Finish training\n",
      "Loss: 0.6110, root_acc: 0.9259, vowel_acc: 0.9429, consonant_acc: 0.9610, combined_acc: 0.9390, root_recall: 0.9186, vowel_recall: 0.9307, consonant_recall: 0.9252, combined_recall: 0.9233\n",
      "\n"
     ]
    },
    {
     "data": {
      "application/vnd.jupyter.widget-view+json": {
       "model_id": "79bd9d2f3268471ba035c374870e124c",
       "version_major": 2,
       "version_minor": 0
      },
      "text/plain": [
       "HBox(children=(IntProgress(value=0, max=20), HTML(value='')))"
      ]
     },
     "metadata": {},
     "output_type": "display_data"
    },
    {
     "name": "stdout",
     "output_type": "stream",
     "text": [
      "\n",
      "Finish validating\n",
      "Loss: 0.1746, root_acc: 0.9248, vowel_acc: 0.9761, consonant_acc: 0.9757, combined_acc: 0.9504, root_recall: 0.9134, vowel_recall: 0.9697, consonant_recall: 0.9618, combined_recall: 0.9396\n",
      "\n"
     ]
    },
    {
     "data": {
      "application/vnd.jupyter.widget-view+json": {
       "model_id": "08529eb5cb1d45e3869752248c584d5b",
       "version_major": 2,
       "version_minor": 0
      },
      "text/plain": [
       "HBox(children=(IntProgress(value=0, max=20), HTML(value='')))"
      ]
     },
     "metadata": {},
     "output_type": "display_data"
    },
    {
     "name": "stdout",
     "output_type": "stream",
     "text": [
      "\n",
      "Finish no aug validation\n",
      "Loss: 0.1746, root_acc: 0.9248, vowel_acc: 0.9761, consonant_acc: 0.9757, combined_acc: 0.9504, root_recall: 0.9134, vowel_recall: 0.9697, consonant_recall: 0.9618, combined_recall: 0.9396\n",
      "\n",
      "\n",
      "Epoch 38/119\n",
      "----------\n"
     ]
    },
    {
     "data": {
      "application/vnd.jupyter.widget-view+json": {
       "model_id": "72f80b9056744198841ad93e34dc8902",
       "version_major": 2,
       "version_minor": 0
      },
      "text/plain": [
       "HBox(children=(IntProgress(value=0, max=157), HTML(value='')))"
      ]
     },
     "metadata": {},
     "output_type": "display_data"
    },
    {
     "name": "stdout",
     "output_type": "stream",
     "text": [
      "\n",
      "Finish training\n",
      "Loss: 0.6025, root_acc: 0.9234, vowel_acc: 0.9428, consonant_acc: 0.9604, combined_acc: 0.9375, root_recall: 0.9171, vowel_recall: 0.9312, consonant_recall: 0.9212, combined_recall: 0.9216\n",
      "\n"
     ]
    },
    {
     "data": {
      "application/vnd.jupyter.widget-view+json": {
       "model_id": "a3e36f36417a4250815a6ce3361458de",
       "version_major": 2,
       "version_minor": 0
      },
      "text/plain": [
       "HBox(children=(IntProgress(value=0, max=20), HTML(value='')))"
      ]
     },
     "metadata": {},
     "output_type": "display_data"
    },
    {
     "name": "stdout",
     "output_type": "stream",
     "text": [
      "\n",
      "Finish validating\n",
      "Loss: 0.1679, root_acc: 0.9223, vowel_acc: 0.9804, consonant_acc: 0.9770, combined_acc: 0.9505, root_recall: 0.9137, vowel_recall: 0.9704, consonant_recall: 0.9532, combined_recall: 0.9378\n",
      "\n"
     ]
    },
    {
     "data": {
      "application/vnd.jupyter.widget-view+json": {
       "model_id": "c9ab4a58d92444ddac52312e0a93f633",
       "version_major": 2,
       "version_minor": 0
      },
      "text/plain": [
       "HBox(children=(IntProgress(value=0, max=20), HTML(value='')))"
      ]
     },
     "metadata": {},
     "output_type": "display_data"
    },
    {
     "name": "stdout",
     "output_type": "stream",
     "text": [
      "\n",
      "Finish no aug validation\n",
      "Loss: 0.1679, root_acc: 0.9223, vowel_acc: 0.9804, consonant_acc: 0.9770, combined_acc: 0.9505, root_recall: 0.9137, vowel_recall: 0.9704, consonant_recall: 0.9532, combined_recall: 0.9378\n",
      "\n",
      "\n",
      "Epoch 39/119\n",
      "----------\n"
     ]
    },
    {
     "data": {
      "application/vnd.jupyter.widget-view+json": {
       "model_id": "5c0ee5e9838646a79b55a9cc25aa8afa",
       "version_major": 2,
       "version_minor": 0
      },
      "text/plain": [
       "HBox(children=(IntProgress(value=0, max=157), HTML(value='')))"
      ]
     },
     "metadata": {},
     "output_type": "display_data"
    },
    {
     "name": "stdout",
     "output_type": "stream",
     "text": [
      "\n",
      "Finish training\n",
      "Loss: 0.5942, root_acc: 0.9283, vowel_acc: 0.9453, consonant_acc: 0.9590, combined_acc: 0.9402, root_recall: 0.9225, vowel_recall: 0.9314, consonant_recall: 0.9137, combined_recall: 0.9226\n",
      "\n"
     ]
    },
    {
     "data": {
      "application/vnd.jupyter.widget-view+json": {
       "model_id": "e87e425f835548b2a88672cd94a3cfad",
       "version_major": 2,
       "version_minor": 0
      },
      "text/plain": [
       "HBox(children=(IntProgress(value=0, max=20), HTML(value='')))"
      ]
     },
     "metadata": {},
     "output_type": "display_data"
    },
    {
     "name": "stdout",
     "output_type": "stream",
     "text": [
      "\n",
      "Finish validating\n",
      "Loss: 0.1621, root_acc: 0.9295, vowel_acc: 0.9802, consonant_acc: 0.9792, combined_acc: 0.9546, root_recall: 0.9189, vowel_recall: 0.9700, consonant_recall: 0.9681, combined_recall: 0.9440\n",
      "\n"
     ]
    },
    {
     "data": {
      "application/vnd.jupyter.widget-view+json": {
       "model_id": "a363dfa8adea4e76badced94226c2f49",
       "version_major": 2,
       "version_minor": 0
      },
      "text/plain": [
       "HBox(children=(IntProgress(value=0, max=20), HTML(value='')))"
      ]
     },
     "metadata": {},
     "output_type": "display_data"
    },
    {
     "name": "stdout",
     "output_type": "stream",
     "text": [
      "\n",
      "Finish no aug validation\n",
      "Loss: 0.1621, root_acc: 0.9295, vowel_acc: 0.9802, consonant_acc: 0.9792, combined_acc: 0.9546, root_recall: 0.9189, vowel_recall: 0.9700, consonant_recall: 0.9681, combined_recall: 0.9440\n",
      "\n",
      "Lowest val_loss decreases from 0.1644040583774783 to 0.16207645942409352.\n",
      "Highest val_combined_recall increases from 0.942650166973052 to 0.9439916933337471.\n",
      "\n",
      "Epoch 40/119\n",
      "----------\n"
     ]
    },
    {
     "data": {
      "application/vnd.jupyter.widget-view+json": {
       "model_id": "b05524f3ff234772b38bef42f726f721",
       "version_major": 2,
       "version_minor": 0
      },
      "text/plain": [
       "HBox(children=(IntProgress(value=0, max=157), HTML(value='')))"
      ]
     },
     "metadata": {},
     "output_type": "display_data"
    },
    {
     "name": "stdout",
     "output_type": "stream",
     "text": [
      "\n",
      "Finish training\n",
      "Loss: 0.5932, root_acc: 0.9239, vowel_acc: 0.9445, consonant_acc: 0.9603, combined_acc: 0.9381, root_recall: 0.9158, vowel_recall: 0.9314, consonant_recall: 0.9264, combined_recall: 0.9224\n",
      "\n"
     ]
    },
    {
     "data": {
      "application/vnd.jupyter.widget-view+json": {
       "model_id": "449300d3736344afb8438a23bf18da86",
       "version_major": 2,
       "version_minor": 0
      },
      "text/plain": [
       "HBox(children=(IntProgress(value=0, max=20), HTML(value='')))"
      ]
     },
     "metadata": {},
     "output_type": "display_data"
    },
    {
     "name": "stdout",
     "output_type": "stream",
     "text": [
      "\n",
      "Finish validating\n",
      "Loss: 0.1862, root_acc: 0.9256, vowel_acc: 0.9768, consonant_acc: 0.9723, combined_acc: 0.9501, root_recall: 0.9106, vowel_recall: 0.9650, consonant_recall: 0.9672, combined_recall: 0.9384\n",
      "\n"
     ]
    },
    {
     "data": {
      "application/vnd.jupyter.widget-view+json": {
       "model_id": "8e666c665f854f25bcd571aba772a49d",
       "version_major": 2,
       "version_minor": 0
      },
      "text/plain": [
       "HBox(children=(IntProgress(value=0, max=20), HTML(value='')))"
      ]
     },
     "metadata": {},
     "output_type": "display_data"
    },
    {
     "name": "stdout",
     "output_type": "stream",
     "text": [
      "\n",
      "Finish no aug validation\n",
      "Loss: 0.1862, root_acc: 0.9256, vowel_acc: 0.9768, consonant_acc: 0.9723, combined_acc: 0.9501, root_recall: 0.9106, vowel_recall: 0.9650, consonant_recall: 0.9672, combined_recall: 0.9384\n",
      "\n",
      "\n",
      "Epoch 41/119\n",
      "----------\n"
     ]
    },
    {
     "data": {
      "application/vnd.jupyter.widget-view+json": {
       "model_id": "e0de7f5ed61c4593a6a7a9dac2276e72",
       "version_major": 2,
       "version_minor": 0
      },
      "text/plain": [
       "HBox(children=(IntProgress(value=0, max=157), HTML(value='')))"
      ]
     },
     "metadata": {},
     "output_type": "display_data"
    },
    {
     "name": "stdout",
     "output_type": "stream",
     "text": [
      "\n",
      "Finish training\n",
      "Loss: 0.5857, root_acc: 0.9254, vowel_acc: 0.9457, consonant_acc: 0.9626, combined_acc: 0.9398, root_recall: 0.9166, vowel_recall: 0.9313, consonant_recall: 0.9265, combined_recall: 0.9228\n",
      "\n"
     ]
    },
    {
     "data": {
      "application/vnd.jupyter.widget-view+json": {
       "model_id": "c777417f11484263ae44f19901adb5eb",
       "version_major": 2,
       "version_minor": 0
      },
      "text/plain": [
       "HBox(children=(IntProgress(value=0, max=20), HTML(value='')))"
      ]
     },
     "metadata": {},
     "output_type": "display_data"
    },
    {
     "name": "stdout",
     "output_type": "stream",
     "text": [
      "\n",
      "Finish validating\n",
      "Loss: 0.1888, root_acc: 0.9218, vowel_acc: 0.9707, consonant_acc: 0.9747, combined_acc: 0.9473, root_recall: 0.9080, vowel_recall: 0.9636, consonant_recall: 0.9475, combined_recall: 0.9318\n",
      "\n"
     ]
    },
    {
     "data": {
      "application/vnd.jupyter.widget-view+json": {
       "model_id": "2f9e84b6fc2b4238af916194073c9759",
       "version_major": 2,
       "version_minor": 0
      },
      "text/plain": [
       "HBox(children=(IntProgress(value=0, max=20), HTML(value='')))"
      ]
     },
     "metadata": {},
     "output_type": "display_data"
    },
    {
     "name": "stdout",
     "output_type": "stream",
     "text": [
      "\n",
      "Finish no aug validation\n",
      "Loss: 0.1888, root_acc: 0.9218, vowel_acc: 0.9707, consonant_acc: 0.9747, combined_acc: 0.9473, root_recall: 0.9080, vowel_recall: 0.9636, consonant_recall: 0.9475, combined_recall: 0.9318\n",
      "\n",
      "\n",
      "Epoch 42/119\n",
      "----------\n"
     ]
    },
    {
     "data": {
      "application/vnd.jupyter.widget-view+json": {
       "model_id": "cadd439bab7541f1a967c742c78f5ef8",
       "version_major": 2,
       "version_minor": 0
      },
      "text/plain": [
       "HBox(children=(IntProgress(value=0, max=157), HTML(value='')))"
      ]
     },
     "metadata": {},
     "output_type": "display_data"
    },
    {
     "name": "stdout",
     "output_type": "stream",
     "text": [
      "\n",
      "Finish training\n",
      "Loss: 0.5771, root_acc: 0.9238, vowel_acc: 0.9451, consonant_acc: 0.9606, combined_acc: 0.9383, root_recall: 0.9139, vowel_recall: 0.9332, consonant_recall: 0.9243, combined_recall: 0.9213\n",
      "\n"
     ]
    },
    {
     "data": {
      "application/vnd.jupyter.widget-view+json": {
       "model_id": "66d38dc4b9c94b7d921857dfa4a0734a",
       "version_major": 2,
       "version_minor": 0
      },
      "text/plain": [
       "HBox(children=(IntProgress(value=0, max=20), HTML(value='')))"
      ]
     },
     "metadata": {},
     "output_type": "display_data"
    },
    {
     "name": "stdout",
     "output_type": "stream",
     "text": [
      "\n",
      "Finish validating\n",
      "Loss: 0.1962, root_acc: 0.9178, vowel_acc: 0.9788, consonant_acc: 0.9758, combined_acc: 0.9476, root_recall: 0.9024, vowel_recall: 0.9688, consonant_recall: 0.9504, combined_recall: 0.9310\n",
      "\n"
     ]
    },
    {
     "data": {
      "application/vnd.jupyter.widget-view+json": {
       "model_id": "e5dd89a0dfb548cd955a1f87854e3221",
       "version_major": 2,
       "version_minor": 0
      },
      "text/plain": [
       "HBox(children=(IntProgress(value=0, max=20), HTML(value='')))"
      ]
     },
     "metadata": {},
     "output_type": "display_data"
    },
    {
     "name": "stdout",
     "output_type": "stream",
     "text": [
      "\n",
      "Finish no aug validation\n",
      "Loss: 0.1962, root_acc: 0.9178, vowel_acc: 0.9788, consonant_acc: 0.9758, combined_acc: 0.9476, root_recall: 0.9024, vowel_recall: 0.9688, consonant_recall: 0.9504, combined_recall: 0.9310\n",
      "\n",
      "\n",
      "Epoch 43/119\n",
      "----------\n"
     ]
    },
    {
     "data": {
      "application/vnd.jupyter.widget-view+json": {
       "model_id": "65094b50c48c41aba4a85e0b62cb4310",
       "version_major": 2,
       "version_minor": 0
      },
      "text/plain": [
       "HBox(children=(IntProgress(value=0, max=157), HTML(value='')))"
      ]
     },
     "metadata": {},
     "output_type": "display_data"
    },
    {
     "name": "stdout",
     "output_type": "stream",
     "text": [
      "\n",
      "Finish training\n",
      "Loss: 0.5704, root_acc: 0.9245, vowel_acc: 0.9465, consonant_acc: 0.9625, combined_acc: 0.9395, root_recall: 0.9185, vowel_recall: 0.9346, consonant_recall: 0.9339, combined_recall: 0.9264\n",
      "\n"
     ]
    },
    {
     "data": {
      "application/vnd.jupyter.widget-view+json": {
       "model_id": "6b1b7b733d5e493b86c2f27178047d72",
       "version_major": 2,
       "version_minor": 0
      },
      "text/plain": [
       "HBox(children=(IntProgress(value=0, max=20), HTML(value='')))"
      ]
     },
     "metadata": {},
     "output_type": "display_data"
    },
    {
     "name": "stdout",
     "output_type": "stream",
     "text": [
      "\n",
      "Finish validating\n",
      "Loss: 0.1946, root_acc: 0.9225, vowel_acc: 0.9818, consonant_acc: 0.9726, combined_acc: 0.9499, root_recall: 0.9079, vowel_recall: 0.9665, consonant_recall: 0.9463, combined_recall: 0.9322\n",
      "\n"
     ]
    },
    {
     "data": {
      "application/vnd.jupyter.widget-view+json": {
       "model_id": "49696bb2e6a449e8bae6caa23ece35c1",
       "version_major": 2,
       "version_minor": 0
      },
      "text/plain": [
       "HBox(children=(IntProgress(value=0, max=20), HTML(value='')))"
      ]
     },
     "metadata": {},
     "output_type": "display_data"
    },
    {
     "name": "stdout",
     "output_type": "stream",
     "text": [
      "\n",
      "Finish no aug validation\n",
      "Loss: 0.1946, root_acc: 0.9225, vowel_acc: 0.9818, consonant_acc: 0.9726, combined_acc: 0.9499, root_recall: 0.9079, vowel_recall: 0.9665, consonant_recall: 0.9463, combined_recall: 0.9322\n",
      "\n",
      "\n",
      "Epoch 44/119\n",
      "----------\n"
     ]
    },
    {
     "data": {
      "application/vnd.jupyter.widget-view+json": {
       "model_id": "c9740445de0a426f906b9b10f67ccc21",
       "version_major": 2,
       "version_minor": 0
      },
      "text/plain": [
       "HBox(children=(IntProgress(value=0, max=157), HTML(value='')))"
      ]
     },
     "metadata": {},
     "output_type": "display_data"
    },
    {
     "name": "stdout",
     "output_type": "stream",
     "text": [
      "\n",
      "Finish training\n",
      "Loss: 0.5676, root_acc: 0.9240, vowel_acc: 0.9486, consonant_acc: 0.9616, combined_acc: 0.9395, root_recall: 0.9177, vowel_recall: 0.9369, consonant_recall: 0.9260, combined_recall: 0.9246\n",
      "\n"
     ]
    },
    {
     "data": {
      "application/vnd.jupyter.widget-view+json": {
       "model_id": "00e4d8b05ceb443eab00125b7e5eaebd",
       "version_major": 2,
       "version_minor": 0
      },
      "text/plain": [
       "HBox(children=(IntProgress(value=0, max=20), HTML(value='')))"
      ]
     },
     "metadata": {},
     "output_type": "display_data"
    },
    {
     "name": "stdout",
     "output_type": "stream",
     "text": [
      "\n",
      "Finish validating\n",
      "Loss: 0.1807, root_acc: 0.9257, vowel_acc: 0.9794, consonant_acc: 0.9790, combined_acc: 0.9524, root_recall: 0.9135, vowel_recall: 0.9644, consonant_recall: 0.9554, combined_recall: 0.9367\n",
      "\n"
     ]
    },
    {
     "data": {
      "application/vnd.jupyter.widget-view+json": {
       "model_id": "0624be4ed48041a4bd66560415cc20d3",
       "version_major": 2,
       "version_minor": 0
      },
      "text/plain": [
       "HBox(children=(IntProgress(value=0, max=20), HTML(value='')))"
      ]
     },
     "metadata": {},
     "output_type": "display_data"
    },
    {
     "name": "stdout",
     "output_type": "stream",
     "text": [
      "\n",
      "Finish no aug validation\n",
      "Loss: 0.1807, root_acc: 0.9257, vowel_acc: 0.9794, consonant_acc: 0.9790, combined_acc: 0.9524, root_recall: 0.9135, vowel_recall: 0.9644, consonant_recall: 0.9554, combined_recall: 0.9367\n",
      "\n",
      "\n",
      "Epoch 45/119\n",
      "----------\n"
     ]
    },
    {
     "data": {
      "application/vnd.jupyter.widget-view+json": {
       "model_id": "a27964a391464b92bc8c227ff0bd15f7",
       "version_major": 2,
       "version_minor": 0
      },
      "text/plain": [
       "HBox(children=(IntProgress(value=0, max=157), HTML(value='')))"
      ]
     },
     "metadata": {},
     "output_type": "display_data"
    },
    {
     "name": "stdout",
     "output_type": "stream",
     "text": [
      "\n",
      "Finish training\n",
      "Loss: 0.5604, root_acc: 0.9230, vowel_acc: 0.9473, consonant_acc: 0.9625, combined_acc: 0.9390, root_recall: 0.9154, vowel_recall: 0.9342, consonant_recall: 0.9211, combined_recall: 0.9215\n",
      "\n"
     ]
    },
    {
     "data": {
      "application/vnd.jupyter.widget-view+json": {
       "model_id": "030ba6a734af401dbebaa5ae822a86ce",
       "version_major": 2,
       "version_minor": 0
      },
      "text/plain": [
       "HBox(children=(IntProgress(value=0, max=20), HTML(value='')))"
      ]
     },
     "metadata": {},
     "output_type": "display_data"
    },
    {
     "name": "stdout",
     "output_type": "stream",
     "text": [
      "\n",
      "Finish validating\n",
      "Loss: 0.1744, root_acc: 0.9283, vowel_acc: 0.9783, consonant_acc: 0.9775, combined_acc: 0.9531, root_recall: 0.9172, vowel_recall: 0.9645, consonant_recall: 0.9491, combined_recall: 0.9370\n",
      "\n"
     ]
    },
    {
     "data": {
      "application/vnd.jupyter.widget-view+json": {
       "model_id": "bfe32532a32249c8952b15fabcf9a236",
       "version_major": 2,
       "version_minor": 0
      },
      "text/plain": [
       "HBox(children=(IntProgress(value=0, max=20), HTML(value='')))"
      ]
     },
     "metadata": {},
     "output_type": "display_data"
    },
    {
     "name": "stdout",
     "output_type": "stream",
     "text": [
      "\n",
      "Finish no aug validation\n",
      "Loss: 0.1744, root_acc: 0.9283, vowel_acc: 0.9783, consonant_acc: 0.9775, combined_acc: 0.9531, root_recall: 0.9172, vowel_recall: 0.9645, consonant_recall: 0.9491, combined_recall: 0.9370\n",
      "\n",
      "\n",
      "Epoch 46/119\n",
      "----------\n"
     ]
    },
    {
     "data": {
      "application/vnd.jupyter.widget-view+json": {
       "model_id": "c38eebd104eb45c58aaf887214c5406c",
       "version_major": 2,
       "version_minor": 0
      },
      "text/plain": [
       "HBox(children=(IntProgress(value=0, max=157), HTML(value='')))"
      ]
     },
     "metadata": {},
     "output_type": "display_data"
    },
    {
     "name": "stdout",
     "output_type": "stream",
     "text": [
      "\n",
      "Finish training\n",
      "Loss: 0.5560, root_acc: 0.9242, vowel_acc: 0.9450, consonant_acc: 0.9620, combined_acc: 0.9388, root_recall: 0.9173, vowel_recall: 0.9327, consonant_recall: 0.9242, combined_recall: 0.9229\n",
      "\n"
     ]
    },
    {
     "data": {
      "application/vnd.jupyter.widget-view+json": {
       "model_id": "465610d8bd634fe48ed28e3347566c68",
       "version_major": 2,
       "version_minor": 0
      },
      "text/plain": [
       "HBox(children=(IntProgress(value=0, max=20), HTML(value='')))"
      ]
     },
     "metadata": {},
     "output_type": "display_data"
    },
    {
     "name": "stdout",
     "output_type": "stream",
     "text": [
      "\n",
      "Finish validating\n",
      "Loss: 0.1971, root_acc: 0.9207, vowel_acc: 0.9776, consonant_acc: 0.9767, combined_acc: 0.9489, root_recall: 0.9055, vowel_recall: 0.9579, consonant_recall: 0.9659, combined_recall: 0.9337\n",
      "\n"
     ]
    },
    {
     "data": {
      "application/vnd.jupyter.widget-view+json": {
       "model_id": "3c6540bfee274c438e0b3460f13a0a49",
       "version_major": 2,
       "version_minor": 0
      },
      "text/plain": [
       "HBox(children=(IntProgress(value=0, max=20), HTML(value='')))"
      ]
     },
     "metadata": {},
     "output_type": "display_data"
    },
    {
     "name": "stdout",
     "output_type": "stream",
     "text": [
      "\n",
      "Finish no aug validation\n",
      "Loss: 0.1971, root_acc: 0.9207, vowel_acc: 0.9776, consonant_acc: 0.9767, combined_acc: 0.9489, root_recall: 0.9055, vowel_recall: 0.9579, consonant_recall: 0.9659, combined_recall: 0.9337\n",
      "\n",
      "\n",
      "Epoch 47/119\n",
      "----------\n"
     ]
    },
    {
     "data": {
      "application/vnd.jupyter.widget-view+json": {
       "model_id": "90df3b428a4e49af91d59aa48ec9dbaf",
       "version_major": 2,
       "version_minor": 0
      },
      "text/plain": [
       "HBox(children=(IntProgress(value=0, max=157), HTML(value='')))"
      ]
     },
     "metadata": {},
     "output_type": "display_data"
    },
    {
     "name": "stdout",
     "output_type": "stream",
     "text": [
      "\n",
      "Finish training\n",
      "Loss: 0.5489, root_acc: 0.9245, vowel_acc: 0.9484, consonant_acc: 0.9634, combined_acc: 0.9402, root_recall: 0.9183, vowel_recall: 0.9367, consonant_recall: 0.9242, combined_recall: 0.9243\n",
      "\n"
     ]
    },
    {
     "data": {
      "application/vnd.jupyter.widget-view+json": {
       "model_id": "ba472183a30e45b28b2049951e5f7b4e",
       "version_major": 2,
       "version_minor": 0
      },
      "text/plain": [
       "HBox(children=(IntProgress(value=0, max=20), HTML(value='')))"
      ]
     },
     "metadata": {},
     "output_type": "display_data"
    },
    {
     "name": "stdout",
     "output_type": "stream",
     "text": [
      "\n",
      "Finish validating\n",
      "Loss: 0.1945, root_acc: 0.9164, vowel_acc: 0.9788, consonant_acc: 0.9757, combined_acc: 0.9468, root_recall: 0.9090, vowel_recall: 0.9673, consonant_recall: 0.9535, combined_recall: 0.9347\n",
      "\n"
     ]
    },
    {
     "data": {
      "application/vnd.jupyter.widget-view+json": {
       "model_id": "2e1e9c12e7394ddda7eac40e9c626ab7",
       "version_major": 2,
       "version_minor": 0
      },
      "text/plain": [
       "HBox(children=(IntProgress(value=0, max=20), HTML(value='')))"
      ]
     },
     "metadata": {},
     "output_type": "display_data"
    },
    {
     "name": "stdout",
     "output_type": "stream",
     "text": [
      "\n",
      "Finish no aug validation\n",
      "Loss: 0.1945, root_acc: 0.9164, vowel_acc: 0.9788, consonant_acc: 0.9757, combined_acc: 0.9468, root_recall: 0.9090, vowel_recall: 0.9673, consonant_recall: 0.9535, combined_recall: 0.9347\n",
      "\n",
      "\n",
      "Epoch 48/119\n",
      "----------\n"
     ]
    },
    {
     "data": {
      "application/vnd.jupyter.widget-view+json": {
       "model_id": "f356d9ce60de40e89a92520f9a4aa940",
       "version_major": 2,
       "version_minor": 0
      },
      "text/plain": [
       "HBox(children=(IntProgress(value=0, max=157), HTML(value='')))"
      ]
     },
     "metadata": {},
     "output_type": "display_data"
    },
    {
     "name": "stdout",
     "output_type": "stream",
     "text": [
      "\n",
      "Finish training\n",
      "Loss: 0.5427, root_acc: 0.9240, vowel_acc: 0.9498, consonant_acc: 0.9621, combined_acc: 0.9400, root_recall: 0.9162, vowel_recall: 0.9390, consonant_recall: 0.9270, combined_recall: 0.9246\n",
      "\n"
     ]
    },
    {
     "data": {
      "application/vnd.jupyter.widget-view+json": {
       "model_id": "f901275cd1364f06aaefb557e216f00d",
       "version_major": 2,
       "version_minor": 0
      },
      "text/plain": [
       "HBox(children=(IntProgress(value=0, max=20), HTML(value='')))"
      ]
     },
     "metadata": {},
     "output_type": "display_data"
    },
    {
     "name": "stdout",
     "output_type": "stream",
     "text": [
      "\n",
      "Finish validating\n",
      "Loss: 0.1910, root_acc: 0.9230, vowel_acc: 0.9810, consonant_acc: 0.9767, combined_acc: 0.9509, root_recall: 0.9105, vowel_recall: 0.9662, consonant_recall: 0.9645, combined_recall: 0.9379\n",
      "\n"
     ]
    },
    {
     "data": {
      "application/vnd.jupyter.widget-view+json": {
       "model_id": "0c53a72023774fb5a401872b358c5090",
       "version_major": 2,
       "version_minor": 0
      },
      "text/plain": [
       "HBox(children=(IntProgress(value=0, max=20), HTML(value='')))"
      ]
     },
     "metadata": {},
     "output_type": "display_data"
    },
    {
     "name": "stdout",
     "output_type": "stream",
     "text": [
      "\n",
      "Finish no aug validation\n",
      "Loss: 0.1910, root_acc: 0.9230, vowel_acc: 0.9810, consonant_acc: 0.9767, combined_acc: 0.9509, root_recall: 0.9105, vowel_recall: 0.9662, consonant_recall: 0.9645, combined_recall: 0.9379\n",
      "\n",
      "\n",
      "Epoch 49/119\n",
      "----------\n"
     ]
    },
    {
     "data": {
      "application/vnd.jupyter.widget-view+json": {
       "model_id": "e31078e7721a4a5c876d170b8204af66",
       "version_major": 2,
       "version_minor": 0
      },
      "text/plain": [
       "HBox(children=(IntProgress(value=0, max=157), HTML(value='')))"
      ]
     },
     "metadata": {},
     "output_type": "display_data"
    },
    {
     "name": "stdout",
     "output_type": "stream",
     "text": [
      "\n",
      "Finish training\n",
      "Loss: 0.5415, root_acc: 0.9219, vowel_acc: 0.9468, consonant_acc: 0.9633, combined_acc: 0.9385, root_recall: 0.9139, vowel_recall: 0.9347, consonant_recall: 0.9333, combined_recall: 0.9240\n",
      "\n"
     ]
    },
    {
     "data": {
      "application/vnd.jupyter.widget-view+json": {
       "model_id": "c292f91733884a31bb93c7812fd99562",
       "version_major": 2,
       "version_minor": 0
      },
      "text/plain": [
       "HBox(children=(IntProgress(value=0, max=20), HTML(value='')))"
      ]
     },
     "metadata": {},
     "output_type": "display_data"
    },
    {
     "name": "stdout",
     "output_type": "stream",
     "text": [
      "\n",
      "Finish validating\n",
      "Loss: 0.1644, root_acc: 0.9293, vowel_acc: 0.9804, consonant_acc: 0.9779, combined_acc: 0.9542, root_recall: 0.9182, vowel_recall: 0.9693, consonant_recall: 0.9629, combined_recall: 0.9422\n",
      "\n"
     ]
    },
    {
     "data": {
      "application/vnd.jupyter.widget-view+json": {
       "model_id": "61978b1e242e465eaa1605fd899d87b3",
       "version_major": 2,
       "version_minor": 0
      },
      "text/plain": [
       "HBox(children=(IntProgress(value=0, max=20), HTML(value='')))"
      ]
     },
     "metadata": {},
     "output_type": "display_data"
    },
    {
     "name": "stdout",
     "output_type": "stream",
     "text": [
      "\n",
      "Finish no aug validation\n",
      "Loss: 0.1644, root_acc: 0.9293, vowel_acc: 0.9804, consonant_acc: 0.9779, combined_acc: 0.9542, root_recall: 0.9182, vowel_recall: 0.9693, consonant_recall: 0.9629, combined_recall: 0.9422\n",
      "\n",
      "\n",
      "Epoch 50/119\n",
      "----------\n"
     ]
    },
    {
     "data": {
      "application/vnd.jupyter.widget-view+json": {
       "model_id": "c431614a42a141889ab8b73ca3920dec",
       "version_major": 2,
       "version_minor": 0
      },
      "text/plain": [
       "HBox(children=(IntProgress(value=0, max=157), HTML(value='')))"
      ]
     },
     "metadata": {},
     "output_type": "display_data"
    },
    {
     "name": "stdout",
     "output_type": "stream",
     "text": [
      "\n",
      "Finish training\n",
      "Loss: 0.5325, root_acc: 0.9217, vowel_acc: 0.9488, consonant_acc: 0.9645, combined_acc: 0.9392, root_recall: 0.9155, vowel_recall: 0.9377, consonant_recall: 0.9354, combined_recall: 0.9260\n",
      "\n"
     ]
    },
    {
     "data": {
      "application/vnd.jupyter.widget-view+json": {
       "model_id": "393d6ecca6f146f08d493ce690da18f9",
       "version_major": 2,
       "version_minor": 0
      },
      "text/plain": [
       "HBox(children=(IntProgress(value=0, max=20), HTML(value='')))"
      ]
     },
     "metadata": {},
     "output_type": "display_data"
    },
    {
     "name": "stdout",
     "output_type": "stream",
     "text": [
      "\n",
      "Finish validating\n",
      "Loss: 0.1757, root_acc: 0.9307, vowel_acc: 0.9778, consonant_acc: 0.9749, combined_acc: 0.9535, root_recall: 0.9161, vowel_recall: 0.9710, consonant_recall: 0.9416, combined_recall: 0.9362\n",
      "\n"
     ]
    },
    {
     "data": {
      "application/vnd.jupyter.widget-view+json": {
       "model_id": "20bbc4e6c97a4c2e9d8321f37978050b",
       "version_major": 2,
       "version_minor": 0
      },
      "text/plain": [
       "HBox(children=(IntProgress(value=0, max=20), HTML(value='')))"
      ]
     },
     "metadata": {},
     "output_type": "display_data"
    },
    {
     "name": "stdout",
     "output_type": "stream",
     "text": [
      "\n",
      "Finish no aug validation\n",
      "Loss: 0.1757, root_acc: 0.9307, vowel_acc: 0.9778, consonant_acc: 0.9749, combined_acc: 0.9535, root_recall: 0.9161, vowel_recall: 0.9710, consonant_recall: 0.9416, combined_recall: 0.9362\n",
      "\n",
      "\n",
      "Epoch 51/119\n",
      "----------\n"
     ]
    },
    {
     "data": {
      "application/vnd.jupyter.widget-view+json": {
       "model_id": "23175eadf8264b2e9945072a0fb615cc",
       "version_major": 2,
       "version_minor": 0
      },
      "text/plain": [
       "HBox(children=(IntProgress(value=0, max=157), HTML(value='')))"
      ]
     },
     "metadata": {},
     "output_type": "display_data"
    },
    {
     "name": "stdout",
     "output_type": "stream",
     "text": [
      "\n",
      "Finish training\n",
      "Loss: 0.5371, root_acc: 0.9215, vowel_acc: 0.9477, consonant_acc: 0.9622, combined_acc: 0.9382, root_recall: 0.9147, vowel_recall: 0.9360, consonant_recall: 0.9313, combined_recall: 0.9242\n",
      "\n"
     ]
    },
    {
     "data": {
      "application/vnd.jupyter.widget-view+json": {
       "model_id": "af26cacf623e4b53beae4edb20983cb6",
       "version_major": 2,
       "version_minor": 0
      },
      "text/plain": [
       "HBox(children=(IntProgress(value=0, max=20), HTML(value='')))"
      ]
     },
     "metadata": {},
     "output_type": "display_data"
    },
    {
     "name": "stdout",
     "output_type": "stream",
     "text": [
      "\n",
      "Finish validating\n",
      "Loss: 0.1596, root_acc: 0.9319, vowel_acc: 0.9799, consonant_acc: 0.9773, combined_acc: 0.9552, root_recall: 0.9187, vowel_recall: 0.9715, consonant_recall: 0.9648, combined_recall: 0.9434\n",
      "\n"
     ]
    },
    {
     "data": {
      "application/vnd.jupyter.widget-view+json": {
       "model_id": "40e08036df8945bba4dbd7342781082c",
       "version_major": 2,
       "version_minor": 0
      },
      "text/plain": [
       "HBox(children=(IntProgress(value=0, max=20), HTML(value='')))"
      ]
     },
     "metadata": {},
     "output_type": "display_data"
    },
    {
     "name": "stdout",
     "output_type": "stream",
     "text": [
      "\n",
      "Finish no aug validation\n",
      "Loss: 0.1596, root_acc: 0.9319, vowel_acc: 0.9799, consonant_acc: 0.9773, combined_acc: 0.9552, root_recall: 0.9187, vowel_recall: 0.9715, consonant_recall: 0.9648, combined_recall: 0.9434\n",
      "\n",
      "Lowest val_loss decreases from 0.16207645942409352 to 0.15958967421473177.\n",
      "\n",
      "Epoch 52/119\n",
      "----------\n"
     ]
    },
    {
     "data": {
      "application/vnd.jupyter.widget-view+json": {
       "model_id": "417d8a098b744a2db48a320f6701540d",
       "version_major": 2,
       "version_minor": 0
      },
      "text/plain": [
       "HBox(children=(IntProgress(value=0, max=157), HTML(value='')))"
      ]
     },
     "metadata": {},
     "output_type": "display_data"
    },
    {
     "name": "stdout",
     "output_type": "stream",
     "text": [
      "\n",
      "Finish training\n",
      "Loss: 0.5251, root_acc: 0.9223, vowel_acc: 0.9490, consonant_acc: 0.9661, combined_acc: 0.9399, root_recall: 0.9131, vowel_recall: 0.9380, consonant_recall: 0.9348, combined_recall: 0.9248\n",
      "\n"
     ]
    },
    {
     "data": {
      "application/vnd.jupyter.widget-view+json": {
       "model_id": "7d67bc4272b747f9a3035d996a7b2491",
       "version_major": 2,
       "version_minor": 0
      },
      "text/plain": [
       "HBox(children=(IntProgress(value=0, max=20), HTML(value='')))"
      ]
     },
     "metadata": {},
     "output_type": "display_data"
    },
    {
     "name": "stdout",
     "output_type": "stream",
     "text": [
      "\n",
      "Finish validating\n",
      "Loss: 0.1549, root_acc: 0.9319, vowel_acc: 0.9813, consonant_acc: 0.9785, combined_acc: 0.9559, root_recall: 0.9256, vowel_recall: 0.9716, consonant_recall: 0.9654, combined_recall: 0.9470\n",
      "\n"
     ]
    },
    {
     "data": {
      "application/vnd.jupyter.widget-view+json": {
       "model_id": "01e405155f474d99b0da601b9ee11c71",
       "version_major": 2,
       "version_minor": 0
      },
      "text/plain": [
       "HBox(children=(IntProgress(value=0, max=20), HTML(value='')))"
      ]
     },
     "metadata": {},
     "output_type": "display_data"
    },
    {
     "name": "stdout",
     "output_type": "stream",
     "text": [
      "\n",
      "Finish no aug validation\n",
      "Loss: 0.1549, root_acc: 0.9319, vowel_acc: 0.9813, consonant_acc: 0.9785, combined_acc: 0.9559, root_recall: 0.9256, vowel_recall: 0.9716, consonant_recall: 0.9654, combined_recall: 0.9470\n",
      "\n",
      "Lowest val_loss decreases from 0.15958967421473177 to 0.15490428271509218.\n",
      "Highest val_combined_recall increases from 0.9439916933337471 to 0.9470433649160296.\n",
      "\n",
      "Epoch 53/119\n",
      "----------\n"
     ]
    },
    {
     "data": {
      "application/vnd.jupyter.widget-view+json": {
       "model_id": "bf6b900adf0245e1a02141f64772abc6",
       "version_major": 2,
       "version_minor": 0
      },
      "text/plain": [
       "HBox(children=(IntProgress(value=0, max=157), HTML(value='')))"
      ]
     },
     "metadata": {},
     "output_type": "display_data"
    },
    {
     "name": "stdout",
     "output_type": "stream",
     "text": [
      "\n",
      "Finish training\n",
      "Loss: 0.5167, root_acc: 0.9228, vowel_acc: 0.9523, consonant_acc: 0.9670, combined_acc: 0.9413, root_recall: 0.9141, vowel_recall: 0.9391, consonant_recall: 0.9360, combined_recall: 0.9258\n",
      "\n"
     ]
    },
    {
     "data": {
      "application/vnd.jupyter.widget-view+json": {
       "model_id": "25c019db98724904aa2b57e4cc84f63c",
       "version_major": 2,
       "version_minor": 0
      },
      "text/plain": [
       "HBox(children=(IntProgress(value=0, max=20), HTML(value='')))"
      ]
     },
     "metadata": {},
     "output_type": "display_data"
    },
    {
     "name": "stdout",
     "output_type": "stream",
     "text": [
      "\n",
      "Finish validating\n",
      "Loss: 0.1720, root_acc: 0.9236, vowel_acc: 0.9805, consonant_acc: 0.9781, combined_acc: 0.9515, root_recall: 0.9141, vowel_recall: 0.9732, consonant_recall: 0.9570, combined_recall: 0.9396\n",
      "\n"
     ]
    },
    {
     "data": {
      "application/vnd.jupyter.widget-view+json": {
       "model_id": "2ca4aed05d684b3eabbbd0fa29beb368",
       "version_major": 2,
       "version_minor": 0
      },
      "text/plain": [
       "HBox(children=(IntProgress(value=0, max=20), HTML(value='')))"
      ]
     },
     "metadata": {},
     "output_type": "display_data"
    },
    {
     "name": "stdout",
     "output_type": "stream",
     "text": [
      "\n",
      "Finish no aug validation\n",
      "Loss: 0.1720, root_acc: 0.9236, vowel_acc: 0.9805, consonant_acc: 0.9781, combined_acc: 0.9515, root_recall: 0.9141, vowel_recall: 0.9732, consonant_recall: 0.9570, combined_recall: 0.9396\n",
      "\n",
      "\n",
      "Epoch 54/119\n",
      "----------\n"
     ]
    },
    {
     "data": {
      "application/vnd.jupyter.widget-view+json": {
       "model_id": "baa5a45adad34383b23c7c95ff65dca5",
       "version_major": 2,
       "version_minor": 0
      },
      "text/plain": [
       "HBox(children=(IntProgress(value=0, max=157), HTML(value='')))"
      ]
     },
     "metadata": {},
     "output_type": "display_data"
    },
    {
     "name": "stdout",
     "output_type": "stream",
     "text": [
      "\n",
      "Finish training\n",
      "Loss: 0.5143, root_acc: 0.9233, vowel_acc: 0.9511, consonant_acc: 0.9657, combined_acc: 0.9409, root_recall: 0.9180, vowel_recall: 0.9398, consonant_recall: 0.9268, combined_recall: 0.9257\n",
      "\n"
     ]
    },
    {
     "data": {
      "application/vnd.jupyter.widget-view+json": {
       "model_id": "f94bccb70b8f45ed80bf0f96e6fb8a40",
       "version_major": 2,
       "version_minor": 0
      },
      "text/plain": [
       "HBox(children=(IntProgress(value=0, max=20), HTML(value='')))"
      ]
     },
     "metadata": {},
     "output_type": "display_data"
    },
    {
     "name": "stdout",
     "output_type": "stream",
     "text": [
      "\n",
      "Finish validating\n",
      "Loss: 0.1951, root_acc: 0.9209, vowel_acc: 0.9794, consonant_acc: 0.9760, combined_acc: 0.9493, root_recall: 0.9132, vowel_recall: 0.9714, consonant_recall: 0.9507, combined_recall: 0.9371\n",
      "\n"
     ]
    },
    {
     "data": {
      "application/vnd.jupyter.widget-view+json": {
       "model_id": "c1a24a1471b04a0c9a206a928c3f445b",
       "version_major": 2,
       "version_minor": 0
      },
      "text/plain": [
       "HBox(children=(IntProgress(value=0, max=20), HTML(value='')))"
      ]
     },
     "metadata": {},
     "output_type": "display_data"
    },
    {
     "name": "stdout",
     "output_type": "stream",
     "text": [
      "\n",
      "Finish no aug validation\n",
      "Loss: 0.1951, root_acc: 0.9209, vowel_acc: 0.9794, consonant_acc: 0.9760, combined_acc: 0.9493, root_recall: 0.9132, vowel_recall: 0.9714, consonant_recall: 0.9507, combined_recall: 0.9371\n",
      "\n",
      "\n",
      "Epoch 55/119\n",
      "----------\n"
     ]
    },
    {
     "data": {
      "application/vnd.jupyter.widget-view+json": {
       "model_id": "85b8cc0231d14e7184b46683d0c6202e",
       "version_major": 2,
       "version_minor": 0
      },
      "text/plain": [
       "HBox(children=(IntProgress(value=0, max=157), HTML(value='')))"
      ]
     },
     "metadata": {},
     "output_type": "display_data"
    },
    {
     "name": "stdout",
     "output_type": "stream",
     "text": [
      "\n",
      "Finish training\n",
      "Loss: 0.5147, root_acc: 0.9217, vowel_acc: 0.9523, consonant_acc: 0.9664, combined_acc: 0.9405, root_recall: 0.9155, vowel_recall: 0.9420, consonant_recall: 0.9297, combined_recall: 0.9257\n",
      "\n"
     ]
    },
    {
     "data": {
      "application/vnd.jupyter.widget-view+json": {
       "model_id": "5b237cd437c348ed94ee0a1b10f45322",
       "version_major": 2,
       "version_minor": 0
      },
      "text/plain": [
       "HBox(children=(IntProgress(value=0, max=20), HTML(value='')))"
      ]
     },
     "metadata": {},
     "output_type": "display_data"
    },
    {
     "name": "stdout",
     "output_type": "stream",
     "text": [
      "\n",
      "Finish validating\n",
      "Loss: 0.1733, root_acc: 0.9305, vowel_acc: 0.9809, consonant_acc: 0.9771, combined_acc: 0.9547, root_recall: 0.9156, vowel_recall: 0.9758, consonant_recall: 0.9571, combined_recall: 0.9410\n",
      "\n"
     ]
    },
    {
     "data": {
      "application/vnd.jupyter.widget-view+json": {
       "model_id": "0734c143203c49ddbee6026b56af0403",
       "version_major": 2,
       "version_minor": 0
      },
      "text/plain": [
       "HBox(children=(IntProgress(value=0, max=20), HTML(value='')))"
      ]
     },
     "metadata": {},
     "output_type": "display_data"
    },
    {
     "name": "stdout",
     "output_type": "stream",
     "text": [
      "\n",
      "Finish no aug validation\n",
      "Loss: 0.1733, root_acc: 0.9305, vowel_acc: 0.9809, consonant_acc: 0.9771, combined_acc: 0.9547, root_recall: 0.9156, vowel_recall: 0.9758, consonant_recall: 0.9571, combined_recall: 0.9410\n",
      "\n",
      "\n",
      "Epoch 56/119\n",
      "----------\n"
     ]
    },
    {
     "data": {
      "application/vnd.jupyter.widget-view+json": {
       "model_id": "643c3e1042cf45399f2c3a41513dd1f1",
       "version_major": 2,
       "version_minor": 0
      },
      "text/plain": [
       "HBox(children=(IntProgress(value=0, max=157), HTML(value='')))"
      ]
     },
     "metadata": {},
     "output_type": "display_data"
    },
    {
     "name": "stdout",
     "output_type": "stream",
     "text": [
      "\n",
      "Finish training\n",
      "Loss: 0.5165, root_acc: 0.9202, vowel_acc: 0.9506, consonant_acc: 0.9646, combined_acc: 0.9389, root_recall: 0.9100, vowel_recall: 0.9409, consonant_recall: 0.9319, combined_recall: 0.9232\n",
      "\n"
     ]
    },
    {
     "data": {
      "application/vnd.jupyter.widget-view+json": {
       "model_id": "28badb96fe3a4d30b98766971f7759e9",
       "version_major": 2,
       "version_minor": 0
      },
      "text/plain": [
       "HBox(children=(IntProgress(value=0, max=20), HTML(value='')))"
      ]
     },
     "metadata": {},
     "output_type": "display_data"
    },
    {
     "name": "stdout",
     "output_type": "stream",
     "text": [
      "\n",
      "Finish validating\n",
      "Loss: 0.1622, root_acc: 0.9356, vowel_acc: 0.9821, consonant_acc: 0.9784, combined_acc: 0.9579, root_recall: 0.9238, vowel_recall: 0.9735, consonant_recall: 0.9700, combined_recall: 0.9478\n",
      "\n"
     ]
    },
    {
     "data": {
      "application/vnd.jupyter.widget-view+json": {
       "model_id": "e20ffc9ba4734f36a704eb76e35df8ee",
       "version_major": 2,
       "version_minor": 0
      },
      "text/plain": [
       "HBox(children=(IntProgress(value=0, max=20), HTML(value='')))"
      ]
     },
     "metadata": {},
     "output_type": "display_data"
    },
    {
     "name": "stdout",
     "output_type": "stream",
     "text": [
      "\n",
      "Finish no aug validation\n",
      "Loss: 0.1622, root_acc: 0.9356, vowel_acc: 0.9821, consonant_acc: 0.9784, combined_acc: 0.9579, root_recall: 0.9238, vowel_recall: 0.9735, consonant_recall: 0.9700, combined_recall: 0.9478\n",
      "\n",
      "Highest val_combined_recall increases from 0.9470433649160296 to 0.9477695643703266.\n",
      "\n",
      "Epoch 57/119\n",
      "----------\n"
     ]
    },
    {
     "data": {
      "application/vnd.jupyter.widget-view+json": {
       "model_id": "c59bbf086a194aa49f4be3258565a23a",
       "version_major": 2,
       "version_minor": 0
      },
      "text/plain": [
       "HBox(children=(IntProgress(value=0, max=157), HTML(value='')))"
      ]
     },
     "metadata": {},
     "output_type": "display_data"
    },
    {
     "name": "stdout",
     "output_type": "stream",
     "text": [
      "\n",
      "Finish training\n",
      "Loss: 0.5083, root_acc: 0.9218, vowel_acc: 0.9522, consonant_acc: 0.9669, combined_acc: 0.9407, root_recall: 0.9133, vowel_recall: 0.9405, consonant_recall: 0.9428, combined_recall: 0.9275\n",
      "\n"
     ]
    },
    {
     "data": {
      "application/vnd.jupyter.widget-view+json": {
       "model_id": "4879592107d0410382d0f9644474c8fa",
       "version_major": 2,
       "version_minor": 0
      },
      "text/plain": [
       "HBox(children=(IntProgress(value=0, max=20), HTML(value='')))"
      ]
     },
     "metadata": {},
     "output_type": "display_data"
    },
    {
     "name": "stdout",
     "output_type": "stream",
     "text": [
      "\n",
      "Finish validating\n",
      "Loss: 0.1822, root_acc: 0.9310, vowel_acc: 0.9779, consonant_acc: 0.9777, combined_acc: 0.9544, root_recall: 0.9163, vowel_recall: 0.9722, consonant_recall: 0.9575, combined_recall: 0.9406\n",
      "\n"
     ]
    },
    {
     "data": {
      "application/vnd.jupyter.widget-view+json": {
       "model_id": "17396a8461be47868ba6b17c8e0732e1",
       "version_major": 2,
       "version_minor": 0
      },
      "text/plain": [
       "HBox(children=(IntProgress(value=0, max=20), HTML(value='')))"
      ]
     },
     "metadata": {},
     "output_type": "display_data"
    },
    {
     "name": "stdout",
     "output_type": "stream",
     "text": [
      "\n",
      "Finish no aug validation\n",
      "Loss: 0.1822, root_acc: 0.9310, vowel_acc: 0.9779, consonant_acc: 0.9777, combined_acc: 0.9544, root_recall: 0.9163, vowel_recall: 0.9722, consonant_recall: 0.9575, combined_recall: 0.9406\n",
      "\n",
      "\n",
      "Epoch 58/119\n",
      "----------\n"
     ]
    },
    {
     "data": {
      "application/vnd.jupyter.widget-view+json": {
       "model_id": "9b8aa12e343f4d078dee384ff9a3f349",
       "version_major": 2,
       "version_minor": 0
      },
      "text/plain": [
       "HBox(children=(IntProgress(value=0, max=157), HTML(value='')))"
      ]
     },
     "metadata": {},
     "output_type": "display_data"
    },
    {
     "name": "stdout",
     "output_type": "stream",
     "text": [
      "\n",
      "Finish training\n",
      "Loss: 0.5002, root_acc: 0.9231, vowel_acc: 0.9519, consonant_acc: 0.9666, combined_acc: 0.9412, root_recall: 0.9140, vowel_recall: 0.9404, consonant_recall: 0.9347, combined_recall: 0.9258\n",
      "\n"
     ]
    },
    {
     "data": {
      "application/vnd.jupyter.widget-view+json": {
       "model_id": "8cb97945d8a64959943a277ebaaebc5e",
       "version_major": 2,
       "version_minor": 0
      },
      "text/plain": [
       "HBox(children=(IntProgress(value=0, max=20), HTML(value='')))"
      ]
     },
     "metadata": {},
     "output_type": "display_data"
    },
    {
     "name": "stdout",
     "output_type": "stream",
     "text": [
      "\n",
      "Finish validating\n",
      "Loss: 0.2011, root_acc: 0.9238, vowel_acc: 0.9743, consonant_acc: 0.9749, combined_acc: 0.9492, root_recall: 0.9110, vowel_recall: 0.9672, consonant_recall: 0.9585, combined_recall: 0.9369\n",
      "\n"
     ]
    },
    {
     "data": {
      "application/vnd.jupyter.widget-view+json": {
       "model_id": "d7b1caa0e5844b689f2a7f6356143c13",
       "version_major": 2,
       "version_minor": 0
      },
      "text/plain": [
       "HBox(children=(IntProgress(value=0, max=20), HTML(value='')))"
      ]
     },
     "metadata": {},
     "output_type": "display_data"
    },
    {
     "name": "stdout",
     "output_type": "stream",
     "text": [
      "\n",
      "Finish no aug validation\n",
      "Loss: 0.2011, root_acc: 0.9238, vowel_acc: 0.9743, consonant_acc: 0.9749, combined_acc: 0.9492, root_recall: 0.9110, vowel_recall: 0.9672, consonant_recall: 0.9585, combined_recall: 0.9369\n",
      "\n",
      "\n",
      "Epoch 59/119\n",
      "----------\n"
     ]
    },
    {
     "data": {
      "application/vnd.jupyter.widget-view+json": {
       "model_id": "19b472a1eb154094ab2a3445441c26aa",
       "version_major": 2,
       "version_minor": 0
      },
      "text/plain": [
       "HBox(children=(IntProgress(value=0, max=157), HTML(value='')))"
      ]
     },
     "metadata": {},
     "output_type": "display_data"
    },
    {
     "name": "stdout",
     "output_type": "stream",
     "text": [
      "\n",
      "Finish training\n",
      "Loss: 0.5000, root_acc: 0.9201, vowel_acc: 0.9532, consonant_acc: 0.9671, combined_acc: 0.9401, root_recall: 0.9134, vowel_recall: 0.9438, consonant_recall: 0.9344, combined_recall: 0.9263\n",
      "\n"
     ]
    },
    {
     "data": {
      "application/vnd.jupyter.widget-view+json": {
       "model_id": "c54f4fa3d53c487e98293e4f9562e836",
       "version_major": 2,
       "version_minor": 0
      },
      "text/plain": [
       "HBox(children=(IntProgress(value=0, max=20), HTML(value='')))"
      ]
     },
     "metadata": {},
     "output_type": "display_data"
    },
    {
     "name": "stdout",
     "output_type": "stream",
     "text": [
      "\n",
      "Finish validating\n",
      "Loss: 0.1920, root_acc: 0.9269, vowel_acc: 0.9773, consonant_acc: 0.9751, combined_acc: 0.9516, root_recall: 0.9228, vowel_recall: 0.9639, consonant_recall: 0.9554, combined_recall: 0.9412\n",
      "\n"
     ]
    },
    {
     "data": {
      "application/vnd.jupyter.widget-view+json": {
       "model_id": "643809de59b8442087a29a1b5c3da9c6",
       "version_major": 2,
       "version_minor": 0
      },
      "text/plain": [
       "HBox(children=(IntProgress(value=0, max=20), HTML(value='')))"
      ]
     },
     "metadata": {},
     "output_type": "display_data"
    },
    {
     "name": "stdout",
     "output_type": "stream",
     "text": [
      "\n",
      "Finish no aug validation\n",
      "Loss: 0.1920, root_acc: 0.9269, vowel_acc: 0.9773, consonant_acc: 0.9751, combined_acc: 0.9516, root_recall: 0.9228, vowel_recall: 0.9639, consonant_recall: 0.9554, combined_recall: 0.9412\n",
      "\n",
      "\n",
      "Epoch 60/119\n",
      "----------\n"
     ]
    },
    {
     "data": {
      "application/vnd.jupyter.widget-view+json": {
       "model_id": "0420a04a59f4414fadda9415cfaa10fa",
       "version_major": 2,
       "version_minor": 0
      },
      "text/plain": [
       "HBox(children=(IntProgress(value=0, max=157), HTML(value='')))"
      ]
     },
     "metadata": {},
     "output_type": "display_data"
    },
    {
     "name": "stdout",
     "output_type": "stream",
     "text": [
      "\n",
      "Finish training\n",
      "Loss: 0.4980, root_acc: 0.9221, vowel_acc: 0.9512, consonant_acc: 0.9657, combined_acc: 0.9403, root_recall: 0.9137, vowel_recall: 0.9412, consonant_recall: 0.9353, combined_recall: 0.9260\n",
      "\n"
     ]
    },
    {
     "data": {
      "application/vnd.jupyter.widget-view+json": {
       "model_id": "14748b4d904a4cd683236471093007d5",
       "version_major": 2,
       "version_minor": 0
      },
      "text/plain": [
       "HBox(children=(IntProgress(value=0, max=20), HTML(value='')))"
      ]
     },
     "metadata": {},
     "output_type": "display_data"
    },
    {
     "name": "stdout",
     "output_type": "stream",
     "text": [
      "\n",
      "Finish validating\n",
      "Loss: 0.2031, root_acc: 0.9277, vowel_acc: 0.9743, consonant_acc: 0.9772, combined_acc: 0.9517, root_recall: 0.9097, vowel_recall: 0.9683, consonant_recall: 0.9586, combined_recall: 0.9366\n",
      "\n"
     ]
    },
    {
     "data": {
      "application/vnd.jupyter.widget-view+json": {
       "model_id": "4390aeaef9e043afb946c33a1e53d0eb",
       "version_major": 2,
       "version_minor": 0
      },
      "text/plain": [
       "HBox(children=(IntProgress(value=0, max=20), HTML(value='')))"
      ]
     },
     "metadata": {},
     "output_type": "display_data"
    },
    {
     "name": "stdout",
     "output_type": "stream",
     "text": [
      "\n",
      "Finish no aug validation\n",
      "Loss: 0.2031, root_acc: 0.9277, vowel_acc: 0.9743, consonant_acc: 0.9772, combined_acc: 0.9517, root_recall: 0.9097, vowel_recall: 0.9683, consonant_recall: 0.9586, combined_recall: 0.9366\n",
      "\n",
      "\n",
      "Epoch 61/119\n",
      "----------\n"
     ]
    },
    {
     "data": {
      "application/vnd.jupyter.widget-view+json": {
       "model_id": "819de3d81f7b422b8cb079d407dcb748",
       "version_major": 2,
       "version_minor": 0
      },
      "text/plain": [
       "HBox(children=(IntProgress(value=0, max=157), HTML(value='')))"
      ]
     },
     "metadata": {},
     "output_type": "display_data"
    },
    {
     "name": "stdout",
     "output_type": "stream",
     "text": [
      "\n",
      "Finish training\n",
      "Loss: 0.4934, root_acc: 0.9208, vowel_acc: 0.9523, consonant_acc: 0.9666, combined_acc: 0.9401, root_recall: 0.9158, vowel_recall: 0.9388, consonant_recall: 0.9401, combined_recall: 0.9276\n",
      "\n"
     ]
    },
    {
     "data": {
      "application/vnd.jupyter.widget-view+json": {
       "model_id": "d5849c6e268748a897e15b798fc04aad",
       "version_major": 2,
       "version_minor": 0
      },
      "text/plain": [
       "HBox(children=(IntProgress(value=0, max=20), HTML(value='')))"
      ]
     },
     "metadata": {},
     "output_type": "display_data"
    },
    {
     "name": "stdout",
     "output_type": "stream",
     "text": [
      "\n",
      "Finish validating\n",
      "Loss: 0.1917, root_acc: 0.9259, vowel_acc: 0.9804, consonant_acc: 0.9712, combined_acc: 0.9509, root_recall: 0.9059, vowel_recall: 0.9737, consonant_recall: 0.9640, combined_recall: 0.9374\n",
      "\n"
     ]
    },
    {
     "data": {
      "application/vnd.jupyter.widget-view+json": {
       "model_id": "f5135dbbca584baf9698712b04c69209",
       "version_major": 2,
       "version_minor": 0
      },
      "text/plain": [
       "HBox(children=(IntProgress(value=0, max=20), HTML(value='')))"
      ]
     },
     "metadata": {},
     "output_type": "display_data"
    },
    {
     "name": "stdout",
     "output_type": "stream",
     "text": [
      "\n",
      "Finish no aug validation\n",
      "Loss: 0.1917, root_acc: 0.9259, vowel_acc: 0.9804, consonant_acc: 0.9712, combined_acc: 0.9509, root_recall: 0.9059, vowel_recall: 0.9737, consonant_recall: 0.9640, combined_recall: 0.9374\n",
      "\n",
      "\n",
      "Epoch 62/119\n",
      "----------\n"
     ]
    },
    {
     "data": {
      "application/vnd.jupyter.widget-view+json": {
       "model_id": "399e4c490b4d4295aec005c1f4e10e63",
       "version_major": 2,
       "version_minor": 0
      },
      "text/plain": [
       "HBox(children=(IntProgress(value=0, max=157), HTML(value='')))"
      ]
     },
     "metadata": {},
     "output_type": "display_data"
    },
    {
     "name": "stdout",
     "output_type": "stream",
     "text": [
      "\n",
      "Finish training\n",
      "Loss: 0.4916, root_acc: 0.9237, vowel_acc: 0.9522, consonant_acc: 0.9670, combined_acc: 0.9417, root_recall: 0.9152, vowel_recall: 0.9412, consonant_recall: 0.9358, combined_recall: 0.9268\n",
      "\n"
     ]
    },
    {
     "data": {
      "application/vnd.jupyter.widget-view+json": {
       "model_id": "ab9f81489cc44e77bcd251130704c954",
       "version_major": 2,
       "version_minor": 0
      },
      "text/plain": [
       "HBox(children=(IntProgress(value=0, max=20), HTML(value='')))"
      ]
     },
     "metadata": {},
     "output_type": "display_data"
    },
    {
     "name": "stdout",
     "output_type": "stream",
     "text": [
      "\n",
      "Finish validating\n",
      "Loss: 0.1737, root_acc: 0.9304, vowel_acc: 0.9809, consonant_acc: 0.9788, combined_acc: 0.9551, root_recall: 0.9164, vowel_recall: 0.9743, consonant_recall: 0.9646, combined_recall: 0.9429\n",
      "\n"
     ]
    },
    {
     "data": {
      "application/vnd.jupyter.widget-view+json": {
       "model_id": "61879aafac384f13bc6ccf4e64d35c35",
       "version_major": 2,
       "version_minor": 0
      },
      "text/plain": [
       "HBox(children=(IntProgress(value=0, max=20), HTML(value='')))"
      ]
     },
     "metadata": {},
     "output_type": "display_data"
    },
    {
     "name": "stdout",
     "output_type": "stream",
     "text": [
      "\n",
      "Finish no aug validation\n",
      "Loss: 0.1737, root_acc: 0.9304, vowel_acc: 0.9809, consonant_acc: 0.9788, combined_acc: 0.9551, root_recall: 0.9164, vowel_recall: 0.9743, consonant_recall: 0.9646, combined_recall: 0.9429\n",
      "\n",
      "\n",
      "Epoch 63/119\n",
      "----------\n"
     ]
    },
    {
     "data": {
      "application/vnd.jupyter.widget-view+json": {
       "model_id": "47752f14109248adb110f2491776c6e3",
       "version_major": 2,
       "version_minor": 0
      },
      "text/plain": [
       "HBox(children=(IntProgress(value=0, max=157), HTML(value='')))"
      ]
     },
     "metadata": {},
     "output_type": "display_data"
    },
    {
     "name": "stdout",
     "output_type": "stream",
     "text": [
      "\n",
      "Finish training\n",
      "Loss: 0.4844, root_acc: 0.9222, vowel_acc: 0.9542, consonant_acc: 0.9680, combined_acc: 0.9416, root_recall: 0.9143, vowel_recall: 0.9422, consonant_recall: 0.9390, combined_recall: 0.9275\n",
      "\n"
     ]
    },
    {
     "data": {
      "application/vnd.jupyter.widget-view+json": {
       "model_id": "9687a076bb6840499a7e29880a70fb7b",
       "version_major": 2,
       "version_minor": 0
      },
      "text/plain": [
       "HBox(children=(IntProgress(value=0, max=20), HTML(value='')))"
      ]
     },
     "metadata": {},
     "output_type": "display_data"
    },
    {
     "name": "stdout",
     "output_type": "stream",
     "text": [
      "\n",
      "Finish validating\n",
      "Loss: 0.1815, root_acc: 0.9308, vowel_acc: 0.9814, consonant_acc: 0.9760, combined_acc: 0.9547, root_recall: 0.9135, vowel_recall: 0.9720, consonant_recall: 0.9654, combined_recall: 0.9411\n",
      "\n"
     ]
    },
    {
     "data": {
      "application/vnd.jupyter.widget-view+json": {
       "model_id": "a0ba8b18edfc4d9c97c180411609b4c8",
       "version_major": 2,
       "version_minor": 0
      },
      "text/plain": [
       "HBox(children=(IntProgress(value=0, max=20), HTML(value='')))"
      ]
     },
     "metadata": {},
     "output_type": "display_data"
    },
    {
     "name": "stdout",
     "output_type": "stream",
     "text": [
      "\n",
      "Finish no aug validation\n",
      "Loss: 0.1815, root_acc: 0.9308, vowel_acc: 0.9814, consonant_acc: 0.9760, combined_acc: 0.9547, root_recall: 0.9135, vowel_recall: 0.9720, consonant_recall: 0.9654, combined_recall: 0.9411\n",
      "\n",
      "\n",
      "Epoch 64/119\n",
      "----------\n"
     ]
    },
    {
     "data": {
      "application/vnd.jupyter.widget-view+json": {
       "model_id": "f9613a85d728492f8d09658879f24dc3",
       "version_major": 2,
       "version_minor": 0
      },
      "text/plain": [
       "HBox(children=(IntProgress(value=0, max=157), HTML(value='')))"
      ]
     },
     "metadata": {},
     "output_type": "display_data"
    },
    {
     "name": "stdout",
     "output_type": "stream",
     "text": [
      "\n",
      "Finish training\n",
      "Loss: 0.4850, root_acc: 0.9213, vowel_acc: 0.9532, consonant_acc: 0.9667, combined_acc: 0.9406, root_recall: 0.9131, vowel_recall: 0.9423, consonant_recall: 0.9372, combined_recall: 0.9264\n",
      "\n"
     ]
    },
    {
     "data": {
      "application/vnd.jupyter.widget-view+json": {
       "model_id": "790e373783e046b2bcb04cc97540515a",
       "version_major": 2,
       "version_minor": 0
      },
      "text/plain": [
       "HBox(children=(IntProgress(value=0, max=20), HTML(value='')))"
      ]
     },
     "metadata": {},
     "output_type": "display_data"
    },
    {
     "name": "stdout",
     "output_type": "stream",
     "text": [
      "\n",
      "Finish validating\n",
      "Loss: 0.1853, root_acc: 0.9269, vowel_acc: 0.9824, consonant_acc: 0.9770, combined_acc: 0.9533, root_recall: 0.9088, vowel_recall: 0.9744, consonant_recall: 0.9621, combined_recall: 0.9385\n",
      "\n"
     ]
    },
    {
     "data": {
      "application/vnd.jupyter.widget-view+json": {
       "model_id": "0fe51c751687472ea3f19830c58e4cbe",
       "version_major": 2,
       "version_minor": 0
      },
      "text/plain": [
       "HBox(children=(IntProgress(value=0, max=20), HTML(value='')))"
      ]
     },
     "metadata": {},
     "output_type": "display_data"
    },
    {
     "name": "stdout",
     "output_type": "stream",
     "text": [
      "\n",
      "Finish no aug validation\n",
      "Loss: 0.1853, root_acc: 0.9269, vowel_acc: 0.9824, consonant_acc: 0.9770, combined_acc: 0.9533, root_recall: 0.9088, vowel_recall: 0.9744, consonant_recall: 0.9621, combined_recall: 0.9385\n",
      "\n",
      "\n",
      "Epoch 65/119\n",
      "----------\n"
     ]
    },
    {
     "data": {
      "application/vnd.jupyter.widget-view+json": {
       "model_id": "34762c909a4143339528f735826b3a57",
       "version_major": 2,
       "version_minor": 0
      },
      "text/plain": [
       "HBox(children=(IntProgress(value=0, max=157), HTML(value='')))"
      ]
     },
     "metadata": {},
     "output_type": "display_data"
    },
    {
     "name": "stdout",
     "output_type": "stream",
     "text": [
      "\n",
      "Finish training\n",
      "Loss: 0.4816, root_acc: 0.9206, vowel_acc: 0.9549, consonant_acc: 0.9673, combined_acc: 0.9409, root_recall: 0.9144, vowel_recall: 0.9438, consonant_recall: 0.9346, combined_recall: 0.9268\n",
      "\n"
     ]
    },
    {
     "data": {
      "application/vnd.jupyter.widget-view+json": {
       "model_id": "8f48bf92670a4e9ca23eb601c27a56b2",
       "version_major": 2,
       "version_minor": 0
      },
      "text/plain": [
       "HBox(children=(IntProgress(value=0, max=20), HTML(value='')))"
      ]
     },
     "metadata": {},
     "output_type": "display_data"
    },
    {
     "name": "stderr",
     "output_type": "stream",
     "text": [
      "IOPub message rate exceeded.\n",
      "The notebook server will temporarily stop sending output\n",
      "to the client in order to avoid crashing it.\n",
      "To change this limit, set the config variable\n",
      "`--NotebookApp.iopub_msg_rate_limit`.\n",
      "\n",
      "Current values:\n",
      "NotebookApp.iopub_msg_rate_limit=1000.0 (msgs/sec)\n",
      "NotebookApp.rate_limit_window=3.0 (secs)\n",
      "\n"
     ]
    },
    {
     "name": "stdout",
     "output_type": "stream",
     "text": [
      "\n",
      "Finish training\n",
      "Loss: 0.4570, root_acc: 0.9226, vowel_acc: 0.9581, consonant_acc: 0.9707, combined_acc: 0.9435, root_recall: 0.9112, vowel_recall: 0.9473, consonant_recall: 0.9374, combined_recall: 0.9268\n",
      "\n"
     ]
    },
    {
     "data": {
      "application/vnd.jupyter.widget-view+json": {
       "model_id": "89e65b9d630a4076b0e2eeb417f5b332",
       "version_major": 2,
       "version_minor": 0
      },
      "text/plain": [
       "HBox(children=(IntProgress(value=0, max=20), HTML(value='')))"
      ]
     },
     "metadata": {},
     "output_type": "display_data"
    },
    {
     "name": "stdout",
     "output_type": "stream",
     "text": [
      "\n",
      "Finish validating\n",
      "Loss: 0.1954, root_acc: 0.9299, vowel_acc: 0.9827, consonant_acc: 0.9788, combined_acc: 0.9553, root_recall: 0.9152, vowel_recall: 0.9757, consonant_recall: 0.9667, combined_recall: 0.9432\n",
      "\n"
     ]
    },
    {
     "data": {
      "application/vnd.jupyter.widget-view+json": {
       "model_id": "2367f31e285f4653affeb35f97778ed2",
       "version_major": 2,
       "version_minor": 0
      },
      "text/plain": [
       "HBox(children=(IntProgress(value=0, max=20), HTML(value='')))"
      ]
     },
     "metadata": {},
     "output_type": "display_data"
    },
    {
     "name": "stdout",
     "output_type": "stream",
     "text": [
      "\n",
      "Finish no aug validation\n",
      "Loss: 0.1954, root_acc: 0.9299, vowel_acc: 0.9827, consonant_acc: 0.9788, combined_acc: 0.9553, root_recall: 0.9152, vowel_recall: 0.9757, consonant_recall: 0.9667, combined_recall: 0.9432\n",
      "\n",
      "\n",
      "Epoch 76/119\n",
      "----------\n"
     ]
    },
    {
     "data": {
      "application/vnd.jupyter.widget-view+json": {
       "model_id": "60434e4b8556432aac9f8f126d971a5f",
       "version_major": 2,
       "version_minor": 0
      },
      "text/plain": [
       "HBox(children=(IntProgress(value=0, max=157), HTML(value='')))"
      ]
     },
     "metadata": {},
     "output_type": "display_data"
    },
    {
     "name": "stdout",
     "output_type": "stream",
     "text": [
      "\n",
      "Finish training\n",
      "Loss: 0.4554, root_acc: 0.9209, vowel_acc: 0.9588, consonant_acc: 0.9709, combined_acc: 0.9429, root_recall: 0.9147, vowel_recall: 0.9495, consonant_recall: 0.9405, combined_recall: 0.9299\n",
      "\n"
     ]
    },
    {
     "data": {
      "application/vnd.jupyter.widget-view+json": {
       "model_id": "5b3b7ab3d90147a4ac9db0da4a427bd0",
       "version_major": 2,
       "version_minor": 0
      },
      "text/plain": [
       "HBox(children=(IntProgress(value=0, max=20), HTML(value='')))"
      ]
     },
     "metadata": {},
     "output_type": "display_data"
    },
    {
     "name": "stdout",
     "output_type": "stream",
     "text": [
      "\n",
      "Finish validating\n",
      "Loss: 0.1811, root_acc: 0.9327, vowel_acc: 0.9830, consonant_acc: 0.9777, combined_acc: 0.9565, root_recall: 0.9258, vowel_recall: 0.9726, consonant_recall: 0.9607, combined_recall: 0.9462\n",
      "\n"
     ]
    },
    {
     "data": {
      "application/vnd.jupyter.widget-view+json": {
       "model_id": "5ec527a3bc544e63892671b1d17d4b9a",
       "version_major": 2,
       "version_minor": 0
      },
      "text/plain": [
       "HBox(children=(IntProgress(value=0, max=20), HTML(value='')))"
      ]
     },
     "metadata": {},
     "output_type": "display_data"
    },
    {
     "name": "stdout",
     "output_type": "stream",
     "text": [
      "\n",
      "Finish no aug validation\n",
      "Loss: 0.1811, root_acc: 0.9327, vowel_acc: 0.9830, consonant_acc: 0.9777, combined_acc: 0.9565, root_recall: 0.9258, vowel_recall: 0.9726, consonant_recall: 0.9607, combined_recall: 0.9462\n",
      "\n",
      "\n",
      "Epoch 77/119\n",
      "----------\n"
     ]
    },
    {
     "data": {
      "application/vnd.jupyter.widget-view+json": {
       "model_id": "a2c02d124a804c8fa41f4394f89f7f39",
       "version_major": 2,
       "version_minor": 0
      },
      "text/plain": [
       "HBox(children=(IntProgress(value=0, max=157), HTML(value='')))"
      ]
     },
     "metadata": {},
     "output_type": "display_data"
    },
    {
     "name": "stdout",
     "output_type": "stream",
     "text": [
      "\n",
      "Finish training\n",
      "Loss: 0.4532, root_acc: 0.9247, vowel_acc: 0.9577, consonant_acc: 0.9702, combined_acc: 0.9443, root_recall: 0.9153, vowel_recall: 0.9504, consonant_recall: 0.9441, combined_recall: 0.9313\n",
      "\n"
     ]
    },
    {
     "data": {
      "application/vnd.jupyter.widget-view+json": {
       "model_id": "5f81cd90cc32453c99bc0a1699a8b096",
       "version_major": 2,
       "version_minor": 0
      },
      "text/plain": [
       "HBox(children=(IntProgress(value=0, max=20), HTML(value='')))"
      ]
     },
     "metadata": {},
     "output_type": "display_data"
    },
    {
     "name": "stdout",
     "output_type": "stream",
     "text": [
      "\n",
      "Finish validating\n",
      "Loss: 0.1814, root_acc: 0.9325, vowel_acc: 0.9805, consonant_acc: 0.9797, combined_acc: 0.9563, root_recall: 0.9226, vowel_recall: 0.9678, consonant_recall: 0.9618, combined_recall: 0.9437\n",
      "\n"
     ]
    },
    {
     "data": {
      "application/vnd.jupyter.widget-view+json": {
       "model_id": "ab436d0febf944db9ade47e2db792006",
       "version_major": 2,
       "version_minor": 0
      },
      "text/plain": [
       "HBox(children=(IntProgress(value=0, max=20), HTML(value='')))"
      ]
     },
     "metadata": {},
     "output_type": "display_data"
    },
    {
     "name": "stdout",
     "output_type": "stream",
     "text": [
      "\n",
      "Finish no aug validation\n",
      "Loss: 0.1814, root_acc: 0.9325, vowel_acc: 0.9805, consonant_acc: 0.9797, combined_acc: 0.9563, root_recall: 0.9226, vowel_recall: 0.9678, consonant_recall: 0.9618, combined_recall: 0.9437\n",
      "\n",
      "\n",
      "Epoch 78/119\n",
      "----------\n"
     ]
    },
    {
     "data": {
      "application/vnd.jupyter.widget-view+json": {
       "model_id": "dde1fa7b3d3749e4888a7c9be0f62e17",
       "version_major": 2,
       "version_minor": 0
      },
      "text/plain": [
       "HBox(children=(IntProgress(value=0, max=157), HTML(value='')))"
      ]
     },
     "metadata": {},
     "output_type": "display_data"
    },
    {
     "name": "stdout",
     "output_type": "stream",
     "text": [
      "\n",
      "Finish training\n",
      "Loss: 0.4553, root_acc: 0.9218, vowel_acc: 0.9574, consonant_acc: 0.9684, combined_acc: 0.9423, root_recall: 0.9148, vowel_recall: 0.9482, consonant_recall: 0.9339, combined_recall: 0.9279\n",
      "\n"
     ]
    },
    {
     "data": {
      "application/vnd.jupyter.widget-view+json": {
       "model_id": "405ac836688a4f22a27fdccf05d98cf3",
       "version_major": 2,
       "version_minor": 0
      },
      "text/plain": [
       "HBox(children=(IntProgress(value=0, max=20), HTML(value='')))"
      ]
     },
     "metadata": {},
     "output_type": "display_data"
    },
    {
     "name": "stdout",
     "output_type": "stream",
     "text": [
      "\n",
      "Finish validating\n",
      "Loss: 0.2057, root_acc: 0.9189, vowel_acc: 0.9788, consonant_acc: 0.9757, combined_acc: 0.9481, root_recall: 0.9063, vowel_recall: 0.9668, consonant_recall: 0.9536, combined_recall: 0.9333\n",
      "\n"
     ]
    },
    {
     "data": {
      "application/vnd.jupyter.widget-view+json": {
       "model_id": "945dde38cf27452d9f7f6b11917e2f90",
       "version_major": 2,
       "version_minor": 0
      },
      "text/plain": [
       "HBox(children=(IntProgress(value=0, max=20), HTML(value='')))"
      ]
     },
     "metadata": {},
     "output_type": "display_data"
    },
    {
     "name": "stdout",
     "output_type": "stream",
     "text": [
      "\n",
      "Finish no aug validation\n",
      "Loss: 0.2057, root_acc: 0.9189, vowel_acc: 0.9788, consonant_acc: 0.9757, combined_acc: 0.9481, root_recall: 0.9063, vowel_recall: 0.9668, consonant_recall: 0.9536, combined_recall: 0.9333\n",
      "\n",
      "\n",
      "Epoch 79/119\n",
      "----------\n"
     ]
    },
    {
     "data": {
      "application/vnd.jupyter.widget-view+json": {
       "model_id": "a5647641cc5f4ed69fa7d53f3352cd4d",
       "version_major": 2,
       "version_minor": 0
      },
      "text/plain": [
       "HBox(children=(IntProgress(value=0, max=157), HTML(value='')))"
      ]
     },
     "metadata": {},
     "output_type": "display_data"
    },
    {
     "name": "stdout",
     "output_type": "stream",
     "text": [
      "\n",
      "Finish training\n",
      "Loss: 0.4520, root_acc: 0.9230, vowel_acc: 0.9576, consonant_acc: 0.9691, combined_acc: 0.9432, root_recall: 0.9154, vowel_recall: 0.9462, consonant_recall: 0.9345, combined_recall: 0.9279\n",
      "\n"
     ]
    },
    {
     "data": {
      "application/vnd.jupyter.widget-view+json": {
       "model_id": "6c177339d36a4e48afff629e62ed5343",
       "version_major": 2,
       "version_minor": 0
      },
      "text/plain": [
       "HBox(children=(IntProgress(value=0, max=20), HTML(value='')))"
      ]
     },
     "metadata": {},
     "output_type": "display_data"
    },
    {
     "name": "stdout",
     "output_type": "stream",
     "text": [
      "\n",
      "Finish validating\n",
      "Loss: 0.1760, root_acc: 0.9245, vowel_acc: 0.9810, consonant_acc: 0.9775, combined_acc: 0.9519, root_recall: 0.9161, vowel_recall: 0.9681, consonant_recall: 0.9565, combined_recall: 0.9392\n",
      "\n"
     ]
    },
    {
     "data": {
      "application/vnd.jupyter.widget-view+json": {
       "model_id": "e0d3f74948204d9483df2b1a258778ea",
       "version_major": 2,
       "version_minor": 0
      },
      "text/plain": [
       "HBox(children=(IntProgress(value=0, max=20), HTML(value='')))"
      ]
     },
     "metadata": {},
     "output_type": "display_data"
    },
    {
     "name": "stdout",
     "output_type": "stream",
     "text": [
      "\n",
      "Finish no aug validation\n",
      "Loss: 0.1760, root_acc: 0.9245, vowel_acc: 0.9810, consonant_acc: 0.9775, combined_acc: 0.9519, root_recall: 0.9161, vowel_recall: 0.9681, consonant_recall: 0.9565, combined_recall: 0.9392\n",
      "\n",
      "\n",
      "Epoch 80/119\n",
      "----------\n"
     ]
    },
    {
     "data": {
      "application/vnd.jupyter.widget-view+json": {
       "model_id": "44917a58b602457fbb5592865823a099",
       "version_major": 2,
       "version_minor": 0
      },
      "text/plain": [
       "HBox(children=(IntProgress(value=0, max=157), HTML(value='')))"
      ]
     },
     "metadata": {},
     "output_type": "display_data"
    },
    {
     "name": "stderr",
     "output_type": "stream",
     "text": [
      "IOPub message rate exceeded.\n",
      "The notebook server will temporarily stop sending output\n",
      "to the client in order to avoid crashing it.\n",
      "To change this limit, set the config variable\n",
      "`--NotebookApp.iopub_msg_rate_limit`.\n",
      "\n",
      "Current values:\n",
      "NotebookApp.iopub_msg_rate_limit=1000.0 (msgs/sec)\n",
      "NotebookApp.rate_limit_window=3.0 (secs)\n",
      "\n"
     ]
    },
    {
     "name": "stdout",
     "output_type": "stream",
     "text": [
      "\n",
      "Finish training\n",
      "Loss: 0.4431, root_acc: 0.9244, vowel_acc: 0.9580, consonant_acc: 0.9718, combined_acc: 0.9446, root_recall: 0.9158, vowel_recall: 0.9474, consonant_recall: 0.9454, combined_recall: 0.9311\n",
      "\n"
     ]
    },
    {
     "data": {
      "application/vnd.jupyter.widget-view+json": {
       "model_id": "711e5af1c4ef4acfb20ac166e9df9739",
       "version_major": 2,
       "version_minor": 0
      },
      "text/plain": [
       "HBox(children=(IntProgress(value=0, max=20), HTML(value='')))"
      ]
     },
     "metadata": {},
     "output_type": "display_data"
    },
    {
     "name": "stdout",
     "output_type": "stream",
     "text": [
      "\n",
      "Finish validating\n",
      "Loss: 0.1842, root_acc: 0.9315, vowel_acc: 0.9750, consonant_acc: 0.9788, combined_acc: 0.9542, root_recall: 0.9244, vowel_recall: 0.9707, consonant_recall: 0.9538, combined_recall: 0.9433\n",
      "\n"
     ]
    },
    {
     "data": {
      "application/vnd.jupyter.widget-view+json": {
       "model_id": "5aef8f326ce541cabf9a99388815b58b",
       "version_major": 2,
       "version_minor": 0
      },
      "text/plain": [
       "HBox(children=(IntProgress(value=0, max=20), HTML(value='')))"
      ]
     },
     "metadata": {},
     "output_type": "display_data"
    },
    {
     "name": "stdout",
     "output_type": "stream",
     "text": [
      "\n",
      "Finish no aug validation\n",
      "Loss: 0.1842, root_acc: 0.9315, vowel_acc: 0.9750, consonant_acc: 0.9788, combined_acc: 0.9542, root_recall: 0.9244, vowel_recall: 0.9707, consonant_recall: 0.9538, combined_recall: 0.9433\n",
      "\n",
      "\n",
      "Epoch 83/119\n",
      "----------\n"
     ]
    },
    {
     "data": {
      "application/vnd.jupyter.widget-view+json": {
       "model_id": "e03641575d294bdf98eb9d7f7a8284fd",
       "version_major": 2,
       "version_minor": 0
      },
      "text/plain": [
       "HBox(children=(IntProgress(value=0, max=157), HTML(value='')))"
      ]
     },
     "metadata": {},
     "output_type": "display_data"
    },
    {
     "name": "stdout",
     "output_type": "stream",
     "text": [
      "\n",
      "Finish training\n",
      "Loss: 0.4384, root_acc: 0.9264, vowel_acc: 0.9598, consonant_acc: 0.9710, combined_acc: 0.9459, root_recall: 0.9198, vowel_recall: 0.9494, consonant_recall: 0.9404, combined_recall: 0.9323\n",
      "\n"
     ]
    },
    {
     "data": {
      "application/vnd.jupyter.widget-view+json": {
       "model_id": "c1fcbaeb71c543ab891e45b38fe1e1e5",
       "version_major": 2,
       "version_minor": 0
      },
      "text/plain": [
       "HBox(children=(IntProgress(value=0, max=20), HTML(value='')))"
      ]
     },
     "metadata": {},
     "output_type": "display_data"
    },
    {
     "name": "stdout",
     "output_type": "stream",
     "text": [
      "\n",
      "Finish validating\n",
      "Loss: 0.1788, root_acc: 0.9320, vowel_acc: 0.9804, consonant_acc: 0.9787, combined_acc: 0.9558, root_recall: 0.9206, vowel_recall: 0.9697, consonant_recall: 0.9583, combined_recall: 0.9423\n",
      "\n"
     ]
    },
    {
     "data": {
      "application/vnd.jupyter.widget-view+json": {
       "model_id": "b4ed7b3ac5d74624b1c6625d5cedfc70",
       "version_major": 2,
       "version_minor": 0
      },
      "text/plain": [
       "HBox(children=(IntProgress(value=0, max=20), HTML(value='')))"
      ]
     },
     "metadata": {},
     "output_type": "display_data"
    },
    {
     "name": "stdout",
     "output_type": "stream",
     "text": [
      "\n",
      "Finish no aug validation\n",
      "Loss: 0.1788, root_acc: 0.9320, vowel_acc: 0.9804, consonant_acc: 0.9787, combined_acc: 0.9558, root_recall: 0.9206, vowel_recall: 0.9697, consonant_recall: 0.9583, combined_recall: 0.9423\n",
      "\n",
      "\n",
      "Epoch 84/119\n",
      "----------\n"
     ]
    },
    {
     "data": {
      "application/vnd.jupyter.widget-view+json": {
       "model_id": "ee06cee618fd46f6a10655ebb36d1fcc",
       "version_major": 2,
       "version_minor": 0
      },
      "text/plain": [
       "HBox(children=(IntProgress(value=0, max=157), HTML(value='')))"
      ]
     },
     "metadata": {},
     "output_type": "display_data"
    },
    {
     "name": "stdout",
     "output_type": "stream",
     "text": [
      "\n",
      "Finish training\n",
      "Loss: 0.4444, root_acc: 0.9243, vowel_acc: 0.9586, consonant_acc: 0.9702, combined_acc: 0.9443, root_recall: 0.9165, vowel_recall: 0.9502, consonant_recall: 0.9381, combined_recall: 0.9303\n",
      "\n"
     ]
    },
    {
     "data": {
      "application/vnd.jupyter.widget-view+json": {
       "model_id": "dd2985a9e3bf4172b65ea5cc136a48d3",
       "version_major": 2,
       "version_minor": 0
      },
      "text/plain": [
       "HBox(children=(IntProgress(value=0, max=20), HTML(value='')))"
      ]
     },
     "metadata": {},
     "output_type": "display_data"
    },
    {
     "name": "stdout",
     "output_type": "stream",
     "text": [
      "\n",
      "Finish validating\n",
      "Loss: 0.2029, root_acc: 0.9281, vowel_acc: 0.9813, consonant_acc: 0.9787, combined_acc: 0.9540, root_recall: 0.9086, vowel_recall: 0.9731, consonant_recall: 0.9632, combined_recall: 0.9384\n",
      "\n"
     ]
    },
    {
     "data": {
      "application/vnd.jupyter.widget-view+json": {
       "model_id": "8afbfbec873048d688eb4a0dd6aa0e89",
       "version_major": 2,
       "version_minor": 0
      },
      "text/plain": [
       "HBox(children=(IntProgress(value=0, max=20), HTML(value='')))"
      ]
     },
     "metadata": {},
     "output_type": "display_data"
    },
    {
     "name": "stdout",
     "output_type": "stream",
     "text": [
      "\n",
      "Finish no aug validation\n",
      "Loss: 0.2029, root_acc: 0.9281, vowel_acc: 0.9813, consonant_acc: 0.9787, combined_acc: 0.9540, root_recall: 0.9086, vowel_recall: 0.9731, consonant_recall: 0.9632, combined_recall: 0.9384\n",
      "\n",
      "\n",
      "Epoch 85/119\n",
      "----------\n"
     ]
    },
    {
     "data": {
      "application/vnd.jupyter.widget-view+json": {
       "model_id": "0f82caefae894671b25ba39c409827f5",
       "version_major": 2,
       "version_minor": 0
      },
      "text/plain": [
       "HBox(children=(IntProgress(value=0, max=157), HTML(value='')))"
      ]
     },
     "metadata": {},
     "output_type": "display_data"
    },
    {
     "name": "stdout",
     "output_type": "stream",
     "text": [
      "\n",
      "Finish training\n",
      "Loss: 0.4411, root_acc: 0.9260, vowel_acc: 0.9621, consonant_acc: 0.9717, combined_acc: 0.9464, root_recall: 0.9181, vowel_recall: 0.9536, consonant_recall: 0.9367, combined_recall: 0.9316\n",
      "\n"
     ]
    },
    {
     "data": {
      "application/vnd.jupyter.widget-view+json": {
       "model_id": "56e7fabeb47744a29e64e4873cc1d1d5",
       "version_major": 2,
       "version_minor": 0
      },
      "text/plain": [
       "HBox(children=(IntProgress(value=0, max=20), HTML(value='')))"
      ]
     },
     "metadata": {},
     "output_type": "display_data"
    },
    {
     "name": "stdout",
     "output_type": "stream",
     "text": [
      "\n",
      "Finish validating\n",
      "Loss: 0.1734, root_acc: 0.9281, vowel_acc: 0.9784, consonant_acc: 0.9783, combined_acc: 0.9532, root_recall: 0.9133, vowel_recall: 0.9742, consonant_recall: 0.9641, combined_recall: 0.9412\n",
      "\n"
     ]
    },
    {
     "data": {
      "application/vnd.jupyter.widget-view+json": {
       "model_id": "c0eac8dedc264eb3acee61bb705a1b3e",
       "version_major": 2,
       "version_minor": 0
      },
      "text/plain": [
       "HBox(children=(IntProgress(value=0, max=20), HTML(value='')))"
      ]
     },
     "metadata": {},
     "output_type": "display_data"
    },
    {
     "name": "stdout",
     "output_type": "stream",
     "text": [
      "\n",
      "Finish no aug validation\n",
      "Loss: 0.1734, root_acc: 0.9281, vowel_acc: 0.9784, consonant_acc: 0.9783, combined_acc: 0.9532, root_recall: 0.9133, vowel_recall: 0.9742, consonant_recall: 0.9641, combined_recall: 0.9412\n",
      "\n",
      "\n",
      "Epoch 86/119\n",
      "----------\n"
     ]
    },
    {
     "data": {
      "application/vnd.jupyter.widget-view+json": {
       "model_id": "bfdc9f6d7b784db8946ae3c5d8e09da8",
       "version_major": 2,
       "version_minor": 0
      },
      "text/plain": [
       "HBox(children=(IntProgress(value=0, max=157), HTML(value='')))"
      ]
     },
     "metadata": {},
     "output_type": "display_data"
    },
    {
     "name": "stdout",
     "output_type": "stream",
     "text": [
      "\n",
      "Finish training\n",
      "Loss: 0.4364, root_acc: 0.9256, vowel_acc: 0.9614, consonant_acc: 0.9729, combined_acc: 0.9464, root_recall: 0.9176, vowel_recall: 0.9522, consonant_recall: 0.9386, combined_recall: 0.9315\n",
      "\n"
     ]
    },
    {
     "data": {
      "application/vnd.jupyter.widget-view+json": {
       "model_id": "71afe29f758447488faf18b41b7e3811",
       "version_major": 2,
       "version_minor": 0
      },
      "text/plain": [
       "HBox(children=(IntProgress(value=0, max=20), HTML(value='')))"
      ]
     },
     "metadata": {},
     "output_type": "display_data"
    },
    {
     "name": "stdout",
     "output_type": "stream",
     "text": [
      "\n",
      "Finish validating\n",
      "Loss: 0.1735, root_acc: 0.9342, vowel_acc: 0.9826, consonant_acc: 0.9799, combined_acc: 0.9577, root_recall: 0.9249, vowel_recall: 0.9727, consonant_recall: 0.9646, combined_recall: 0.9468\n",
      "\n"
     ]
    },
    {
     "data": {
      "application/vnd.jupyter.widget-view+json": {
       "model_id": "4e29adbceb674ac3bbbcf3df0bf24668",
       "version_major": 2,
       "version_minor": 0
      },
      "text/plain": [
       "HBox(children=(IntProgress(value=0, max=20), HTML(value='')))"
      ]
     },
     "metadata": {},
     "output_type": "display_data"
    },
    {
     "name": "stdout",
     "output_type": "stream",
     "text": [
      "\n",
      "Finish no aug validation\n",
      "Loss: 0.1735, root_acc: 0.9342, vowel_acc: 0.9826, consonant_acc: 0.9799, combined_acc: 0.9577, root_recall: 0.9249, vowel_recall: 0.9727, consonant_recall: 0.9646, combined_recall: 0.9468\n",
      "\n",
      "\n",
      "Epoch 87/119\n",
      "----------\n"
     ]
    },
    {
     "data": {
      "application/vnd.jupyter.widget-view+json": {
       "model_id": "b72b610dfccc49f18aaa0e5e973eb83a",
       "version_major": 2,
       "version_minor": 0
      },
      "text/plain": [
       "HBox(children=(IntProgress(value=0, max=157), HTML(value='')))"
      ]
     },
     "metadata": {},
     "output_type": "display_data"
    },
    {
     "name": "stdout",
     "output_type": "stream",
     "text": [
      "\n",
      "Finish training\n",
      "Loss: 0.4414, root_acc: 0.9236, vowel_acc: 0.9593, consonant_acc: 0.9694, combined_acc: 0.9440, root_recall: 0.9163, vowel_recall: 0.9501, consonant_recall: 0.9457, combined_recall: 0.9321\n",
      "\n"
     ]
    },
    {
     "data": {
      "application/vnd.jupyter.widget-view+json": {
       "model_id": "9e7b40bee84d4e11a60e6a188e075a13",
       "version_major": 2,
       "version_minor": 0
      },
      "text/plain": [
       "HBox(children=(IntProgress(value=0, max=20), HTML(value='')))"
      ]
     },
     "metadata": {},
     "output_type": "display_data"
    },
    {
     "name": "stdout",
     "output_type": "stream",
     "text": [
      "\n",
      "Finish validating\n",
      "Loss: 0.1806, root_acc: 0.9304, vowel_acc: 0.9820, consonant_acc: 0.9785, combined_acc: 0.9553, root_recall: 0.9243, vowel_recall: 0.9701, consonant_recall: 0.9610, combined_recall: 0.9449\n",
      "\n"
     ]
    },
    {
     "data": {
      "application/vnd.jupyter.widget-view+json": {
       "model_id": "13a21871c3a448769c8d92fe6e3241ba",
       "version_major": 2,
       "version_minor": 0
      },
      "text/plain": [
       "HBox(children=(IntProgress(value=0, max=20), HTML(value='')))"
      ]
     },
     "metadata": {},
     "output_type": "display_data"
    },
    {
     "name": "stdout",
     "output_type": "stream",
     "text": [
      "\n",
      "Finish no aug validation\n",
      "Loss: 0.1806, root_acc: 0.9304, vowel_acc: 0.9820, consonant_acc: 0.9785, combined_acc: 0.9553, root_recall: 0.9243, vowel_recall: 0.9701, consonant_recall: 0.9610, combined_recall: 0.9449\n",
      "\n",
      "\n",
      "Epoch 88/119\n",
      "----------\n"
     ]
    },
    {
     "data": {
      "application/vnd.jupyter.widget-view+json": {
       "model_id": "582e9963aab1427ca9e9bd9264bf84db",
       "version_major": 2,
       "version_minor": 0
      },
      "text/plain": [
       "HBox(children=(IntProgress(value=0, max=157), HTML(value='')))"
      ]
     },
     "metadata": {},
     "output_type": "display_data"
    },
    {
     "name": "stdout",
     "output_type": "stream",
     "text": [
      "\n",
      "Finish training\n",
      "Loss: 0.4374, root_acc: 0.9252, vowel_acc: 0.9602, consonant_acc: 0.9722, combined_acc: 0.9457, root_recall: 0.9169, vowel_recall: 0.9507, consonant_recall: 0.9516, combined_recall: 0.9340\n",
      "\n"
     ]
    },
    {
     "data": {
      "application/vnd.jupyter.widget-view+json": {
       "model_id": "474d8cd609a648e1bd2bfeb19ea748a1",
       "version_major": 2,
       "version_minor": 0
      },
      "text/plain": [
       "HBox(children=(IntProgress(value=0, max=20), HTML(value='')))"
      ]
     },
     "metadata": {},
     "output_type": "display_data"
    },
    {
     "name": "stdout",
     "output_type": "stream",
     "text": [
      "\n",
      "Finish validating\n",
      "Loss: 0.1754, root_acc: 0.9342, vowel_acc: 0.9782, consonant_acc: 0.9792, combined_acc: 0.9564, root_recall: 0.9212, vowel_recall: 0.9721, consonant_recall: 0.9597, combined_recall: 0.9435\n",
      "\n"
     ]
    },
    {
     "data": {
      "application/vnd.jupyter.widget-view+json": {
       "model_id": "90e96c2f12be412892400723c6c8caa7",
       "version_major": 2,
       "version_minor": 0
      },
      "text/plain": [
       "HBox(children=(IntProgress(value=0, max=20), HTML(value='')))"
      ]
     },
     "metadata": {},
     "output_type": "display_data"
    },
    {
     "name": "stdout",
     "output_type": "stream",
     "text": [
      "\n",
      "Finish no aug validation\n",
      "Loss: 0.1754, root_acc: 0.9342, vowel_acc: 0.9782, consonant_acc: 0.9792, combined_acc: 0.9564, root_recall: 0.9212, vowel_recall: 0.9721, consonant_recall: 0.9597, combined_recall: 0.9435\n",
      "\n",
      "\n",
      "Epoch 89/119\n",
      "----------\n"
     ]
    },
    {
     "data": {
      "application/vnd.jupyter.widget-view+json": {
       "model_id": "bbb6d6d7a1ff42c3b80824ebf81a171c",
       "version_major": 2,
       "version_minor": 0
      },
      "text/plain": [
       "HBox(children=(IntProgress(value=0, max=157), HTML(value='')))"
      ]
     },
     "metadata": {},
     "output_type": "display_data"
    },
    {
     "name": "stdout",
     "output_type": "stream",
     "text": [
      "\n",
      "Finish training\n",
      "Loss: 0.4271, root_acc: 0.9279, vowel_acc: 0.9617, consonant_acc: 0.9728, combined_acc: 0.9476, root_recall: 0.9224, vowel_recall: 0.9521, consonant_recall: 0.9380, combined_recall: 0.9337\n",
      "\n"
     ]
    },
    {
     "data": {
      "application/vnd.jupyter.widget-view+json": {
       "model_id": "d9fc54cf35984311b1a57e6c773e24c1",
       "version_major": 2,
       "version_minor": 0
      },
      "text/plain": [
       "HBox(children=(IntProgress(value=0, max=20), HTML(value='')))"
      ]
     },
     "metadata": {},
     "output_type": "display_data"
    },
    {
     "name": "stdout",
     "output_type": "stream",
     "text": [
      "\n",
      "Finish validating\n",
      "Loss: 0.2125, root_acc: 0.9232, vowel_acc: 0.9787, consonant_acc: 0.9712, combined_acc: 0.9491, root_recall: 0.9104, vowel_recall: 0.9696, consonant_recall: 0.9389, combined_recall: 0.9323\n",
      "\n"
     ]
    },
    {
     "data": {
      "application/vnd.jupyter.widget-view+json": {
       "model_id": "e68f000523a2443db482b98a96ea1390",
       "version_major": 2,
       "version_minor": 0
      },
      "text/plain": [
       "HBox(children=(IntProgress(value=0, max=20), HTML(value='')))"
      ]
     },
     "metadata": {},
     "output_type": "display_data"
    },
    {
     "name": "stdout",
     "output_type": "stream",
     "text": [
      "\n",
      "Finish no aug validation\n",
      "Loss: 0.2125, root_acc: 0.9232, vowel_acc: 0.9787, consonant_acc: 0.9712, combined_acc: 0.9491, root_recall: 0.9104, vowel_recall: 0.9696, consonant_recall: 0.9389, combined_recall: 0.9323\n",
      "\n",
      "\n",
      "Epoch 90/119\n",
      "----------\n"
     ]
    },
    {
     "data": {
      "application/vnd.jupyter.widget-view+json": {
       "model_id": "48c7496985954a3a8c219d5478cc74a7",
       "version_major": 2,
       "version_minor": 0
      },
      "text/plain": [
       "HBox(children=(IntProgress(value=0, max=157), HTML(value='')))"
      ]
     },
     "metadata": {},
     "output_type": "display_data"
    },
    {
     "name": "stdout",
     "output_type": "stream",
     "text": [
      "\n",
      "Finish training\n",
      "Loss: 0.4325, root_acc: 0.9251, vowel_acc: 0.9608, consonant_acc: 0.9728, combined_acc: 0.9460, root_recall: 0.9174, vowel_recall: 0.9499, consonant_recall: 0.9475, combined_recall: 0.9330\n",
      "\n"
     ]
    },
    {
     "data": {
      "application/vnd.jupyter.widget-view+json": {
       "model_id": "ba0e56eac4a84f1d8811e0e403c270aa",
       "version_major": 2,
       "version_minor": 0
      },
      "text/plain": [
       "HBox(children=(IntProgress(value=0, max=20), HTML(value='')))"
      ]
     },
     "metadata": {},
     "output_type": "display_data"
    },
    {
     "name": "stdout",
     "output_type": "stream",
     "text": [
      "\n",
      "Finish validating\n",
      "Loss: 0.2092, root_acc: 0.9253, vowel_acc: 0.9796, consonant_acc: 0.9766, combined_acc: 0.9517, root_recall: 0.9098, vowel_recall: 0.9731, consonant_recall: 0.9579, combined_recall: 0.9377\n",
      "\n"
     ]
    },
    {
     "data": {
      "application/vnd.jupyter.widget-view+json": {
       "model_id": "2fd99f4ccfd24467b23c7b437b59f9fb",
       "version_major": 2,
       "version_minor": 0
      },
      "text/plain": [
       "HBox(children=(IntProgress(value=0, max=20), HTML(value='')))"
      ]
     },
     "metadata": {},
     "output_type": "display_data"
    },
    {
     "name": "stdout",
     "output_type": "stream",
     "text": [
      "\n",
      "Finish no aug validation\n",
      "Loss: 0.2092, root_acc: 0.9253, vowel_acc: 0.9796, consonant_acc: 0.9766, combined_acc: 0.9517, root_recall: 0.9098, vowel_recall: 0.9731, consonant_recall: 0.9579, combined_recall: 0.9377\n",
      "\n",
      "\n",
      "Epoch 91/119\n",
      "----------\n"
     ]
    },
    {
     "data": {
      "application/vnd.jupyter.widget-view+json": {
       "model_id": "321acd41cb2e46f0b80a42c9e703130f",
       "version_major": 2,
       "version_minor": 0
      },
      "text/plain": [
       "HBox(children=(IntProgress(value=0, max=157), HTML(value='')))"
      ]
     },
     "metadata": {},
     "output_type": "display_data"
    },
    {
     "name": "stdout",
     "output_type": "stream",
     "text": [
      "\n",
      "Finish training\n",
      "Loss: 0.4316, root_acc: 0.9266, vowel_acc: 0.9623, consonant_acc: 0.9723, combined_acc: 0.9469, root_recall: 0.9186, vowel_recall: 0.9547, consonant_recall: 0.9429, combined_recall: 0.9337\n",
      "\n"
     ]
    },
    {
     "data": {
      "application/vnd.jupyter.widget-view+json": {
       "model_id": "fa94efa2c2624f0f961e49a723ccbd0f",
       "version_major": 2,
       "version_minor": 0
      },
      "text/plain": [
       "HBox(children=(IntProgress(value=0, max=20), HTML(value='')))"
      ]
     },
     "metadata": {},
     "output_type": "display_data"
    },
    {
     "name": "stdout",
     "output_type": "stream",
     "text": [
      "\n",
      "Finish validating\n",
      "Loss: 0.2018, root_acc: 0.9295, vowel_acc: 0.9827, consonant_acc: 0.9770, combined_acc: 0.9547, root_recall: 0.9115, vowel_recall: 0.9761, consonant_recall: 0.9609, combined_recall: 0.9400\n",
      "\n"
     ]
    },
    {
     "data": {
      "application/vnd.jupyter.widget-view+json": {
       "model_id": "7439be28e0f348bdb3354a07da07ed92",
       "version_major": 2,
       "version_minor": 0
      },
      "text/plain": [
       "HBox(children=(IntProgress(value=0, max=20), HTML(value='')))"
      ]
     },
     "metadata": {},
     "output_type": "display_data"
    },
    {
     "name": "stdout",
     "output_type": "stream",
     "text": [
      "\n",
      "Finish no aug validation\n",
      "Loss: 0.2018, root_acc: 0.9295, vowel_acc: 0.9827, consonant_acc: 0.9770, combined_acc: 0.9547, root_recall: 0.9115, vowel_recall: 0.9761, consonant_recall: 0.9609, combined_recall: 0.9400\n",
      "\n",
      "\n",
      "Epoch 92/119\n",
      "----------\n"
     ]
    },
    {
     "data": {
      "application/vnd.jupyter.widget-view+json": {
       "model_id": "51fe28afcc724f6a83ecc924f4429b33",
       "version_major": 2,
       "version_minor": 0
      },
      "text/plain": [
       "HBox(children=(IntProgress(value=0, max=157), HTML(value='')))"
      ]
     },
     "metadata": {},
     "output_type": "display_data"
    },
    {
     "name": "stdout",
     "output_type": "stream",
     "text": [
      "\n",
      "Finish training\n",
      "Loss: 0.4314, root_acc: 0.9261, vowel_acc: 0.9628, consonant_acc: 0.9733, combined_acc: 0.9471, root_recall: 0.9188, vowel_recall: 0.9528, consonant_recall: 0.9487, combined_recall: 0.9348\n",
      "\n"
     ]
    },
    {
     "data": {
      "application/vnd.jupyter.widget-view+json": {
       "model_id": "f5d6083d92974334b0895c5fb360a6d6",
       "version_major": 2,
       "version_minor": 0
      },
      "text/plain": [
       "HBox(children=(IntProgress(value=0, max=20), HTML(value='')))"
      ]
     },
     "metadata": {},
     "output_type": "display_data"
    },
    {
     "name": "stdout",
     "output_type": "stream",
     "text": [
      "\n",
      "Finish validating\n",
      "Loss: 0.1762, root_acc: 0.9237, vowel_acc: 0.9814, consonant_acc: 0.9806, combined_acc: 0.9524, root_recall: 0.9140, vowel_recall: 0.9704, consonant_recall: 0.9601, combined_recall: 0.9396\n",
      "\n"
     ]
    },
    {
     "data": {
      "application/vnd.jupyter.widget-view+json": {
       "model_id": "ffdb4f73f9e744c1a3d63cc366eb1717",
       "version_major": 2,
       "version_minor": 0
      },
      "text/plain": [
       "HBox(children=(IntProgress(value=0, max=20), HTML(value='')))"
      ]
     },
     "metadata": {},
     "output_type": "display_data"
    },
    {
     "name": "stdout",
     "output_type": "stream",
     "text": [
      "\n",
      "Finish no aug validation\n",
      "Loss: 0.1762, root_acc: 0.9237, vowel_acc: 0.9814, consonant_acc: 0.9806, combined_acc: 0.9524, root_recall: 0.9140, vowel_recall: 0.9704, consonant_recall: 0.9601, combined_recall: 0.9396\n",
      "\n",
      "\n",
      "Epoch 93/119\n",
      "----------\n"
     ]
    },
    {
     "data": {
      "application/vnd.jupyter.widget-view+json": {
       "model_id": "a7e0a3fbf5804ef6b6a5ac8d5aeb16a5",
       "version_major": 2,
       "version_minor": 0
      },
      "text/plain": [
       "HBox(children=(IntProgress(value=0, max=157), HTML(value='')))"
      ]
     },
     "metadata": {},
     "output_type": "display_data"
    },
    {
     "name": "stdout",
     "output_type": "stream",
     "text": [
      "\n",
      "Finish training\n",
      "Loss: 0.4274, root_acc: 0.9259, vowel_acc: 0.9618, consonant_acc: 0.9729, combined_acc: 0.9466, root_recall: 0.9215, vowel_recall: 0.9512, consonant_recall: 0.9485, combined_recall: 0.9356\n",
      "\n"
     ]
    },
    {
     "data": {
      "application/vnd.jupyter.widget-view+json": {
       "model_id": "a3c0b875a1ba4def8d685adc89929d04",
       "version_major": 2,
       "version_minor": 0
      },
      "text/plain": [
       "HBox(children=(IntProgress(value=0, max=20), HTML(value='')))"
      ]
     },
     "metadata": {},
     "output_type": "display_data"
    },
    {
     "name": "stdout",
     "output_type": "stream",
     "text": [
      "\n",
      "Finish validating\n",
      "Loss: 0.1961, root_acc: 0.9277, vowel_acc: 0.9809, consonant_acc: 0.9794, combined_acc: 0.9539, root_recall: 0.9171, vowel_recall: 0.9738, consonant_recall: 0.9579, combined_recall: 0.9415\n",
      "\n"
     ]
    },
    {
     "data": {
      "application/vnd.jupyter.widget-view+json": {
       "model_id": "14e87cf9440843f1aeceea5e71a1814e",
       "version_major": 2,
       "version_minor": 0
      },
      "text/plain": [
       "HBox(children=(IntProgress(value=0, max=20), HTML(value='')))"
      ]
     },
     "metadata": {},
     "output_type": "display_data"
    },
    {
     "name": "stdout",
     "output_type": "stream",
     "text": [
      "\n",
      "Finish no aug validation\n",
      "Loss: 0.1961, root_acc: 0.9277, vowel_acc: 0.9809, consonant_acc: 0.9794, combined_acc: 0.9539, root_recall: 0.9171, vowel_recall: 0.9738, consonant_recall: 0.9579, combined_recall: 0.9415\n",
      "\n",
      "\n",
      "Epoch 94/119\n",
      "----------\n"
     ]
    },
    {
     "data": {
      "application/vnd.jupyter.widget-view+json": {
       "model_id": "bb929dc8ab09464086f1690f878d0390",
       "version_major": 2,
       "version_minor": 0
      },
      "text/plain": [
       "HBox(children=(IntProgress(value=0, max=157), HTML(value='')))"
      ]
     },
     "metadata": {},
     "output_type": "display_data"
    },
    {
     "name": "stdout",
     "output_type": "stream",
     "text": [
      "\n",
      "Finish training\n",
      "Loss: 0.4246, root_acc: 0.9265, vowel_acc: 0.9626, consonant_acc: 0.9740, combined_acc: 0.9474, root_recall: 0.9175, vowel_recall: 0.9532, consonant_recall: 0.9530, combined_recall: 0.9353\n",
      "\n"
     ]
    },
    {
     "data": {
      "application/vnd.jupyter.widget-view+json": {
       "model_id": "dd3f665756094f7a959d9bd35d7b82d5",
       "version_major": 2,
       "version_minor": 0
      },
      "text/plain": [
       "HBox(children=(IntProgress(value=0, max=20), HTML(value='')))"
      ]
     },
     "metadata": {},
     "output_type": "display_data"
    },
    {
     "name": "stdout",
     "output_type": "stream",
     "text": [
      "\n",
      "Finish validating\n",
      "Loss: 0.1853, root_acc: 0.9327, vowel_acc: 0.9806, consonant_acc: 0.9785, combined_acc: 0.9561, root_recall: 0.9187, vowel_recall: 0.9696, consonant_recall: 0.9554, combined_recall: 0.9406\n",
      "\n"
     ]
    },
    {
     "data": {
      "application/vnd.jupyter.widget-view+json": {
       "model_id": "03dee73eef1d4b15890a4a7059fc6dc1",
       "version_major": 2,
       "version_minor": 0
      },
      "text/plain": [
       "HBox(children=(IntProgress(value=0, max=20), HTML(value='')))"
      ]
     },
     "metadata": {},
     "output_type": "display_data"
    },
    {
     "name": "stdout",
     "output_type": "stream",
     "text": [
      "\n",
      "Finish no aug validation\n",
      "Loss: 0.1853, root_acc: 0.9327, vowel_acc: 0.9806, consonant_acc: 0.9785, combined_acc: 0.9561, root_recall: 0.9187, vowel_recall: 0.9696, consonant_recall: 0.9554, combined_recall: 0.9406\n",
      "\n",
      "\n",
      "Epoch 95/119\n",
      "----------\n"
     ]
    },
    {
     "data": {
      "application/vnd.jupyter.widget-view+json": {
       "model_id": "32f1e39a9b3649ce9fd802a2f5e31c00",
       "version_major": 2,
       "version_minor": 0
      },
      "text/plain": [
       "HBox(children=(IntProgress(value=0, max=157), HTML(value='')))"
      ]
     },
     "metadata": {},
     "output_type": "display_data"
    },
    {
     "name": "stdout",
     "output_type": "stream",
     "text": [
      "\n",
      "Finish training\n",
      "Loss: 0.4248, root_acc: 0.9290, vowel_acc: 0.9636, consonant_acc: 0.9738, combined_acc: 0.9489, root_recall: 0.9220, vowel_recall: 0.9529, consonant_recall: 0.9512, combined_recall: 0.9370\n",
      "\n"
     ]
    },
    {
     "data": {
      "application/vnd.jupyter.widget-view+json": {
       "model_id": "3448655ce56643bd927721b0cecda0ca",
       "version_major": 2,
       "version_minor": 0
      },
      "text/plain": [
       "HBox(children=(IntProgress(value=0, max=20), HTML(value='')))"
      ]
     },
     "metadata": {},
     "output_type": "display_data"
    },
    {
     "name": "stdout",
     "output_type": "stream",
     "text": [
      "\n",
      "Finish validating\n",
      "Loss: 0.1928, root_acc: 0.9251, vowel_acc: 0.9772, consonant_acc: 0.9738, combined_acc: 0.9503, root_recall: 0.9098, vowel_recall: 0.9717, consonant_recall: 0.9548, combined_recall: 0.9365\n",
      "\n"
     ]
    },
    {
     "data": {
      "application/vnd.jupyter.widget-view+json": {
       "model_id": "9f394c5a679642208a99bc952e9bafe3",
       "version_major": 2,
       "version_minor": 0
      },
      "text/plain": [
       "HBox(children=(IntProgress(value=0, max=20), HTML(value='')))"
      ]
     },
     "metadata": {},
     "output_type": "display_data"
    },
    {
     "name": "stdout",
     "output_type": "stream",
     "text": [
      "\n",
      "Finish no aug validation\n",
      "Loss: 0.1928, root_acc: 0.9251, vowel_acc: 0.9772, consonant_acc: 0.9738, combined_acc: 0.9503, root_recall: 0.9098, vowel_recall: 0.9717, consonant_recall: 0.9548, combined_recall: 0.9365\n",
      "\n",
      "\n",
      "Epoch 96/119\n",
      "----------\n"
     ]
    },
    {
     "data": {
      "application/vnd.jupyter.widget-view+json": {
       "model_id": "66206dc11d174e31a363041464ced323",
       "version_major": 2,
       "version_minor": 0
      },
      "text/plain": [
       "HBox(children=(IntProgress(value=0, max=157), HTML(value='')))"
      ]
     },
     "metadata": {},
     "output_type": "display_data"
    },
    {
     "name": "stdout",
     "output_type": "stream",
     "text": [
      "\n",
      "Finish training\n",
      "Loss: 0.4297, root_acc: 0.9237, vowel_acc: 0.9608, consonant_acc: 0.9718, combined_acc: 0.9450, root_recall: 0.9157, vowel_recall: 0.9513, consonant_recall: 0.9467, combined_recall: 0.9323\n",
      "\n"
     ]
    },
    {
     "data": {
      "application/vnd.jupyter.widget-view+json": {
       "model_id": "96132abcd6fe4e7593f9c3a417a1efb8",
       "version_major": 2,
       "version_minor": 0
      },
      "text/plain": [
       "HBox(children=(IntProgress(value=0, max=20), HTML(value='')))"
      ]
     },
     "metadata": {},
     "output_type": "display_data"
    },
    {
     "name": "stdout",
     "output_type": "stream",
     "text": [
      "\n",
      "Finish validating\n",
      "Loss: 0.2157, root_acc: 0.9279, vowel_acc: 0.9787, consonant_acc: 0.9791, combined_acc: 0.9534, root_recall: 0.9133, vowel_recall: 0.9690, consonant_recall: 0.9660, combined_recall: 0.9404\n",
      "\n"
     ]
    },
    {
     "data": {
      "application/vnd.jupyter.widget-view+json": {
       "model_id": "7fbc85b591b64e3990d7284831761c88",
       "version_major": 2,
       "version_minor": 0
      },
      "text/plain": [
       "HBox(children=(IntProgress(value=0, max=20), HTML(value='')))"
      ]
     },
     "metadata": {},
     "output_type": "display_data"
    },
    {
     "name": "stdout",
     "output_type": "stream",
     "text": [
      "\n",
      "Finish no aug validation\n",
      "Loss: 0.2157, root_acc: 0.9279, vowel_acc: 0.9787, consonant_acc: 0.9791, combined_acc: 0.9534, root_recall: 0.9133, vowel_recall: 0.9690, consonant_recall: 0.9660, combined_recall: 0.9404\n",
      "\n",
      "\n",
      "Epoch 97/119\n",
      "----------\n"
     ]
    },
    {
     "data": {
      "application/vnd.jupyter.widget-view+json": {
       "model_id": "3fe8fbb03018457b9804d44e17019236",
       "version_major": 2,
       "version_minor": 0
      },
      "text/plain": [
       "HBox(children=(IntProgress(value=0, max=157), HTML(value='')))"
      ]
     },
     "metadata": {},
     "output_type": "display_data"
    },
    {
     "name": "stdout",
     "output_type": "stream",
     "text": [
      "\n",
      "Finish training\n",
      "Loss: 0.4226, root_acc: 0.9261, vowel_acc: 0.9620, consonant_acc: 0.9739, combined_acc: 0.9470, root_recall: 0.9196, vowel_recall: 0.9544, consonant_recall: 0.9480, combined_recall: 0.9354\n",
      "\n"
     ]
    },
    {
     "data": {
      "application/vnd.jupyter.widget-view+json": {
       "model_id": "b78285868f9148b9b6f1db7691323d83",
       "version_major": 2,
       "version_minor": 0
      },
      "text/plain": [
       "HBox(children=(IntProgress(value=0, max=20), HTML(value='')))"
      ]
     },
     "metadata": {},
     "output_type": "display_data"
    },
    {
     "name": "stdout",
     "output_type": "stream",
     "text": [
      "\n",
      "Finish validating\n",
      "Loss: 0.2069, root_acc: 0.9263, vowel_acc: 0.9806, consonant_acc: 0.9778, combined_acc: 0.9527, root_recall: 0.9157, vowel_recall: 0.9746, consonant_recall: 0.9579, combined_recall: 0.9410\n",
      "\n"
     ]
    },
    {
     "data": {
      "application/vnd.jupyter.widget-view+json": {
       "model_id": "814d1558345f49f2b286dfbef3a9db0b",
       "version_major": 2,
       "version_minor": 0
      },
      "text/plain": [
       "HBox(children=(IntProgress(value=0, max=20), HTML(value='')))"
      ]
     },
     "metadata": {},
     "output_type": "display_data"
    },
    {
     "name": "stdout",
     "output_type": "stream",
     "text": [
      "\n",
      "Finish no aug validation\n",
      "Loss: 0.2069, root_acc: 0.9263, vowel_acc: 0.9806, consonant_acc: 0.9778, combined_acc: 0.9527, root_recall: 0.9157, vowel_recall: 0.9746, consonant_recall: 0.9579, combined_recall: 0.9410\n",
      "\n",
      "\n",
      "Epoch 98/119\n",
      "----------\n"
     ]
    },
    {
     "data": {
      "application/vnd.jupyter.widget-view+json": {
       "model_id": "483220aa377e4f27bb50dd73cb7868d6",
       "version_major": 2,
       "version_minor": 0
      },
      "text/plain": [
       "HBox(children=(IntProgress(value=0, max=157), HTML(value='')))"
      ]
     },
     "metadata": {},
     "output_type": "display_data"
    },
    {
     "name": "stdout",
     "output_type": "stream",
     "text": [
      "\n",
      "Finish training\n",
      "Loss: 0.4201, root_acc: 0.9274, vowel_acc: 0.9633, consonant_acc: 0.9750, combined_acc: 0.9483, root_recall: 0.9196, vowel_recall: 0.9516, consonant_recall: 0.9468, combined_recall: 0.9344\n",
      "\n"
     ]
    },
    {
     "data": {
      "application/vnd.jupyter.widget-view+json": {
       "model_id": "05192dd452ee411c87a85aad4bb08510",
       "version_major": 2,
       "version_minor": 0
      },
      "text/plain": [
       "HBox(children=(IntProgress(value=0, max=20), HTML(value='')))"
      ]
     },
     "metadata": {},
     "output_type": "display_data"
    },
    {
     "name": "stdout",
     "output_type": "stream",
     "text": [
      "\n",
      "Finish validating\n",
      "Loss: 0.2067, root_acc: 0.9259, vowel_acc: 0.9792, consonant_acc: 0.9794, combined_acc: 0.9526, root_recall: 0.9124, vowel_recall: 0.9678, consonant_recall: 0.9600, combined_recall: 0.9382\n",
      "\n"
     ]
    },
    {
     "data": {
      "application/vnd.jupyter.widget-view+json": {
       "model_id": "0397f392de074d679c201f78f069e97f",
       "version_major": 2,
       "version_minor": 0
      },
      "text/plain": [
       "HBox(children=(IntProgress(value=0, max=20), HTML(value='')))"
      ]
     },
     "metadata": {},
     "output_type": "display_data"
    },
    {
     "name": "stdout",
     "output_type": "stream",
     "text": [
      "\n",
      "Finish no aug validation\n",
      "Loss: 0.2067, root_acc: 0.9259, vowel_acc: 0.9792, consonant_acc: 0.9794, combined_acc: 0.9526, root_recall: 0.9124, vowel_recall: 0.9678, consonant_recall: 0.9600, combined_recall: 0.9382\n",
      "\n",
      "\n",
      "Epoch 99/119\n",
      "----------\n"
     ]
    },
    {
     "data": {
      "application/vnd.jupyter.widget-view+json": {
       "model_id": "ef773b1976414eecad2cc25cd2cf182c",
       "version_major": 2,
       "version_minor": 0
      },
      "text/plain": [
       "HBox(children=(IntProgress(value=0, max=157), HTML(value='')))"
      ]
     },
     "metadata": {},
     "output_type": "display_data"
    },
    {
     "name": "stdout",
     "output_type": "stream",
     "text": [
      "\n",
      "Finish training\n",
      "Loss: 0.4186, root_acc: 0.9276, vowel_acc: 0.9660, consonant_acc: 0.9723, combined_acc: 0.9483, root_recall: 0.9184, vowel_recall: 0.9567, consonant_recall: 0.9468, combined_recall: 0.9350\n",
      "\n"
     ]
    },
    {
     "data": {
      "application/vnd.jupyter.widget-view+json": {
       "model_id": "d61665578dc2446f8b16e1e6845eb6bc",
       "version_major": 2,
       "version_minor": 0
      },
      "text/plain": [
       "HBox(children=(IntProgress(value=0, max=20), HTML(value='')))"
      ]
     },
     "metadata": {},
     "output_type": "display_data"
    },
    {
     "name": "stdout",
     "output_type": "stream",
     "text": [
      "\n",
      "Finish validating\n",
      "Loss: 0.2290, root_acc: 0.9217, vowel_acc: 0.9759, consonant_acc: 0.9776, combined_acc: 0.9492, root_recall: 0.9084, vowel_recall: 0.9623, consonant_recall: 0.9254, combined_recall: 0.9261\n",
      "\n"
     ]
    },
    {
     "data": {
      "application/vnd.jupyter.widget-view+json": {
       "model_id": "330450aae86c4116b05257a25fc1061d",
       "version_major": 2,
       "version_minor": 0
      },
      "text/plain": [
       "HBox(children=(IntProgress(value=0, max=20), HTML(value='')))"
      ]
     },
     "metadata": {},
     "output_type": "display_data"
    },
    {
     "name": "stdout",
     "output_type": "stream",
     "text": [
      "\n",
      "Finish no aug validation\n",
      "Loss: 0.2290, root_acc: 0.9217, vowel_acc: 0.9759, consonant_acc: 0.9776, combined_acc: 0.9492, root_recall: 0.9084, vowel_recall: 0.9623, consonant_recall: 0.9254, combined_recall: 0.9261\n",
      "\n",
      "\n",
      "Epoch 100/119\n",
      "----------\n"
     ]
    },
    {
     "data": {
      "application/vnd.jupyter.widget-view+json": {
       "model_id": "d202a0a14502473c90e77c20537364ca",
       "version_major": 2,
       "version_minor": 0
      },
      "text/plain": [
       "HBox(children=(IntProgress(value=0, max=157), HTML(value='')))"
      ]
     },
     "metadata": {},
     "output_type": "display_data"
    },
    {
     "name": "stdout",
     "output_type": "stream",
     "text": [
      "\n",
      "Finish training\n",
      "Loss: 0.4255, root_acc: 0.9236, vowel_acc: 0.9619, consonant_acc: 0.9738, combined_acc: 0.9457, root_recall: 0.9183, vowel_recall: 0.9515, consonant_recall: 0.9450, combined_recall: 0.9333\n",
      "\n"
     ]
    },
    {
     "data": {
      "application/vnd.jupyter.widget-view+json": {
       "model_id": "ffc21962f5f84d62aa13a396af335062",
       "version_major": 2,
       "version_minor": 0
      },
      "text/plain": [
       "HBox(children=(IntProgress(value=0, max=20), HTML(value='')))"
      ]
     },
     "metadata": {},
     "output_type": "display_data"
    },
    {
     "name": "stdout",
     "output_type": "stream",
     "text": [
      "\n",
      "Finish validating\n",
      "Loss: 0.2186, root_acc: 0.9296, vowel_acc: 0.9796, consonant_acc: 0.9767, combined_acc: 0.9539, root_recall: 0.9185, vowel_recall: 0.9647, consonant_recall: 0.9512, combined_recall: 0.9382\n",
      "\n"
     ]
    },
    {
     "data": {
      "application/vnd.jupyter.widget-view+json": {
       "model_id": "b3fd21af8c354207b3e118b23329767e",
       "version_major": 2,
       "version_minor": 0
      },
      "text/plain": [
       "HBox(children=(IntProgress(value=0, max=20), HTML(value='')))"
      ]
     },
     "metadata": {},
     "output_type": "display_data"
    },
    {
     "name": "stdout",
     "output_type": "stream",
     "text": [
      "\n",
      "Finish no aug validation\n",
      "Loss: 0.2186, root_acc: 0.9296, vowel_acc: 0.9796, consonant_acc: 0.9767, combined_acc: 0.9539, root_recall: 0.9185, vowel_recall: 0.9647, consonant_recall: 0.9512, combined_recall: 0.9382\n",
      "\n",
      "\n",
      "Epoch 101/119\n",
      "----------\n"
     ]
    },
    {
     "data": {
      "application/vnd.jupyter.widget-view+json": {
       "model_id": "25535906bdc84dabb8c412fcbed2dc83",
       "version_major": 2,
       "version_minor": 0
      },
      "text/plain": [
       "HBox(children=(IntProgress(value=0, max=157), HTML(value='')))"
      ]
     },
     "metadata": {},
     "output_type": "display_data"
    },
    {
     "name": "stdout",
     "output_type": "stream",
     "text": [
      "\n",
      "Finish training\n",
      "Loss: 0.4175, root_acc: 0.9274, vowel_acc: 0.9638, consonant_acc: 0.9741, combined_acc: 0.9482, root_recall: 0.9199, vowel_recall: 0.9550, consonant_recall: 0.9518, combined_recall: 0.9366\n",
      "\n"
     ]
    },
    {
     "data": {
      "application/vnd.jupyter.widget-view+json": {
       "model_id": "38f01e7003ed42e29da3171991b4801d",
       "version_major": 2,
       "version_minor": 0
      },
      "text/plain": [
       "HBox(children=(IntProgress(value=0, max=20), HTML(value='')))"
      ]
     },
     "metadata": {},
     "output_type": "display_data"
    },
    {
     "name": "stdout",
     "output_type": "stream",
     "text": [
      "\n",
      "Finish validating\n",
      "Loss: 0.1693, root_acc: 0.9325, vowel_acc: 0.9829, consonant_acc: 0.9819, combined_acc: 0.9574, root_recall: 0.9231, vowel_recall: 0.9743, consonant_recall: 0.9701, combined_recall: 0.9476\n",
      "\n"
     ]
    },
    {
     "data": {
      "application/vnd.jupyter.widget-view+json": {
       "model_id": "8a151fe490c042c28885a00d3d9e3095",
       "version_major": 2,
       "version_minor": 0
      },
      "text/plain": [
       "HBox(children=(IntProgress(value=0, max=20), HTML(value='')))"
      ]
     },
     "metadata": {},
     "output_type": "display_data"
    },
    {
     "name": "stdout",
     "output_type": "stream",
     "text": [
      "\n",
      "Finish no aug validation\n",
      "Loss: 0.1693, root_acc: 0.9325, vowel_acc: 0.9829, consonant_acc: 0.9819, combined_acc: 0.9574, root_recall: 0.9231, vowel_recall: 0.9743, consonant_recall: 0.9701, combined_recall: 0.9476\n",
      "\n",
      "\n",
      "Epoch 102/119\n",
      "----------\n"
     ]
    },
    {
     "data": {
      "application/vnd.jupyter.widget-view+json": {
       "model_id": "07b955d4d3ba429ebadb978e51556f5a",
       "version_major": 2,
       "version_minor": 0
      },
      "text/plain": [
       "HBox(children=(IntProgress(value=0, max=157), HTML(value='')))"
      ]
     },
     "metadata": {},
     "output_type": "display_data"
    },
    {
     "name": "stdout",
     "output_type": "stream",
     "text": [
      "\n",
      "Finish training\n",
      "Loss: 0.4148, root_acc: 0.9291, vowel_acc: 0.9648, consonant_acc: 0.9768, combined_acc: 0.9500, root_recall: 0.9218, vowel_recall: 0.9562, consonant_recall: 0.9489, combined_recall: 0.9372\n",
      "\n"
     ]
    },
    {
     "data": {
      "application/vnd.jupyter.widget-view+json": {
       "model_id": "e62ed336535b4fa7ba9ab42d5ad320d0",
       "version_major": 2,
       "version_minor": 0
      },
      "text/plain": [
       "HBox(children=(IntProgress(value=0, max=20), HTML(value='')))"
      ]
     },
     "metadata": {},
     "output_type": "display_data"
    },
    {
     "name": "stdout",
     "output_type": "stream",
     "text": [
      "\n",
      "Finish validating\n",
      "Loss: 0.2161, root_acc: 0.9306, vowel_acc: 0.9830, consonant_acc: 0.9767, combined_acc: 0.9552, root_recall: 0.9225, vowel_recall: 0.9747, consonant_recall: 0.9544, combined_recall: 0.9435\n",
      "\n"
     ]
    },
    {
     "data": {
      "application/vnd.jupyter.widget-view+json": {
       "model_id": "31baa8b605d847c6b61b58d8a9ad705f",
       "version_major": 2,
       "version_minor": 0
      },
      "text/plain": [
       "HBox(children=(IntProgress(value=0, max=20), HTML(value='')))"
      ]
     },
     "metadata": {},
     "output_type": "display_data"
    },
    {
     "name": "stdout",
     "output_type": "stream",
     "text": [
      "\n",
      "Finish no aug validation\n",
      "Loss: 0.2161, root_acc: 0.9306, vowel_acc: 0.9830, consonant_acc: 0.9767, combined_acc: 0.9552, root_recall: 0.9225, vowel_recall: 0.9747, consonant_recall: 0.9544, combined_recall: 0.9435\n",
      "\n",
      "\n",
      "Epoch 103/119\n",
      "----------\n"
     ]
    },
    {
     "data": {
      "application/vnd.jupyter.widget-view+json": {
       "model_id": "7a0fa2797d9a45aeb725abc3c70b9153",
       "version_major": 2,
       "version_minor": 0
      },
      "text/plain": [
       "HBox(children=(IntProgress(value=0, max=157), HTML(value='')))"
      ]
     },
     "metadata": {},
     "output_type": "display_data"
    },
    {
     "name": "stdout",
     "output_type": "stream",
     "text": [
      "\n",
      "Finish training\n",
      "Loss: 0.4141, root_acc: 0.9274, vowel_acc: 0.9627, consonant_acc: 0.9742, combined_acc: 0.9479, root_recall: 0.9187, vowel_recall: 0.9536, consonant_recall: 0.9464, combined_recall: 0.9344\n",
      "\n"
     ]
    },
    {
     "data": {
      "application/vnd.jupyter.widget-view+json": {
       "model_id": "2023a7b0c02b44a9a97511630cbfbe05",
       "version_major": 2,
       "version_minor": 0
      },
      "text/plain": [
       "HBox(children=(IntProgress(value=0, max=20), HTML(value='')))"
      ]
     },
     "metadata": {},
     "output_type": "display_data"
    },
    {
     "name": "stdout",
     "output_type": "stream",
     "text": [
      "\n",
      "Finish validating\n",
      "Loss: 0.2057, root_acc: 0.9293, vowel_acc: 0.9820, consonant_acc: 0.9771, combined_acc: 0.9544, root_recall: 0.9227, vowel_recall: 0.9694, consonant_recall: 0.9604, combined_recall: 0.9438\n",
      "\n"
     ]
    },
    {
     "data": {
      "application/vnd.jupyter.widget-view+json": {
       "model_id": "22f800c2d0264dca94217addccdcda86",
       "version_major": 2,
       "version_minor": 0
      },
      "text/plain": [
       "HBox(children=(IntProgress(value=0, max=20), HTML(value='')))"
      ]
     },
     "metadata": {},
     "output_type": "display_data"
    },
    {
     "name": "stdout",
     "output_type": "stream",
     "text": [
      "\n",
      "Finish no aug validation\n",
      "Loss: 0.2057, root_acc: 0.9293, vowel_acc: 0.9820, consonant_acc: 0.9771, combined_acc: 0.9544, root_recall: 0.9227, vowel_recall: 0.9694, consonant_recall: 0.9604, combined_recall: 0.9438\n",
      "\n",
      "\n",
      "Epoch 104/119\n",
      "----------\n"
     ]
    },
    {
     "data": {
      "application/vnd.jupyter.widget-view+json": {
       "model_id": "a76f71799db4480b929ea9edd7e2f98b",
       "version_major": 2,
       "version_minor": 0
      },
      "text/plain": [
       "HBox(children=(IntProgress(value=0, max=157), HTML(value='')))"
      ]
     },
     "metadata": {},
     "output_type": "display_data"
    },
    {
     "name": "stdout",
     "output_type": "stream",
     "text": [
      "\n",
      "Finish training\n",
      "Loss: 0.4136, root_acc: 0.9297, vowel_acc: 0.9657, consonant_acc: 0.9739, combined_acc: 0.9498, root_recall: 0.9225, vowel_recall: 0.9565, consonant_recall: 0.9536, combined_recall: 0.9388\n",
      "\n"
     ]
    },
    {
     "data": {
      "application/vnd.jupyter.widget-view+json": {
       "model_id": "bec440813471494888731e3a780dcc2f",
       "version_major": 2,
       "version_minor": 0
      },
      "text/plain": [
       "HBox(children=(IntProgress(value=0, max=20), HTML(value='')))"
      ]
     },
     "metadata": {},
     "output_type": "display_data"
    },
    {
     "name": "stdout",
     "output_type": "stream",
     "text": [
      "\n",
      "Finish validating\n",
      "Loss: 0.1978, root_acc: 0.9280, vowel_acc: 0.9776, consonant_acc: 0.9762, combined_acc: 0.9524, root_recall: 0.9222, vowel_recall: 0.9666, consonant_recall: 0.9581, combined_recall: 0.9423\n",
      "\n"
     ]
    },
    {
     "data": {
      "application/vnd.jupyter.widget-view+json": {
       "model_id": "c476617e578b4742803583aca339f223",
       "version_major": 2,
       "version_minor": 0
      },
      "text/plain": [
       "HBox(children=(IntProgress(value=0, max=20), HTML(value='')))"
      ]
     },
     "metadata": {},
     "output_type": "display_data"
    },
    {
     "name": "stdout",
     "output_type": "stream",
     "text": [
      "\n",
      "Finish no aug validation\n",
      "Loss: 0.1978, root_acc: 0.9280, vowel_acc: 0.9776, consonant_acc: 0.9762, combined_acc: 0.9524, root_recall: 0.9222, vowel_recall: 0.9666, consonant_recall: 0.9581, combined_recall: 0.9423\n",
      "\n",
      "\n",
      "Epoch 105/119\n",
      "----------\n"
     ]
    },
    {
     "data": {
      "application/vnd.jupyter.widget-view+json": {
       "model_id": "1b51bc6210214144a36d75cb95c62fdd",
       "version_major": 2,
       "version_minor": 0
      },
      "text/plain": [
       "HBox(children=(IntProgress(value=0, max=157), HTML(value='')))"
      ]
     },
     "metadata": {},
     "output_type": "display_data"
    },
    {
     "name": "stdout",
     "output_type": "stream",
     "text": [
      "\n",
      "Finish training\n",
      "Loss: 0.4145, root_acc: 0.9280, vowel_acc: 0.9654, consonant_acc: 0.9732, combined_acc: 0.9486, root_recall: 0.9206, vowel_recall: 0.9563, consonant_recall: 0.9484, combined_recall: 0.9365\n",
      "\n"
     ]
    },
    {
     "data": {
      "application/vnd.jupyter.widget-view+json": {
       "model_id": "ebe7e79fa9114c07ac41287e4c9002d8",
       "version_major": 2,
       "version_minor": 0
      },
      "text/plain": [
       "HBox(children=(IntProgress(value=0, max=20), HTML(value='')))"
      ]
     },
     "metadata": {},
     "output_type": "display_data"
    },
    {
     "name": "stdout",
     "output_type": "stream",
     "text": [
      "\n",
      "Finish validating\n",
      "Loss: 0.1975, root_acc: 0.9303, vowel_acc: 0.9793, consonant_acc: 0.9755, combined_acc: 0.9538, root_recall: 0.9211, vowel_recall: 0.9689, consonant_recall: 0.9579, combined_recall: 0.9422\n",
      "\n"
     ]
    },
    {
     "data": {
      "application/vnd.jupyter.widget-view+json": {
       "model_id": "b073b6330d4843b8b1ae25f5e9289a29",
       "version_major": 2,
       "version_minor": 0
      },
      "text/plain": [
       "HBox(children=(IntProgress(value=0, max=20), HTML(value='')))"
      ]
     },
     "metadata": {},
     "output_type": "display_data"
    },
    {
     "name": "stdout",
     "output_type": "stream",
     "text": [
      "\n",
      "Finish no aug validation\n",
      "Loss: 0.1975, root_acc: 0.9303, vowel_acc: 0.9793, consonant_acc: 0.9755, combined_acc: 0.9538, root_recall: 0.9211, vowel_recall: 0.9689, consonant_recall: 0.9579, combined_recall: 0.9422\n",
      "\n",
      "\n",
      "Epoch 106/119\n",
      "----------\n"
     ]
    },
    {
     "data": {
      "application/vnd.jupyter.widget-view+json": {
       "model_id": "b0953ce5987d4bdf907125a014e807dc",
       "version_major": 2,
       "version_minor": 0
      },
      "text/plain": [
       "HBox(children=(IntProgress(value=0, max=157), HTML(value='')))"
      ]
     },
     "metadata": {},
     "output_type": "display_data"
    },
    {
     "name": "stdout",
     "output_type": "stream",
     "text": [
      "\n",
      "Finish training\n",
      "Loss: 0.4184, root_acc: 0.9266, vowel_acc: 0.9648, consonant_acc: 0.9727, combined_acc: 0.9477, root_recall: 0.9191, vowel_recall: 0.9549, consonant_recall: 0.9448, combined_recall: 0.9345\n",
      "\n"
     ]
    },
    {
     "data": {
      "application/vnd.jupyter.widget-view+json": {
       "model_id": "94a3077ea47c4d3eab43cb71fbd58241",
       "version_major": 2,
       "version_minor": 0
      },
      "text/plain": [
       "HBox(children=(IntProgress(value=0, max=20), HTML(value='')))"
      ]
     },
     "metadata": {},
     "output_type": "display_data"
    },
    {
     "name": "stdout",
     "output_type": "stream",
     "text": [
      "\n",
      "Finish validating\n",
      "Loss: 0.1736, root_acc: 0.9281, vowel_acc: 0.9811, consonant_acc: 0.9774, combined_acc: 0.9537, root_recall: 0.9222, vowel_recall: 0.9678, consonant_recall: 0.9669, combined_recall: 0.9448\n",
      "\n"
     ]
    },
    {
     "data": {
      "application/vnd.jupyter.widget-view+json": {
       "model_id": "530fb08f8afe461585c5a144c7246001",
       "version_major": 2,
       "version_minor": 0
      },
      "text/plain": [
       "HBox(children=(IntProgress(value=0, max=20), HTML(value='')))"
      ]
     },
     "metadata": {},
     "output_type": "display_data"
    },
    {
     "name": "stdout",
     "output_type": "stream",
     "text": [
      "\n",
      "Finish no aug validation\n",
      "Loss: 0.1736, root_acc: 0.9281, vowel_acc: 0.9811, consonant_acc: 0.9774, combined_acc: 0.9537, root_recall: 0.9222, vowel_recall: 0.9678, consonant_recall: 0.9669, combined_recall: 0.9448\n",
      "\n",
      "\n",
      "Epoch 107/119\n",
      "----------\n"
     ]
    },
    {
     "data": {
      "application/vnd.jupyter.widget-view+json": {
       "model_id": "27a8798edc3e4686ba10d23caa00c45a",
       "version_major": 2,
       "version_minor": 0
      },
      "text/plain": [
       "HBox(children=(IntProgress(value=0, max=157), HTML(value='')))"
      ]
     },
     "metadata": {},
     "output_type": "display_data"
    },
    {
     "name": "stdout",
     "output_type": "stream",
     "text": [
      "\n",
      "Finish training\n",
      "Loss: 0.4091, root_acc: 0.9300, vowel_acc: 0.9646, consonant_acc: 0.9755, combined_acc: 0.9500, root_recall: 0.9231, vowel_recall: 0.9569, consonant_recall: 0.9495, combined_recall: 0.9381\n",
      "\n"
     ]
    },
    {
     "data": {
      "application/vnd.jupyter.widget-view+json": {
       "model_id": "10b320987c1e41c5b953deea5b13a543",
       "version_major": 2,
       "version_minor": 0
      },
      "text/plain": [
       "HBox(children=(IntProgress(value=0, max=20), HTML(value='')))"
      ]
     },
     "metadata": {},
     "output_type": "display_data"
    },
    {
     "name": "stdout",
     "output_type": "stream",
     "text": [
      "\n",
      "Finish validating\n",
      "Loss: 0.2002, root_acc: 0.9278, vowel_acc: 0.9805, consonant_acc: 0.9774, combined_acc: 0.9534, root_recall: 0.9181, vowel_recall: 0.9723, consonant_recall: 0.9603, combined_recall: 0.9422\n",
      "\n"
     ]
    },
    {
     "data": {
      "application/vnd.jupyter.widget-view+json": {
       "model_id": "a8dfbffc86a84f178d1ed1c27b2acfe2",
       "version_major": 2,
       "version_minor": 0
      },
      "text/plain": [
       "HBox(children=(IntProgress(value=0, max=20), HTML(value='')))"
      ]
     },
     "metadata": {},
     "output_type": "display_data"
    },
    {
     "name": "stdout",
     "output_type": "stream",
     "text": [
      "\n",
      "Finish no aug validation\n",
      "Loss: 0.2002, root_acc: 0.9278, vowel_acc: 0.9805, consonant_acc: 0.9774, combined_acc: 0.9534, root_recall: 0.9181, vowel_recall: 0.9723, consonant_recall: 0.9603, combined_recall: 0.9422\n",
      "\n",
      "\n",
      "Epoch 108/119\n",
      "----------\n"
     ]
    },
    {
     "data": {
      "application/vnd.jupyter.widget-view+json": {
       "model_id": "08c54d6e3c464d279a06446a8e56ee41",
       "version_major": 2,
       "version_minor": 0
      },
      "text/plain": [
       "HBox(children=(IntProgress(value=0, max=157), HTML(value='')))"
      ]
     },
     "metadata": {},
     "output_type": "display_data"
    },
    {
     "name": "stdout",
     "output_type": "stream",
     "text": [
      "\n",
      "Finish training\n",
      "Loss: 0.4081, root_acc: 0.9273, vowel_acc: 0.9664, consonant_acc: 0.9758, combined_acc: 0.9492, root_recall: 0.9192, vowel_recall: 0.9580, consonant_recall: 0.9519, combined_recall: 0.9371\n",
      "\n"
     ]
    },
    {
     "data": {
      "application/vnd.jupyter.widget-view+json": {
       "model_id": "f9f27f7ea5d14143a15e69d7fa34a278",
       "version_major": 2,
       "version_minor": 0
      },
      "text/plain": [
       "HBox(children=(IntProgress(value=0, max=20), HTML(value='')))"
      ]
     },
     "metadata": {},
     "output_type": "display_data"
    },
    {
     "name": "stdout",
     "output_type": "stream",
     "text": [
      "\n",
      "Finish validating\n",
      "Loss: 0.2159, root_acc: 0.9202, vowel_acc: 0.9805, consonant_acc: 0.9679, combined_acc: 0.9472, root_recall: 0.9016, vowel_recall: 0.9660, consonant_recall: 0.9524, combined_recall: 0.9304\n",
      "\n"
     ]
    },
    {
     "data": {
      "application/vnd.jupyter.widget-view+json": {
       "model_id": "1dcfac816c8a4f769280cbc3322896fb",
       "version_major": 2,
       "version_minor": 0
      },
      "text/plain": [
       "HBox(children=(IntProgress(value=0, max=20), HTML(value='')))"
      ]
     },
     "metadata": {},
     "output_type": "display_data"
    },
    {
     "name": "stdout",
     "output_type": "stream",
     "text": [
      "\n",
      "Finish no aug validation\n",
      "Loss: 0.2159, root_acc: 0.9202, vowel_acc: 0.9805, consonant_acc: 0.9679, combined_acc: 0.9472, root_recall: 0.9016, vowel_recall: 0.9660, consonant_recall: 0.9524, combined_recall: 0.9304\n",
      "\n",
      "\n",
      "Epoch 109/119\n",
      "----------\n"
     ]
    },
    {
     "data": {
      "application/vnd.jupyter.widget-view+json": {
       "model_id": "fc3d0b7c452f4a7191042b874c5a2d29",
       "version_major": 2,
       "version_minor": 0
      },
      "text/plain": [
       "HBox(children=(IntProgress(value=0, max=157), HTML(value='')))"
      ]
     },
     "metadata": {},
     "output_type": "display_data"
    },
    {
     "name": "stdout",
     "output_type": "stream",
     "text": [
      "\n",
      "Finish training\n",
      "Loss: 0.4037, root_acc: 0.9326, vowel_acc: 0.9646, consonant_acc: 0.9762, combined_acc: 0.9515, root_recall: 0.9227, vowel_recall: 0.9547, consonant_recall: 0.9449, combined_recall: 0.9363\n",
      "\n"
     ]
    },
    {
     "data": {
      "application/vnd.jupyter.widget-view+json": {
       "model_id": "4298d3c7e9ee4cf5aba322b90c98f3f0",
       "version_major": 2,
       "version_minor": 0
      },
      "text/plain": [
       "HBox(children=(IntProgress(value=0, max=20), HTML(value='')))"
      ]
     },
     "metadata": {},
     "output_type": "display_data"
    },
    {
     "name": "stdout",
     "output_type": "stream",
     "text": [
      "\n",
      "Finish validating\n",
      "Loss: 0.1969, root_acc: 0.9297, vowel_acc: 0.9781, consonant_acc: 0.9774, combined_acc: 0.9537, root_recall: 0.9192, vowel_recall: 0.9698, consonant_recall: 0.9527, combined_recall: 0.9402\n",
      "\n"
     ]
    },
    {
     "data": {
      "application/vnd.jupyter.widget-view+json": {
       "model_id": "6d7e4265c95846bd8a29c45d78f0d5c5",
       "version_major": 2,
       "version_minor": 0
      },
      "text/plain": [
       "HBox(children=(IntProgress(value=0, max=20), HTML(value='')))"
      ]
     },
     "metadata": {},
     "output_type": "display_data"
    },
    {
     "name": "stdout",
     "output_type": "stream",
     "text": [
      "\n",
      "Finish no aug validation\n",
      "Loss: 0.1969, root_acc: 0.9297, vowel_acc: 0.9781, consonant_acc: 0.9774, combined_acc: 0.9537, root_recall: 0.9192, vowel_recall: 0.9698, consonant_recall: 0.9527, combined_recall: 0.9402\n",
      "\n",
      "\n",
      "Epoch 110/119\n",
      "----------\n"
     ]
    },
    {
     "data": {
      "application/vnd.jupyter.widget-view+json": {
       "model_id": "bfbd77754d2346e2917cd267d30b6102",
       "version_major": 2,
       "version_minor": 0
      },
      "text/plain": [
       "HBox(children=(IntProgress(value=0, max=157), HTML(value='')))"
      ]
     },
     "metadata": {},
     "output_type": "display_data"
    },
    {
     "name": "stdout",
     "output_type": "stream",
     "text": [
      "\n",
      "Finish training\n",
      "Loss: 0.4073, root_acc: 0.9321, vowel_acc: 0.9661, consonant_acc: 0.9769, combined_acc: 0.9518, root_recall: 0.9235, vowel_recall: 0.9585, consonant_recall: 0.9475, combined_recall: 0.9383\n",
      "\n"
     ]
    },
    {
     "data": {
      "application/vnd.jupyter.widget-view+json": {
       "model_id": "b4a25cdc81d04bf49cef7c2cb0385aed",
       "version_major": 2,
       "version_minor": 0
      },
      "text/plain": [
       "HBox(children=(IntProgress(value=0, max=20), HTML(value='')))"
      ]
     },
     "metadata": {},
     "output_type": "display_data"
    },
    {
     "name": "stdout",
     "output_type": "stream",
     "text": [
      "\n",
      "Finish validating\n",
      "Loss: 0.1776, root_acc: 0.9288, vowel_acc: 0.9815, consonant_acc: 0.9785, combined_acc: 0.9544, root_recall: 0.9237, vowel_recall: 0.9714, consonant_recall: 0.9675, combined_recall: 0.9466\n",
      "\n"
     ]
    },
    {
     "data": {
      "application/vnd.jupyter.widget-view+json": {
       "model_id": "8bb2ad8f53ac4b1687f1f1bbaf3f06be",
       "version_major": 2,
       "version_minor": 0
      },
      "text/plain": [
       "HBox(children=(IntProgress(value=0, max=20), HTML(value='')))"
      ]
     },
     "metadata": {},
     "output_type": "display_data"
    },
    {
     "name": "stdout",
     "output_type": "stream",
     "text": [
      "\n",
      "Finish no aug validation\n",
      "Loss: 0.1776, root_acc: 0.9288, vowel_acc: 0.9815, consonant_acc: 0.9785, combined_acc: 0.9544, root_recall: 0.9237, vowel_recall: 0.9714, consonant_recall: 0.9675, combined_recall: 0.9466\n",
      "\n",
      "\n",
      "Epoch 111/119\n",
      "----------\n"
     ]
    },
    {
     "data": {
      "application/vnd.jupyter.widget-view+json": {
       "model_id": "268c5195baf8439abcdfd59458fdbeec",
       "version_major": 2,
       "version_minor": 0
      },
      "text/plain": [
       "HBox(children=(IntProgress(value=0, max=157), HTML(value='')))"
      ]
     },
     "metadata": {},
     "output_type": "display_data"
    },
    {
     "name": "stdout",
     "output_type": "stream",
     "text": [
      "\n",
      "Finish training\n",
      "Loss: 0.4093, root_acc: 0.9282, vowel_acc: 0.9652, consonant_acc: 0.9746, combined_acc: 0.9491, root_recall: 0.9222, vowel_recall: 0.9534, consonant_recall: 0.9479, combined_recall: 0.9364\n",
      "\n"
     ]
    },
    {
     "data": {
      "application/vnd.jupyter.widget-view+json": {
       "model_id": "d6258af783a64ab890cbbb98c27d4a77",
       "version_major": 2,
       "version_minor": 0
      },
      "text/plain": [
       "HBox(children=(IntProgress(value=0, max=20), HTML(value='')))"
      ]
     },
     "metadata": {},
     "output_type": "display_data"
    },
    {
     "name": "stdout",
     "output_type": "stream",
     "text": [
      "\n",
      "Finish validating\n",
      "Loss: 0.1927, root_acc: 0.9313, vowel_acc: 0.9810, consonant_acc: 0.9779, combined_acc: 0.9554, root_recall: 0.9166, vowel_recall: 0.9703, consonant_recall: 0.9541, combined_recall: 0.9394\n",
      "\n"
     ]
    },
    {
     "data": {
      "application/vnd.jupyter.widget-view+json": {
       "model_id": "1d34474bd4bc4e52bc07ed0bfff936bb",
       "version_major": 2,
       "version_minor": 0
      },
      "text/plain": [
       "HBox(children=(IntProgress(value=0, max=20), HTML(value='')))"
      ]
     },
     "metadata": {},
     "output_type": "display_data"
    },
    {
     "name": "stdout",
     "output_type": "stream",
     "text": [
      "\n",
      "Finish no aug validation\n",
      "Loss: 0.1927, root_acc: 0.9313, vowel_acc: 0.9810, consonant_acc: 0.9779, combined_acc: 0.9554, root_recall: 0.9166, vowel_recall: 0.9703, consonant_recall: 0.9541, combined_recall: 0.9394\n",
      "\n",
      "\n",
      "Epoch 112/119\n",
      "----------\n"
     ]
    },
    {
     "data": {
      "application/vnd.jupyter.widget-view+json": {
       "model_id": "d224c2f8eba14f8abcd04e0cdfb72401",
       "version_major": 2,
       "version_minor": 0
      },
      "text/plain": [
       "HBox(children=(IntProgress(value=0, max=157), HTML(value='')))"
      ]
     },
     "metadata": {},
     "output_type": "display_data"
    },
    {
     "name": "stdout",
     "output_type": "stream",
     "text": [
      "\n",
      "Finish training\n",
      "Loss: 0.4093, root_acc: 0.9297, vowel_acc: 0.9664, consonant_acc: 0.9770, combined_acc: 0.9507, root_recall: 0.9203, vowel_recall: 0.9572, consonant_recall: 0.9612, combined_recall: 0.9398\n",
      "\n"
     ]
    },
    {
     "data": {
      "application/vnd.jupyter.widget-view+json": {
       "model_id": "4a4158a2440848d4b9801c4d20bf10d4",
       "version_major": 2,
       "version_minor": 0
      },
      "text/plain": [
       "HBox(children=(IntProgress(value=0, max=20), HTML(value='')))"
      ]
     },
     "metadata": {},
     "output_type": "display_data"
    },
    {
     "name": "stdout",
     "output_type": "stream",
     "text": [
      "\n",
      "Finish validating\n",
      "Loss: 0.1920, root_acc: 0.9295, vowel_acc: 0.9803, consonant_acc: 0.9761, combined_acc: 0.9538, root_recall: 0.9232, vowel_recall: 0.9704, consonant_recall: 0.9471, combined_recall: 0.9410\n",
      "\n"
     ]
    },
    {
     "data": {
      "application/vnd.jupyter.widget-view+json": {
       "model_id": "5ea40141efa241f1931a3dd58ddc53d7",
       "version_major": 2,
       "version_minor": 0
      },
      "text/plain": [
       "HBox(children=(IntProgress(value=0, max=20), HTML(value='')))"
      ]
     },
     "metadata": {},
     "output_type": "display_data"
    },
    {
     "name": "stdout",
     "output_type": "stream",
     "text": [
      "\n",
      "Finish no aug validation\n",
      "Loss: 0.1920, root_acc: 0.9295, vowel_acc: 0.9803, consonant_acc: 0.9761, combined_acc: 0.9538, root_recall: 0.9232, vowel_recall: 0.9704, consonant_recall: 0.9471, combined_recall: 0.9410\n",
      "\n",
      "\n",
      "Epoch 113/119\n",
      "----------\n"
     ]
    },
    {
     "data": {
      "application/vnd.jupyter.widget-view+json": {
       "model_id": "bd0dd7b3afe0444b8a21f7a69f0fdec2",
       "version_major": 2,
       "version_minor": 0
      },
      "text/plain": [
       "HBox(children=(IntProgress(value=0, max=157), HTML(value='')))"
      ]
     },
     "metadata": {},
     "output_type": "display_data"
    },
    {
     "name": "stdout",
     "output_type": "stream",
     "text": [
      "\n",
      "Finish training\n",
      "Loss: 0.4032, root_acc: 0.9309, vowel_acc: 0.9664, consonant_acc: 0.9761, combined_acc: 0.9511, root_recall: 0.9245, vowel_recall: 0.9570, consonant_recall: 0.9477, combined_recall: 0.9384\n",
      "\n"
     ]
    },
    {
     "data": {
      "application/vnd.jupyter.widget-view+json": {
       "model_id": "f17f22a4f7c14117b835abe7b0c076d9",
       "version_major": 2,
       "version_minor": 0
      },
      "text/plain": [
       "HBox(children=(IntProgress(value=0, max=20), HTML(value='')))"
      ]
     },
     "metadata": {},
     "output_type": "display_data"
    },
    {
     "name": "stdout",
     "output_type": "stream",
     "text": [
      "\n",
      "Finish validating\n",
      "Loss: 0.2349, root_acc: 0.9264, vowel_acc: 0.9790, consonant_acc: 0.9762, combined_acc: 0.9520, root_recall: 0.9087, vowel_recall: 0.9715, consonant_recall: 0.9517, combined_recall: 0.9352\n",
      "\n"
     ]
    },
    {
     "data": {
      "application/vnd.jupyter.widget-view+json": {
       "model_id": "bc8c1bc8b62b476faef86566ebe37426",
       "version_major": 2,
       "version_minor": 0
      },
      "text/plain": [
       "HBox(children=(IntProgress(value=0, max=20), HTML(value='')))"
      ]
     },
     "metadata": {},
     "output_type": "display_data"
    },
    {
     "name": "stdout",
     "output_type": "stream",
     "text": [
      "\n",
      "Finish no aug validation\n",
      "Loss: 0.2349, root_acc: 0.9264, vowel_acc: 0.9790, consonant_acc: 0.9762, combined_acc: 0.9520, root_recall: 0.9087, vowel_recall: 0.9715, consonant_recall: 0.9517, combined_recall: 0.9352\n",
      "\n",
      "\n",
      "Epoch 114/119\n",
      "----------\n"
     ]
    },
    {
     "data": {
      "application/vnd.jupyter.widget-view+json": {
       "model_id": "6142003ba1044f6a89dfd863aea2f335",
       "version_major": 2,
       "version_minor": 0
      },
      "text/plain": [
       "HBox(children=(IntProgress(value=0, max=157), HTML(value='')))"
      ]
     },
     "metadata": {},
     "output_type": "display_data"
    },
    {
     "name": "stdout",
     "output_type": "stream",
     "text": [
      "\n",
      "Finish training\n",
      "Loss: 0.4049, root_acc: 0.9299, vowel_acc: 0.9664, consonant_acc: 0.9742, combined_acc: 0.9501, root_recall: 0.9246, vowel_recall: 0.9562, consonant_recall: 0.9505, combined_recall: 0.9390\n",
      "\n"
     ]
    },
    {
     "data": {
      "application/vnd.jupyter.widget-view+json": {
       "model_id": "a873db067fdd409d8b55e746372f6da5",
       "version_major": 2,
       "version_minor": 0
      },
      "text/plain": [
       "HBox(children=(IntProgress(value=0, max=20), HTML(value='')))"
      ]
     },
     "metadata": {},
     "output_type": "display_data"
    },
    {
     "name": "stdout",
     "output_type": "stream",
     "text": [
      "\n",
      "Finish validating\n",
      "Loss: 0.2253, root_acc: 0.9258, vowel_acc: 0.9807, consonant_acc: 0.9756, combined_acc: 0.9520, root_recall: 0.9152, vowel_recall: 0.9727, consonant_recall: 0.9651, combined_recall: 0.9421\n",
      "\n"
     ]
    },
    {
     "data": {
      "application/vnd.jupyter.widget-view+json": {
       "model_id": "496a7f59e0374f9c9a3363a4171a03b5",
       "version_major": 2,
       "version_minor": 0
      },
      "text/plain": [
       "HBox(children=(IntProgress(value=0, max=20), HTML(value='')))"
      ]
     },
     "metadata": {},
     "output_type": "display_data"
    },
    {
     "name": "stdout",
     "output_type": "stream",
     "text": [
      "\n",
      "Finish no aug validation\n",
      "Loss: 0.2253, root_acc: 0.9258, vowel_acc: 0.9807, consonant_acc: 0.9756, combined_acc: 0.9520, root_recall: 0.9152, vowel_recall: 0.9727, consonant_recall: 0.9651, combined_recall: 0.9421\n",
      "\n",
      "\n",
      "Epoch 115/119\n",
      "----------\n"
     ]
    },
    {
     "data": {
      "application/vnd.jupyter.widget-view+json": {
       "model_id": "6ea5a5e1ba5946c7b6b680ad31a03f4f",
       "version_major": 2,
       "version_minor": 0
      },
      "text/plain": [
       "HBox(children=(IntProgress(value=0, max=157), HTML(value='')))"
      ]
     },
     "metadata": {},
     "output_type": "display_data"
    },
    {
     "name": "stdout",
     "output_type": "stream",
     "text": [
      "\n",
      "Finish training\n",
      "Loss: 0.4045, root_acc: 0.9317, vowel_acc: 0.9673, consonant_acc: 0.9760, combined_acc: 0.9517, root_recall: 0.9264, vowel_recall: 0.9585, consonant_recall: 0.9511, combined_recall: 0.9406\n",
      "\n"
     ]
    },
    {
     "data": {
      "application/vnd.jupyter.widget-view+json": {
       "model_id": "f95664da1eb64365bcc22a96a082937d",
       "version_major": 2,
       "version_minor": 0
      },
      "text/plain": [
       "HBox(children=(IntProgress(value=0, max=20), HTML(value='')))"
      ]
     },
     "metadata": {},
     "output_type": "display_data"
    },
    {
     "name": "stdout",
     "output_type": "stream",
     "text": [
      "\n",
      "Finish validating\n",
      "Loss: 0.2125, root_acc: 0.9282, vowel_acc: 0.9780, consonant_acc: 0.9784, combined_acc: 0.9532, root_recall: 0.9151, vowel_recall: 0.9628, consonant_recall: 0.9623, combined_recall: 0.9388\n",
      "\n"
     ]
    },
    {
     "data": {
      "application/vnd.jupyter.widget-view+json": {
       "model_id": "89d69f3b409d420fb416e1dee72ff182",
       "version_major": 2,
       "version_minor": 0
      },
      "text/plain": [
       "HBox(children=(IntProgress(value=0, max=20), HTML(value='')))"
      ]
     },
     "metadata": {},
     "output_type": "display_data"
    },
    {
     "name": "stdout",
     "output_type": "stream",
     "text": [
      "\n",
      "Finish no aug validation\n",
      "Loss: 0.2125, root_acc: 0.9282, vowel_acc: 0.9780, consonant_acc: 0.9784, combined_acc: 0.9532, root_recall: 0.9151, vowel_recall: 0.9628, consonant_recall: 0.9623, combined_recall: 0.9388\n",
      "\n",
      "\n",
      "Epoch 116/119\n",
      "----------\n"
     ]
    },
    {
     "data": {
      "application/vnd.jupyter.widget-view+json": {
       "model_id": "6bc5885871ce4ced8ea24259eaff79e2",
       "version_major": 2,
       "version_minor": 0
      },
      "text/plain": [
       "HBox(children=(IntProgress(value=0, max=157), HTML(value='')))"
      ]
     },
     "metadata": {},
     "output_type": "display_data"
    },
    {
     "name": "stdout",
     "output_type": "stream",
     "text": [
      "\n",
      "Finish training\n",
      "Loss: 0.4004, root_acc: 0.9348, vowel_acc: 0.9679, consonant_acc: 0.9764, combined_acc: 0.9535, root_recall: 0.9280, vowel_recall: 0.9616, consonant_recall: 0.9531, combined_recall: 0.9427\n",
      "\n"
     ]
    },
    {
     "data": {
      "application/vnd.jupyter.widget-view+json": {
       "model_id": "6d8c4480ee7d4647811e569eae5008f7",
       "version_major": 2,
       "version_minor": 0
      },
      "text/plain": [
       "HBox(children=(IntProgress(value=0, max=20), HTML(value='')))"
      ]
     },
     "metadata": {},
     "output_type": "display_data"
    },
    {
     "name": "stdout",
     "output_type": "stream",
     "text": [
      "\n",
      "Finish validating\n",
      "Loss: 0.1768, root_acc: 0.9328, vowel_acc: 0.9814, consonant_acc: 0.9775, combined_acc: 0.9561, root_recall: 0.9226, vowel_recall: 0.9700, consonant_recall: 0.9644, combined_recall: 0.9449\n",
      "\n"
     ]
    },
    {
     "data": {
      "application/vnd.jupyter.widget-view+json": {
       "model_id": "c95a096d461846f2aabbd8794d26fa38",
       "version_major": 2,
       "version_minor": 0
      },
      "text/plain": [
       "HBox(children=(IntProgress(value=0, max=20), HTML(value='')))"
      ]
     },
     "metadata": {},
     "output_type": "display_data"
    },
    {
     "name": "stdout",
     "output_type": "stream",
     "text": [
      "\n",
      "Finish no aug validation\n",
      "Loss: 0.1768, root_acc: 0.9328, vowel_acc: 0.9814, consonant_acc: 0.9775, combined_acc: 0.9561, root_recall: 0.9226, vowel_recall: 0.9700, consonant_recall: 0.9644, combined_recall: 0.9449\n",
      "\n",
      "\n",
      "Epoch 117/119\n",
      "----------\n"
     ]
    },
    {
     "data": {
      "application/vnd.jupyter.widget-view+json": {
       "model_id": "1c4ebdb72a824bb4b151cb76f9c254a5",
       "version_major": 2,
       "version_minor": 0
      },
      "text/plain": [
       "HBox(children=(IntProgress(value=0, max=157), HTML(value='')))"
      ]
     },
     "metadata": {},
     "output_type": "display_data"
    },
    {
     "name": "stdout",
     "output_type": "stream",
     "text": [
      "\n",
      "Finish training\n",
      "Loss: 0.4040, root_acc: 0.9286, vowel_acc: 0.9658, consonant_acc: 0.9750, combined_acc: 0.9495, root_recall: 0.9203, vowel_recall: 0.9580, consonant_recall: 0.9538, combined_recall: 0.9381\n",
      "\n"
     ]
    },
    {
     "data": {
      "application/vnd.jupyter.widget-view+json": {
       "model_id": "5d70a8e52c334eb99fcc8adf4bcb5897",
       "version_major": 2,
       "version_minor": 0
      },
      "text/plain": [
       "HBox(children=(IntProgress(value=0, max=20), HTML(value='')))"
      ]
     },
     "metadata": {},
     "output_type": "display_data"
    },
    {
     "name": "stdout",
     "output_type": "stream",
     "text": [
      "\n",
      "Finish validating\n",
      "Loss: 0.2156, root_acc: 0.9363, vowel_acc: 0.9815, consonant_acc: 0.9751, combined_acc: 0.9573, root_recall: 0.9221, vowel_recall: 0.9710, consonant_recall: 0.9438, combined_recall: 0.9397\n",
      "\n"
     ]
    },
    {
     "data": {
      "application/vnd.jupyter.widget-view+json": {
       "model_id": "8f16322697d544628f78aef8975f0bd1",
       "version_major": 2,
       "version_minor": 0
      },
      "text/plain": [
       "HBox(children=(IntProgress(value=0, max=20), HTML(value='')))"
      ]
     },
     "metadata": {},
     "output_type": "display_data"
    },
    {
     "name": "stdout",
     "output_type": "stream",
     "text": [
      "\n",
      "Finish no aug validation\n",
      "Loss: 0.2156, root_acc: 0.9363, vowel_acc: 0.9815, consonant_acc: 0.9751, combined_acc: 0.9573, root_recall: 0.9221, vowel_recall: 0.9710, consonant_recall: 0.9438, combined_recall: 0.9397\n",
      "\n",
      "\n",
      "Epoch 118/119\n",
      "----------\n"
     ]
    },
    {
     "data": {
      "application/vnd.jupyter.widget-view+json": {
       "model_id": "ed613d00f7c24c5aa587927b8c4c074d",
       "version_major": 2,
       "version_minor": 0
      },
      "text/plain": [
       "HBox(children=(IntProgress(value=0, max=157), HTML(value='')))"
      ]
     },
     "metadata": {},
     "output_type": "display_data"
    },
    {
     "name": "stdout",
     "output_type": "stream",
     "text": [
      "\n",
      "Finish training\n",
      "Loss: 0.4039, root_acc: 0.9313, vowel_acc: 0.9684, consonant_acc: 0.9765, combined_acc: 0.9519, root_recall: 0.9237, vowel_recall: 0.9608, consonant_recall: 0.9444, combined_recall: 0.9381\n",
      "\n"
     ]
    },
    {
     "data": {
      "application/vnd.jupyter.widget-view+json": {
       "model_id": "f232be9a6798415aa629d9f403c42547",
       "version_major": 2,
       "version_minor": 0
      },
      "text/plain": [
       "HBox(children=(IntProgress(value=0, max=20), HTML(value='')))"
      ]
     },
     "metadata": {},
     "output_type": "display_data"
    },
    {
     "name": "stdout",
     "output_type": "stream",
     "text": [
      "\n",
      "Finish validating\n",
      "Loss: 0.2188, root_acc: 0.9340, vowel_acc: 0.9787, consonant_acc: 0.9756, combined_acc: 0.9556, root_recall: 0.9225, vowel_recall: 0.9576, consonant_recall: 0.9606, combined_recall: 0.9408\n",
      "\n"
     ]
    },
    {
     "data": {
      "application/vnd.jupyter.widget-view+json": {
       "model_id": "5a1114e58d5140f383d9dfd6de9a7597",
       "version_major": 2,
       "version_minor": 0
      },
      "text/plain": [
       "HBox(children=(IntProgress(value=0, max=20), HTML(value='')))"
      ]
     },
     "metadata": {},
     "output_type": "display_data"
    },
    {
     "name": "stdout",
     "output_type": "stream",
     "text": [
      "\n",
      "Finish no aug validation\n",
      "Loss: 0.2188, root_acc: 0.9340, vowel_acc: 0.9787, consonant_acc: 0.9756, combined_acc: 0.9556, root_recall: 0.9225, vowel_recall: 0.9576, consonant_recall: 0.9606, combined_recall: 0.9408\n",
      "\n",
      "\n",
      "Epoch 119/119\n",
      "----------\n"
     ]
    },
    {
     "data": {
      "application/vnd.jupyter.widget-view+json": {
       "model_id": "163d37ea97dd4ae997ed27d0104e5fee",
       "version_major": 2,
       "version_minor": 0
      },
      "text/plain": [
       "HBox(children=(IntProgress(value=0, max=157), HTML(value='')))"
      ]
     },
     "metadata": {},
     "output_type": "display_data"
    },
    {
     "name": "stdout",
     "output_type": "stream",
     "text": [
      "\n",
      "Finish training\n",
      "Loss: 0.3973, root_acc: 0.9326, vowel_acc: 0.9654, consonant_acc: 0.9753, combined_acc: 0.9515, root_recall: 0.9238, vowel_recall: 0.9575, consonant_recall: 0.9532, combined_recall: 0.9396\n",
      "\n"
     ]
    },
    {
     "data": {
      "application/vnd.jupyter.widget-view+json": {
       "model_id": "ae83e2a812ed448c88526332a06f72f2",
       "version_major": 2,
       "version_minor": 0
      },
      "text/plain": [
       "HBox(children=(IntProgress(value=0, max=20), HTML(value='')))"
      ]
     },
     "metadata": {},
     "output_type": "display_data"
    },
    {
     "name": "stdout",
     "output_type": "stream",
     "text": [
      "\n",
      "Finish validating\n",
      "Loss: 0.1793, root_acc: 0.9369, vowel_acc: 0.9821, consonant_acc: 0.9785, combined_acc: 0.9586, root_recall: 0.9248, vowel_recall: 0.9745, consonant_recall: 0.9692, combined_recall: 0.9483\n",
      "\n"
     ]
    },
    {
     "data": {
      "application/vnd.jupyter.widget-view+json": {
       "model_id": "6a36ce1d434e4bbcbbb8bab1ea5f95be",
       "version_major": 2,
       "version_minor": 0
      },
      "text/plain": [
       "HBox(children=(IntProgress(value=0, max=20), HTML(value='')))"
      ]
     },
     "metadata": {},
     "output_type": "display_data"
    },
    {
     "name": "stdout",
     "output_type": "stream",
     "text": [
      "\n",
      "Finish no aug validation\n",
      "Loss: 0.1793, root_acc: 0.9369, vowel_acc: 0.9821, consonant_acc: 0.9785, combined_acc: 0.9586, root_recall: 0.9248, vowel_recall: 0.9745, consonant_recall: 0.9692, combined_recall: 0.9483\n",
      "\n",
      "Highest val_combined_recall increases from 0.9482432247333031 to 0.9483460196607219.\n",
      "\n",
      "Training complete in 333m 13s\n"
     ]
    }
   ],
   "source": [
    "for i, (train_idx, valid_idx) in enumerate(zip(train_idx_list, test_idx_list)):\n",
    "    # skip unwanted fold\n",
    "    if i not in [0]:\n",
    "        continue\n",
    "\n",
    "    print(f\"Training fold {i}\")\n",
    "\n",
    "    # create model\n",
    "    model = model_arch(**model_parameter)\n",
    "\n",
    "    # create optimizer\n",
    "    optimizer_ft = optimizer(model.parameters(), **optimizer_parameter)\n",
    "\n",
    "    if swa:\n",
    "        optimizer_ft = torchcontrib.optim.SWA(optimizer_ft)\n",
    "\n",
    "    if mixed_precision:\n",
    "        model.to(\"cuda\")\n",
    "        model, optimizer_ft = amp.initialize(\n",
    "            model, optimizer_ft, opt_level=\"O1\")\n",
    "        model = nn.parallel.DataParallel(model)\n",
    "    else:\n",
    "        model.to(\"cuda\")\n",
    "        model = nn.DataParallel(model)\n",
    "\n",
    "    # create data loader\n",
    "    data_loaders = create_dataloaders_train(\n",
    "        image_data, name_data, label_data, train_idx, valid_idx,\n",
    "        data_transforms, batch_size, num_workers, pin_memory\n",
    "    )\n",
    "\n",
    "    # create epoch_scheduler\n",
    "    if epoch_scheduler_func:\n",
    "        epoch_scheduler = epoch_scheduler_func(\n",
    "            optimizer_ft, **epoch_scheduler_func_para)\n",
    "    else:\n",
    "        epoch_scheduler = None\n",
    "\n",
    "    # create error_plateaus_scheduler\n",
    "    if error_plateau_scheduler_func:\n",
    "        error_plateau_scheduler = error_plateau_scheduler_func(\n",
    "            optimizer_ft, **error_plateau_scheduler_func_para)\n",
    "    else:\n",
    "        error_plateau_scheduler = None\n",
    "\n",
    "    # callbacks = {}\n",
    "    if save_dir:\n",
    "        full_save_dir = os.path.join(save_dir, f\"fold_{i}\")\n",
    "    else:\n",
    "        full_save_dir = None\n",
    "\n",
    "    wandb.init(name=cfg.exp_name, project=cfg.project,config=cfg)\n",
    "    # Training\n",
    "    train_input_args = {\n",
    "        \"model\": model,\n",
    "        \"optimizer\": optimizer_ft,\n",
    "        \"dataloaders\": data_loaders,\n",
    "        \"mixed_precision\": mixed_precision,\n",
    "        \"train_loss_prob\": train_loss_prob,\n",
    "        \"class_weights\": class_weights,\n",
    "        \"head_weights\": head_weights,\n",
    "        \"mixup_alpha\": mixup_alpha,\n",
    "        \"cutmix_alpha\": cutmix_alpha,\n",
    "        \"num_epochs\": n_epoch,\n",
    "        \"epoch_scheduler\": epoch_scheduler,\n",
    "        \"error_plateau_scheduler\": error_plateau_scheduler,\n",
    "        \"save_dir\": full_save_dir,\n",
    "        \"wandb_log\": wandb_log,\n",
    "        \"swa\": swa,\n",
    "    }\n",
    "\n",
    "    callbacks = train_model(**train_input_args)"
   ]
  },
  {
   "cell_type": "markdown",
   "metadata": {},
   "source": [
    "# Analysis"
   ]
  },
  {
   "cell_type": "code",
   "execution_count": 27,
   "metadata": {
    "ExecuteTime": {
     "end_time": "2020-03-08T16:35:05.610680Z",
     "start_time": "2020-03-08T16:35:04.384614Z"
    }
   },
   "outputs": [
    {
     "name": "stdout",
     "output_type": "stream",
     "text": [
      "Creating train dataloader...\n",
      "Creating valid dataloader...\n"
     ]
    }
   ],
   "source": [
    "for i, (train_idx, valid_idx) in enumerate(zip(train_idx_list, test_idx_list)):\n",
    "    data_loaders = create_dataloaders_train(\n",
    "    image_data, name_data, label_data, train_idx, valid_idx, \n",
    "    data_transforms, batch_size, num_workers, pin_memory)\n",
    "    break\n",
    "    \n",
    "ls = []\n",
    "y1_ls = []\n",
    "y2_ls = []\n",
    "y3_ls = []\n",
    "y1_pred_ls = []\n",
    "y2_pred_ls = []\n",
    "y3_pred_ls = []\n"
   ]
  },
  {
   "cell_type": "code",
   "execution_count": 28,
   "metadata": {
    "ExecuteTime": {
     "end_time": "2020-03-08T16:35:21.173378Z",
     "start_time": "2020-03-08T16:35:05.612675Z"
    }
   },
   "outputs": [
    {
     "data": {
      "application/vnd.jupyter.widget-view+json": {
       "model_id": "76ac58ba7fec4388ab7bc64b1df7774d",
       "version_major": 2,
       "version_minor": 0
      },
      "text/plain": [
       "HBox(children=(IntProgress(value=0, max=20), HTML(value='')))"
      ]
     },
     "metadata": {},
     "output_type": "display_data"
    },
    {
     "name": "stderr",
     "output_type": "stream",
     "text": [
      "C:\\Users\\CHANNO.OOCLDM\\AppData\\Local\\Continuum\\anaconda3\\lib\\site-packages\\ipykernel_launcher.py:8: UserWarning: To copy construct from a tensor, it is recommended to use sourceTensor.clone().detach() or sourceTensor.clone().detach().requires_grad_(True), rather than torch.tensor(sourceTensor).\n",
      "  \n",
      "C:\\Users\\CHANNO.OOCLDM\\AppData\\Local\\Continuum\\anaconda3\\lib\\site-packages\\ipykernel_launcher.py:8: UserWarning: Implicit dimension choice for softmax has been deprecated. Change the call to include dim=X as an argument.\n",
      "  \n"
     ]
    },
    {
     "name": "stdout",
     "output_type": "stream",
     "text": [
      "\n"
     ]
    }
   ],
   "source": [
    "for i in tqdm(data_loaders['val']):\n",
    "    x,y1,y2,y3 = i \n",
    "    with torch.no_grad():\n",
    "        y_pred = model(x.cuda())\n",
    "        y1_pred, y2_pred ,y3_pred = y_pred\n",
    "#         import pdb\n",
    "#         pdb.set_trace()\n",
    "        y1_pred, y2_pred, y3_pred = map(lambda x:F.softmax(torch.tensor(x)).argmax(1), (y1_pred, y2_pred, y3_pred))\n",
    "        y1_pred = y1_pred.detach().cpu().numpy()\n",
    "        y2_pred = y2_pred.detach().cpu().numpy()\n",
    "        y3_pred = y3_pred.detach().cpu().numpy()\n",
    "        y1= y1.detach().cpu().numpy()\n",
    "        y2=y2.detach().cpu().numpy()\n",
    "        y3=y3.detach().cpu().numpy()\n",
    "        \n",
    "        ls.append(y_pred)\n",
    "        y1_ls.append(y1)\n",
    "        y2_ls.append(y2)\n",
    "        y3_ls.append(y3)\n",
    "        y1_pred_ls.append(y1_pred)\n",
    "        y2_pred_ls.append(y2_pred)\n",
    "        y3_pred_ls.append(y3_pred)"
   ]
  },
  {
   "cell_type": "code",
   "execution_count": 29,
   "metadata": {
    "ExecuteTime": {
     "end_time": "2020-03-08T16:35:21.313998Z",
     "start_time": "2020-03-08T16:35:21.173378Z"
    }
   },
   "outputs": [],
   "source": [
    "import numpy as np\n",
    "import sklearn\n",
    "from sklearn.metrics import classification_report, precision_recall_fscore_support, confusion_matrix\n",
    "import pandas as pd\n",
    "import seaborn as sns\n",
    "import matplotlib.pyplot as plt\n",
    "\n",
    "def flatten(ls):\n",
    "    array = np.array(ls)\n",
    "    return np.hstack(array.tolist())\n",
    "\n",
    "def show_most_wrong(df,n=10):\n",
    "    return df.sort_values('recall').head(10)\n",
    "\n",
    "def show_confusion_matrix(y_true, y_pred):\n",
    "    confusion_mat = confusion_matrix(y_true, y_pred)\n",
    "    sns.heatmap(confusion_mat)\n",
    "\n",
    "\n"
   ]
  },
  {
   "cell_type": "code",
   "execution_count": 30,
   "metadata": {
    "ExecuteTime": {
     "end_time": "2020-03-08T16:35:21.496431Z",
     "start_time": "2020-03-08T16:35:21.315985Z"
    }
   },
   "outputs": [],
   "source": [
    "y1_ls = flatten(y1_ls)\n",
    "y2_ls = flatten(y2_ls)\n",
    "y3_ls = flatten(y3_ls)\n",
    "y1_pred_ls = flatten(y1_pred_ls)\n",
    "y2_pred_ls = flatten(y2_pred_ls)\n",
    "y3_pred_ls = flatten(y3_pred_ls)"
   ]
  },
  {
   "cell_type": "code",
   "execution_count": 31,
   "metadata": {
    "ExecuteTime": {
     "end_time": "2020-03-08T16:35:21.650020Z",
     "start_time": "2020-03-08T16:35:21.498427Z"
    }
   },
   "outputs": [],
   "source": [
    "y_trues , y_preds = [y1_ls, y2_ls, y3_ls], [y1_pred_ls, y2_pred_ls, y3_pred_ls]"
   ]
  },
  {
   "cell_type": "code",
   "execution_count": 32,
   "metadata": {
    "ExecuteTime": {
     "end_time": "2020-03-08T16:35:21.817577Z",
     "start_time": "2020-03-08T16:35:21.652016Z"
    },
    "lines_to_next_cell": 2
   },
   "outputs": [
    {
     "name": "stdout",
     "output_type": "stream",
     "text": [
      "0.9248098858059424\n",
      "0.9745342760887177\n",
      "0.969230030942285\n"
     ]
    }
   ],
   "source": [
    "for y_true, y_pred in zip(y_trues, y_preds):\n",
    "    print(sklearn.metrics.recall_score(y_true, y_pred, average='macro', zero_division='warn'))"
   ]
  },
  {
   "cell_type": "code",
   "execution_count": 33,
   "metadata": {
    "ExecuteTime": {
     "end_time": "2020-03-08T16:35:22.780379Z",
     "start_time": "2020-03-08T16:35:21.819566Z"
    }
   },
   "outputs": [
    {
     "data": {
      "image/png": "[encoded data removed]",
      "text/plain": [
       "<Figure size 432x288 with 2 Axes>"
      ]
     },
     "metadata": {
      "needs_background": "light"
     },
     "output_type": "display_data"
    },
    {
     "data": {
      "image/png": "[encoded data removed]",
      "text/plain": [
       "<Figure size 432x288 with 2 Axes>"
      ]
     },
     "metadata": {
      "needs_background": "light"
     },
     "output_type": "display_data"
    },
    {
     "data": {
      "image/png": "[encoded data removed]",
      "text/plain": [
       "<Figure size 432x288 with 2 Axes>"
      ]
     },
     "metadata": {
      "needs_background": "light"
     },
     "output_type": "display_data"
    }
   ],
   "source": [
    "for y_true, y_pred in zip(y_trues, y_preds):\n",
    "    show_confusion_matrix(y_true, y_pred)   \n",
    "    plt.show()"
   ]
  },
  {
   "cell_type": "code",
   "execution_count": 34,
   "metadata": {
    "ExecuteTime": {
     "end_time": "2020-03-08T16:35:22.983798Z",
     "start_time": "2020-03-08T16:35:22.782883Z"
    }
   },
   "outputs": [
    {
     "name": "stdout",
     "output_type": "stream",
     "text": [
      "       recall  support  precision    fscore\n",
      "105  0.571429      7.0   1.000000  0.727273\n",
      "62   0.591837     49.0   0.725000  0.651685\n",
      "63   0.666667      6.0   1.000000  0.800000\n",
      "152  0.709677     31.0   0.846154  0.771930\n",
      "158  0.714286      7.0   1.000000  0.833333\n",
      "68   0.733333     30.0   0.814815  0.771930\n",
      "154  0.742857     35.0   0.896552  0.812500\n",
      "32   0.750000     60.0   0.918367  0.825688\n",
      "35   0.750000     20.0   1.000000  0.857143\n",
      "84   0.750000     24.0   0.720000  0.734694\n",
      "================= I am separation line ============\n",
      "      recall  support  precision    fscore\n",
      "5   0.938406    276.0   0.981061  0.959259\n",
      "10  0.960000    175.0   0.965517  0.962751\n",
      "8   0.970930    172.0   0.982353  0.976608\n",
      "6   0.971698    212.0   0.971698  0.971698\n",
      "3   0.971744    814.0   0.997478  0.984443\n",
      "9   0.973180    783.0   0.973180  0.973180\n",
      "4   0.979325    919.0   0.976139  0.977729\n",
      "1   0.983261   1852.0   0.980614  0.981936\n",
      "0   0.984813   2107.0   0.974636  0.979698\n",
      "7   0.988827   1432.0   0.984701  0.986760\n",
      "================= I am separation line ============\n",
      "     recall  support  precision    fscore\n",
      "6  0.942029     69.0   0.970149  0.955882\n",
      "2  0.953648   1165.0   0.979718  0.966507\n",
      "5  0.958217   1077.0   0.965388  0.961789\n",
      "1  0.964865    370.0   0.972752  0.968792\n",
      "4  0.978116   1051.0   0.980916  0.979514\n",
      "0  0.987735   6278.0   0.980395  0.984051\n",
      "3  1.000000     32.0   1.000000  1.000000\n",
      "================= I am separation line ============\n"
     ]
    }
   ],
   "source": [
    "for y_true, y_pred in zip(y_trues, y_preds):\n",
    "    metrics = precision_recall_fscore_support(y_true, y_pred,average=None)\n",
    "    precision, recall, fscore, support = metrics\n",
    "    data = np.vstack([recall, support, precision, fscore]); data.shape    \n",
    "    metrics_summary_df = pd.DataFrame(data=data.T, columns=['recall', 'support','precision','fscore'])\n",
    "    metrics_summary_df = metrics_summary_df.sort_values('recall')\n",
    "    print(show_most_wrong(metrics_summary_df))\n",
    "    print(\"================= I am separation line ============\")"
   ]
  },
  {
   "cell_type": "code",
   "execution_count": 35,
   "metadata": {
    "ExecuteTime": {
     "end_time": "2020-03-08T16:35:23.195894Z",
     "start_time": "2020-03-08T16:35:22.985963Z"
    }
   },
   "outputs": [
    {
     "name": "stdout",
     "output_type": "stream",
     "text": [
      "       recall  support  precision    fscore\n",
      "105  0.571429      7.0   1.000000  0.727273\n",
      "62   0.591837     49.0   0.725000  0.651685\n",
      "63   0.666667      6.0   1.000000  0.800000\n",
      "152  0.709677     31.0   0.846154  0.771930\n",
      "158  0.714286      7.0   1.000000  0.833333\n",
      "68   0.733333     30.0   0.814815  0.771930\n",
      "154  0.742857     35.0   0.896552  0.812500\n",
      "32   0.750000     60.0   0.918367  0.825688\n",
      "35   0.750000     20.0   1.000000  0.857143\n",
      "84   0.750000     24.0   0.720000  0.734694\n",
      "================= I am separation line ============\n",
      "      recall  support  precision    fscore\n",
      "5   0.938406    276.0   0.981061  0.959259\n",
      "10  0.960000    175.0   0.965517  0.962751\n",
      "8   0.970930    172.0   0.982353  0.976608\n",
      "6   0.971698    212.0   0.971698  0.971698\n",
      "3   0.971744    814.0   0.997478  0.984443\n",
      "9   0.973180    783.0   0.973180  0.973180\n",
      "4   0.979325    919.0   0.976139  0.977729\n",
      "1   0.983261   1852.0   0.980614  0.981936\n",
      "0   0.984813   2107.0   0.974636  0.979698\n",
      "7   0.988827   1432.0   0.984701  0.986760\n",
      "================= I am separation line ============\n",
      "     recall  support  precision    fscore\n",
      "6  0.942029     69.0   0.970149  0.955882\n",
      "2  0.953648   1165.0   0.979718  0.966507\n",
      "5  0.958217   1077.0   0.965388  0.961789\n",
      "1  0.964865    370.0   0.972752  0.968792\n",
      "4  0.978116   1051.0   0.980916  0.979514\n",
      "0  0.987735   6278.0   0.980395  0.984051\n",
      "3  1.000000     32.0   1.000000  1.000000\n",
      "================= I am separation line ============\n"
     ]
    }
   ],
   "source": [
    "for y_true, y_pred in zip(y_trues, y_preds):\n",
    "    metrics = precision_recall_fscore_support(y_true, y_pred,average=None)\n",
    "    precision, recall, fscore, support = metrics\n",
    "    data = np.vstack([recall, support, precision, fscore]); data.shape    \n",
    "    metrics_summary_df = pd.DataFrame(data=data.T, columns=['recall', 'support','precision','fscore'])\n",
    "    metrics_summary_df = metrics_summary_df.sort_values('recall')\n",
    "    print(show_most_wrong(metrics_summary_df))\n",
    "    print(\"================= I am separation line ============\")"
   ]
  },
  {
   "cell_type": "code",
   "execution_count": null,
   "metadata": {},
   "outputs": [],
   "source": []
  }
 ],
 "metadata": {
  "jupytext": {
   "cell_metadata_filter": "-all",
   "formats": "py:light,ipynb",
   "notebook_metadata_filter": "-all"
  },
  "kernelspec": {
   "display_name": "Python 3",
   "language": "python",
   "name": "python3"
  },
  "language_info": {
   "codemirror_mode": {
    "name": "ipython",
    "version": 3
   },
   "file_extension": ".py",
   "mimetype": "text/x-python",
   "name": "python",
   "nbconvert_exporter": "python",
   "pygments_lexer": "ipython3",
   "version": "3.7.4"
  },
  "toc": {
   "base_numbering": 1,
   "nav_menu": {},
   "number_sections": true,
   "sideBar": true,
   "skip_h1_title": false,
   "title_cell": "Table of Contents",
   "title_sidebar": "Contents",
   "toc_cell": false,
   "toc_position": {},
   "toc_section_display": true,
   "toc_window_display": false
  }
 },
 "nbformat": 4,
 "nbformat_minor": 2
}
