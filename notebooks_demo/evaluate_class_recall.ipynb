{
 "cells": [
  {
   "cell_type": "code",
   "execution_count": null,
   "metadata": {},
   "outputs": [],
   "source": [
    "%load_ext autoreload\n",
    "%autoreload 2"
   ]
  },
  {
   "cell_type": "code",
   "execution_count": null,
   "metadata": {},
   "outputs": [],
   "source": [
    "from hw_grapheme.models.predict import evaluate_macro_recall\n",
    "from hw_grapheme.model_archs.se_resnext import se_resnext50"
   ]
  },
  {
   "cell_type": "code",
   "execution_count": null,
   "metadata": {},
   "outputs": [],
   "source": [
    "val_configs = {\n",
    "    # input the model object, not the func only\n",
    "    \"model\": se_resnext50().cuda(),\n",
    "    \n",
    "    # model weight path\n",
    "    \"model_weight_path\": \"../models/se_resnext_sgd_decay/fold_0/high_recall_model.pth\",\n",
    "    \n",
    "    # define the val data set\n",
    "    \"pickle_paths\": [\n",
    "        \"../data/processed/size_128/train_data_0.pickle\",\n",
    "        \"../data/processed/size_128/train_data_1.pickle\",\n",
    "        \"../data/processed/size_128/train_data_2.pickle\",\n",
    "        \"../data/processed/size_128/train_data_3.pickle\",\n",
    "    ],\n",
    "    \"image_size\": 128,\n",
    "    \"n_splits\": 5,\n",
    "    \"random_seed\": 2020,\n",
    "    \"valid_fold\": 0, # valid fold number\n",
    "    \n",
    "    # default setting\n",
    "    \"batch_size\": 256,\n",
    "    \"num_workers\": 6,\n",
    "    \"pin_memory\": True,\n",
    "}"
   ]
  },
  {
   "cell_type": "code",
   "execution_count": null,
   "metadata": {},
   "outputs": [],
   "source": [
    "evaluate_macro_recall(**val_configs)"
   ]
  },
  {
   "cell_type": "code",
   "execution_count": null,
   "metadata": {},
   "outputs": [],
   "source": []
  }
 ],
 "metadata": {
  "kernelspec": {
   "display_name": "Python 3",
   "language": "python",
   "name": "python3"
  },
  "language_info": {
   "codemirror_mode": {
    "name": "ipython",
    "version": 3
   },
   "file_extension": ".py",
   "mimetype": "text/x-python",
   "name": "python",
   "nbconvert_exporter": "python",
   "pygments_lexer": "ipython3",
   "version": "3.7.6"
  }
 },
 "nbformat": 4,
 "nbformat_minor": 4
}
