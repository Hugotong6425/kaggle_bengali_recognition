{
 "cells": [
  {
   "cell_type": "code",
   "execution_count": null,
   "metadata": {
    "ExecuteTime": {
     "end_time": "2020-02-27T09:47:27.654195Z",
     "start_time": "2020-02-27T09:47:27.633363Z"
    }
   },
   "outputs": [],
   "source": [
    "%load_ext autoreload\n",
    "%autoreload 2"
   ]
  },
  {
   "cell_type": "code",
   "execution_count": null,
   "metadata": {
    "ExecuteTime": {
     "end_time": "2020-02-27T09:47:28.748447Z",
     "start_time": "2020-02-27T09:47:27.776709Z"
    }
   },
   "outputs": [],
   "source": [
    "import os \n",
    "\n",
    "import torch.optim as optim\n",
    "\n",
    "from torch import nn\n",
    "from torchvision import transforms\n",
    "\n",
    "from hw_grapheme.io.load_data import load_processed_data\n",
    "from hw_grapheme.train_utils.train_test_split import stratified_split_kfold\n",
    "from hw_grapheme.train_utils.create_dataloader import create_dataloaders_train\n",
    "from hw_grapheme.model_archs.efficient_net_0 import EfficientNet_0\n",
    "# from hw_grapheme.models.train import train_model\n",
    "from hw_grapheme.models.train_with_new_callback import train_model"
   ]
  },
  {
   "cell_type": "code",
   "execution_count": null,
   "metadata": {
    "ExecuteTime": {
     "end_time": "2020-02-27T09:47:29.576501Z",
     "start_time": "2020-02-27T09:47:28.750795Z"
    }
   },
   "outputs": [],
   "source": [
    "# load processed data \n",
    "pickle_paths = [\n",
    "    \"../data/processed/size_128/train_data_0.pickle\",\n",
    "#     \"../data/processed/size_128/train_data_1.pickle\",\n",
    "#     \"../data/processed/size_128/train_data_2.pickle\",\n",
    "#     \"../data/processed/size_128/train_data_3.pickle\",\n",
    "]\n",
    "\n",
    "image_data, name_data, label_data = load_processed_data(pickle_paths, image_size=128)"
   ]
  },
  {
   "cell_type": "code",
   "execution_count": null,
   "metadata": {
    "ExecuteTime": {
     "end_time": "2020-02-27T09:47:29.979833Z",
     "start_time": "2020-02-27T09:47:29.579685Z"
    }
   },
   "outputs": [],
   "source": [
    "# split train valid set\n",
    "n_splits = 5\n",
    "random_seed = 2020\n",
    "\n",
    "train_idx_list, test_idx_list = stratified_split_kfold(\n",
    "    image_data, label_data, n_splits, random_seed\n",
    ")"
   ]
  },
  {
   "cell_type": "code",
   "execution_count": null,
   "metadata": {
    "ExecuteTime": {
     "end_time": "2020-02-27T09:47:30.000049Z",
     "start_time": "2020-02-27T09:47:29.982648Z"
    }
   },
   "outputs": [],
   "source": [
    "# create data_transforms\n",
    "data_transforms = {\n",
    "    'train': transforms.Compose([\n",
    "        transforms.ToPILImage(),\n",
    "        # transforms.RandomAffine(degrees=10, scale=(1.0, 1.15)),\n",
    "        transforms.Grayscale(num_output_channels=3),\n",
    "        transforms.ToTensor(),\n",
    "        # transforms.Normalize([0.0692], [0.2051]),\n",
    "        # transforms.ToPILImage(),\n",
    "    ]),\n",
    "    'val': transforms.Compose([\n",
    "        transforms.ToPILImage(),\n",
    "        transforms.Grayscale(num_output_channels=3),\n",
    "        transforms.ToTensor(),\n",
    "        # transforms.Normalize([0.0692], [0.2051])\n",
    "    ]),\n",
    "}"
   ]
  },
  {
   "cell_type": "code",
   "execution_count": null,
   "metadata": {
    "ExecuteTime": {
     "end_time": "2020-02-27T09:47:30.068388Z",
     "start_time": "2020-02-27T09:47:30.001714Z"
    }
   },
   "outputs": [],
   "source": [
    "# default training setting\n",
    "num_workers = 6\n",
    "pin_memory = True\n",
    "fold = list(range(n_splits))\n",
    "\n",
    "# customize training setting\n",
    "n_epoch = 2\n",
    "batch_size = 64\n",
    "mixed_precision = False\n",
    "pretrain = False\n",
    "optimizer = optim.Adam\n",
    "optimizer_parameter = {\"weight_decay\": 1e-5}\n",
    "mixup_alpha = 0.4  # for mixup/cutmix only\n",
    "wandb_log = True\n",
    "\n",
    "# prob. of using [\"mixup\", \"cutmix\", \"cross_entropy\"] loss\n",
    "train_loss_prob = [0.0, 0.0, 1.0]\n",
    "\n",
    "# weighting of [root, vowel, consonant]\n",
    "head_loss_weight = [0.5, 0.25, 0.25]\n",
    "\n",
    "# save dir, set None to not save, need to manual create folders first\n",
    "save_dir = \"../models/testing\""
   ]
  },
  {
   "cell_type": "code",
   "execution_count": null,
   "metadata": {
    "ExecuteTime": {
     "end_time": "2020-02-27T09:57:58.387619Z",
     "start_time": "2020-02-27T09:56:11.617230Z"
    },
    "lines_to_next_cell": 2,
    "scrolled": true
   },
   "outputs": [],
   "source": [
    "for i, (train_idx, valid_idx) in enumerate(zip(train_idx_list, test_idx_list)):\n",
    "    # skip unwanted fold\n",
    "    if i not in [0]:\n",
    "        continue\n",
    "        \n",
    "    print(f\"Training fold {i}\") \n",
    "    \n",
    "    # create model \n",
    "    model = EfficientNet_0(pretrain=pretrain)\n",
    "    if mixed_precision:\n",
    "        model = apex.parallel.DistributedDataParallel(model)\n",
    "        model.to(\"cuda\")\n",
    "        model = torch.nn.parallel.DistributedDataParallel(\n",
    "            model, device_ids=[0,1], output_device=0\n",
    "        )\n",
    "        model, optimizer_ft = amp.initialize(model, optimizer_ft, opt_level=\"O1\")\n",
    "    else:\n",
    "        model.to(\"cuda\")\n",
    "        model = nn.DataParallel(model)\n",
    "        \n",
    "    # create optimizer\n",
    "    optimizer_ft = optimizer(model.parameters(), **optimizer_parameter)\n",
    "\n",
    "    # create data loader\n",
    "    data_loaders = create_dataloaders_train(\n",
    "        image_data, name_data, label_data, train_idx, valid_idx, \n",
    "        data_transforms, batch_size, num_workers, pin_memory\n",
    "    )\n",
    "    \n",
    "    # create lr scheduler\n",
    "    # exp_lr_scheduler = lr_scheduler.ReduceLROnPlateau(\n",
    "    #     optimizer_ft, factor=0.5, patience=5,\n",
    "    # )\n",
    "    \n",
    "    # callbacks = {}\n",
    "    if save_dir:\n",
    "        full_save_dir = os.path.join(save_dir, f\"fold_{i}\")\n",
    "    else:\n",
    "        full_save_dir = None\n",
    "    callbacks = train_model(\n",
    "        model, optimizer_ft, data_loaders,\n",
    "        mixed_precision, train_loss_prob, head_loss_weight,\n",
    "        mixup_alpha=mixup_alpha, num_epochs=n_epoch,\n",
    "        epoch_scheduler=None, save_dir=full_save_dir,\n",
    "        wandb_log=wandb_log\n",
    "    )"
   ]
  },
  {
   "cell_type": "code",
   "execution_count": null,
   "metadata": {
    "ExecuteTime": {
     "end_time": "2020-02-26T10:02:53.220031Z",
     "start_time": "2020-02-26T10:02:42.012Z"
    },
    "lines_to_next_cell": 0
   },
   "outputs": [],
   "source": [
    "# configs = {\n",
    "#     \"model\": \"efficient 0\",\n",
    "#     \"pretrain\": pretrain,\n",
    "#     \"head_info\": \"1 fc\",\n",
    "#     \"input_size\": \"224X224\",\n",
    "#     \"optimizer\": \"adam\",\n",
    "#     \"n_fold\": n_splits,\n",
    "#     \"split_seed\": random_seed,\n",
    "#     \"batch_size\": batch_size,\n",
    "#     \"epoch\": n_epoch,\n",
    "#     \"mixed_precision\": mixed_precision\n",
    "# }"
   ]
  },
  {
   "cell_type": "code",
   "execution_count": null,
   "metadata": {},
   "outputs": [],
   "source": []
  }
 ],
 "metadata": {
  "jupytext": {
   "formats": "ipynb,py"
  },
  "kernelspec": {
   "display_name": "Python 3",
   "language": "python",
   "name": "python3"
  },
  "language_info": {
   "codemirror_mode": {
    "name": "ipython",
    "version": 3
   },
   "file_extension": ".py",
   "mimetype": "text/x-python",
   "name": "python",
   "nbconvert_exporter": "python",
   "pygments_lexer": "ipython3",
   "version": "3.7.5"
  },
  "toc": {
   "base_numbering": 1,
   "nav_menu": {},
   "number_sections": true,
   "sideBar": true,
   "skip_h1_title": false,
   "title_cell": "Table of Contents",
   "title_sidebar": "Contents",
   "toc_cell": false,
   "toc_position": {},
   "toc_section_display": true,
   "toc_window_display": false
  }
 },
 "nbformat": 4,
 "nbformat_minor": 2
}
