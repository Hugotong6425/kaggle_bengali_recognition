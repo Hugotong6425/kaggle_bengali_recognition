{
 "cells": [
  {
   "cell_type": "code",
   "execution_count": 1,
   "metadata": {
    "ExecuteTime": {
     "end_time": "2020-02-27T09:47:27.654195Z",
     "start_time": "2020-02-27T09:47:27.633363Z"
    }
   },
   "outputs": [],
   "source": [
    "%load_ext autoreload\n",
    "%autoreload 2"
   ]
  },
  {
   "cell_type": "code",
   "execution_count": 2,
   "metadata": {},
   "outputs": [],
   "source": [
    "import os \n",
    "import numpy as np\n",
    "\n",
    "from apex import amp\n",
    "\n",
    "import torch\n",
    "import torch.optim as optim\n",
    "from torch import nn\n",
    "from torchvision import transforms\n",
    "import torchcontrib\n",
    "from sklearn.utils.class_weight import compute_class_weight\n",
    "\n",
    "from hw_grapheme.io.load_data import load_processed_data\n",
    "from hw_grapheme.model_archs.se_resnext import se_resnext50\n",
    "from hw_grapheme.models.train import train_model\n",
    "from hw_grapheme.train_utils.create_dataloader import create_dataloaders_train\n",
    "from hw_grapheme.train_utils.train_test_split import stratified_split_kfold"
   ]
  },
  {
   "cell_type": "code",
   "execution_count": 3,
   "metadata": {
    "ExecuteTime": {
     "end_time": "2020-02-27T09:47:29.576501Z",
     "start_time": "2020-02-27T09:47:28.750795Z"
    }
   },
   "outputs": [
    {
     "name": "stdout",
     "output_type": "stream",
     "text": [
      "Load data done, shape: (200840, 128, 128), (200840,), (200840, 3)\n"
     ]
    }
   ],
   "source": [
    "# load processed data \n",
    "pickle_paths = [\n",
    "    \"../data/processed/size_128/train_data_0.pickle\",\n",
    "    \"../data/processed/size_128/train_data_1.pickle\",\n",
    "    \"../data/processed/size_128/train_data_2.pickle\",\n",
    "    \"../data/processed/size_128/train_data_3.pickle\",\n",
    "]\n",
    "\n",
    "image_data, name_data, label_data = load_processed_data(pickle_paths, image_size=128)"
   ]
  },
  {
   "cell_type": "code",
   "execution_count": 4,
   "metadata": {
    "ExecuteTime": {
     "end_time": "2020-02-27T09:47:29.979833Z",
     "start_time": "2020-02-27T09:47:29.579685Z"
    }
   },
   "outputs": [
    {
     "name": "stdout",
     "output_type": "stream",
     "text": [
      "StratifiedKFold(n_splits=5, random_state=2020, shuffle=True)\n"
     ]
    }
   ],
   "source": [
    "# split train valid set\n",
    "n_splits = 5\n",
    "random_seed = 2020\n",
    "\n",
    "train_idx_list, test_idx_list = stratified_split_kfold(\n",
    "    image_data, label_data, n_splits, random_seed\n",
    ")"
   ]
  },
  {
   "cell_type": "code",
   "execution_count": 5,
   "metadata": {
    "ExecuteTime": {
     "end_time": "2020-02-27T09:47:30.000049Z",
     "start_time": "2020-02-27T09:47:29.982648Z"
    }
   },
   "outputs": [],
   "source": [
    "# create data_transforms\n",
    "data_transforms = {\n",
    "    'train': transforms.Compose([\n",
    "        transforms.ToPILImage(),\n",
    "        # transforms.RandomAffine(degrees=10, scale=(1.0, 1.15)),\n",
    "        transforms.Grayscale(num_output_channels=3),\n",
    "        transforms.ToTensor(),\n",
    "        # transforms.Normalize([0.0692], [0.2051]),\n",
    "        # transforms.ToPILImage(),\n",
    "    ]),\n",
    "    'val': transforms.Compose([\n",
    "        transforms.ToPILImage(),\n",
    "        transforms.Grayscale(num_output_channels=3),\n",
    "        transforms.ToTensor(),\n",
    "        # transforms.Normalize([0.0692], [0.2051])\n",
    "    ]),\n",
    "}"
   ]
  },
  {
   "cell_type": "code",
   "execution_count": 6,
   "metadata": {
    "ExecuteTime": {
     "end_time": "2020-02-27T09:47:30.068388Z",
     "start_time": "2020-02-27T09:47:30.001714Z"
    }
   },
   "outputs": [],
   "source": [
    "# default training setting\n",
    "num_workers = 6\n",
    "pin_memory = True\n",
    "fold = list(range(n_splits))\n",
    "\n",
    "# customize training setting\n",
    "n_epoch = 120\n",
    "batch_size = 512\n",
    "mixed_precision = True\n",
    "\n",
    "model_arch = se_resnext50\n",
    "model_parameter = {}\n",
    "\n",
    "swa = True\n",
    "\n",
    "optimizer = optim.SGD\n",
    "optimizer_parameter = {\"weight_decay\": 1e-4, \"momentum\": 0.9, \"lr\": 0.2, \"nesterov\": True}\n",
    "\n",
    "# whether to use weighted loss for each class\n",
    "is_weighted_class_loss = True\n",
    "\n",
    "# create lr scheduler\n",
    "epoch_scheduler_func = None\n",
    "epoch_scheduler_func_para = {}\n",
    "error_plateau_scheduler_func = optim.lr_scheduler.ReduceLROnPlateau\n",
    "error_plateau_scheduler_func_para = {\"mode\": \"min\", \"factor\": 0.1, \"patience\": 10, \"verbose\": True, \"min_lr\":1e-3}\n",
    "\n",
    "# prob. of using [\"mixup\", \"cutmix\", \"cross_entropy\"] loss\n",
    "train_loss_prob = [0.5, 0.5, 0.0]\n",
    "mixup_alpha = 0.4  # for mixup/cutmix only\n",
    "\n",
    "# weighting of [root, vowel, consonant]\n",
    "head_weights = [0.5, 0.25, 0.25]\n",
    "\n",
    "wandb_log = True\n",
    "\n",
    "# save dir, set None to not save, need to manual create folders first\n",
    "save_dir = \"../models/all_we_get_20200306/\"\n",
    "# save_dir = None"
   ]
  },
  {
   "cell_type": "code",
   "execution_count": null,
   "metadata": {
    "ExecuteTime": {
     "end_time": "2020-02-27T09:57:58.387619Z",
     "start_time": "2020-02-27T09:56:11.617230Z"
    },
    "lines_to_next_cell": 2,
    "scrolled": true
   },
   "outputs": [
    {
     "name": "stdout",
     "output_type": "stream",
     "text": [
      "Training fold 0\n",
      "Selected optimization level O1:  Insert automatic casts around Pytorch functions and Tensor methods.\n",
      "\n",
      "Defaults for this optimization level are:\n",
      "enabled                : True\n",
      "opt_level              : O1\n",
      "cast_model_type        : None\n",
      "patch_torch_functions  : True\n",
      "keep_batchnorm_fp32    : None\n",
      "master_weights         : None\n",
      "loss_scale             : dynamic\n",
      "Processing user overrides (additional kwargs that are not None)...\n",
      "After processing overrides, optimization options are:\n",
      "enabled                : True\n",
      "opt_level              : O1\n",
      "cast_model_type        : None\n",
      "patch_torch_functions  : True\n",
      "keep_batchnorm_fp32    : None\n",
      "master_weights         : None\n",
      "loss_scale             : dynamic\n",
      "Creating train dataloader...\n",
      "Creating valid dataloader...\n"
     ]
    },
    {
     "data": {
      "text/html": [
       "\n",
       "                Logging results to <a href=\"https://wandb.com\" target=\"_blank\">Weights & Biases</a> <a href=\"https://docs.wandb.com/integrations/jupyter.html\" target=\"_blank\">(Documentation)</a>.<br/>\n",
       "                Project page: <a href=\"https://app.wandb.ai/hugotong6425/my-project\" target=\"_blank\">https://app.wandb.ai/hugotong6425/my-project</a><br/>\n",
       "                Run page: <a href=\"https://app.wandb.ai/hugotong6425/my-project/runs/mgw9c01w\" target=\"_blank\">https://app.wandb.ai/hugotong6425/my-project/runs/mgw9c01w</a><br/>\n",
       "            "
      ],
      "text/plain": [
       "<IPython.core.display.HTML object>"
      ]
     },
     "metadata": {},
     "output_type": "display_data"
    },
    {
     "name": "stderr",
     "output_type": "stream",
     "text": [
      "wandb: Wandb version 0.8.29 is available!  To upgrade, please run:\n",
      "wandb:  $ pip install wandb --upgrade\n"
     ]
    },
    {
     "name": "stdout",
     "output_type": "stream",
     "text": [
      "Epoch 0/119\n",
      "----------\n"
     ]
    },
    {
     "data": {
      "application/vnd.jupyter.widget-view+json": {
       "model_id": "d1a8301161004288a5552a02b4e0fed5",
       "version_major": 2,
       "version_minor": 0
      },
      "text/plain": [
       "HBox(children=(FloatProgress(value=0.0, max=314.0), HTML(value='')))"
      ]
     },
     "metadata": {},
     "output_type": "display_data"
    },
    {
     "name": "stdout",
     "output_type": "stream",
     "text": [
      "\n",
      "Finish training\n",
      "Loss: 3.7524, root_acc: 0.0013, vowel_acc: 0.0919, consonant_acc: 0.2751, combined_acc: 0.0924, root_recall: 0.0056, vowel_recall: 0.1058, consonant_recall: 0.1545, combined_recall: 0.0679\n",
      "\n"
     ]
    },
    {
     "data": {
      "application/vnd.jupyter.widget-view+json": {
       "model_id": "eca14601413a44c4ab404e4f9313466a",
       "version_major": 2,
       "version_minor": 0
      },
      "text/plain": [
       "HBox(children=(FloatProgress(value=0.0, max=40.0), HTML(value='')))"
      ]
     },
     "metadata": {},
     "output_type": "display_data"
    },
    {
     "name": "stdout",
     "output_type": "stream",
     "text": [
      "\n",
      "Finish validating\n",
      "Loss: nan, root_acc: 0.0022, vowel_acc: 0.2089, consonant_acc: 0.3845, combined_acc: 0.1495, root_recall: 0.0094, vowel_recall: 0.1427, consonant_recall: 0.1984, combined_recall: 0.0900\n",
      "\n",
      "Highest val_combined_recall increases from 0.0 to 0.0899857748963445.\n",
      "\n",
      "Epoch 1/119\n",
      "----------\n"
     ]
    },
    {
     "data": {
      "application/vnd.jupyter.widget-view+json": {
       "model_id": "f6d5ec5440b64d7d8e0ea32623a26cae",
       "version_major": 2,
       "version_minor": 0
      },
      "text/plain": [
       "HBox(children=(FloatProgress(value=0.0, max=314.0), HTML(value='')))"
      ]
     },
     "metadata": {},
     "output_type": "display_data"
    },
    {
     "name": "stdout",
     "output_type": "stream",
     "text": [
      "\n",
      "Finish training\n",
      "Loss: 3.4832, root_acc: 0.0031, vowel_acc: 0.1948, consonant_acc: 0.2080, combined_acc: 0.1022, root_recall: 0.0143, vowel_recall: 0.2350, consonant_recall: 0.2650, combined_recall: 0.1321\n",
      "\n"
     ]
    },
    {
     "data": {
      "application/vnd.jupyter.widget-view+json": {
       "model_id": "3f6f38aec2234113af1b819d2692c070",
       "version_major": 2,
       "version_minor": 0
      },
      "text/plain": [
       "HBox(children=(FloatProgress(value=0.0, max=40.0), HTML(value='')))"
      ]
     },
     "metadata": {},
     "output_type": "display_data"
    },
    {
     "name": "stdout",
     "output_type": "stream",
     "text": [
      "\n",
      "Finish validating\n",
      "Loss: 2.8203, root_acc: 0.0057, vowel_acc: 0.3878, consonant_acc: 0.2811, combined_acc: 0.1701, root_recall: 0.0324, vowel_recall: 0.4262, consonant_recall: 0.4323, combined_recall: 0.2308\n",
      "\n",
      "Lowest val_loss decreases from 999 to 2.8203238013540455.\n",
      "Highest val_combined_recall increases from 0.0899857748963445 to 0.2308107320069687.\n",
      "\n",
      "Epoch 2/119\n",
      "----------\n"
     ]
    },
    {
     "data": {
      "application/vnd.jupyter.widget-view+json": {
       "model_id": "bc1ca6ac98d94dd58b9c573eb902da9c",
       "version_major": 2,
       "version_minor": 0
      },
      "text/plain": [
       "HBox(children=(FloatProgress(value=0.0, max=314.0), HTML(value='')))"
      ]
     },
     "metadata": {},
     "output_type": "display_data"
    },
    {
     "name": "stdout",
     "output_type": "stream",
     "text": [
      "\n",
      "Finish training\n",
      "Loss: 2.9522, root_acc: 0.0260, vowel_acc: 0.4911, consonant_acc: 0.4706, combined_acc: 0.2535, root_recall: 0.0764, vowel_recall: 0.5273, consonant_recall: 0.5566, combined_recall: 0.3092\n",
      "\n"
     ]
    },
    {
     "data": {
      "application/vnd.jupyter.widget-view+json": {
       "model_id": "8030181ce0c54e4a9e0d9ef4fd31fcae",
       "version_major": 2,
       "version_minor": 0
      },
      "text/plain": [
       "HBox(children=(FloatProgress(value=0.0, max=40.0), HTML(value='')))"
      ]
     },
     "metadata": {},
     "output_type": "display_data"
    },
    {
     "name": "stdout",
     "output_type": "stream",
     "text": [
      "\n",
      "Finish validating\n",
      "Loss: 2.0311, root_acc: 0.0873, vowel_acc: 0.6966, consonant_acc: 0.5008, combined_acc: 0.3430, root_recall: 0.1842, vowel_recall: 0.7608, consonant_recall: 0.7300, combined_recall: 0.4648\n",
      "\n",
      "Lowest val_loss decreases from 2.8203238013540455 to 2.0310798702285573.\n",
      "Highest val_combined_recall increases from 0.2308107320069687 to 0.464790903016563.\n",
      "\n",
      "Epoch 3/119\n",
      "----------\n"
     ]
    },
    {
     "data": {
      "application/vnd.jupyter.widget-view+json": {
       "model_id": "8456a87b391747b8adef6519aa712f54",
       "version_major": 2,
       "version_minor": 0
      },
      "text/plain": [
       "HBox(children=(FloatProgress(value=0.0, max=314.0), HTML(value='')))"
      ]
     },
     "metadata": {},
     "output_type": "display_data"
    },
    {
     "name": "stdout",
     "output_type": "stream",
     "text": [
      "\n",
      "Finish training\n",
      "Loss: 2.2341, root_acc: 0.2060, vowel_acc: 0.6235, consonant_acc: 0.6319, combined_acc: 0.4169, root_recall: 0.3117, vowel_recall: 0.6484, consonant_recall: 0.6823, combined_recall: 0.4885\n",
      "\n"
     ]
    },
    {
     "data": {
      "application/vnd.jupyter.widget-view+json": {
       "model_id": "9554380d6b2b4745bba949f7650f28a5",
       "version_major": 2,
       "version_minor": 0
      },
      "text/plain": [
       "HBox(children=(FloatProgress(value=0.0, max=40.0), HTML(value='')))"
      ]
     },
     "metadata": {},
     "output_type": "display_data"
    },
    {
     "name": "stdout",
     "output_type": "stream",
     "text": [
      "\n",
      "Finish validating\n",
      "Loss: 1.2693, root_acc: 0.5081, vowel_acc: 0.8612, consonant_acc: 0.7627, combined_acc: 0.6600, root_recall: 0.6205, vowel_recall: 0.8916, consonant_recall: 0.8877, combined_recall: 0.7551\n",
      "\n",
      "Lowest val_loss decreases from 2.0310798702285573 to 1.269290113563059.\n",
      "Highest val_combined_recall increases from 0.464790903016563 to 0.7550507290866558.\n",
      "\n",
      "Epoch 4/119\n",
      "----------\n"
     ]
    },
    {
     "data": {
      "application/vnd.jupyter.widget-view+json": {
       "model_id": "a2fdd96e761b4677b9cde896a7074aae",
       "version_major": 2,
       "version_minor": 0
      },
      "text/plain": [
       "HBox(children=(FloatProgress(value=0.0, max=314.0), HTML(value='')))"
      ]
     },
     "metadata": {},
     "output_type": "display_data"
    },
    {
     "name": "stdout",
     "output_type": "stream",
     "text": [
      "Gradient overflow.  Skipping step, loss scaler 0 reducing loss scale to 32768.0\n",
      "\n",
      "Finish training\n",
      "Loss: 1.7724, root_acc: 0.4326, vowel_acc: 0.6893, consonant_acc: 0.6989, combined_acc: 0.5633, root_recall: 0.5073, vowel_recall: 0.7127, consonant_recall: 0.7377, combined_recall: 0.6162\n",
      "\n"
     ]
    },
    {
     "data": {
      "application/vnd.jupyter.widget-view+json": {
       "model_id": "460410532c204fec9d761bbc7d0eedb4",
       "version_major": 2,
       "version_minor": 0
      },
      "text/plain": [
       "HBox(children=(FloatProgress(value=0.0, max=40.0), HTML(value='')))"
      ]
     },
     "metadata": {},
     "output_type": "display_data"
    },
    {
     "name": "stdout",
     "output_type": "stream",
     "text": [
      "\n",
      "Finish validating\n",
      "Loss: 0.7649, root_acc: 0.7245, vowel_acc: 0.8989, consonant_acc: 0.8717, combined_acc: 0.8049, root_recall: 0.7900, vowel_recall: 0.9220, consonant_recall: 0.8920, combined_recall: 0.8485\n",
      "\n",
      "Lowest val_loss decreases from 1.269290113563059 to 0.7648522963777431.\n",
      "Highest val_combined_recall increases from 0.7550507290866558 to 0.8484700899442742.\n",
      "\n",
      "Epoch 5/119\n",
      "----------\n"
     ]
    },
    {
     "data": {
      "application/vnd.jupyter.widget-view+json": {
       "model_id": "507e64ac652341f0b3e7b95aa3020310",
       "version_major": 2,
       "version_minor": 0
      },
      "text/plain": [
       "HBox(children=(FloatProgress(value=0.0, max=314.0), HTML(value='')))"
      ]
     },
     "metadata": {},
     "output_type": "display_data"
    },
    {
     "name": "stdout",
     "output_type": "stream",
     "text": [
      "\n",
      "Finish training\n",
      "Loss: 1.5402, root_acc: 0.5310, vowel_acc: 0.7092, consonant_acc: 0.7280, combined_acc: 0.6248, root_recall: 0.5813, vowel_recall: 0.7280, consonant_recall: 0.7417, combined_recall: 0.6581\n",
      "\n"
     ]
    },
    {
     "data": {
      "application/vnd.jupyter.widget-view+json": {
       "model_id": "bdc1a3cf062a462db9f022b97a5e8a3e",
       "version_major": 2,
       "version_minor": 0
      },
      "text/plain": [
       "HBox(children=(FloatProgress(value=0.0, max=40.0), HTML(value='')))"
      ]
     },
     "metadata": {},
     "output_type": "display_data"
    },
    {
     "name": "stdout",
     "output_type": "stream",
     "text": [
      "\n",
      "Finish validating\n",
      "Loss: nan, root_acc: 0.8089, vowel_acc: 0.9305, consonant_acc: 0.9201, combined_acc: 0.8671, root_recall: 0.8487, vowel_recall: 0.9338, consonant_recall: 0.9351, combined_recall: 0.8915\n",
      "\n",
      "Highest val_combined_recall increases from 0.8484700899442742 to 0.8915290168376079.\n",
      "\n",
      "Epoch 6/119\n",
      "----------\n"
     ]
    },
    {
     "data": {
      "application/vnd.jupyter.widget-view+json": {
       "model_id": "3294de0f618c4b3082ec40b4b2e7e870",
       "version_major": 2,
       "version_minor": 0
      },
      "text/plain": [
       "HBox(children=(FloatProgress(value=0.0, max=314.0), HTML(value='')))"
      ]
     },
     "metadata": {},
     "output_type": "display_data"
    },
    {
     "name": "stdout",
     "output_type": "stream",
     "text": [
      "\n",
      "Finish training\n",
      "Loss: 1.5230, root_acc: 0.5615, vowel_acc: 0.7243, consonant_acc: 0.7389, combined_acc: 0.6466, root_recall: 0.6106, vowel_recall: 0.7442, consonant_recall: 0.7631, combined_recall: 0.6821\n",
      "\n"
     ]
    },
    {
     "data": {
      "application/vnd.jupyter.widget-view+json": {
       "model_id": "3aa9b81f126b4d648ed504d660e6e5af",
       "version_major": 2,
       "version_minor": 0
      },
      "text/plain": [
       "HBox(children=(FloatProgress(value=0.0, max=40.0), HTML(value='')))"
      ]
     },
     "metadata": {},
     "output_type": "display_data"
    },
    {
     "name": "stdout",
     "output_type": "stream",
     "text": [
      "\n",
      "Finish validating\n",
      "Loss: 1.2709, root_acc: 0.7339, vowel_acc: 0.9030, consonant_acc: 0.8410, combined_acc: 0.8029, root_recall: 0.7927, vowel_recall: 0.9156, consonant_recall: 0.8812, combined_recall: 0.8456\n",
      "\n",
      "\n",
      "Epoch 7/119\n",
      "----------\n"
     ]
    },
    {
     "data": {
      "application/vnd.jupyter.widget-view+json": {
       "model_id": "3751a34e4e6b4719a1b0e2f188c15f2c",
       "version_major": 2,
       "version_minor": 0
      },
      "text/plain": [
       "HBox(children=(FloatProgress(value=0.0, max=314.0), HTML(value='')))"
      ]
     },
     "metadata": {},
     "output_type": "display_data"
    },
    {
     "name": "stdout",
     "output_type": "stream",
     "text": [
      "\n",
      "Finish training\n",
      "Loss: 1.3757, root_acc: 0.6044, vowel_acc: 0.7428, consonant_acc: 0.7577, combined_acc: 0.6773, root_recall: 0.6483, vowel_recall: 0.7634, consonant_recall: 0.7804, combined_recall: 0.7101\n",
      "\n"
     ]
    },
    {
     "data": {
      "application/vnd.jupyter.widget-view+json": {
       "model_id": "a55311fac4fb4019b065f89b0553f92e",
       "version_major": 2,
       "version_minor": 0
      },
      "text/plain": [
       "HBox(children=(FloatProgress(value=0.0, max=40.0), HTML(value='')))"
      ]
     },
     "metadata": {},
     "output_type": "display_data"
    },
    {
     "name": "stdout",
     "output_type": "stream",
     "text": [
      "\n",
      "Finish validating\n",
      "Loss: 0.6678, root_acc: 0.8264, vowel_acc: 0.9275, consonant_acc: 0.8898, combined_acc: 0.8675, root_recall: 0.8699, vowel_recall: 0.9454, consonant_recall: 0.9216, combined_recall: 0.9017\n",
      "\n",
      "Lowest val_loss decreases from 0.7648522963777431 to 0.6677719850721551.\n",
      "Highest val_combined_recall increases from 0.8915290168376079 to 0.9016905833427961.\n",
      "\n",
      "Epoch 8/119\n",
      "----------\n"
     ]
    },
    {
     "data": {
      "application/vnd.jupyter.widget-view+json": {
       "model_id": "8ea7cb5c94104ffcb9f782f3f35cce1d",
       "version_major": 2,
       "version_minor": 0
      },
      "text/plain": [
       "HBox(children=(FloatProgress(value=0.0, max=314.0), HTML(value='')))"
      ]
     },
     "metadata": {},
     "output_type": "display_data"
    },
    {
     "name": "stdout",
     "output_type": "stream",
     "text": [
      "\n",
      "Finish training\n",
      "Loss: 1.4703, root_acc: 0.5654, vowel_acc: 0.7121, consonant_acc: 0.7279, combined_acc: 0.6427, root_recall: 0.6089, vowel_recall: 0.7327, consonant_recall: 0.7513, combined_recall: 0.6755\n",
      "\n"
     ]
    },
    {
     "data": {
      "application/vnd.jupyter.widget-view+json": {
       "model_id": "a39eb2c8a5184f74ba7f0d5637301908",
       "version_major": 2,
       "version_minor": 0
      },
      "text/plain": [
       "HBox(children=(FloatProgress(value=0.0, max=40.0), HTML(value='')))"
      ]
     },
     "metadata": {},
     "output_type": "display_data"
    },
    {
     "name": "stdout",
     "output_type": "stream",
     "text": [
      "\n",
      "Finish validating\n",
      "Loss: 0.5509, root_acc: 0.8544, vowel_acc: 0.9506, consonant_acc: 0.8808, combined_acc: 0.8850, root_recall: 0.8870, vowel_recall: 0.9598, consonant_recall: 0.9470, combined_recall: 0.9202\n",
      "\n",
      "Lowest val_loss decreases from 0.6677719850721551 to 0.5509159371829607.\n",
      "Highest val_combined_recall increases from 0.9016905833427961 to 0.9201958938794779.\n",
      "\n",
      "Epoch 9/119\n",
      "----------\n"
     ]
    },
    {
     "data": {
      "application/vnd.jupyter.widget-view+json": {
       "model_id": "eed5729c2fc74f118d1f10567b2e7e94",
       "version_major": 2,
       "version_minor": 0
      },
      "text/plain": [
       "HBox(children=(FloatProgress(value=0.0, max=314.0), HTML(value='')))"
      ]
     },
     "metadata": {},
     "output_type": "display_data"
    },
    {
     "name": "stdout",
     "output_type": "stream",
     "text": [
      "\n",
      "Finish training\n",
      "Loss: 1.2912, root_acc: 0.6398, vowel_acc: 0.7544, consonant_acc: 0.7781, combined_acc: 0.7030, root_recall: 0.6802, vowel_recall: 0.7745, consonant_recall: 0.7987, combined_recall: 0.7334\n",
      "\n"
     ]
    },
    {
     "data": {
      "application/vnd.jupyter.widget-view+json": {
       "model_id": "1e2435c8f7114ab69a99a6fa680828b2",
       "version_major": 2,
       "version_minor": 0
      },
      "text/plain": [
       "HBox(children=(FloatProgress(value=0.0, max=40.0), HTML(value='')))"
      ]
     },
     "metadata": {},
     "output_type": "display_data"
    },
    {
     "name": "stdout",
     "output_type": "stream",
     "text": [
      "\n",
      "Finish validating\n",
      "Loss: 0.5529, root_acc: 0.8720, vowel_acc: 0.9473, consonant_acc: 0.8979, combined_acc: 0.8973, root_recall: 0.8953, vowel_recall: 0.9582, consonant_recall: 0.9329, combined_recall: 0.9204\n",
      "\n",
      "Highest val_combined_recall increases from 0.9201958938794779 to 0.9204195132822145.\n",
      "\n",
      "Epoch 10/119\n",
      "----------\n"
     ]
    },
    {
     "data": {
      "application/vnd.jupyter.widget-view+json": {
       "model_id": "35ab2bd1400342ee93760a15aefebfed",
       "version_major": 2,
       "version_minor": 0
      },
      "text/plain": [
       "HBox(children=(FloatProgress(value=0.0, max=314.0), HTML(value='')))"
      ]
     },
     "metadata": {},
     "output_type": "display_data"
    },
    {
     "name": "stdout",
     "output_type": "stream",
     "text": [
      "\n",
      "Finish training\n",
      "Loss: 1.2507, root_acc: 0.6585, vowel_acc: 0.7624, consonant_acc: 0.7803, combined_acc: 0.7149, root_recall: 0.7002, vowel_recall: 0.7869, consonant_recall: 0.8118, combined_recall: 0.7498\n",
      "\n"
     ]
    },
    {
     "data": {
      "application/vnd.jupyter.widget-view+json": {
       "model_id": "0b0a7bf2dd634c06922abbc3a71e88bf",
       "version_major": 2,
       "version_minor": 0
      },
      "text/plain": [
       "HBox(children=(FloatProgress(value=0.0, max=40.0), HTML(value='')))"
      ]
     },
     "metadata": {},
     "output_type": "display_data"
    },
    {
     "name": "stdout",
     "output_type": "stream",
     "text": [
      "\n",
      "Finish validating\n",
      "Loss: 0.4596, root_acc: 0.8739, vowel_acc: 0.9682, consonant_acc: 0.9600, combined_acc: 0.9190, root_recall: 0.9006, vowel_recall: 0.9647, consonant_recall: 0.9525, combined_recall: 0.9296\n",
      "\n",
      "Lowest val_loss decreases from 0.5509159371829607 to 0.4596363641759405.\n",
      "Highest val_combined_recall increases from 0.9204195132822145 to 0.9296155274101184.\n",
      "\n",
      "Epoch 11/119\n",
      "----------\n"
     ]
    },
    {
     "data": {
      "application/vnd.jupyter.widget-view+json": {
       "model_id": "ead851b711b44b6690d80893e50e790c",
       "version_major": 2,
       "version_minor": 0
      },
      "text/plain": [
       "HBox(children=(FloatProgress(value=0.0, max=314.0), HTML(value='')))"
      ]
     },
     "metadata": {},
     "output_type": "display_data"
    }
   ],
   "source": [
    "if is_weighted_class_loss:\n",
    "    root_label = label_data[:, 0]\n",
    "    vowel_label = label_data[:, 1]\n",
    "    consonant_label = label_data[:, 2]\n",
    "\n",
    "    class_weight = \"balanced\"\n",
    "\n",
    "    root_cls_weight = compute_class_weight(class_weight, np.unique(root_label), root_label)\n",
    "    vowel_cls_weight = compute_class_weight(class_weight, np.unique(vowel_label), vowel_label)\n",
    "    consonant_cls_weight = compute_class_weight(class_weight, np.unique(consonant_label), consonant_label)\n",
    "    \n",
    "    class_weights = [\n",
    "        torch.Tensor(root_cls_weight).cuda(),\n",
    "        torch.Tensor(vowel_cls_weight).cuda(),\n",
    "        torch.Tensor(consonant_cls_weight).cuda(),\n",
    "    ]\n",
    "else:\n",
    "    class_weights = None\n",
    "    \n",
    "for i, (train_idx, valid_idx) in enumerate(zip(train_idx_list, test_idx_list)):\n",
    "    # skip unwanted fold\n",
    "    if i not in [0]:\n",
    "        continue\n",
    "        \n",
    "    print(f\"Training fold {i}\") \n",
    "        \n",
    "    # create model \n",
    "    model = model_arch(**model_parameter)\n",
    "    \n",
    "    # create optimizer\n",
    "    optimizer_ft = optimizer(model.parameters(), **optimizer_parameter)\n",
    "    \n",
    "    if swa:\n",
    "        optimizer_ft = torchcontrib.optim.SWA(optimizer_ft)\n",
    "        \n",
    "    if mixed_precision:\n",
    "        model.to(\"cuda\")\n",
    "        model, optimizer_ft = amp.initialize(model, optimizer_ft, opt_level=\"O1\")\n",
    "        model = nn.parallel.DataParallel(model)\n",
    "    else:\n",
    "        model.to(\"cuda\")\n",
    "        model = nn.DataParallel(model)\n",
    "\n",
    "    # create data loader\n",
    "    data_loaders = create_dataloaders_train(\n",
    "        image_data, name_data, label_data, train_idx, valid_idx, \n",
    "        data_transforms, batch_size, num_workers, pin_memory\n",
    "    )\n",
    "    \n",
    "    # create epoch_scheduler\n",
    "    if epoch_scheduler_func:\n",
    "        epoch_scheduler = epoch_scheduler_func(optimizer_ft, **epoch_scheduler_func_para)\n",
    "    else:\n",
    "        epoch_scheduler = None\n",
    "        \n",
    "    # create error_plateaus_scheduler\n",
    "    if error_plateau_scheduler_func:\n",
    "        error_plateau_scheduler = error_plateau_scheduler_func(optimizer_ft, **error_plateau_scheduler_func_para)\n",
    "    else:\n",
    "        error_plateau_scheduler = None\n",
    "        \n",
    "    # callbacks = {}\n",
    "    if save_dir:\n",
    "        full_save_dir = os.path.join(save_dir, f\"fold_{i}\")\n",
    "    else:\n",
    "        full_save_dir = None\n",
    "        \n",
    "    train_input_args = {\n",
    "        \"model\": model, \n",
    "        \"optimizer\": optimizer_ft,\n",
    "        \"dataloaders\": data_loaders,\n",
    "        \"mixed_precision\": mixed_precision, \n",
    "        \"train_loss_prob\": train_loss_prob,\n",
    "        \"class_weights\": class_weights,\n",
    "        \"head_weights\": head_weights,\n",
    "        \"mixup_alpha\": mixup_alpha, \n",
    "        \"num_epochs\": n_epoch,\n",
    "        \"epoch_scheduler\": epoch_scheduler, \n",
    "        \"error_plateau_scheduler\": error_plateau_scheduler,\n",
    "        \"save_dir\": full_save_dir,\n",
    "        \"wandb_log\": wandb_log,\n",
    "        \"swa\": swa,\n",
    "    }\n",
    "        \n",
    "    callbacks = train_model(**train_input_args)"
   ]
  },
  {
   "cell_type": "code",
   "execution_count": null,
   "metadata": {
    "ExecuteTime": {
     "end_time": "2020-02-26T10:02:53.220031Z",
     "start_time": "2020-02-26T10:02:42.012Z"
    },
    "lines_to_next_cell": 0
   },
   "outputs": [],
   "source": [
    "# configs = {\n",
    "#     \"model\": \"efficient 0\",\n",
    "#     \"pretrain\": pretrain,\n",
    "#     \"head_info\": \"1 fc\",\n",
    "#     \"input_size\": \"224X224\",\n",
    "#     \"optimizer\": \"adam\",\n",
    "#     \"n_fold\": n_splits,\n",
    "#     \"split_seed\": random_seed,\n",
    "#     \"batch_size\": batch_size,\n",
    "#     \"epoch\": n_epoch,\n",
    "#     \"mixed_precision\": mixed_precision\n",
    "# }"
   ]
  },
  {
   "cell_type": "code",
   "execution_count": null,
   "metadata": {},
   "outputs": [],
   "source": []
  }
 ],
 "metadata": {
  "jupytext": {
   "formats": "ipynb,py"
  },
  "kernelspec": {
   "display_name": "Python 3",
   "language": "python",
   "name": "python3"
  },
  "language_info": {
   "codemirror_mode": {
    "name": "ipython",
    "version": 3
   },
   "file_extension": ".py",
   "mimetype": "text/x-python",
   "name": "python",
   "nbconvert_exporter": "python",
   "pygments_lexer": "ipython3",
   "version": "3.7.6"
  },
  "toc": {
   "base_numbering": 1,
   "nav_menu": {},
   "number_sections": true,
   "sideBar": true,
   "skip_h1_title": false,
   "title_cell": "Table of Contents",
   "title_sidebar": "Contents",
   "toc_cell": false,
   "toc_position": {},
   "toc_section_display": true,
   "toc_window_display": false
  }
 },
 "nbformat": 4,
 "nbformat_minor": 2
}
