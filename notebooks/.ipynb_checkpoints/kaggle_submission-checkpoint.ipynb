{
 "cells": [
  {
   "cell_type": "code",
   "execution_count": 1,
   "metadata": {
    "ExecuteTime": {
     "end_time": "2020-01-27T08:24:57.709631Z",
     "start_time": "2020-01-27T08:24:57.692962Z"
    }
   },
   "outputs": [],
   "source": [
    "%load_ext autoreload\n",
    "%autoreload 2"
   ]
  },
  {
   "cell_type": "code",
   "execution_count": 8,
   "metadata": {
    "ExecuteTime": {
     "end_time": "2020-01-27T09:21:21.458751Z",
     "start_time": "2020-01-27T09:21:21.423500Z"
    }
   },
   "outputs": [],
   "source": [
    "from torchvision import transforms\n",
    "\n",
    "from hw_grapheme.predict_utils import bengali_predict\n",
    "from hw_grapheme.model import EfficientNet_0"
   ]
  },
  {
   "cell_type": "code",
   "execution_count": 10,
   "metadata": {
    "ExecuteTime": {
     "end_time": "2020-01-27T09:21:28.875425Z",
     "start_time": "2020-01-27T09:21:28.856175Z"
    }
   },
   "outputs": [],
   "source": [
    "test_data_paths = [\n",
    "     '../data/train_image_data_0.parquet',\n",
    "     '../data/train_image_data_2.parquet',\n",
    "#     '../data/test_image_data_0.parquet',\n",
    "#     '../data/test_image_data_1.parquet',\n",
    "#     '../data/test_image_data_2.parquet',\n",
    "#     '../data/test_image_data_3.parquet'\n",
    "]\n",
    "\n",
    "model_archs_weights = [\n",
    "    (EfficientNet_0, \"../model_weights/eff_0_with_mixup_cutmix/fold_0/eff_0_high_acc.pth\"),\n",
    "    (EfficientNet_0, \"../model_weights/eff_0_with_mixup_cutmix/fold_2/eff_0_high_acc.pth\"),\n",
    "]\n",
    "\n",
    "transforms = transforms.Compose([\n",
    "    transforms.ToPILImage(),\n",
    "    transforms.Grayscale(num_output_channels=3),\n",
    "    transforms.ToTensor(),\n",
    "    # transforms.Normalize([0.0692], [0.2051])\n",
    "])"
   ]
  },
  {
   "cell_type": "code",
   "execution_count": 13,
   "metadata": {
    "ExecuteTime": {
     "end_time": "2020-01-27T09:22:44.233563Z",
     "start_time": "2020-01-27T09:22:34.813242Z"
    },
    "scrolled": true
   },
   "outputs": [
    {
     "name": "stderr",
     "output_type": "stream",
     "text": [
      "\r",
      "  0%|          | 0/1 [00:00<?, ?it/s]"
     ]
    },
    {
     "name": "stdout",
     "output_type": "stream",
     "text": [
      "Loading model 0...\n"
     ]
    },
    {
     "name": "stderr",
     "output_type": "stream",
     "text": [
      "100%|██████████| 1/1 [00:00<00:00,  2.03it/s]\n",
      "  0%|          | 0/1 [00:00<?, ?it/s]"
     ]
    },
    {
     "name": "stdout",
     "output_type": "stream",
     "text": [
      "Loading model 1...\n"
     ]
    },
    {
     "name": "stderr",
     "output_type": "stream",
     "text": [
      "100%|██████████| 1/1 [00:00<00:00,  1.91it/s]\n",
      "  0%|          | 0/1 [00:00<?, ?it/s]"
     ]
    },
    {
     "name": "stdout",
     "output_type": "stream",
     "text": [
      "Loading model 0...\n"
     ]
    },
    {
     "name": "stderr",
     "output_type": "stream",
     "text": [
      "100%|██████████| 1/1 [00:00<00:00,  1.98it/s]\n",
      "  0%|          | 0/1 [00:00<?, ?it/s]"
     ]
    },
    {
     "name": "stdout",
     "output_type": "stream",
     "text": [
      "Loading model 1...\n"
     ]
    },
    {
     "name": "stderr",
     "output_type": "stream",
     "text": [
      "100%|██████████| 1/1 [00:00<00:00,  1.83it/s]\n",
      "  0%|          | 0/1 [00:00<?, ?it/s]"
     ]
    },
    {
     "name": "stdout",
     "output_type": "stream",
     "text": [
      "Loading model 0...\n"
     ]
    },
    {
     "name": "stderr",
     "output_type": "stream",
     "text": [
      "100%|██████████| 1/1 [00:00<00:00,  1.81it/s]\n",
      "  0%|          | 0/1 [00:00<?, ?it/s]"
     ]
    },
    {
     "name": "stdout",
     "output_type": "stream",
     "text": [
      "Loading model 1...\n"
     ]
    },
    {
     "name": "stderr",
     "output_type": "stream",
     "text": [
      "100%|██████████| 1/1 [00:00<00:00,  1.92it/s]\n",
      "  0%|          | 0/1 [00:00<?, ?it/s]"
     ]
    },
    {
     "name": "stdout",
     "output_type": "stream",
     "text": [
      "Loading model 0...\n"
     ]
    },
    {
     "name": "stderr",
     "output_type": "stream",
     "text": [
      "100%|██████████| 1/1 [00:00<00:00,  1.91it/s]\n",
      "  0%|          | 0/1 [00:00<?, ?it/s]"
     ]
    },
    {
     "name": "stdout",
     "output_type": "stream",
     "text": [
      "Loading model 1...\n"
     ]
    },
    {
     "name": "stderr",
     "output_type": "stream",
     "text": [
      "100%|██████████| 1/1 [00:00<00:00,  2.02it/s]\n"
     ]
    }
   ],
   "source": [
    "result = bengali_predict(\n",
    "    test_data_paths, model_archs_weights, transforms,\n",
    "    batch_size=128, n_workers=2\n",
    ")"
   ]
  },
  {
   "cell_type": "code",
   "execution_count": 14,
   "metadata": {
    "ExecuteTime": {
     "end_time": "2020-01-27T09:22:45.821463Z",
     "start_time": "2020-01-27T09:22:45.793345Z"
    }
   },
   "outputs": [
    {
     "data": {
      "text/plain": [
       "(['Test_0_grapheme_root',\n",
       "  'Test_0_vowel_diacritic',\n",
       "  'Test_0_consonant_diacritic',\n",
       "  'Test_1_grapheme_root',\n",
       "  'Test_1_vowel_diacritic',\n",
       "  'Test_1_consonant_diacritic',\n",
       "  'Test_2_grapheme_root',\n",
       "  'Test_2_vowel_diacritic',\n",
       "  'Test_2_consonant_diacritic',\n",
       "  'Test_3_grapheme_root',\n",
       "  'Test_3_vowel_diacritic',\n",
       "  'Test_3_consonant_diacritic',\n",
       "  'Test_4_grapheme_root',\n",
       "  'Test_4_vowel_diacritic',\n",
       "  'Test_4_consonant_diacritic',\n",
       "  'Test_5_grapheme_root',\n",
       "  'Test_5_vowel_diacritic',\n",
       "  'Test_5_consonant_diacritic',\n",
       "  'Test_6_grapheme_root',\n",
       "  'Test_6_vowel_diacritic',\n",
       "  'Test_6_consonant_diacritic',\n",
       "  'Test_7_grapheme_root',\n",
       "  'Test_7_vowel_diacritic',\n",
       "  'Test_7_consonant_diacritic',\n",
       "  'Test_8_grapheme_root',\n",
       "  'Test_8_vowel_diacritic',\n",
       "  'Test_8_consonant_diacritic',\n",
       "  'Test_9_grapheme_root',\n",
       "  'Test_9_vowel_diacritic',\n",
       "  'Test_9_consonant_diacritic',\n",
       "  'Test_10_grapheme_root',\n",
       "  'Test_10_vowel_diacritic',\n",
       "  'Test_10_consonant_diacritic',\n",
       "  'Test_11_grapheme_root',\n",
       "  'Test_11_vowel_diacritic',\n",
       "  'Test_11_consonant_diacritic'],\n",
       " [3,\n",
       "  0,\n",
       "  0,\n",
       "  93,\n",
       "  2,\n",
       "  0,\n",
       "  19,\n",
       "  0,\n",
       "  0,\n",
       "  115,\n",
       "  0,\n",
       "  0,\n",
       "  55,\n",
       "  4,\n",
       "  0,\n",
       "  115,\n",
       "  2,\n",
       "  0,\n",
       "  147,\n",
       "  9,\n",
       "  5,\n",
       "  137,\n",
       "  7,\n",
       "  0,\n",
       "  119,\n",
       "  9,\n",
       "  0,\n",
       "  133,\n",
       "  10,\n",
       "  0,\n",
       "  148,\n",
       "  1,\n",
       "  4,\n",
       "  21,\n",
       "  2,\n",
       "  0])"
      ]
     },
     "execution_count": 14,
     "metadata": {},
     "output_type": "execute_result"
    }
   ],
   "source": [
    "result"
   ]
  },
  {
   "cell_type": "code",
   "execution_count": null,
   "metadata": {},
   "outputs": [],
   "source": []
  }
 ],
 "metadata": {
  "kernelspec": {
   "display_name": "Python 3",
   "language": "python",
   "name": "python3"
  },
  "language_info": {
   "codemirror_mode": {
    "name": "ipython",
    "version": 3
   },
   "file_extension": ".py",
   "mimetype": "text/x-python",
   "name": "python",
   "nbconvert_exporter": "python",
   "pygments_lexer": "ipython3",
   "version": "3.7.5"
  },
  "toc": {
   "base_numbering": 1,
   "nav_menu": {},
   "number_sections": true,
   "sideBar": true,
   "skip_h1_title": false,
   "title_cell": "Table of Contents",
   "title_sidebar": "Contents",
   "toc_cell": false,
   "toc_position": {},
   "toc_section_display": true,
   "toc_window_display": false
  }
 },
 "nbformat": 4,
 "nbformat_minor": 2
}
