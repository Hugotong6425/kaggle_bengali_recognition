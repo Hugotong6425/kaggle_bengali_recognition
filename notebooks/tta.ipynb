{
 "cells": [
  {
   "cell_type": "code",
   "execution_count": 1,
   "metadata": {
    "ExecuteTime": {
     "end_time": "2020-01-05T10:14:49.239585Z",
     "start_time": "2020-01-05T10:14:48.126210Z"
    }
   },
   "outputs": [],
   "source": [
    "import torch\n",
    "\n",
    "import numpy as np\n",
    "import pandas as pd\n",
    "\n",
    "from torch import nn\n",
    "from torchvision import models\n",
    "from torch.utils.data import Dataset\n",
    "\n",
    "from fastai.layers import AdaptiveConcatPool2d, Flatten, bn_drop_lin\n",
    "from hw_grapheme.dl_utils.mish_activation import Mish"
   ]
  },
  {
   "cell_type": "code",
   "execution_count": null,
   "metadata": {},
   "outputs": [],
   "source": [
    "TEST = [\n",
    "#      '../data/train_image_data_0.parquet',\n",
    "#      '../data/train_image_data_2.parquet',\n",
    "    'test_image_data_0.parquet',\n",
    "    'test_image_data_1.parquet',\n",
    "    'test_image_data_2.parquet',\n",
    "    'test_image_data_3.parquet'\n",
    "]\n",
    "model_names = [\"fold_0/eff_0_high_acc.pth\"]\n",
    "# model_dir = \"/kaggle/input/bengalicv19trainedmodels\"\n",
    "model_dir = \"../model_weights/eff_0_with_mixup_cutmix/\"\n",
    "# data_dir = \"/kaggle/input/bengaliai-cv19\"\n",
    "data_dir = \"/kaggle/input/bengaliai-cv19\"\n",
    "\n",
    "\n",
    "bs = 128\n",
    "\n",
    "row_id,target = [],[]\n",
    "\n",
    "for fname in TEST:\n",
    "    # get dataloader\n",
    "    data_path = os.path.join(data_dir, fname)\n",
    "    ds = GraphemeDataset(data_path)\n",
    "    dl = DataLoader(ds, batch_size=bs, num_workers=nworkers, shuffle=False)\n",
    "    \n",
    "    model_results_root = []\n",
    "    model_results_vowel = []\n",
    "    model_results_consonant = []\n",
    "    \n",
    "    for i, model_name in enumerate(model_names):\n",
    "        # load model\n",
    "        print(f\"Loading model {i}...\")\n",
    "        model = Dnet_1ch(pre=False).cuda()\n",
    "        model_path = os.path.join(model_dir, model_name)\n",
    "        load_parallel_trained_model(model, model_path)\n",
    "        \n",
    "        # get full dataset, multi-model pred\n",
    "        probit_root, probit_vowel, probit_consonant, file_name = predit_in_mini_batch(model, dl)\n",
    "        model_results_root.append(probit_root)\n",
    "        model_results_vowel.append(probit_vowel)\n",
    "        model_results_consonant.append(probit_consonant)\n",
    "        \n",
    "    # get final pred = highest summed probit \n",
    "    probit_root_sum = model_results_root[0].copy()\n",
    "    for r in model_results_root[1:]:\n",
    "        probit_root_sum += r\n",
    "        \n",
    "    probit_vowel_sum = model_results_vowel[0].copy()\n",
    "    for r in model_results_vowel[1:]:\n",
    "        probit_vowel_sum += r\n",
    "        \n",
    "    probit_consonant_sum = model_results_consonant[0].copy()\n",
    "    for r in model_results_consonant[1:]:\n",
    "        probit_consonant_sum += r\n",
    "    \n",
    "    pred_ensemble_root = probit_root_sum.argmax(axis=1)\n",
    "    pred_ensemble_vowel = probit_vowel_sum.argmax(axis=1)\n",
    "    pred_ensemble_consonant = probit_consonant_sum.argmax(axis=1)\n",
    "    \n",
    "    # turn pred into df\n",
    "    file_name = [x for batch_x in file_name for x in batch_x]\n",
    "    for idx, name in enumerate(file_name):\n",
    "        row_id += [f'{name}_grapheme_root',f'{name}_vowel_diacritic',\n",
    "                   f'{name}_consonant_diacritic']\n",
    "        target += [pred_ensemble_root[idx],pred_ensemble_vowel[idx],pred_ensemble_consonant[idx]]"
   ]
  }
 ],
 "metadata": {
  "jupytext": {
   "formats": "ipynb,py"
  },
  "kernelspec": {
   "display_name": "Python 3",
   "language": "python",
   "name": "python3"
  },
  "language_info": {
   "codemirror_mode": {
    "name": "ipython",
    "version": 3
   },
   "file_extension": ".py",
   "mimetype": "text/x-python",
   "name": "python",
   "nbconvert_exporter": "python",
   "pygments_lexer": "ipython3",
   "version": "3.7.5"
  },
  "toc": {
   "base_numbering": 1,
   "nav_menu": {},
   "number_sections": true,
   "sideBar": true,
   "skip_h1_title": false,
   "title_cell": "Table of Contents",
   "title_sidebar": "Contents",
   "toc_cell": false,
   "toc_position": {},
   "toc_section_display": true,
   "toc_window_display": false
  }
 },
 "nbformat": 4,
 "nbformat_minor": 2
}
