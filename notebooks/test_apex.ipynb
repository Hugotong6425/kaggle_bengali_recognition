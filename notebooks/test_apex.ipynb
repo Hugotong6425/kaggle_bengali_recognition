{
 "cells": [
  {
   "cell_type": "markdown",
   "metadata": {},
   "source": [
    "# Comment\n",
    "\n",
    "1. People say nn.DistributedDataParallel is way faster than nn.DataParallel (50%)\n",
    "\n",
    "  - https://zhuanlan.zhihu.com/p/95700549\n",
    "\n",
    "  - https://zhuanlan.zhihu.com/p/68717029\n",
    "\n",
    "---\n",
    "\n",
    "2. apex default use nn.DistributedDataParallel (But the below code use nn.DataParallel)\n",
    "\n",
    "  - https://github.com/NVIDIA/apex\n",
    "  - https://github.com/NVIDIA/apex/tree/master/examples/imagenet\n",
    "  \n",
    "**Can try to replace nn.DataParallel by nn.DistributedDataParallel**"
   ]
  },
  {
   "cell_type": "code",
   "execution_count": 1,
   "metadata": {
    "ExecuteTime": {
     "end_time": "2020-01-24T07:37:33.960915Z",
     "start_time": "2020-01-24T07:37:33.949424Z"
    }
   },
   "outputs": [],
   "source": [
    "%load_ext autoreload\n",
    "%autoreload 2"
   ]
  },
  {
   "cell_type": "code",
   "execution_count": 2,
   "metadata": {
    "ExecuteTime": {
     "end_time": "2020-01-24T07:37:35.320085Z",
     "start_time": "2020-01-24T07:37:34.502411Z"
    }
   },
   "outputs": [
    {
     "name": "stdout",
     "output_type": "stream",
     "text": [
      "To use this log_lamb_rs, please run 'pip install tensorboardx'. Also you must have Tensorboard running to see results\n"
     ]
    }
   ],
   "source": [
    "import numpy as np\n",
    "import torch.optim as optim\n",
    "import torch\n",
    "\n",
    "from efficientnet_pytorch import EfficientNet\n",
    "from torch import nn\n",
    "from torch.utils.data import Dataset, DataLoader\n",
    "from torchvision import transforms\n",
    "from torch.optim import lr_scheduler\n",
    "\n",
    "from hw_grapheme.train import generate_stratified_k_fold_index, train_model\n",
    "from hw_grapheme.utils import load_model_weight\n",
    "from hw_grapheme.data_pipeline import create_dataloaders, load_data\n",
    "from hw_grapheme.model import EfficientNet_0\n",
    "from hw_grapheme.loss_func import Loss_combine\n",
    "\n",
    "from torchtools.optim import RangerLars, RAdam\n",
    "from torch.optim import Optimizer\n",
    "\n",
    "from apex import amp\n",
    "from apex.parallel import DistributedDataParallel"
   ]
  },
  {
   "cell_type": "code",
   "execution_count": 3,
   "metadata": {},
   "outputs": [
    {
     "data": {
      "text/plain": [
       "torch.nn.parallel.distributed.DistributedDataParallel"
      ]
     },
     "execution_count": 3,
     "metadata": {},
     "output_type": "execute_result"
    }
   ],
   "source": [
    "torch.nn.parallel.DistributedDataParallel or apex.parallel.DistributedDataParallel"
   ]
  },
  {
   "cell_type": "code",
   "execution_count": 4,
   "metadata": {},
   "outputs": [],
   "source": [
    "def test_apex(mixed_precision, cuda_parallel, batch_size, opt_level):\n",
    "    # not support in nb\n",
    "    # if mixed_precision and cuda_parallel:\n",
    "    #     torch.cuda.set_device(0)\n",
    "    #     torch.distributed.init_process_group(backend=\"nccl\", init_method='env://')\n",
    "\n",
    "    # load data \n",
    "    pickle_paths = [\n",
    "        \"../data/processed_data/size_224/train_data_0.pickle\",\n",
    "    #     \"../data/processed_data/size_224/train_data_1.pickle\",\n",
    "    #     \"../data/processed_data/size_224/train_data_2.pickle\",\n",
    "    #     \"../data/processed_data/size_224/train_data_3.pickle\",\n",
    "    ]\n",
    "\n",
    "    image_data, name_data, label_data = load_data(pickle_paths)\n",
    "    \n",
    "    batch_size = batch_size\n",
    "    num_workers = 6\n",
    "\n",
    "    pin_memory = True\n",
    "    n_epoch = 1\n",
    "\n",
    "    n_splits = 5\n",
    "    random_seed = 2020\n",
    "\n",
    "    train_idx_list, valid_idx_list = generate_stratified_k_fold_index(\n",
    "        image_data, label_data, n_splits, random_seed\n",
    "    )\n",
    "\n",
    "    train_idx = train_idx_list[0]\n",
    "    valid_idx = valid_idx_list[0]\n",
    "\n",
    "    # create loss function\n",
    "    criterion = Loss_combine()\n",
    "\n",
    "    # create data_transforms\n",
    "    data_transforms = {\n",
    "        'train': transforms.Compose([\n",
    "            transforms.ToPILImage(),\n",
    "            transforms.Grayscale(num_output_channels=3),\n",
    "            transforms.ToTensor(),\n",
    "        ]),\n",
    "        'val': transforms.Compose([\n",
    "            transforms.ToPILImage(),\n",
    "            transforms.Grayscale(num_output_channels=3),\n",
    "            transforms.ToTensor(),\n",
    "        ]),\n",
    "    }\n",
    "\n",
    "    # create model \n",
    "    eff_b0 = EfficientNet_0()\n",
    "\n",
    "    # create optimizer\n",
    "    optimizer_ft = optim.Adam(eff_b0.parameters())\n",
    "\n",
    "    # create data loader\n",
    "    data_loaders = create_dataloaders(\n",
    "        image_data, name_data, label_data, train_idx, valid_idx, \n",
    "        data_transforms, batch_size, num_workers, pin_memory\n",
    "    )\n",
    "    \n",
    "    if mixed_precision and cuda_parallel:\n",
    "        eff_b0.to(\"cuda\")\n",
    "        eff_b0, optimizer_ft = amp.initialize(eff_b0, optimizer_ft, opt_level=opt_level)\n",
    "        eff_b0 = nn.DataParallel(eff_b0)\n",
    "#         eff_b0 = apex.parallel.DistributedDataParallel(eff_b0)\n",
    "    elif mixed_precision and not cuda_parallel:\n",
    "        eff_b0.to(\"cuda\")\n",
    "        eff_b0, optimizer_ft = amp.initialize(eff_b0, optimizer_ft, opt_level=opt_level)\n",
    "    elif not mixed_precision and cuda_parallel:\n",
    "        eff_b0.to(\"cuda\")\n",
    "        eff_b0 = nn.DataParallel(eff_b0)\n",
    "    elif not mixed_precision and not cuda_parallel:\n",
    "        eff_b0.to(\"cuda\")\n",
    "        \n",
    "    callbacks = {}\n",
    "\n",
    "    callbacks = train_model(\n",
    "        eff_b0, criterion, optimizer_ft, data_loaders,\n",
    "        mixed_precision, callbacks, num_epochs=n_epoch,\n",
    "        epoch_scheduler=None, save_dir=None\n",
    "    )"
   ]
  },
  {
   "cell_type": "code",
   "execution_count": 5,
   "metadata": {},
   "outputs": [
    {
     "name": "stdout",
     "output_type": "stream",
     "text": [
      "Sat Feb  8 20:26:15 2020       \r\n",
      "+-----------------------------------------------------------------------------+\r\n",
      "| NVIDIA-SMI 430.40       Driver Version: 430.40       CUDA Version: 10.1     |\r\n",
      "|-------------------------------+----------------------+----------------------+\r\n",
      "| GPU  Name        Persistence-M| Bus-Id        Disp.A | Volatile Uncorr. ECC |\r\n",
      "| Fan  Temp  Perf  Pwr:Usage/Cap|         Memory-Usage | GPU-Util  Compute M. |\r\n",
      "|===============================+======================+======================|\r\n",
      "|   0  GeForce RTX 208...  Off  | 00000000:17:00.0 Off |                  N/A |\r\n",
      "| 40%   40C    P0    74W / 250W |      1MiB / 11019MiB |     39%      Default |\r\n",
      "+-------------------------------+----------------------+----------------------+\r\n",
      "|   1  GeForce RTX 208...  Off  | 00000000:65:00.0  On |                  N/A |\r\n",
      "| 41%   35C    P8    24W / 250W |   1350MiB / 11016MiB |      3%      Default |\r\n",
      "+-------------------------------+----------------------+----------------------+\r\n",
      "                                                                               \r\n",
      "+-----------------------------------------------------------------------------+\r\n",
      "| Processes:                                                       GPU Memory |\r\n",
      "|  GPU       PID   Type   Process name                             Usage      |\r\n",
      "|=============================================================================|\r\n",
      "|    1      1419      G   /usr/lib/xorg/Xorg                           712MiB |\r\n",
      "|    1      2522      G   compiz                                       538MiB |\r\n",
      "|    1      2961      G   ...uest-channel-token=14759263429278566641    98MiB |\r\n",
      "+-----------------------------------------------------------------------------+\r\n"
     ]
    }
   ],
   "source": [
    "!nvidia-smi"
   ]
  },
  {
   "cell_type": "code",
   "execution_count": 6,
   "metadata": {
    "scrolled": true
   },
   "outputs": [
    {
     "name": "stdout",
     "output_type": "stream",
     "text": [
      "Load data done, shape: (50210, 224, 224), (50210,), (50210, 3)\n",
      "StratifiedKFold(n_splits=5, random_state=2020, shuffle=True)\n",
      "Creating train dataloader...\n",
      "Creating test dataloader...\n",
      "Epoch 0/0\n",
      "----------\n"
     ]
    },
    {
     "data": {
      "application/vnd.jupyter.widget-view+json": {
       "model_id": "1b02859b992e4ffb8f8903f29e8d4a19",
       "version_major": 2,
       "version_minor": 0
      },
      "text/plain": [
       "HBox(children=(FloatProgress(value=0.0, max=628.0), HTML(value='')))"
      ]
     },
     "metadata": {},
     "output_type": "display_data"
    },
    {
     "name": "stdout",
     "output_type": "stream",
     "text": [
      "\n",
      "Train Loss: 2.4181, root_acc: 0.2782, vowel_acc: 0.4066, consonant_acc: 0.6763, combined_acc: 0.4098\n"
     ]
    },
    {
     "data": {
      "application/vnd.jupyter.widget-view+json": {
       "model_id": "41c8df51f018477ba4e66c583fef4414",
       "version_major": 2,
       "version_minor": 0
      },
      "text/plain": [
       "HBox(children=(FloatProgress(value=0.0, max=79.0), HTML(value='')))"
      ]
     },
     "metadata": {},
     "output_type": "display_data"
    },
    {
     "name": "stdout",
     "output_type": "stream",
     "text": [
      "\n",
      "Val Loss: 1.7417, root_acc: 0.4415, vowel_acc: 0.5016, consonant_acc: 0.7637, combined_acc: 0.5371\n",
      "In epoch 0, highest val accuracy increases from 0.0 to 0.5370942043417646.\n",
      "In epoch 0, lowest val loss decreases from 999 to 1.7417345596865055.\n",
      "\n",
      "Training complete in 2m 9s\n",
      "Best Combnied Acc: 0.537094\n"
     ]
    }
   ],
   "source": [
    "# ~ 5.2 iterations/s\n",
    "# GPU RAM before start: 1, 1288\n",
    "# GPU RAM after start: 7146, 1299\n",
    "# GPU util before start: 0%, 7%\n",
    "# GPU util after start: 94%, 10%\n",
    "\n",
    "batch_size = 64\n",
    "opt_level = \"O1\"\n",
    "mixed_precision = False\n",
    "cuda_parallel = False\n",
    "\n",
    "test_apex(mixed_precision, cuda_parallel, batch_size, opt_level)"
   ]
  },
  {
   "cell_type": "code",
   "execution_count": 7,
   "metadata": {},
   "outputs": [
    {
     "name": "stdout",
     "output_type": "stream",
     "text": [
      "Load data done, shape: (50210, 224, 224), (50210,), (50210, 3)\n",
      "StratifiedKFold(n_splits=5, random_state=2020, shuffle=True)\n",
      "Creating train dataloader...\n",
      "Creating test dataloader...\n",
      "Epoch 0/0\n",
      "----------\n"
     ]
    },
    {
     "data": {
      "application/vnd.jupyter.widget-view+json": {
       "model_id": "c78403eb46d442f2a32e21570f837673",
       "version_major": 2,
       "version_minor": 0
      },
      "text/plain": [
       "HBox(children=(FloatProgress(value=0.0, max=314.0), HTML(value='')))"
      ]
     },
     "metadata": {},
     "output_type": "display_data"
    },
    {
     "name": "stdout",
     "output_type": "stream",
     "text": [
      "\n",
      "Train Loss: 2.5650, root_acc: 0.2556, vowel_acc: 0.4271, consonant_acc: 0.6486, combined_acc: 0.3967\n"
     ]
    },
    {
     "data": {
      "application/vnd.jupyter.widget-view+json": {
       "model_id": "995933b493224e23b79a7f04335ac621",
       "version_major": 2,
       "version_minor": 0
      },
      "text/plain": [
       "HBox(children=(FloatProgress(value=0.0, max=40.0), HTML(value='')))"
      ]
     },
     "metadata": {},
     "output_type": "display_data"
    },
    {
     "name": "stdout",
     "output_type": "stream",
     "text": [
      "\n",
      "Val Loss: 5.2745, root_acc: 0.0083, vowel_acc: 0.1295, consonant_acc: 0.6252, combined_acc: 0.1928\n",
      "In epoch 0, highest val accuracy increases from 0.0 to 0.1927902808205537.\n",
      "In epoch 0, lowest val loss decreases from 999 to 5.274504893473291.\n",
      "\n",
      "Training complete in 1m 24s\n",
      "Best Combnied Acc: 0.192790\n"
     ]
    }
   ],
   "source": [
    "# mode: ~6.3 iterations/s\n",
    "# GPU RAM before start: 1, 1288\n",
    "# GPU RAM after start: 4090, 5368\n",
    "# GPU util before start: 0%, 7%\n",
    "# GPU util after start: 61%, 57%\n",
    "\n",
    "\n",
    "batch_size = 128\n",
    "opt_level = \"O1\"\n",
    "mixed_precision = False\n",
    "cuda_parallel = True\n",
    "\n",
    "test_apex(mixed_precision, cuda_parallel, batch_size, opt_level)"
   ]
  },
  {
   "cell_type": "code",
   "execution_count": 8,
   "metadata": {},
   "outputs": [
    {
     "name": "stdout",
     "output_type": "stream",
     "text": [
      "Load data done, shape: (50210, 224, 224), (50210,), (50210, 3)\n",
      "StratifiedKFold(n_splits=5, random_state=2020, shuffle=True)\n",
      "Creating train dataloader...\n",
      "Creating test dataloader...\n",
      "Selected optimization level O1:  Insert automatic casts around Pytorch functions and Tensor methods.\n",
      "\n",
      "Defaults for this optimization level are:\n",
      "enabled                : True\n",
      "opt_level              : O1\n",
      "cast_model_type        : None\n",
      "patch_torch_functions  : True\n",
      "keep_batchnorm_fp32    : None\n",
      "master_weights         : None\n",
      "loss_scale             : dynamic\n",
      "Processing user overrides (additional kwargs that are not None)...\n",
      "After processing overrides, optimization options are:\n",
      "enabled                : True\n",
      "opt_level              : O1\n",
      "cast_model_type        : None\n",
      "patch_torch_functions  : True\n",
      "keep_batchnorm_fp32    : None\n",
      "master_weights         : None\n",
      "loss_scale             : dynamic\n",
      "Epoch 0/0\n",
      "----------\n"
     ]
    },
    {
     "data": {
      "application/vnd.jupyter.widget-view+json": {
       "model_id": "8c833f38f44247a8914834791ad1cbce",
       "version_major": 2,
       "version_minor": 0
      },
      "text/plain": [
       "HBox(children=(FloatProgress(value=0.0, max=314.0), HTML(value='')))"
      ]
     },
     "metadata": {},
     "output_type": "display_data"
    },
    {
     "name": "stdout",
     "output_type": "stream",
     "text": [
      "\n",
      "Train Loss: 2.6059, root_acc: 0.2483, vowel_acc: 0.4407, consonant_acc: 0.6387, combined_acc: 0.3940\n"
     ]
    },
    {
     "data": {
      "application/vnd.jupyter.widget-view+json": {
       "model_id": "97e66892ccb643cdb398556c5aafd427",
       "version_major": 2,
       "version_minor": 0
      },
      "text/plain": [
       "HBox(children=(FloatProgress(value=0.0, max=40.0), HTML(value='')))"
      ]
     },
     "metadata": {},
     "output_type": "display_data"
    },
    {
     "name": "stdout",
     "output_type": "stream",
     "text": [
      "\n",
      "Val Loss: 5.0669, root_acc: 0.0254, vowel_acc: 0.2098, consonant_acc: 0.6252, combined_acc: 0.2214\n",
      "In epoch 0, highest val accuracy increases from 0.0 to 0.22144493128858794.\n",
      "In epoch 0, lowest val loss decreases from 999 to 5.066860043890945.\n",
      "\n",
      "Training complete in 1m 38s\n",
      "Best Combnied Acc: 0.221445\n"
     ]
    }
   ],
   "source": [
    "# mode: ~6.0 iterations/s\n",
    "# GPU RAM before start: 1, 1288\n",
    "# GPU RAM after start: 4532, 1299\n",
    "# GPU util before start: 0%, 7%\n",
    "# GPU util after start: 80%, 10%\n",
    "\n",
    "batch_size = 128\n",
    "opt_level = \"O1\"\n",
    "mixed_precision = True\n",
    "cuda_parallel = False\n",
    "\n",
    "test_apex(mixed_precision, cuda_parallel, batch_size, opt_level)"
   ]
  },
  {
   "cell_type": "code",
   "execution_count": 9,
   "metadata": {},
   "outputs": [],
   "source": [
    "import apex"
   ]
  },
  {
   "cell_type": "code",
   "execution_count": 10,
   "metadata": {},
   "outputs": [
    {
     "name": "stdout",
     "output_type": "stream",
     "text": [
      "Load data done, shape: (50210, 224, 224), (50210,), (50210, 3)\n",
      "StratifiedKFold(n_splits=5, random_state=2020, shuffle=True)\n",
      "Creating train dataloader...\n",
      "Creating test dataloader...\n",
      "Selected optimization level O1:  Insert automatic casts around Pytorch functions and Tensor methods.\n",
      "\n",
      "Defaults for this optimization level are:\n",
      "enabled                : True\n",
      "opt_level              : O1\n",
      "cast_model_type        : None\n",
      "patch_torch_functions  : True\n",
      "keep_batchnorm_fp32    : None\n",
      "master_weights         : None\n",
      "loss_scale             : dynamic\n",
      "Processing user overrides (additional kwargs that are not None)...\n",
      "After processing overrides, optimization options are:\n",
      "enabled                : True\n",
      "opt_level              : O1\n",
      "cast_model_type        : None\n",
      "patch_torch_functions  : True\n",
      "keep_batchnorm_fp32    : None\n",
      "master_weights         : None\n",
      "loss_scale             : dynamic\n",
      "Epoch 0/0\n",
      "----------\n"
     ]
    },
    {
     "data": {
      "application/vnd.jupyter.widget-view+json": {
       "model_id": "522f4211382c41609aba1b83fadc26d5",
       "version_major": 2,
       "version_minor": 0
      },
      "text/plain": [
       "HBox(children=(FloatProgress(value=0.0, max=157.0), HTML(value='')))"
      ]
     },
     "metadata": {},
     "output_type": "display_data"
    },
    {
     "name": "stdout",
     "output_type": "stream",
     "text": [
      "\n",
      "Train Loss: 2.8607, root_acc: 0.1905, vowel_acc: 0.4305, consonant_acc: 0.6312, combined_acc: 0.3607\n"
     ]
    },
    {
     "data": {
      "application/vnd.jupyter.widget-view+json": {
       "model_id": "fa7e4c022cd3421eb69a01225763c19d",
       "version_major": 2,
       "version_minor": 0
      },
      "text/plain": [
       "HBox(children=(FloatProgress(value=0.0, max=20.0), HTML(value='')))"
      ]
     },
     "metadata": {},
     "output_type": "display_data"
    },
    {
     "name": "stdout",
     "output_type": "stream",
     "text": [
      "\n",
      "Val Loss: 3.8864, root_acc: 0.0219, vowel_acc: 0.2098, consonant_acc: 0.6252, combined_acc: 0.2197\n",
      "In epoch 0, highest val accuracy increases from 0.0 to 0.21970225054769965.\n",
      "In epoch 0, lowest val loss decreases from 999 to 3.886394448689649.\n",
      "\n",
      "Training complete in 1m 1s\n",
      "Best Combnied Acc: 0.219702\n"
     ]
    }
   ],
   "source": [
    "# mode: ~4.9 iterations/s\n",
    "# GPU RAM before start: 1, 1473\n",
    "# GPU RAM after start: 2656, 4057\n",
    "# GPU util before start: 0%, 5%\n",
    "# GPU util after start: 44%, 40%\n",
    "\n",
    "batch_size = 256\n",
    "opt_level = \"O1\"\n",
    "mixed_precision = True\n",
    "cuda_parallel = True\n",
    "\n",
    "# test_apex_mp_parallel.py used nn.DistributedDataParallel but IT IS NOT COMPLETED (e.g. DistributedSampler(train_dataset))\n",
    "# python -m torch.distributed.launch --nproc_per_node=2 test_apex_mp_parallel.py\n",
    "test_apex(mixed_precision, cuda_parallel, batch_size, opt_level)"
   ]
  },
  {
   "cell_type": "code",
   "execution_count": null,
   "metadata": {},
   "outputs": [],
   "source": []
  }
 ],
 "metadata": {
  "jupytext": {
   "formats": "ipynb,py"
  },
  "kernelspec": {
   "display_name": "Python 3",
   "language": "python",
   "name": "python3"
  },
  "language_info": {
   "codemirror_mode": {
    "name": "ipython",
    "version": 3
   },
   "file_extension": ".py",
   "mimetype": "text/x-python",
   "name": "python",
   "nbconvert_exporter": "python",
   "pygments_lexer": "ipython3",
   "version": "3.7.6"
  },
  "toc": {
   "base_numbering": 1,
   "nav_menu": {},
   "number_sections": true,
   "sideBar": true,
   "skip_h1_title": false,
   "title_cell": "Table of Contents",
   "title_sidebar": "Contents",
   "toc_cell": false,
   "toc_position": {},
   "toc_section_display": true,
   "toc_window_display": false
  }
 },
 "nbformat": 4,
 "nbformat_minor": 2
}
