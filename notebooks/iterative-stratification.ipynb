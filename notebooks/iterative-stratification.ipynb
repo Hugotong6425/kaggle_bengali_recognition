{
 "cells": [
  {
   "cell_type": "markdown",
   "metadata": {},
   "source": [
    "### In this competition, we have three targets for each sample, thus I think using iterative stratifications (https://github.com/trent-b/iterative-stratification) is helpful according to previous competition:\n",
    "imet top 1 solution https://www.kaggle.com/c/imet-2019-fgvc6/discussion/94687"
   ]
  },
  {
   "cell_type": "code",
   "execution_count": 2,
   "metadata": {
    "ExecuteTime": {
     "end_time": "2020-02-08T16:23:20.944213Z",
     "start_time": "2020-02-08T16:23:17.264084Z"
    }
   },
   "outputs": [
    {
     "name": "stdout",
     "output_type": "stream",
     "text": [
      "Collecting iterative-stratification\n",
      "  Downloading https://files.pythonhosted.org/packages/9d/79/9ba64c8c07b07b8b45d80725b2ebd7b7884701c1da34f70d4749f7b45f9a/iterative_stratification-0.1.6-py3-none-any.whl\n",
      "Requirement already satisfied: scikit-learn in c:\\users\\channo.oocldm\\appdata\\local\\continuum\\anaconda3\\lib\\site-packages (from iterative-stratification) (0.22.1)\n",
      "Requirement already satisfied: numpy in c:\\users\\channo.oocldm\\appdata\\local\\continuum\\anaconda3\\lib\\site-packages (from iterative-stratification) (1.16.5)\n",
      "Requirement already satisfied: scipy in c:\\users\\channo.oocldm\\appdata\\local\\continuum\\anaconda3\\lib\\site-packages (from iterative-stratification) (1.3.1)\n",
      "Requirement already satisfied: joblib>=0.11 in c:\\users\\channo.oocldm\\appdata\\local\\continuum\\anaconda3\\lib\\site-packages (from scikit-learn->iterative-stratification) (0.13.2)\n",
      "Installing collected packages: iterative-stratification\n",
      "Successfully installed iterative-stratification-0.1.6\n"
     ]
    }
   ],
   "source": [
    "import numpy as np\n",
    "import pandas as pd\n",
    "!pip install iterative-stratification"
   ]
  },
  {
   "cell_type": "code",
   "execution_count": 3,
   "metadata": {
    "ExecuteTime": {
     "end_time": "2020-02-08T16:23:29.612649Z",
     "start_time": "2020-02-08T16:23:20.946208Z"
    }
   },
   "outputs": [
    {
     "name": "stderr",
     "output_type": "stream",
     "text": [
      "C:\\Users\\CHANNO.OOCLDM\\AppData\\Local\\Continuum\\anaconda3\\lib\\site-packages\\sklearn\\model_selection\\_split.py:296: FutureWarning: Setting a random_state has no effect since shuffle is False. This will raise an error in 0.24. You should leave random_state to its default (None), or set shuffle=True.\n",
      "  FutureWarning\n"
     ]
    }
   ],
   "source": [
    "#get data\n",
    "nfold = 5\n",
    "seed = 12\n",
    "\n",
    "train_df = pd.read_csv('../data/train.csv')\n",
    "train_df['id'] = train_df['image_id'].apply(lambda x: int(x.split('_')[1]))\n",
    "\n",
    "X, y = train_df[['id', 'grapheme_root', 'vowel_diacritic', 'consonant_diacritic']]\\\n",
    ".values[:,0], train_df.values[:,1:]\n",
    "\n",
    "train_df['fold'] = np.nan\n",
    "\n",
    "#split data\n",
    "from iterstrat.ml_stratifiers import MultilabelStratifiedKFold\n",
    "mskf = MultilabelStratifiedKFold(n_splits=nfold, random_state=seed)\n",
    "for i, (_, test_index) in enumerate(mskf.split(X, y)):\n",
    "    train_df.iloc[test_index, -1] = i\n",
    "    \n",
    "train_df['fold'] = train_df['fold'].astype('int')"
   ]
  },
  {
   "cell_type": "code",
   "execution_count": 4,
   "metadata": {
    "ExecuteTime": {
     "end_time": "2020-02-08T16:23:30.858287Z",
     "start_time": "2020-02-08T16:23:29.613647Z"
    }
   },
   "outputs": [],
   "source": [
    "#output\n",
    "train_df.to_csv('train_with_fold.csv', index = False)"
   ]
  },
  {
   "cell_type": "code",
   "execution_count": null,
   "metadata": {},
   "outputs": [],
   "source": []
  }
 ],
 "metadata": {
  "kernelspec": {
   "display_name": "Python 3",
   "language": "python",
   "name": "python3"
  },
  "language_info": {
   "codemirror_mode": {
    "name": "ipython",
    "version": 3
   },
   "file_extension": ".py",
   "mimetype": "text/x-python",
   "name": "python",
   "nbconvert_exporter": "python",
   "pygments_lexer": "ipython3",
   "version": "3.7.4"
  },
  "toc": {
   "base_numbering": 1,
   "nav_menu": {},
   "number_sections": true,
   "sideBar": true,
   "skip_h1_title": false,
   "title_cell": "Table of Contents",
   "title_sidebar": "Contents",
   "toc_cell": false,
   "toc_position": {},
   "toc_section_display": true,
   "toc_window_display": false
  }
 },
 "nbformat": 4,
 "nbformat_minor": 1
}
