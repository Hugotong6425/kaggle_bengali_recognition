{
 "cells": [
  {
   "cell_type": "code",
   "execution_count": 1,
   "metadata": {
    "ExecuteTime": {
     "end_time": "2020-02-03T13:28:47.464287Z",
     "start_time": "2020-02-03T13:28:47.448329Z"
    }
   },
   "outputs": [],
   "source": [
    "%load_ext autoreload\n",
    "%autoreload 2"
   ]
  },
  {
   "cell_type": "code",
   "execution_count": 2,
   "metadata": {
    "ExecuteTime": {
     "end_time": "2020-02-03T13:28:55.479831Z",
     "start_time": "2020-02-03T13:28:47.591306Z"
    }
   },
   "outputs": [],
   "source": [
    "import csv\n",
    "import os\n",
    "\n",
    "import numpy as np\n",
    "import torch.optim as optim\n",
    "\n",
    "from efficientnet_pytorch import EfficientNet\n",
    "from torch import nn\n",
    "from torch.utils.data import Dataset, DataLoader\n",
    "from torchvision import transforms\n",
    "from torch.optim import lr_scheduler\n",
    "\n",
    "from hw_grapheme.train_mixup import generate_stratified_k_fold_index, train_model\n",
    "from hw_grapheme.utils import load_model_weight\n",
    "from hw_grapheme.data_pipeline import create_dataloaders, load_data\n",
    "from hw_grapheme.model import EfficientNet_grapheme, EfficientNet_0\n",
    "from hw_grapheme.loss_func import Loss_combine\n",
    "\n",
    "from torchtools.optim import RangerLars, RAdam\n",
    "# from one_cycle import OneCycleLR\n",
    "from torch.optim import Optimizer\n",
    "\n",
    "# from warmup_scheduler import GradualWarmupScheduler\n",
    "\n"
   ]
  },
  {
   "cell_type": "code",
   "execution_count": 3,
   "metadata": {
    "ExecuteTime": {
     "end_time": "2020-02-03T13:28:55.495532Z",
     "start_time": "2020-02-03T13:28:55.481882Z"
    }
   },
   "outputs": [],
   "source": [
    "def imshow(inp, title=None):\n",
    "    \"\"\"Imshow for Tensor.\"\"\"\n",
    "    inp = inp.numpy().transpose((1, 2, 0))\n",
    "#     mean = np.array([0.485, 0.456, 0.406])\n",
    "#     std = np.array([0.229, 0.224, 0.225])\n",
    "#     inp = std * inp + mean\n",
    "    inp = np.clip(inp, 0, 1)\n",
    "    plt.imshow(inp)\n",
    "    if title is not None:\n",
    "        plt.title(title)\n",
    "    plt.pause(0.001)  # pause a bit so that plots are updated"
   ]
  },
  {
   "cell_type": "code",
   "execution_count": 4,
   "metadata": {
    "ExecuteTime": {
     "end_time": "2020-02-03T13:29:15.585298Z",
     "start_time": "2020-02-03T13:28:55.498537Z"
    }
   },
   "outputs": [
    {
     "name": "stdout",
     "output_type": "stream",
     "text": [
      "Load data done, shape: (50210, 224, 224), (50210,), (50210, 3)\n"
     ]
    }
   ],
   "source": [
    "# load data \n",
    "pickle_paths = [\n",
    "    \"../data/processed_data/size_224/train_data_0.pickle\",\n",
    "#     \"../data/processed_data/size_224/train_data_1.pickle\",\n",
    "#     \"../data/processed_data/size_224/train_data_2.pickle\",\n",
    "#     \"../data/processed_data/size_224/train_data_3.pickle\",\n",
    "]\n",
    "\n",
    "image_data, name_data, label_data = load_data(pickle_paths)"
   ]
  },
  {
   "cell_type": "code",
   "execution_count": 18,
   "metadata": {
    "ExecuteTime": {
     "end_time": "2020-02-03T13:32:10.949067Z",
     "start_time": "2020-02-03T13:32:10.924058Z"
    }
   },
   "outputs": [
    {
     "data": {
      "text/plain": [
       "array([[0, 0, 0, 0, 0, 0, 0, 0, 0, 0],\n",
       "       [0, 0, 0, 0, 0, 0, 0, 0, 0, 0],\n",
       "       [0, 0, 0, 0, 0, 0, 0, 0, 0, 0],\n",
       "       [0, 0, 0, 0, 0, 0, 0, 0, 0, 0],\n",
       "       [0, 0, 0, 0, 0, 0, 0, 0, 0, 0],\n",
       "       [0, 0, 0, 0, 0, 0, 0, 0, 0, 0],\n",
       "       [0, 0, 0, 0, 0, 0, 0, 0, 0, 0],\n",
       "       [0, 0, 0, 0, 0, 0, 0, 0, 0, 0],\n",
       "       [0, 0, 0, 0, 0, 0, 0, 0, 0, 0],\n",
       "       [0, 0, 0, 0, 0, 0, 0, 0, 0, 0]], dtype=uint8)"
      ]
     },
     "execution_count": 18,
     "metadata": {},
     "output_type": "execute_result"
    }
   ],
   "source": [
    "image_data[-5][100:110, 100:110]"
   ]
  },
  {
   "cell_type": "code",
   "execution_count": 5,
   "metadata": {
    "ExecuteTime": {
     "end_time": "2020-01-25T13:17:01.895416Z",
     "start_time": "2020-01-25T13:17:00.520934Z"
    }
   },
   "outputs": [
    {
     "name": "stdout",
     "output_type": "stream",
     "text": [
      "StratifiedKFold(n_splits=5, random_state=2020, shuffle=True)\n"
     ]
    }
   ],
   "source": [
    "batch_size = 64\n",
    "num_workers = 6\n",
    "pin_memory = True\n",
    "n_epoch = 120\n",
    "\n",
    "n_splits = 5\n",
    "random_seed = 2020\n",
    "\n",
    "mixed_precision = False\n",
    "\n",
    "train_idx_list, test_idx_list = generate_stratified_k_fold_index(\n",
    "    image_data, label_data, n_splits, random_seed\n",
    ")\n",
    "\n",
    "# create loss function\n",
    "# criterion = nn.CrossEntropyLoss()\n",
    "criterion = Loss_combine()\n",
    "\n",
    "# for discriminative lr\n",
    "# my_list = ['module._fc.weight', 'module._fc.bias']\n",
    "# params = list(filter(lambda kv: kv[0] in my_list, eff_b0.named_parameters()))\n",
    "# base_params = list(filter(lambda kv: kv[0] not in my_list, eff_b0.named_parameters()))\n",
    "# params = [kv[1] for kv in params]\n",
    "# base_params = [kv[1] for kv in base_params]\n",
    "\n",
    "# create data_transforms\n",
    "data_transforms = {\n",
    "    'train': transforms.Compose([\n",
    "        transforms.ToPILImage(),\n",
    "        # transforms.RandomAffine(degrees=10, scale=(1.0, 1.15)),\n",
    "        transforms.Grayscale(num_output_channels=3),\n",
    "        transforms.ToTensor(),\n",
    "        # transforms.Normalize([0.0692], [0.2051]),\n",
    "        # transforms.ToPILImage(),\n",
    "    ]),\n",
    "    'val': transforms.Compose([\n",
    "        transforms.ToPILImage(),\n",
    "        transforms.Grayscale(num_output_channels=3),\n",
    "        transforms.ToTensor(),\n",
    "        # transforms.Normalize([0.0692], [0.2051])\n",
    "    ]),\n",
    "}"
   ]
  },
  {
   "cell_type": "markdown",
   "metadata": {
    "ExecuteTime": {
     "end_time": "2020-01-25T12:28:13.727957Z",
     "start_time": "2020-01-25T12:28:13.552179Z"
    }
   },
   "source": [
    "pretrain = False\n",
    "eff_version = \"4\"\n",
    "\n",
    "eff_b0 = EfficientNet_grapheme(eff_version, pretrain)"
   ]
  },
  {
   "cell_type": "markdown",
   "metadata": {
    "ExecuteTime": {
     "end_time": "2020-01-25T12:28:13.920229Z",
     "start_time": "2020-01-25T12:28:13.889987Z"
    }
   },
   "source": [
    "eff_b0"
   ]
  },
  {
   "cell_type": "code",
   "execution_count": null,
   "metadata": {},
   "outputs": [],
   "source": []
  },
  {
   "cell_type": "code",
   "execution_count": null,
   "metadata": {},
   "outputs": [],
   "source": []
  },
  {
   "cell_type": "code",
   "execution_count": null,
   "metadata": {},
   "outputs": [],
   "source": []
  },
  {
   "cell_type": "code",
   "execution_count": null,
   "metadata": {
    "ExecuteTime": {
     "start_time": "2020-01-25T13:18:51.475Z"
    },
    "scrolled": true
   },
   "outputs": [
    {
     "name": "stdout",
     "output_type": "stream",
     "text": [
      "Training fold 0\n",
      "Creating train dataloader...\n",
      "Creating test dataloader...\n",
      "Epoch 0/119\n",
      "----------\n"
     ]
    },
    {
     "data": {
      "application/vnd.jupyter.widget-view+json": {
       "model_id": "cfd0d9802db94e8ab2d9f20523a3a48b",
       "version_major": 2,
       "version_minor": 0
      },
      "text/plain": [
       "HBox(children=(FloatProgress(value=0.0, max=2511.0), HTML(value='')))"
      ]
     },
     "metadata": {},
     "output_type": "display_data"
    },
    {
     "name": "stdout",
     "output_type": "stream",
     "text": [
      "\n",
      "Train Loss: 4.2113, root_acc: 0.2791, vowel_acc: 0.5325, consonant_acc: 0.6941, combined_acc: 0.4462\n"
     ]
    },
    {
     "data": {
      "application/vnd.jupyter.widget-view+json": {
       "model_id": "c4b329267c7f4544b2620cf1e49b96ea",
       "version_major": 2,
       "version_minor": 0
      },
      "text/plain": [
       "HBox(children=(FloatProgress(value=0.0, max=628.0), HTML(value='')))"
      ]
     },
     "metadata": {},
     "output_type": "display_data"
    },
    {
     "name": "stdout",
     "output_type": "stream",
     "text": [
      "\n",
      "Val Loss: 0.5711, root_acc: 0.8462, vowel_acc: 0.9529, consonant_acc: 0.9545, combined_acc: 0.9000\n",
      "In epoch 0, highest val accuracy increases from 0.0 to 0.8999576777534355.\n",
      "In epoch 0, lowest val loss decreases from 999 to 0.571108176945168.\n",
      "\n",
      "Epoch 1/119\n",
      "----------\n"
     ]
    },
    {
     "data": {
      "application/vnd.jupyter.widget-view+json": {
       "model_id": "a6238f2be67644f384478177c6ed0e21",
       "version_major": 2,
       "version_minor": 0
      },
      "text/plain": [
       "HBox(children=(FloatProgress(value=0.0, max=2511.0), HTML(value='')))"
      ]
     },
     "metadata": {},
     "output_type": "display_data"
    },
    {
     "name": "stdout",
     "output_type": "stream",
     "text": [
      "\n",
      "Train Loss: 2.7981, root_acc: 0.4307, vowel_acc: 0.5844, consonant_acc: 0.7273, combined_acc: 0.5433\n"
     ]
    },
    {
     "data": {
      "application/vnd.jupyter.widget-view+json": {
       "model_id": "064788b78874420c8181ba91181027bb",
       "version_major": 2,
       "version_minor": 0
      },
      "text/plain": [
       "HBox(children=(FloatProgress(value=0.0, max=628.0), HTML(value='')))"
      ]
     },
     "metadata": {},
     "output_type": "display_data"
    },
    {
     "name": "stdout",
     "output_type": "stream",
     "text": [
      "\n",
      "Val Loss: 0.4671, root_acc: 0.8833, vowel_acc: 0.9651, consonant_acc: 0.9664, combined_acc: 0.9245\n",
      "In epoch 1, highest val accuracy increases from 0.8999576777534355 to 0.924535700059749.\n",
      "In epoch 1, lowest val loss decreases from 0.571108176945168 to 0.4671443725838364.\n",
      "\n",
      "Epoch 2/119\n",
      "----------\n"
     ]
    },
    {
     "data": {
      "application/vnd.jupyter.widget-view+json": {
       "model_id": "8d3631ff22d8448e85b5608cd5fbbe51",
       "version_major": 2,
       "version_minor": 0
      },
      "text/plain": [
       "HBox(children=(FloatProgress(value=0.0, max=2511.0), HTML(value='')))"
      ]
     },
     "metadata": {},
     "output_type": "display_data"
    },
    {
     "name": "stdout",
     "output_type": "stream",
     "text": [
      "\n",
      "Train Loss: 2.5066, root_acc: 0.4463, vowel_acc: 0.5861, consonant_acc: 0.7271, combined_acc: 0.5515\n"
     ]
    },
    {
     "data": {
      "application/vnd.jupyter.widget-view+json": {
       "model_id": "a4866d5f4bfa4a8fb1aeba491a7c38ef",
       "version_major": 2,
       "version_minor": 0
      },
      "text/plain": [
       "HBox(children=(FloatProgress(value=0.0, max=628.0), HTML(value='')))"
      ]
     },
     "metadata": {},
     "output_type": "display_data"
    },
    {
     "name": "stdout",
     "output_type": "stream",
     "text": [
      "\n",
      "Val Loss: 0.3295, root_acc: 0.9147, vowel_acc: 0.9719, consonant_acc: 0.9709, combined_acc: 0.9431\n",
      "In epoch 2, highest val accuracy increases from 0.924535700059749 to 0.9430579067914757.\n",
      "In epoch 2, lowest val loss decreases from 0.4671443725838364 to 0.3294725690650598.\n",
      "\n",
      "Epoch 3/119\n",
      "----------\n"
     ]
    },
    {
     "data": {
      "application/vnd.jupyter.widget-view+json": {
       "model_id": "55ae5686c674439c956c9fca6f7e9ca6",
       "version_major": 2,
       "version_minor": 0
      },
      "text/plain": [
       "HBox(children=(FloatProgress(value=0.0, max=2511.0), HTML(value='')))"
      ]
     },
     "metadata": {},
     "output_type": "display_data"
    },
    {
     "name": "stdout",
     "output_type": "stream",
     "text": [
      "\n",
      "Train Loss: 2.4701, root_acc: 0.4536, vowel_acc: 0.5905, consonant_acc: 0.7304, combined_acc: 0.5570\n"
     ]
    },
    {
     "data": {
      "application/vnd.jupyter.widget-view+json": {
       "model_id": "65ad0f0f07c849c4834fa40e34dc3013",
       "version_major": 2,
       "version_minor": 0
      },
      "text/plain": [
       "HBox(children=(FloatProgress(value=0.0, max=628.0), HTML(value='')))"
      ]
     },
     "metadata": {},
     "output_type": "display_data"
    },
    {
     "name": "stdout",
     "output_type": "stream",
     "text": [
      "\n",
      "Val Loss: 0.2970, root_acc: 0.9167, vowel_acc: 0.9768, consonant_acc: 0.9752, combined_acc: 0.9463\n",
      "In epoch 3, highest val accuracy increases from 0.9430579067914757 to 0.946337880900219.\n",
      "In epoch 3, lowest val loss decreases from 0.3294725690650598 to 0.2969867363794703.\n",
      "\n",
      "Epoch 4/119\n",
      "----------\n"
     ]
    },
    {
     "data": {
      "application/vnd.jupyter.widget-view+json": {
       "model_id": "26bf883125d24121a88275bbee3ce8da",
       "version_major": 2,
       "version_minor": 0
      },
      "text/plain": [
       "HBox(children=(FloatProgress(value=0.0, max=2511.0), HTML(value='')))"
      ]
     },
     "metadata": {},
     "output_type": "display_data"
    }
   ],
   "source": [
    "pretrain = False\n",
    "# eff_version = \"4\"\n",
    "mixup_alpha = 0.1\n",
    "\n",
    "for i, (train_idx, valid_idx) in enumerate(zip(train_idx_list, test_idx_list)):\n",
    "    if i != 0:\n",
    "        continue\n",
    "    print(f\"Training fold {i}\")\n",
    "    \n",
    "    # create model \n",
    "    # eff_b0 = EfficientNet_grapheme(eff_version, pretrain)    \n",
    "    eff_b0 = EfficientNet_0(pretrain)\n",
    "\n",
    "    #########################\n",
    "    # load_model_weight(eff_b0, \"../model_weights/eff_0_with_mixup_cutmix/fold_0/eff_0_low_loss.pth\")\n",
    "    #########################\n",
    "    if mixed_precision:\n",
    "        eff_b0 = apex.parallel.DistributedDataParallel(eff_b0)\n",
    "        eff_b0.to(\"cuda\")\n",
    "        eff_b0 = torch.nn.parallel.DistributedDataParallel(\n",
    "            eff_b0, device_ids=[0,1], output_device=0\n",
    "        )\n",
    "        eff_b0, optimizer_ft = amp.initialize(eff_b0, optimizer_ft, opt_level=\"O1\")\n",
    "    else:\n",
    "        eff_b0.to(\"cuda\")\n",
    "        eff_b0 = nn.DataParallel(eff_b0)\n",
    "        \n",
    "    # create optimizer\n",
    "    # optimizer_ft = RangerLars(eff_b0.parameters())\n",
    "    optimizer_ft = optim.Adam(eff_b0.parameters(), weight_decay=1e-5)\n",
    "\n",
    "    # create data loader\n",
    "    data_loaders = create_dataloaders(\n",
    "        image_data, name_data, label_data, train_idx, valid_idx, \n",
    "        data_transforms, batch_size, num_workers, pin_memory\n",
    "    )\n",
    "    \n",
    "    # create lr scheduler\n",
    "    # exp_lr_scheduler = lr_scheduler.ReduceLROnPlateau(\n",
    "    #     optimizer_ft, factor=0.5, patience=5,\n",
    "    # )\n",
    "#     cos_lr_scheduler = lr_scheduler.CosineAnnealingLR(\n",
    "#         optimizer_ft, T_max=n_epoch,\n",
    "#     )\n",
    "#     # one_cycle_lr_scheduler = OneCycleLR(\n",
    "#     #     optimizer_ft, max_lr=0.01, steps_per_epoch=len(data_loaders[\"train\"]), epochs=n_epoch\n",
    "#     # )   \n",
    "    \n",
    "#     scheduler_warmup = GradualWarmupScheduler(\n",
    "#         optimizer_ft, multiplier=1, total_epoch=10, after_scheduler=cos_lr_scheduler\n",
    "#     )\n",
    "\n",
    "    \n",
    "    callbacks = {}\n",
    "\n",
    "    callbacks = train_model(\n",
    "        eff_b0, optimizer_ft, data_loaders,\n",
    "        mixed_precision, callbacks, mixup_alpha, num_epochs=n_epoch,\n",
    "        epoch_scheduler=None, save_dir=f\"../model_weights/eff_0_with_mixup_cutmix_alpha_0.1/fold_{i}\"\n",
    "    )\n"
   ]
  },
  {
   "cell_type": "code",
   "execution_count": 7,
   "metadata": {
    "ExecuteTime": {
     "end_time": "2020-01-23T17:54:26.204272Z",
     "start_time": "2020-01-23T17:54:26.180340Z"
    }
   },
   "outputs": [],
   "source": [
    "configs = {\n",
    "    \"model\": \"efficient 0\",\n",
    "    \"pretrain\": pretrain,\n",
    "    \"head_info\": \"1 fc\",\n",
    "    \"input_size\": \"224X224\",\n",
    "    \"optimizer\": \"adam\",\n",
    "    \"n_fold\": n_splits,\n",
    "    \"split_seed\": random_seed,\n",
    "    \"batch_size\": batch_size,\n",
    "    \"epoch\": n_epoch,\n",
    "    \"mixed_precision\": mixed_precision,\n",
    "    \"image_processing\": \"mixup, cutmix\",\n",
    "    \"cutmix/mixup alpha\": 0.1,\n",
    "}"
   ]
  },
  {
   "cell_type": "code",
   "execution_count": 8,
   "metadata": {
    "ExecuteTime": {
     "end_time": "2020-01-24T01:29:27.962758Z",
     "start_time": "2020-01-24T01:29:27.937492Z"
    }
   },
   "outputs": [
    {
     "data": {
      "text/plain": [
       "{'model': 'efficient 0',\n",
       " 'pretrain': False,\n",
       " 'head_info': '1 fc',\n",
       " 'input_size': '224X224',\n",
       " 'optimizer': 'adam',\n",
       " 'n_fold': 5,\n",
       " 'split_seed': 2020,\n",
       " 'batch_size': 64,\n",
       " 'epoch': 64,\n",
       " 'mixed_precision': False,\n",
       " 'image_processing': 'mixup, cutmix'}"
      ]
     },
     "execution_count": 8,
     "metadata": {},
     "output_type": "execute_result"
    }
   ],
   "source": [
    "save_root_dir = \"../model_weights/eff_0_baseline\"\n",
    "\n",
    "\n",
    "config_save_path = os.path.join(save_root_dir, \"config.csv\")\n",
    "\n",
    "with open(config_save_path, \"w\") as f:\n",
    "    for key in configs.keys():\n",
    "        f.write(f\"{key},{configs[key]}\\n\")\n"
   ]
  },
  {
   "cell_type": "code",
   "execution_count": null,
   "metadata": {
    "ExecuteTime": {
     "end_time": "2020-01-23T07:15:53.433438Z",
     "start_time": "2020-01-23T07:14:54.712Z"
    }
   },
   "outputs": [],
   "source": [
    "# Get a batch of training data for demo\n",
    "\n",
    "# visual_loader = DataLoader(\n",
    "#     train_dataset, batch_size=4,\n",
    "#     num_workers=num_workers, pin_memory=True,\n",
    "# )\n",
    "\n",
    "# inputs, a,b,c = next(iter(visual_loader))\n",
    "\n",
    "# # Make a grid from batch\n",
    "# out = torchvision.utils.make_grid(inputs)\n",
    "\n",
    "# imshow(out)"
   ]
  },
  {
   "cell_type": "code",
   "execution_count": null,
   "metadata": {},
   "outputs": [],
   "source": []
  },
  {
   "cell_type": "code",
   "execution_count": null,
   "metadata": {},
   "outputs": [],
   "source": []
  }
 ],
 "metadata": {
  "jupytext": {
   "formats": "ipynb,py"
  },
  "kernelspec": {
   "display_name": "Python 3",
   "language": "python",
   "name": "python3"
  },
  "language_info": {
   "codemirror_mode": {
    "name": "ipython",
    "version": 3
   },
   "file_extension": ".py",
   "mimetype": "text/x-python",
   "name": "python",
   "nbconvert_exporter": "python",
   "pygments_lexer": "ipython3",
   "version": "3.7.5"
  },
  "toc": {
   "base_numbering": 1,
   "nav_menu": {},
   "number_sections": true,
   "sideBar": true,
   "skip_h1_title": false,
   "title_cell": "Table of Contents",
   "title_sidebar": "Contents",
   "toc_cell": false,
   "toc_position": {},
   "toc_section_display": true,
   "toc_window_display": false
  }
 },
 "nbformat": 4,
 "nbformat_minor": 2
}
