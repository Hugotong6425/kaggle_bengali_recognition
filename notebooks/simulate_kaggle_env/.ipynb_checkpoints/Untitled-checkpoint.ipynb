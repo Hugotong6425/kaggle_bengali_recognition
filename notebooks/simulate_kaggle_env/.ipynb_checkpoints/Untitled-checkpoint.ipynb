{
 "cells": [
  {
   "cell_type": "code",
   "execution_count": 1,
   "metadata": {
    "ExecuteTime": {
     "end_time": "2020-02-03T14:37:24.483340Z",
     "start_time": "2020-02-03T14:37:24.243526Z"
    }
   },
   "outputs": [],
   "source": [
    "import gc\n",
    "import pandas as pd\n",
    "import numpy as np"
   ]
  },
  {
   "cell_type": "code",
   "execution_count": 2,
   "metadata": {
    "ExecuteTime": {
     "end_time": "2020-02-03T14:37:24.793752Z",
     "start_time": "2020-02-03T14:37:24.484940Z"
    }
   },
   "outputs": [],
   "source": [
    "import os\n",
    "\n",
    "import numpy as np # linear algebra\n",
    "import pandas as pd # data processing, CSV file I/O (e.g. pd.read_csv)\n",
    "        \n",
    "from torchvision import transforms\n",
    "from predict_utils import bengali_predict\n",
    "from model import EfficientNet_0"
   ]
  },
  {
   "cell_type": "code",
   "execution_count": 3,
   "metadata": {
    "ExecuteTime": {
     "end_time": "2020-01-30T15:34:30.281997Z",
     "start_time": "2020-01-30T15:34:30.276458Z"
    }
   },
   "outputs": [],
   "source": [
    "test_data_paths = [\n",
    "    \"data/train_image_data_0.parquet\",\n",
    "#     \"data/train_image_data_1.parquet\",\n",
    "#     \"data/train_image_data_2.parquet\",\n",
    "#     \"data/train_image_data_3.parquet\",\n",
    "]\n",
    "\n",
    "model_archs_weights = [\n",
    "    (EfficientNet_0, \"model_weights/eff_0_fold_0.pth\"),\n",
    "    (EfficientNet_0, \"model_weights/eff_0_fold_1.pth\"),\n",
    "#     (EfficientNet_0, \"model_weights/eff_0_fold_2.pth\"),\n",
    "#     (EfficientNet_0, \"model_weights/eff_0_fold_3.pth\"),\n",
    "#     (EfficientNet_0, \"model_weights/eff_0_fold_4.pth\"),\n",
    "]\n",
    "\n",
    "transformss = transforms.Compose([\n",
    "    transforms.ToPILImage(),\n",
    "    transforms.Grayscale(num_output_channels=3),\n",
    "    transforms.ToTensor(),\n",
    "    # transforms.Normalize([0.0692], [0.2051])\n",
    "])\n"
   ]
  },
  {
   "cell_type": "code",
   "execution_count": 4,
   "metadata": {
    "ExecuteTime": {
     "end_time": "2020-01-30T15:48:01.506451Z",
     "start_time": "2020-01-30T15:34:30.524677Z"
    }
   },
   "outputs": [
    {
     "name": "stdout",
     "output_type": "stream",
     "text": [
      "processing images\n",
      "40\n"
     ]
    },
    {
     "name": "stderr",
     "output_type": "stream",
     "text": [
      "  0%|          | 114/50210 [00:00<00:44, 1130.57it/s]"
     ]
    },
    {
     "name": "stdout",
     "output_type": "stream",
     "text": [
      "32350\n",
      "0\n",
      "processing images\n"
     ]
    },
    {
     "name": "stderr",
     "output_type": "stream",
     "text": [
      "100%|██████████| 50210/50210 [00:44<00:00, 1125.30it/s]\n"
     ]
    },
    {
     "name": "stdout",
     "output_type": "stream",
     "text": [
      "after function 1\n",
      "0\n",
      "\n",
      "Doing data_path: data/train_image_data_0.parquet\n",
      "Loading model 0...\n"
     ]
    },
    {
     "name": "stderr",
     "output_type": "stream",
     "text": [
      "100%|██████████| 393/393 [01:13<00:00,  5.37it/s]\n",
      "  0%|          | 0/393 [00:00<?, ?it/s]"
     ]
    },
    {
     "name": "stdout",
     "output_type": "stream",
     "text": [
      "delete model\n",
      "0\n",
      "\n",
      "delete subset probit\n",
      "0\n",
      "\n",
      "Loading model 1...\n"
     ]
    },
    {
     "name": "stderr",
     "output_type": "stream",
     "text": [
      "100%|██████████| 393/393 [01:13<00:00,  5.36it/s]\n"
     ]
    },
    {
     "name": "stdout",
     "output_type": "stream",
     "text": [
      "delete model\n",
      "740\n",
      "\n",
      "delete subset probit\n",
      "0\n",
      "\n",
      "delete probit\n",
      "0\n",
      "\n",
      "delete row id taget subset\n",
      "0\n",
      "\n",
      "delete file name and images\n",
      "0\n",
      "\n",
      "processing images\n",
      "0\n"
     ]
    },
    {
     "name": "stderr",
     "output_type": "stream",
     "text": [
      "  0%|          | 107/50210 [00:00<00:47, 1065.54it/s]"
     ]
    },
    {
     "name": "stdout",
     "output_type": "stream",
     "text": [
      "32350\n",
      "0\n",
      "processing images\n"
     ]
    },
    {
     "name": "stderr",
     "output_type": "stream",
     "text": [
      "100%|██████████| 50210/50210 [00:45<00:00, 1105.94it/s]\n",
      "  0%|          | 0/393 [00:00<?, ?it/s]"
     ]
    },
    {
     "name": "stdout",
     "output_type": "stream",
     "text": [
      "after function 1\n",
      "0\n",
      "\n",
      "Doing data_path: data/train_image_data_1.parquet\n",
      "Loading model 0...\n"
     ]
    },
    {
     "name": "stderr",
     "output_type": "stream",
     "text": [
      "100%|██████████| 393/393 [01:10<00:00,  5.54it/s]\n",
      "  0%|          | 0/393 [00:00<?, ?it/s]"
     ]
    },
    {
     "name": "stdout",
     "output_type": "stream",
     "text": [
      "delete model\n",
      "740\n",
      "\n",
      "delete subset probit\n",
      "0\n",
      "\n",
      "Loading model 1...\n"
     ]
    },
    {
     "name": "stderr",
     "output_type": "stream",
     "text": [
      "100%|██████████| 393/393 [01:11<00:00,  5.53it/s]\n"
     ]
    },
    {
     "name": "stdout",
     "output_type": "stream",
     "text": [
      "delete model\n",
      "740\n",
      "\n",
      "delete subset probit\n",
      "0\n",
      "\n",
      "delete probit\n",
      "0\n",
      "\n",
      "delete row id taget subset\n",
      "0\n",
      "\n",
      "delete file name and images\n",
      "0\n",
      "\n",
      "processing images\n",
      "0\n"
     ]
    },
    {
     "name": "stderr",
     "output_type": "stream",
     "text": [
      "  0%|          | 105/50210 [00:00<00:47, 1044.84it/s]"
     ]
    },
    {
     "name": "stdout",
     "output_type": "stream",
     "text": [
      "32350\n",
      "0\n",
      "processing images\n"
     ]
    },
    {
     "name": "stderr",
     "output_type": "stream",
     "text": [
      "100%|██████████| 50210/50210 [00:45<00:00, 1105.04it/s]\n",
      "  0%|          | 0/393 [00:00<?, ?it/s]"
     ]
    },
    {
     "name": "stdout",
     "output_type": "stream",
     "text": [
      "after function 1\n",
      "0\n",
      "\n",
      "Doing data_path: data/train_image_data_2.parquet\n",
      "Loading model 0...\n"
     ]
    },
    {
     "name": "stderr",
     "output_type": "stream",
     "text": [
      "100%|██████████| 393/393 [01:10<00:00,  5.55it/s]\n",
      "  0%|          | 0/393 [00:00<?, ?it/s]"
     ]
    },
    {
     "name": "stdout",
     "output_type": "stream",
     "text": [
      "delete model\n",
      "740\n",
      "\n",
      "delete subset probit\n",
      "0\n",
      "\n",
      "Loading model 1...\n"
     ]
    },
    {
     "name": "stderr",
     "output_type": "stream",
     "text": [
      "100%|██████████| 393/393 [01:11<00:00,  5.51it/s]\n"
     ]
    },
    {
     "name": "stdout",
     "output_type": "stream",
     "text": [
      "delete model\n",
      "740\n",
      "\n",
      "delete subset probit\n",
      "0\n",
      "\n",
      "delete probit\n",
      "0\n",
      "\n",
      "delete row id taget subset\n",
      "0\n",
      "\n",
      "delete file name and images\n",
      "0\n",
      "\n",
      "processing images\n",
      "0\n"
     ]
    },
    {
     "name": "stderr",
     "output_type": "stream",
     "text": [
      "  0%|          | 111/50210 [00:00<00:45, 1109.44it/s]"
     ]
    },
    {
     "name": "stdout",
     "output_type": "stream",
     "text": [
      "32350\n",
      "0\n",
      "processing images\n"
     ]
    },
    {
     "name": "stderr",
     "output_type": "stream",
     "text": [
      "100%|██████████| 50210/50210 [00:45<00:00, 1114.90it/s]\n",
      "  0%|          | 0/393 [00:00<?, ?it/s]"
     ]
    },
    {
     "name": "stdout",
     "output_type": "stream",
     "text": [
      "after function 1\n",
      "0\n",
      "\n",
      "Doing data_path: data/train_image_data_3.parquet\n",
      "Loading model 0...\n"
     ]
    },
    {
     "name": "stderr",
     "output_type": "stream",
     "text": [
      "100%|██████████| 393/393 [01:10<00:00,  5.54it/s]\n",
      "  0%|          | 0/393 [00:00<?, ?it/s]"
     ]
    },
    {
     "name": "stdout",
     "output_type": "stream",
     "text": [
      "delete model\n",
      "740\n",
      "\n",
      "delete subset probit\n",
      "0\n",
      "\n",
      "Loading model 1...\n"
     ]
    },
    {
     "name": "stderr",
     "output_type": "stream",
     "text": [
      "100%|██████████| 393/393 [01:11<00:00,  5.52it/s]\n"
     ]
    },
    {
     "name": "stdout",
     "output_type": "stream",
     "text": [
      "delete model\n",
      "740\n",
      "\n",
      "delete subset probit\n",
      "0\n",
      "\n",
      "delete probit\n",
      "0\n",
      "\n",
      "delete row id taget subset\n",
      "0\n",
      "\n",
      "delete file name and images\n",
      "0\n",
      "\n"
     ]
    }
   ],
   "source": [
    "row_id, target = bengali_predict(\n",
    "    test_data_paths, model_archs_weights, transformss,\n",
    "    batch_size=128, n_workers=1\n",
    ")\n",
    "\n",
    "sub_df = pd.DataFrame({'row_id': row_id, 'target': target})\n",
    "sub_df.to_csv('submission.csv', index=False)\n",
    "\n",
    "# Any results you write to the current directory are saved as output.\n"
   ]
  },
  {
   "cell_type": "code",
   "execution_count": null,
   "metadata": {},
   "outputs": [],
   "source": [
    "88 200 000\n",
    "86 900 000\n",
    "71 000 000"
   ]
  }
 ],
 "metadata": {
  "kernelspec": {
   "display_name": "Python 3",
   "language": "python",
   "name": "python3"
  },
  "language_info": {
   "codemirror_mode": {
    "name": "ipython",
    "version": 3
   },
   "file_extension": ".py",
   "mimetype": "text/x-python",
   "name": "python",
   "nbconvert_exporter": "python",
   "pygments_lexer": "ipython3",
   "version": "3.7.5"
  },
  "toc": {
   "base_numbering": 1,
   "nav_menu": {},
   "number_sections": true,
   "sideBar": true,
   "skip_h1_title": false,
   "title_cell": "Table of Contents",
   "title_sidebar": "Contents",
   "toc_cell": false,
   "toc_position": {},
   "toc_section_display": true,
   "toc_window_display": false
  }
 },
 "nbformat": 4,
 "nbformat_minor": 2
}
