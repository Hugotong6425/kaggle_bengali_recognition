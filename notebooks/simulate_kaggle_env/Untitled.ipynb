{
 "cells": [
  {
   "cell_type": "code",
   "execution_count": 1,
   "metadata": {
    "ExecuteTime": {
     "end_time": "2020-02-03T15:34:45.665701Z",
     "start_time": "2020-02-03T15:34:45.417162Z"
    }
   },
   "outputs": [],
   "source": [
    "import gc\n",
    "import pandas as pd\n",
    "import numpy as np"
   ]
  },
  {
   "cell_type": "code",
   "execution_count": 2,
   "metadata": {
    "ExecuteTime": {
     "end_time": "2020-02-03T15:34:45.898624Z",
     "start_time": "2020-02-03T15:34:45.667878Z"
    }
   },
   "outputs": [],
   "source": [
    "import os\n",
    "\n",
    "import numpy as np # linear algebra\n",
    "import pandas as pd # data processing, CSV file I/O (e.g. pd.read_csv)\n",
    "        \n",
    "from torchvision import transforms\n",
    "from predict_utils import bengali_predict\n",
    "from model import EfficientNet_0"
   ]
  },
  {
   "cell_type": "code",
   "execution_count": 3,
   "metadata": {
    "ExecuteTime": {
     "end_time": "2020-02-03T15:34:45.904051Z",
     "start_time": "2020-02-03T15:34:45.900372Z"
    }
   },
   "outputs": [],
   "source": [
    "test_data_paths = [\n",
    "    \"data/train_image_data_0.parquet\",\n",
    "    \"data/train_image_data_1.parquet\",\n",
    "    \"data/train_image_data_2.parquet\",\n",
    "    \"data/train_image_data_3.parquet\",\n",
    "]\n",
    "\n",
    "model_archs_weights = [\n",
    "    (EfficientNet_0, \"model_weights/eff_0_fold_0.pth\"),\n",
    "    (EfficientNet_0, \"model_weights/eff_0_fold_1.pth\"),\n",
    "    (EfficientNet_0, \"model_weights/eff_0_fold_2.pth\"),\n",
    "    (EfficientNet_0, \"model_weights/eff_0_fold_3.pth\"),\n",
    "    (EfficientNet_0, \"model_weights/eff_0_fold_4.pth\"),\n",
    "]\n",
    "\n",
    "transformss = transforms.Compose([\n",
    "    transforms.ToPILImage(),\n",
    "    transforms.Grayscale(num_output_channels=3),\n",
    "    transforms.ToTensor(),\n",
    "    # transforms.Normalize([0.0692], [0.2051])\n",
    "])\n"
   ]
  },
  {
   "cell_type": "code",
   "execution_count": null,
   "metadata": {
    "ExecuteTime": {
     "start_time": "2020-02-03T15:35:03.637Z"
    }
   },
   "outputs": [
    {
     "name": "stdout",
     "output_type": "stream",
     "text": [
      "processing images\n",
      "Doing data_path: data/train_image_data_0.parquet\n",
      "Loading model 0...\n",
      "delete model\n",
      "740\n",
      "\n",
      "delete subset probit\n",
      "0\n",
      "\n",
      "Loading model 1...\n",
      "delete model\n",
      "740\n",
      "\n",
      "delete subset probit\n",
      "0\n",
      "\n",
      "Loading model 2...\n",
      "delete model\n",
      "740\n",
      "\n",
      "delete subset probit\n",
      "0\n",
      "\n",
      "Loading model 3...\n",
      "delete model\n",
      "740\n",
      "\n",
      "delete subset probit\n",
      "0\n",
      "\n",
      "Loading model 4...\n",
      "delete model\n",
      "740\n",
      "\n",
      "delete subset probit\n",
      "0\n",
      "\n",
      "delete probit\n",
      "0\n",
      "\n",
      "delete row id taget subset\n",
      "0\n",
      "\n",
      "delete file name and images\n",
      "0\n",
      "\n",
      "processing images\n",
      "Doing data_path: data/train_image_data_1.parquet\n",
      "Loading model 0...\n",
      "delete model\n",
      "33090\n",
      "\n",
      "delete subset probit\n",
      "0\n",
      "\n",
      "Loading model 1...\n",
      "delete model\n",
      "740\n",
      "\n",
      "delete subset probit\n",
      "0\n",
      "\n",
      "Loading model 2...\n",
      "delete model\n",
      "740\n",
      "\n",
      "delete subset probit\n",
      "0\n",
      "\n",
      "Loading model 3...\n"
     ]
    }
   ],
   "source": [
    "row_id, target = bengali_predict(\n",
    "    test_data_paths, model_archs_weights, transformss,\n",
    "    batch_size=256, n_workers=1\n",
    ")\n",
    "\n",
    "sub_df = pd.DataFrame({'row_id': row_id, 'target': target})\n",
    "sub_df.to_csv('submission.csv', index=False)\n",
    "\n",
    "# Any results you write to the current directory are saved as output.\n"
   ]
  },
  {
   "cell_type": "code",
   "execution_count": null,
   "metadata": {},
   "outputs": [],
   "source": [
    "88 200 000\n",
    "86 900 000\n",
    "71 000 000"
   ]
  }
 ],
 "metadata": {
  "kernelspec": {
   "display_name": "Python 3",
   "language": "python",
   "name": "python3"
  },
  "language_info": {
   "codemirror_mode": {
    "name": "ipython",
    "version": 3
   },
   "file_extension": ".py",
   "mimetype": "text/x-python",
   "name": "python",
   "nbconvert_exporter": "python",
   "pygments_lexer": "ipython3",
   "version": "3.7.5"
  },
  "toc": {
   "base_numbering": 1,
   "nav_menu": {},
   "number_sections": true,
   "sideBar": true,
   "skip_h1_title": false,
   "title_cell": "Table of Contents",
   "title_sidebar": "Contents",
   "toc_cell": false,
   "toc_position": {},
   "toc_section_display": true,
   "toc_window_display": false
  }
 },
 "nbformat": 4,
 "nbformat_minor": 2
}
