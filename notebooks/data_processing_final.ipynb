{
 "cells": [
  {
   "cell_type": "code",
   "execution_count": 2,
   "metadata": {
    "ExecuteTime": {
     "end_time": "2020-02-03T14:13:19.079171Z",
     "start_time": "2020-02-03T14:13:18.563805Z"
    }
   },
   "outputs": [],
   "source": [
    "# https://www.kaggle.com/iafoss/image-preprocessing-128x128\n",
    "import cv2\n",
    "import pickle\n",
    "\n",
    "import pandas as pd\n",
    "import numpy as np\n",
    "import matplotlib.pyplot as plt\n",
    "\n",
    "from tqdm import tqdm\n",
    "from torch.utils.data import Dataset, DataLoader\n",
    "\n",
    "from sys import getsizeof, getrefcount\n",
    "import psutil\n",
    "import gc"
   ]
  },
  {
   "cell_type": "code",
   "execution_count": 6,
   "metadata": {
    "ExecuteTime": {
     "end_time": "2020-02-03T14:13:19.087666Z",
     "start_time": "2020-02-03T14:13:19.081052Z"
    }
   },
   "outputs": [],
   "source": [
    "HEIGHT = 137\n",
    "WIDTH = 236\n",
    "SIZE = 224\n",
    "\n",
    "def bbox(img):\n",
    "    rows = np.any(img, axis=1)\n",
    "    cols = np.any(img, axis=0)\n",
    "    rmin, rmax = np.where(rows)[0][[0, -1]]\n",
    "    cmin, cmax = np.where(cols)[0][[0, -1]]\n",
    "    return rmin, rmax, cmin, cmax\n",
    "\n",
    "def crop_resize(img0, size=SIZE, pad=16):\n",
    "    #crop a box around pixels large than the threshold \n",
    "    #some images contain line at the sides\n",
    "    ymin,ymax,xmin,xmax = bbox(img0[5:-5,5:-5] > 80)\n",
    "    #cropping may cut too much, so we need to add it back\n",
    "    xmin = xmin - 13 if (xmin > 13) else 0\n",
    "    ymin = ymin - 10 if (ymin > 10) else 0\n",
    "    xmax = xmax + 13 if (xmax < WIDTH - 13) else WIDTH\n",
    "    ymax = ymax + 10 if (ymax < HEIGHT - 10) else HEIGHT\n",
    "    img0 = img0[ymin:ymax,xmin:xmax]\n",
    "    #remove lo intensity pixels as noise\n",
    "    img0[img0 < 28] = 0\n",
    "    lx, ly = xmax-xmin,ymax-ymin\n",
    "    l = max(lx,ly) + pad\n",
    "    #make sure that the aspect ratio is kept in rescaling\n",
    "    img0 = np.pad(img0, [((l-ly)//2,), ((l-lx)//2,)], mode='constant')\n",
    "    return cv2.resize(img0,(size,size))\n",
    "\n",
    "def proces_image(images):\n",
    "    \"\"\"\n",
    "    images: (batch_size, 32332), np array\n",
    "    \n",
    "    \"\"\"\n",
    "    image_max = images.max(axis=1).reshape(-1, 1).astype(np.uint8)\n",
    "    images = (255 - images)/image_max*255\n",
    "    images = images.reshape(-1, HEIGHT, WIDTH).astype(np.uint8)\n",
    "    \n",
    "    processed_image_list = []\n",
    "\n",
    "    for idx in tqdm(range(len(images))):\n",
    "        processed_image_list.append(crop_resize(images[idx]))\n",
    "\n",
    "    del image_max\n",
    "    del images\n",
    "    print(gc.collect())\n",
    "    \n",
    "    return np.array(processed_image_list)"
   ]
  },
  {
   "cell_type": "code",
   "execution_count": 34,
   "metadata": {},
   "outputs": [],
   "source": [
    "from pathlib import Path\n",
    "PROCESS_DATA = Path(\"../data/processed_data\")\n",
    "RAW_DATA = Path(\"../data\")\n",
    "\n",
    "PROCESS_DATA.mkdir(exist_ok=True)\n",
    "RAW_DATA.mkdir(exist_ok=True)"
   ]
  },
  {
   "cell_type": "code",
   "execution_count": 36,
   "metadata": {
    "ExecuteTime": {
     "end_time": "2020-02-03T14:13:26.515621Z",
     "start_time": "2020-02-03T14:13:19.581858Z"
    }
   },
   "outputs": [
    {
     "name": "stdout",
     "output_type": "stream",
     "text": [
      "==================== 0 ==================\n",
      "1.5118995979428291\n",
      "7.391014099121094\n"
     ]
    },
    {
     "name": "stderr",
     "output_type": "stream",
     "text": [
      "100%|███████████████████████████████████████████| 50210/50210 [02:16<00:00, 368.33it/s]\n"
     ]
    },
    {
     "name": "stdout",
     "output_type": "stream",
     "text": [
      "2\n",
      "0\n",
      "2.3463155031204224\n",
      "10.506282806396484\n",
      "==================== 1 ==================\n",
      "1.5118995979428291\n",
      "7.551418304443359\n"
     ]
    },
    {
     "name": "stderr",
     "output_type": "stream",
     "text": [
      "100%|███████████████████████████████████████████| 50210/50210 [02:01<00:00, 413.03it/s]\n"
     ]
    },
    {
     "name": "stdout",
     "output_type": "stream",
     "text": [
      "2\n",
      "0\n",
      "2.3463155031204224\n",
      "10.441497802734375\n",
      "==================== 2 ==================\n",
      "1.5118995979428291\n",
      "7.56585693359375\n"
     ]
    },
    {
     "name": "stderr",
     "output_type": "stream",
     "text": [
      "100%|███████████████████████████████████████████| 50210/50210 [01:07<00:00, 748.53it/s]\n"
     ]
    },
    {
     "name": "stdout",
     "output_type": "stream",
     "text": [
      "2\n",
      "0\n",
      "2.3463155031204224\n",
      "10.22265625\n",
      "==================== 3 ==================\n",
      "1.5118995979428291\n",
      "7.864200592041016\n"
     ]
    },
    {
     "name": "stderr",
     "output_type": "stream",
     "text": [
      "100%|███████████████████████████████████████████| 50210/50210 [01:01<00:00, 812.48it/s]\n"
     ]
    },
    {
     "name": "stdout",
     "output_type": "stream",
     "text": [
      "2\n",
      "0\n",
      "2.3463155031204224\n",
      "10.724590301513672\n"
     ]
    }
   ],
   "source": [
    "train_df = pd.read_csv(\"../data/train.csv\")\n",
    "\n",
    "for i in range(4):\n",
    "    print(f\"==================== {i} ==================\")\n",
    "    fn = f\"train_image_data_{i}.parquet\"\n",
    "    process_fn = f\"train_data_{i}.pickle\"\n",
    "    df = pd.read_parquet(RAW_DATA/fn)\n",
    "    \n",
    "    \n",
    "    if (PROCESS_DATA/process_fn).is_file():\n",
    "        print(f'parquet {i} processed already, skipped')\n",
    "        continue\n",
    "    \n",
    "    \n",
    "    \n",
    "    merged_df = df.merge(train_df, on=\"image_id\")\n",
    "\n",
    "    image_name = merged_df[\"image_id\"]\n",
    "    label = merged_df[[\"grapheme_root\",\"vowel_diacritic\",\"consonant_diacritic\"]].astype(np.uint8)\n",
    "    image = merged_df.drop([\"image_id\", \"grapheme_root\",\"vowel_diacritic\",\"consonant_diacritic\", \"grapheme\"], axis=1).values\n",
    "\n",
    "    \n",
    "    # full image processing\n",
    "    image = image * 1\n",
    "\n",
    "    print(getsizeof(image)/1024/1024/1024)\n",
    "    print(psutil.virtual_memory()[4]/1024/1024/1024)\n",
    "\n",
    "    image = proces_image(image)\n",
    "    print(gc.collect())\n",
    "    print(getsizeof(image)/1024/1024/1024)\n",
    "    print(psutil.virtual_memory()[4]/1024/1024/1024)\n",
    "    \n",
    "    with open(PROCESS_DATA/process_fn, \"wb\") as f:\n",
    "        pickle.dump(image, f)"
   ]
  },
  {
   "cell_type": "markdown",
   "metadata": {},
   "source": [
    "# Step by step"
   ]
  },
  {
   "cell_type": "code",
   "execution_count": 14,
   "metadata": {
    "ExecuteTime": {
     "end_time": "2020-02-03T14:13:27.086555Z",
     "start_time": "2020-02-03T14:13:26.517312Z"
    }
   },
   "outputs": [
    {
     "name": "stdout",
     "output_type": "stream",
     "text": [
      "2.3463155031204224\n",
      "9.17605209350586\n",
      "2.3463155031204224\n",
      "9.197502136230469\n"
     ]
    }
   ],
   "source": [
    "# strange thing in memory\n",
    "print(getsizeof(image)/1024/1024/1024)\n",
    "print(psutil.virtual_memory()[4]/1024/1024/1024)\n",
    "image = image * 1\n",
    "print(getsizeof(image)/1024/1024/1024)\n",
    "print(psutil.virtual_memory()[4]/1024/1024/1024)\n"
   ]
  },
  {
   "cell_type": "code",
   "execution_count": 15,
   "metadata": {
    "collapsed": true
   },
   "outputs": [
    {
     "name": "stdout",
     "output_type": "stream",
     "text": [
      "2.3463155031204224\n",
      "11247152\n"
     ]
    },
    {
     "ename": "ValueError",
     "evalue": "operands could not be broadcast together with shapes (50210,224,224) (11247040,1) ",
     "output_type": "error",
     "traceback": [
      "\u001b[1;31m------------------------------------------\u001b[0m",
      "\u001b[1;31mValueError\u001b[0mTraceback (most recent call last)",
      "\u001b[1;32m<ipython-input-15-2e3c619ebaa5>\u001b[0m in \u001b[0;36m<module>\u001b[1;34m\u001b[0m\n\u001b[0;32m      4\u001b[0m \u001b[0mprint\u001b[0m\u001b[1;33m(\u001b[0m\u001b[0mgetsizeof\u001b[0m\u001b[1;33m(\u001b[0m\u001b[0mimage_max\u001b[0m\u001b[1;33m)\u001b[0m\u001b[1;33m)\u001b[0m\u001b[1;33m\u001b[0m\u001b[1;33m\u001b[0m\u001b[0m\n\u001b[0;32m      5\u001b[0m \u001b[1;33m\u001b[0m\u001b[0m\n\u001b[1;32m----> 6\u001b[1;33m \u001b[0mimage\u001b[0m \u001b[1;33m=\u001b[0m \u001b[1;33m(\u001b[0m\u001b[1;36m255\u001b[0m \u001b[1;33m-\u001b[0m \u001b[0mimage\u001b[0m\u001b[1;33m)\u001b[0m\u001b[1;33m/\u001b[0m\u001b[0mimage_max\u001b[0m\u001b[1;33m*\u001b[0m\u001b[1;36m255\u001b[0m\u001b[1;33m\u001b[0m\u001b[1;33m\u001b[0m\u001b[0m\n\u001b[0m\u001b[0;32m      7\u001b[0m \u001b[0mprint\u001b[0m\u001b[1;33m(\u001b[0m\u001b[0mgetsizeof\u001b[0m\u001b[1;33m(\u001b[0m\u001b[0mimage\u001b[0m\u001b[1;33m)\u001b[0m\u001b[1;33m/\u001b[0m\u001b[1;36m1024\u001b[0m\u001b[1;33m/\u001b[0m\u001b[1;36m1024\u001b[0m\u001b[1;33m/\u001b[0m\u001b[1;36m1024\u001b[0m\u001b[1;33m)\u001b[0m\u001b[1;33m\u001b[0m\u001b[1;33m\u001b[0m\u001b[0m\n\u001b[0;32m      8\u001b[0m \u001b[1;33m\u001b[0m\u001b[0m\n",
      "\u001b[1;31mValueError\u001b[0m: operands could not be broadcast together with shapes (50210,224,224) (11247040,1) "
     ]
    }
   ],
   "source": [
    "print(getsizeof(image)/1024/1024/1024)\n",
    "\n",
    "image_max = image.max(axis=1).reshape(-1, 1).astype(np.uint8)\n",
    "print(getsizeof(image_max))\n",
    "\n",
    "image = (255 - image)/image_max*255\n",
    "print(getsizeof(image)/1024/1024/1024)\n",
    "\n",
    "image = image.reshape(-1, HEIGHT, WIDTH).astype(np.uint8)\n",
    "print(getsizeof(image)/1024/1024/1024)\n"
   ]
  },
  {
   "cell_type": "code",
   "execution_count": null,
   "metadata": {
    "ExecuteTime": {
     "end_time": "2020-01-15T04:47:35.340127Z",
     "start_time": "2020-01-15T04:46:47.930031Z"
    }
   },
   "outputs": [],
   "source": [
    "processed_image_list = []\n",
    "\n",
    "for idx in tqdm(range(len(image))):\n",
    "    processed_image_list.append(crop_resize(image[idx]))\n",
    "    \n",
    "\n",
    "# result_list = []\n",
    "\n",
    "# for idx in tqdm(range(len(image))):\n",
    "#     root, vowel, consonant = label.values[idx]\n",
    "#     result_list.append({\n",
    "#         \"image\": crop_resize(image[idx]),\n",
    "#         \"name\": image_name[idx],\n",
    "#         \"grapheme_root\": root,\n",
    "#         \"vowel_diacritic\": vowel,\n",
    "#         \"consonant_diacritic\": consonant\n",
    "#     })"
   ]
  },
  {
   "cell_type": "code",
   "execution_count": null,
   "metadata": {
    "ExecuteTime": {
     "end_time": "2020-01-15T04:47:36.307610Z",
     "start_time": "2020-01-15T04:47:35.342192Z"
    }
   },
   "outputs": [],
   "source": [
    "np.array(processed_image_list).shape"
   ]
  },
  {
   "cell_type": "code",
   "execution_count": null,
   "metadata": {
    "ExecuteTime": {
     "end_time": "2020-01-15T04:47:36.781234Z",
     "start_time": "2020-01-15T04:47:36.310058Z"
    },
    "scrolled": true
   },
   "outputs": [],
   "source": [
    "# size 224 X 224 \n",
    "for i in range(5):\n",
    "    plt.imshow(processed_image_list[i])\n",
    "    plt.show()"
   ]
  },
  {
   "cell_type": "code",
   "execution_count": null,
   "metadata": {
    "ExecuteTime": {
     "end_time": "2020-01-15T04:47:37.731065Z",
     "start_time": "2020-01-15T04:47:36.782621Z"
    }
   },
   "outputs": [],
   "source": [
    "a = (np.array(processed_image_list), image_name, label.values)"
   ]
  },
  {
   "cell_type": "code",
   "execution_count": null,
   "metadata": {
    "ExecuteTime": {
     "end_time": "2020-01-15T04:47:37.739634Z",
     "start_time": "2020-01-15T04:47:37.732452Z"
    }
   },
   "outputs": [],
   "source": [
    "a[2]"
   ]
  },
  {
   "cell_type": "code",
   "execution_count": null,
   "metadata": {
    "ExecuteTime": {
     "end_time": "2020-01-15T04:47:40.222057Z",
     "start_time": "2020-01-15T04:47:37.740966Z"
    }
   },
   "outputs": [],
   "source": [
    "with open(\"train_data_0.pickle\", \"wb\") as f:\n",
    "    pickle.dump(a, f)"
   ]
  },
  {
   "cell_type": "code",
   "execution_count": 15,
   "metadata": {
    "ExecuteTime": {
     "end_time": "2020-01-03T09:42:01.480836Z",
     "start_time": "2020-01-03T09:41:55.962994Z"
    }
   },
   "outputs": [],
   "source": [
    "with open(\"../data/processed_data/train_data_0.pickle\", \"rb\") as f:\n",
    "    data_list = pickle.load(f)"
   ]
  }
 ],
 "metadata": {
  "jupytext": {
   "formats": "ipynb,py"
  },
  "kernelspec": {
   "display_name": "Python 3",
   "language": "python",
   "name": "python3"
  },
  "language_info": {
   "codemirror_mode": {
    "name": "ipython",
    "version": 3
   },
   "file_extension": ".py",
   "mimetype": "text/x-python",
   "name": "python",
   "nbconvert_exporter": "python",
   "pygments_lexer": "ipython3",
   "version": "3.7.4"
  },
  "toc": {
   "base_numbering": 1,
   "nav_menu": {},
   "number_sections": true,
   "sideBar": true,
   "skip_h1_title": false,
   "title_cell": "Table of Contents",
   "title_sidebar": "Contents",
   "toc_cell": false,
   "toc_position": {},
   "toc_section_display": true,
   "toc_window_display": false
  }
 },
 "nbformat": 4,
 "nbformat_minor": 2
}
